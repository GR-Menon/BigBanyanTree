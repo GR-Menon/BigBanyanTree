{
 "cells": [
  {
   "cell_type": "code",
   "execution_count": 11,
   "id": "444c4f50-750d-42b5-a6e6-b274ec7d7e52",
   "metadata": {},
   "outputs": [],
   "source": [
    "import re\n",
    "from urllib.parse import urlparse\n",
    "\n",
    "import pyspark.sql.functions as F\n",
    "from pyspark.sql.types import StructField, StructType, StructType, StringType, ArrayType\n",
    "import pandas as pd"
   ]
  },
  {
   "cell_type": "code",
   "execution_count": 12,
   "id": "caf44726-d838-4ea3-bc3b-fdf3f8b8a5f3",
   "metadata": {
    "scrolled": true
   },
   "outputs": [],
   "source": [
    "from pyspark.sql import SparkSession\n",
    "\n",
    "spark = SparkSession.builder \\\n",
    "    .appName(\"top-20-jslibs\") \\\n",
    "    .master(\"spark://spark-master:7077\") \\\n",
    "    .config(\"spark.eventLog.enabled\", \"true\") \\\n",
    "    .config(\"spark.eventLog.dir\", \"file:///opt/spark/spark-events/\") \\\n",
    "    .config(\"spark.executor.memory\", \"4g\") \\\n",
    "    .config(\"spark.executor.cores\", 1) \\\n",
    "    .config(\"spark.dynamicAllocation.enabled\", \"true\") \\\n",
    "    .config(\"spark.dynamicAllocation.shuffleTracking.enabled\", \"true\") \\\n",
    "    .config(\"spark.dynamicAllocation.initialExecutors\", 0) \\\n",
    "    .config(\"spark.dynamicAllocation.minExecutors\", 1) \\\n",
    "    .config(\"spark.dynamicAllocation.maxExecutors\", 15) \\\n",
    "    .config(\"spark.sql.execution.arrow.pyspark.enabled\", \"true\") \\\n",
    "    .config(\"spark.scheduler.mode\", \"FAIR\") \\\n",
    "    .getOrCreate()"
   ]
  },
  {
   "cell_type": "code",
   "execution_count": 13,
   "id": "1bb68573-4b5a-4898-8d29-bf5b00cdaeac",
   "metadata": {},
   "outputs": [],
   "source": [
    "df = spark.read.parquet(\"/opt/workspace/warc_yearly/script_extraction_out_2022/\")"
   ]
  },
  {
   "cell_type": "code",
   "execution_count": 14,
   "id": "2af7166d-9823-4572-a2c2-0bea03e51f8b",
   "metadata": {},
   "outputs": [],
   "source": [
    "jslib_regex = re.compile(r\"/?(?:js\\.)?([^/?]+\\.js)\")\n",
    "regex_broadcast = spark.sparkContext.broadcast(jslib_regex)"
   ]
  },
  {
   "cell_type": "code",
   "execution_count": 15,
   "id": "2b3a7cb6-d4b0-4ed6-9773-f6e3d36ec550",
   "metadata": {},
   "outputs": [],
   "source": [
    "@F.udf(StringType())\n",
    "def extract_domain(host):\n",
    "    parsed_url = urlparse(host)\n",
    "    return parsed_url.netloc"
   ]
  },
  {
   "cell_type": "code",
   "execution_count": 16,
   "id": "475b2640-8deb-49b0-9ed2-e3e1b9b1f43d",
   "metadata": {},
   "outputs": [],
   "source": [
    "df = df.withColumn(\"domain\", extract_domain(\"host\"))"
   ]
  },
  {
   "cell_type": "code",
   "execution_count": 17,
   "id": "72cf12f7-9c1c-46b1-abaa-db9e19c643f5",
   "metadata": {},
   "outputs": [],
   "source": [
    "# @F.udf(ArrayType(StringType()))\n",
    "# def attrs_to_libs(src_attrs):\n",
    "#     \"\"\"Parse list of src attrs to have JS libs ONLY.\"\"\"\n",
    "#     splits = src_attrs.split('|')\n",
    "#     parser = parser_broadcast.value\n",
    "#     for i, s in enumerate(splits):\n",
    "#         # handles cases like: \"\\'http://armenia.pl/wp-content/plugins/uk-cookie-consent/assets/js/uk-cookie-consent-js.js?ver=2.3.0\\'\"\n",
    "#         s = s.strip(\"\\'\")\n",
    "#         s = s.strip(\"\\\\\")\n",
    "        \n",
    "#         try:\n",
    "#             s = parser(s).path.split('/')[-1]\n",
    "#         except:\n",
    "#             # handles cases like \"https://wpsuspension.hujquery(document).off('click.fb-start', '[data-trigger]');?8600c2288b94838e7ddbb879e6329a62\"\n",
    "#             continue\n",
    "            \n",
    "#         if not \"js\" in s:\n",
    "#             splits[i] = None\n",
    "#             continue\n",
    "\n",
    "#         # jquery.min.js and jquery.js are the same\n",
    "#         s = re.sub(r\"\\.min\\.\", '.', s)\n",
    "        \n",
    "#         # handles cases like: js.cookie.min.js?ver=2.1.4-wc.9.1.4\n",
    "#         s = re.sub(r\"^js\\.\", '', s)\n",
    "#         if s == \"js\":\n",
    "#             continue\n",
    "#         splits[i] = s\n",
    "        \n",
    "#     return splits"
   ]
  },
  {
   "cell_type": "code",
   "execution_count": 18,
   "id": "af0a689e-240d-4237-89af-87c876fbe462",
   "metadata": {},
   "outputs": [],
   "source": [
    "@F.udf(ArrayType(StringType()))\n",
    "def attrs_to_libs(src_attrs):\n",
    "    \"\"\"Parse list of src attrs to have JS libs ONLY.\"\"\"\n",
    "    splits = src_attrs.split('|')\n",
    "    regex_obj = regex_broadcast.value\n",
    "    for i, s in enumerate(splits):\n",
    "        # m = re.search(r\"/?(?:js\\.)?([^/?]+\\.js)\", s)\n",
    "        m = regex_obj.search(s)\n",
    "        if m:\n",
    "            splits[i] = m.group(1)\n",
    "        else:\n",
    "            splits[i] = None\n",
    "            continue\n",
    "        splits[i] = re.sub(r\"\\.min\\.\", '.', splits[i])\n",
    "            \n",
    "    return splits"
   ]
  },
  {
   "cell_type": "code",
   "execution_count": 19,
   "id": "354f6572-a411-456d-bde2-d11acf7b9109",
   "metadata": {},
   "outputs": [],
   "source": [
    "domain_lib_df = df.withColumn(\"js_lib\", attrs_to_libs(\"script_src_attrs\")).limit(746096//2)"
   ]
  },
  {
   "cell_type": "code",
   "execution_count": 20,
   "id": "e0f1807f-fa69-492c-8237-9d7519db40e4",
   "metadata": {},
   "outputs": [],
   "source": [
    "domain_lib_df = domain_lib_df.select(domain_lib_df.domain, F.explode(domain_lib_df.js_lib).alias(\"js_lib\")).dropna()"
   ]
  },
  {
   "cell_type": "code",
   "execution_count": 21,
   "id": "fdd2b4dd-53fa-4ea0-b87a-c99d53f4a384",
   "metadata": {},
   "outputs": [],
   "source": [
    "domain_lib_df = domain_lib_df.dropDuplicates([\"domain\", \"js_lib\"])"
   ]
  },
  {
   "cell_type": "code",
   "execution_count": 23,
   "id": "74a9a311-94c1-425e-9e1c-1bc107bc68e4",
   "metadata": {},
   "outputs": [],
   "source": [
    "count_df = domain_lib_df.groupby(\"js_lib\").agg(F.count(\"domain\").alias(\"domain_count\"))"
   ]
  },
  {
   "cell_type": "code",
   "execution_count": 25,
   "id": "f4e89b78-2641-421c-8fa5-085ef051c68b",
   "metadata": {},
   "outputs": [],
   "source": [
    "sorted_df = count_df.sort(\"domain_count\", ascending=False)"
   ]
  },
  {
   "cell_type": "code",
   "execution_count": 28,
   "id": "e10f9ec0-0282-4d3b-a97e-84e7913c3adc",
   "metadata": {},
   "outputs": [
    {
     "name": "stderr",
     "output_type": "stream",
     "text": [
      "[Stage 15:>                                                         (0 + 1) / 1]\r"
     ]
    },
    {
     "name": "stdout",
     "output_type": "stream",
     "text": [
      "+--------------------------------------------------------------------------------+------------+\n",
      "|js_lib                                                                          |domain_count|\n",
      "+--------------------------------------------------------------------------------+------------+\n",
      "|jquery.js                                                                       |151156      |\n",
      "|jquery-migrate.js                                                               |90603       |\n",
      "|bootstrap.js                                                                    |37613       |\n",
      "|core.js                                                                         |34099       |\n",
      "|index.js                                                                        |32928       |\n",
      "|comment-reply.js                                                                |31605       |\n",
      "|wp-polyfill.js                                                                  |29462       |\n",
      "|scripts.js                                                                      |29342       |\n",
      "|main.js                                                                         |28584       |\n",
      "|adsbygoogle.js                                                                  |28452       |\n",
      "|regenerator-runtime.js                                                          |26420       |\n",
      "|api.js                                                                          |26091       |\n",
      "|cookie.js                                                                       |23769       |\n",
      "|wp-embed.js                                                                     |22950       |\n",
      "|frontend.js                                                                     |21632       |\n",
      "|script.js                                                                       |20373       |\n",
      "|jquery.blockui.js                                                               |19722       |\n",
      "|woocommerce.js                                                                  |19179       |\n",
      "|cart-fragments.js                                                               |18831       |\n",
      "|custom.js                                                                       |17679       |\n",
      "|common.js                                                                       |17593       |\n",
      "|add-to-cart.js                                                                  |17330       |\n",
      "|owl.carousel.js                                                                 |17179       |\n",
      "|underscore.js                                                                   |16830       |\n",
      "|imagesloaded.js                                                                 |16561       |\n",
      "|slick.js                                                                        |15319       |\n",
      "|hooks.js                                                                        |14708       |\n",
      "|jquery-ui.js                                                                    |14486       |\n",
      "|i18n.js                                                                         |14473       |\n",
      "|theme.js                                                                        |14385       |\n",
      "|email-decode.js                                                                 |12367       |\n",
      "|waypoints.js                                                                    |12189       |\n",
      "|lazysizes.js                                                                    |12140       |\n",
      "|load_feature-a5f1052ed1a8af5abd2f31dfef1a6c95288a6be319e39bfd7072f5f196d63612.js|11193       |\n",
      "|features-87e8399988880142f2c62771b9d8f2ff6c290b3ff745dd426eb0dfe0db9d1dae.js    |11183       |\n",
      "|navigation.js                                                                   |10986       |\n",
      "|swiper.js                                                                       |10871       |\n",
      "|modernizr.js                                                                    |10503       |\n",
      "|jquery.fitvids.js                                                               |10448       |\n",
      "|front.js                                                                        |10363       |\n",
      "|skip-link-focus-fix.js                                                          |10284       |\n",
      "|app.js                                                                          |10183       |\n",
      "|jquery.cookie.js                                                                |10131       |\n",
      "|jquery.magnific-popup.js                                                        |10056       |\n",
      "|cdn.js                                                                          |9979        |\n",
      "|polyfill.js                                                                     |9772        |\n",
      "|hoverintent.js                                                                  |9760        |\n",
      "|wp-util.js                                                                      |9616        |\n",
      "|frontend-gtag.js                                                                |9597        |\n",
      "|lazyload.js                                                                     |9420        |\n",
      "|jquery.fancybox.js                                                              |8996        |\n",
      "|jquery.flexslider.js                                                            |8895        |\n",
      "|addthis_widget.js                                                               |8697        |\n",
      "|menu.js                                                                         |8587        |\n",
      "|e-202248.js                                                                     |8527        |\n",
      "|datepicker.js                                                                   |8375        |\n",
      "|lodash.js                                                                       |8354        |\n",
      "|mouse.js                                                                        |8294        |\n",
      "|gprofiles.js                                                                    |8198        |\n",
      "|frontend-modules.js                                                             |8152        |\n",
      "|rs6.js                                                                          |8043        |\n",
      "|single-product.js                                                               |8025        |\n",
      "|wpgroho.js                                                                      |7936        |\n",
      "|webpack.runtime.js                                                              |7809        |\n",
      "|jquery.sticky.js                                                                |7641        |\n",
      "|widgets.js                                                                      |7615        |\n",
      "|dialog.js                                                                       |7309        |\n",
      "|rbtools.js                                                                      |7282        |\n",
      "|functions.js                                                                    |7091        |\n",
      "|masonry.js                                                                      |7067        |\n",
      "|popper.js                                                                       |7043        |\n",
      "|photoswipe.js                                                                   |6945        |\n",
      "|platform.js                                                                     |6883        |\n",
      "|jquery.prettyphoto.js                                                           |6840        |\n",
      "|jquery.easing.js                                                                |6832        |\n",
      "|storefront-c31d2fa4962d2ef90b673e945ee33f4f87302b97d0882cd8e83a629b84b30dab.js  |6795        |\n",
      "|photon.js                                                                       |6724        |\n",
      "|photoswipe-ui-default.js                                                        |6666        |\n",
      "|w.js                                                                            |6627        |\n",
      "|react.production.js                                                             |6554        |\n",
      "|react-dom.production.js                                                         |6549        |\n",
      "|akismet-frontend.js                                                             |6442        |\n",
      "|element.js                                                                      |6406        |\n",
      "|minified.js                                                                     |6356        |\n",
      "|global.js                                                                       |6340        |\n",
      "|focus-within-polyfill.js                                                        |6301        |\n",
      "|sitetags.bundle.js                                                              |6290        |\n",
      "|slider.js                                                                       |6287        |\n",
      "|wix-perf-measure.bundle.js                                                      |6286        |\n",
      "|analytics.js                                                                    |6217        |\n",
      "|jquery.mousewheel.js                                                            |6207        |\n",
      "|mediaelement-and-player.js                                                      |6147        |\n",
      "|gpt.js                                                                          |6144        |\n",
      "|superfish.js                                                                    |6110        |\n",
      "|jquery.form.js                                                                  |6104        |\n",
      "|jquery.validate.js                                                              |6054        |\n",
      "|e-202247.js                                                                     |5855        |\n",
      "|vendor.js                                                                       |5809        |\n",
      "|dom-ready.js                                                                    |5798        |\n",
      "|jquery.zoom.js                                                                  |5765        |\n",
      "+--------------------------------------------------------------------------------+------------+\n",
      "only showing top 100 rows\n",
      "\n"
     ]
    },
    {
     "name": "stderr",
     "output_type": "stream",
     "text": [
      "                                                                                \r"
     ]
    }
   ],
   "source": [
    "sorted_df.show(n=100, truncate=False)"
   ]
  },
  {
   "cell_type": "code",
   "execution_count": null,
   "id": "099ec0a0-aae6-4dea-a6ee-ec555b88b820",
   "metadata": {},
   "outputs": [],
   "source": []
  }
 ],
 "metadata": {
  "kernelspec": {
   "display_name": "Python 3 (ipykernel)",
   "language": "python",
   "name": "python3"
  },
  "language_info": {
   "codemirror_mode": {
    "name": "ipython",
    "version": 3
   },
   "file_extension": ".py",
   "mimetype": "text/x-python",
   "name": "python",
   "nbconvert_exporter": "python",
   "pygments_lexer": "ipython3",
   "version": "3.11.9"
  }
 },
 "nbformat": 4,
 "nbformat_minor": 5
}
