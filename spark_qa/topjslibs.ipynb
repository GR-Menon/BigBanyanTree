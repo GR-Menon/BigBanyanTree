{
 "cells": [
  {
   "cell_type": "code",
   "execution_count": 1,
   "id": "444c4f50-750d-42b5-a6e6-b274ec7d7e52",
   "metadata": {},
   "outputs": [],
   "source": [
    "import re\n",
    "from urllib.parse import urlparse\n",
    "\n",
    "import pyspark.sql.functions as F\n",
    "from pyspark.sql.types import StructField, StructType, StructType, StringType, ArrayType\n",
    "import pandas as pd"
   ]
  },
  {
   "cell_type": "code",
   "execution_count": 2,
   "id": "caf44726-d838-4ea3-bc3b-fdf3f8b8a5f3",
   "metadata": {
    "scrolled": true
   },
   "outputs": [
    {
     "name": "stderr",
     "output_type": "stream",
     "text": [
      "Setting default log level to \"WARN\".\n",
      "To adjust logging level use sc.setLogLevel(newLevel). For SparkR, use setLogLevel(newLevel).\n",
      "24/09/25 12:01:35 WARN NativeCodeLoader: Unable to load native-hadoop library for your platform... using builtin-java classes where applicable\n",
      "24/09/25 12:01:35 WARN Utils: spark.dynamicAllocation.initialExecutors less than spark.dynamicAllocation.minExecutors is invalid, ignoring its setting, please update your configs.\n",
      "24/09/25 12:01:35 WARN Utils: spark.executor.instances less than spark.dynamicAllocation.minExecutors is invalid, ignoring its setting, please update your configs.\n"
     ]
    }
   ],
   "source": [
    "from pyspark.sql import SparkSession\n",
    "\n",
    "spark = SparkSession.builder \\\n",
    "    .appName(\"top-20-jslibs\") \\\n",
    "    .master(\"spark://spark-master:7077\") \\\n",
    "    .config(\"spark.eventLog.enabled\", \"true\") \\\n",
    "    .config(\"spark.eventLog.dir\", \"file:///opt/spark/spark-events/\") \\\n",
    "    .config(\"spark.executor.memory\", \"4g\") \\\n",
    "    .config(\"spark.executor.cores\", 1) \\\n",
    "    .config(\"spark.dynamicAllocation.enabled\", \"true\") \\\n",
    "    .config(\"spark.dynamicAllocation.shuffleTracking.enabled\", \"true\") \\\n",
    "    .config(\"spark.dynamicAllocation.initialExecutors\", 0) \\\n",
    "    .config(\"spark.dynamicAllocation.minExecutors\", 1) \\\n",
    "    .config(\"spark.dynamicAllocation.maxExecutors\", 15) \\\n",
    "    .config(\"spark.sql.execution.arrow.pyspark.enabled\", \"true\") \\\n",
    "    .config(\"spark.scheduler.mode\", \"FAIR\") \\\n",
    "    .getOrCreate()"
   ]
  },
  {
   "cell_type": "code",
   "execution_count": 3,
   "id": "1bb68573-4b5a-4898-8d29-bf5b00cdaeac",
   "metadata": {},
   "outputs": [],
   "source": [
    "df = spark.read.parquet(\"/opt/workspace/warc_yearly/script_extraction_out_2022/\")"
   ]
  },
  {
   "cell_type": "code",
   "execution_count": 10,
   "id": "2af7166d-9823-4572-a2c2-0bea03e51f8b",
   "metadata": {},
   "outputs": [],
   "source": [
    "jslib_regex = re.compile(r\"/?(?:js\\.)?([^/?]+\\.js)\")\n",
    "regex_broadcast = spark.sparkContext.broadcast(jslib_regex)"
   ]
  },
  {
   "cell_type": "code",
   "execution_count": 9,
   "id": "2b3a7cb6-d4b0-4ed6-9773-f6e3d36ec550",
   "metadata": {},
   "outputs": [],
   "source": [
    "@F.udf(StringType())\n",
    "def extract_domain(host):\n",
    "    parsed_url = urlparse(host)\n",
    "    return parsed_url.netloc"
   ]
  },
  {
   "cell_type": "code",
   "execution_count": 6,
   "id": "475b2640-8deb-49b0-9ed2-e3e1b9b1f43d",
   "metadata": {},
   "outputs": [],
   "source": [
    "df = df.withColumn(\"domain\", extract_domain(\"host\"))"
   ]
  },
  {
   "cell_type": "code",
   "execution_count": 7,
   "id": "72cf12f7-9c1c-46b1-abaa-db9e19c643f5",
   "metadata": {},
   "outputs": [],
   "source": [
    "# @F.udf(ArrayType(StringType()))\n",
    "# def attrs_to_libs(src_attrs):\n",
    "#     \"\"\"Parse list of src attrs to have JS libs ONLY.\"\"\"\n",
    "#     splits = src_attrs.split('|')\n",
    "#     parser = parser_broadcast.value\n",
    "#     for i, s in enumerate(splits):\n",
    "#         # handles cases like: \"\\'http://armenia.pl/wp-content/plugins/uk-cookie-consent/assets/js/uk-cookie-consent-js.js?ver=2.3.0\\'\"\n",
    "#         s = s.strip(\"\\'\")\n",
    "#         s = s.strip(\"\\\\\")\n",
    "        \n",
    "#         try:\n",
    "#             s = parser(s).path.split('/')[-1]\n",
    "#         except:\n",
    "#             # handles cases like \"https://wpsuspension.hujquery(document).off('click.fb-start', '[data-trigger]');?8600c2288b94838e7ddbb879e6329a62\"\n",
    "#             continue\n",
    "            \n",
    "#         if not \"js\" in s:\n",
    "#             splits[i] = None\n",
    "#             continue\n",
    "\n",
    "#         # jquery.min.js and jquery.js are the same\n",
    "#         s = re.sub(r\"\\.min\\.\", '.', s)\n",
    "        \n",
    "#         # handles cases like: js.cookie.min.js?ver=2.1.4-wc.9.1.4\n",
    "#         s = re.sub(r\"^js\\.\", '', s)\n",
    "#         if s == \"js\":\n",
    "#             continue\n",
    "#         splits[i] = s\n",
    "        \n",
    "#     return splits"
   ]
  },
  {
   "cell_type": "code",
   "execution_count": 8,
   "id": "af0a689e-240d-4237-89af-87c876fbe462",
   "metadata": {},
   "outputs": [],
   "source": [
    "@F.udf(ArrayType(StringType()))\n",
    "def attrs_to_libs(src_attrs):\n",
    "    \"\"\"Parse list of src attrs to have JS libs ONLY.\"\"\"\n",
    "    splits = src_attrs.split('|')\n",
    "    regex_obj = regex_broadcast.value\n",
    "    for i, s in enumerate(splits):\n",
    "        # m = re.search(r\"/?(?:js\\.)?([^/?]+\\.js)\", s)\n",
    "        m = regex_obj.search(s)\n",
    "        if m:\n",
    "            splits[i] = m.group(1)\n",
    "        else:\n",
    "            splits[i] = None\n",
    "            continue\n",
    "        splits[i] = re.sub(r\"\\.min\\.\", '.', splits[i])\n",
    "            \n",
    "    return splits"
   ]
  },
  {
   "cell_type": "code",
   "execution_count": 9,
   "id": "354f6572-a411-456d-bde2-d11acf7b9109",
   "metadata": {},
   "outputs": [],
   "source": [
    "domain_lib_df = df.withColumn(\"js_lib\", attrs_to_libs(\"script_src_attrs\")).limit(746096//2)"
   ]
  },
  {
   "cell_type": "code",
   "execution_count": 10,
   "id": "e0f1807f-fa69-492c-8237-9d7519db40e4",
   "metadata": {},
   "outputs": [],
   "source": [
    "domain_lib_df = domain_lib_df.select(domain_lib_df.domain, F.explode(domain_lib_df.js_lib).alias(\"js_lib\")).dropna()"
   ]
  },
  {
   "cell_type": "code",
   "execution_count": 11,
   "id": "fdd2b4dd-53fa-4ea0-b87a-c99d53f4a384",
   "metadata": {},
   "outputs": [],
   "source": [
    "domain_lib_df = domain_lib_df.dropDuplicates([\"domain\", \"js_lib\"])"
   ]
  },
  {
   "cell_type": "code",
   "execution_count": 30,
   "id": "67adad24-e030-4698-a674-36bc6a3ee386",
   "metadata": {
    "scrolled": true
   },
   "outputs": [],
   "source": [
    "# domain_lib_df.show(n=100, truncate=False)"
   ]
  },
  {
   "cell_type": "code",
   "execution_count": 25,
   "id": "74a9a311-94c1-425e-9e1c-1bc107bc68e4",
   "metadata": {},
   "outputs": [],
   "source": [
    "count_df = domain_lib_df.groupby(\"js_lib\").agg(F.count(\"domain\").alias(\"domain_count\"))"
   ]
  },
  {
   "cell_type": "code",
   "execution_count": 26,
   "id": "f4e89b78-2641-421c-8fa5-085ef051c68b",
   "metadata": {},
   "outputs": [
    {
     "name": "stderr",
     "output_type": "stream",
     "text": [
      "[Stage 15:>                                                         (0 + 1) / 1]\r"
     ]
    },
    {
     "name": "stdout",
     "output_type": "stream",
     "text": [
      "+--------------------------------------------------------------------------------+------------+\n",
      "|js_lib                                                                          |domain_count|\n",
      "+--------------------------------------------------------------------------------+------------+\n",
      "|jquery.js                                                                       |150047      |\n",
      "|jquery-migrate.js                                                               |89902       |\n",
      "|bootstrap.js                                                                    |37372       |\n",
      "|core.js                                                                         |33776       |\n",
      "|index.js                                                                        |32533       |\n",
      "|comment-reply.js                                                                |30968       |\n",
      "|wp-polyfill.js                                                                  |29149       |\n",
      "|scripts.js                                                                      |28843       |\n",
      "|main.js                                                                         |28514       |\n",
      "|adsbygoogle.js                                                                  |28370       |\n",
      "|regenerator-runtime.js                                                          |26170       |\n",
      "|api.js                                                                          |26016       |\n",
      "|cookie.js                                                                       |23245       |\n",
      "|wp-embed.js                                                                     |22616       |\n",
      "|frontend.js                                                                     |21546       |\n",
      "|script.js                                                                       |19838       |\n",
      "|jquery.blockui.js                                                               |19319       |\n",
      "|woocommerce.js                                                                  |18825       |\n",
      "|cart-fragments.js                                                               |18474       |\n",
      "|common.js                                                                       |17430       |\n",
      "|custom.js                                                                       |17369       |\n",
      "|owl.carousel.js                                                                 |16952       |\n",
      "|add-to-cart.js                                                                  |16912       |\n",
      "|underscore.js                                                                   |16398       |\n",
      "|imagesloaded.js                                                                 |16347       |\n",
      "|slick.js                                                                        |15706       |\n",
      "|hooks.js                                                                        |14719       |\n",
      "|jquery-ui.js                                                                    |14519       |\n",
      "|i18n.js                                                                         |14447       |\n",
      "|theme.js                                                                        |13638       |\n",
      "|email-decode.js                                                                 |12275       |\n",
      "|waypoints.js                                                                    |12159       |\n",
      "|lazysizes.js                                                                    |11935       |\n",
      "|navigation.js                                                                   |10943       |\n",
      "|e-202249.js                                                                     |10789       |\n",
      "|swiper.js                                                                       |10728       |\n",
      "|modernizr.js                                                                    |10453       |\n",
      "|load_feature-a5f1052ed1a8af5abd2f31dfef1a6c95288a6be319e39bfd7072f5f196d63612.js|10345       |\n",
      "|features-87e8399988880142f2c62771b9d8f2ff6c290b3ff745dd426eb0dfe0db9d1dae.js    |10338       |\n",
      "|jquery.fitvids.js                                                               |10261       |\n",
      "|skip-link-focus-fix.js                                                          |10240       |\n",
      "|app.js                                                                          |10134       |\n",
      "|jquery.cookie.js                                                                |10133       |\n",
      "|cdn.js                                                                          |10078       |\n",
      "|front.js                                                                        |10048       |\n",
      "|polyfill.js                                                                     |9968        |\n",
      "|jquery.magnific-popup.js                                                        |9841        |\n",
      "|hoverintent.js                                                                  |9713        |\n",
      "|frontend-gtag.js                                                                |9470        |\n",
      "|wp-util.js                                                                      |9302        |\n",
      "+--------------------------------------------------------------------------------+------------+\n",
      "only showing top 50 rows\n",
      "\n"
     ]
    },
    {
     "name": "stderr",
     "output_type": "stream",
     "text": [
      "24/09/25 08:20:14 ERROR TransportResponseHandler: Still have 1 requests outstanding when connection from /172.18.0.7:40948 is closed\n",
      "24/09/25 08:20:14 WARN BlockManagerMasterEndpoint: Error trying to remove shuffle 4 from block manager BlockManagerId(42, 172.18.0.7, 34059, None)\n",
      "java.io.IOException: Connection from /172.18.0.7:40948 closed\n",
      "\tat org.apache.spark.network.client.TransportResponseHandler.channelInactive(TransportResponseHandler.java:147)\n",
      "\tat org.apache.spark.network.server.TransportChannelHandler.channelInactive(TransportChannelHandler.java:117)\n",
      "\tat io.netty.channel.AbstractChannelHandlerContext.invokeChannelInactive(AbstractChannelHandlerContext.java:305)\n",
      "\tat io.netty.channel.AbstractChannelHandlerContext.invokeChannelInactive(AbstractChannelHandlerContext.java:281)\n",
      "\tat io.netty.channel.AbstractChannelHandlerContext.fireChannelInactive(AbstractChannelHandlerContext.java:274)\n",
      "\tat io.netty.channel.ChannelInboundHandlerAdapter.channelInactive(ChannelInboundHandlerAdapter.java:81)\n",
      "\tat io.netty.handler.timeout.IdleStateHandler.channelInactive(IdleStateHandler.java:277)\n",
      "\tat io.netty.channel.AbstractChannelHandlerContext.invokeChannelInactive(AbstractChannelHandlerContext.java:303)\n",
      "\tat io.netty.channel.AbstractChannelHandlerContext.invokeChannelInactive(AbstractChannelHandlerContext.java:281)\n",
      "\tat io.netty.channel.AbstractChannelHandlerContext.fireChannelInactive(AbstractChannelHandlerContext.java:274)\n",
      "\tat io.netty.channel.ChannelInboundHandlerAdapter.channelInactive(ChannelInboundHandlerAdapter.java:81)\n",
      "\tat org.apache.spark.network.util.TransportFrameDecoder.channelInactive(TransportFrameDecoder.java:225)\n",
      "\tat io.netty.channel.AbstractChannelHandlerContext.invokeChannelInactive(AbstractChannelHandlerContext.java:305)\n",
      "\tat io.netty.channel.AbstractChannelHandlerContext.invokeChannelInactive(AbstractChannelHandlerContext.java:281)\n",
      "\tat io.netty.channel.AbstractChannelHandlerContext.fireChannelInactive(AbstractChannelHandlerContext.java:274)\n",
      "\tat io.netty.channel.DefaultChannelPipeline$HeadContext.channelInactive(DefaultChannelPipeline.java:1405)\n",
      "\tat io.netty.channel.AbstractChannelHandlerContext.invokeChannelInactive(AbstractChannelHandlerContext.java:301)\n",
      "\tat io.netty.channel.AbstractChannelHandlerContext.invokeChannelInactive(AbstractChannelHandlerContext.java:281)\n",
      "\tat io.netty.channel.DefaultChannelPipeline.fireChannelInactive(DefaultChannelPipeline.java:901)\n",
      "\tat io.netty.channel.AbstractChannel$AbstractUnsafe$7.run(AbstractChannel.java:813)\n",
      "\tat io.netty.util.concurrent.AbstractEventExecutor.runTask(AbstractEventExecutor.java:174)\n",
      "\tat io.netty.util.concurrent.AbstractEventExecutor.safeExecute(AbstractEventExecutor.java:167)\n",
      "\tat io.netty.util.concurrent.SingleThreadEventExecutor.runAllTasks(SingleThreadEventExecutor.java:470)\n",
      "\tat io.netty.channel.nio.NioEventLoop.run(NioEventLoop.java:566)\n",
      "\tat io.netty.util.concurrent.SingleThreadEventExecutor$4.run(SingleThreadEventExecutor.java:997)\n",
      "\tat io.netty.util.internal.ThreadExecutorMap$2.run(ThreadExecutorMap.java:74)\n",
      "\tat io.netty.util.concurrent.FastThreadLocalRunnable.run(FastThreadLocalRunnable.java:30)\n",
      "\tat java.base/java.lang.Thread.run(Thread.java:829)\n"
     ]
    }
   ],
   "source": [
    "count_df.sort(\"domain_count\", ascending=False).show(n=50, truncate=False)"
   ]
  },
  {
   "cell_type": "code",
   "execution_count": null,
   "id": "3ded50cf-1712-4b94-8132-03cf64f1d8f6",
   "metadata": {},
   "outputs": [],
   "source": []
  },
  {
   "cell_type": "code",
   "execution_count": null,
   "id": "b8758148-3d62-4391-ba4d-a0e04f02e61c",
   "metadata": {},
   "outputs": [],
   "source": []
  },
  {
   "cell_type": "code",
   "execution_count": null,
   "id": "caec9365-bad9-4387-a04b-dcfc58afd35f",
   "metadata": {},
   "outputs": [],
   "source": []
  }
 ],
 "metadata": {
  "kernelspec": {
   "display_name": "Python 3 (ipykernel)",
   "language": "python",
   "name": "python3"
  },
  "language_info": {
   "codemirror_mode": {
    "name": "ipython",
    "version": 3
   },
   "file_extension": ".py",
   "mimetype": "text/x-python",
   "name": "python",
   "nbconvert_exporter": "python",
   "pygments_lexer": "ipython3",
   "version": "3.11.9"
  }
 },
 "nbformat": 4,
 "nbformat_minor": 5
}
