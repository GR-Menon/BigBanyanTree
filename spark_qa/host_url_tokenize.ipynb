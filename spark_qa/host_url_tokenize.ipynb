{
 "cells": [
  {
   "cell_type": "code",
   "execution_count": 19,
   "id": "a46b3051-b5d2-4427-9794-7023d6c9996d",
   "metadata": {},
   "outputs": [],
   "source": [
    "import pandas as pd\n",
    "from urllib.parse import urlparse\n",
    "from pyspark.sql import SparkSession\n",
    "\n",
    "from pyspark.sql.functions import udf\n",
    "from pyspark.sql.types import StringType, ArrayType"
   ]
  },
  {
   "cell_type": "code",
   "execution_count": 2,
   "id": "b92c33c7-bd66-4963-a97c-b972ddeb43ac",
   "metadata": {},
   "outputs": [
    {
     "name": "stderr",
     "output_type": "stream",
     "text": [
      "Setting default log level to \"WARN\".\n",
      "To adjust logging level use sc.setLogLevel(newLevel). For SparkR, use setLogLevel(newLevel).\n",
      "24/09/14 08:44:35 WARN NativeCodeLoader: Unable to load native-hadoop library for your platform... using builtin-java classes where applicable\n",
      "24/09/14 08:44:35 WARN Utils: Service 'SparkUI' could not bind on port 4040. Attempting port 4041.\n",
      "24/09/14 08:44:36 WARN Utils: spark.executor.instances less than spark.dynamicAllocation.minExecutors is invalid, ignoring its setting, please update your configs.\n"
     ]
    }
   ],
   "source": [
    "spark = SparkSession.builder \\\n",
    "    .appName(\"jslibs-top20\") \\\n",
    "    .master(\"spark://spark-master:7077\") \\\n",
    "    .config(\"spark.eventLog.enabled\", \"true\") \\\n",
    "    .config(\"spark.eventLog.dir\", \"file:///opt/spark/spark-events/\") \\\n",
    "    .config(\"spark.sql.execution.arrow.pyspark.enabled\", \"true\") \\\n",
    "    .config(\"spark.executor.memory\", \"4g\") \\\n",
    "    .config(\"spark.executor.cores\", 1) \\\n",
    "    .config(\"spark.dynamicAllocation.enabled\", \"true\") \\\n",
    "    .config(\"spark.dynamicAllocation.shuffleTracking.enabled\", \"true\") \\\n",
    "    .config(\"spark.dynamicAllocation.initialExecutors\", 2) \\\n",
    "    .config(\"spark.dynamicAllocation.minExecutors\", 2) \\\n",
    "    .config(\"spark.dynamicAllocation.maxExecutors\", 15) \\\n",
    "    .config(\"spark.scheduler.mode\", \"FAIR\") \\\n",
    "    .getOrCreate()"
   ]
  },
  {
   "cell_type": "code",
   "execution_count": 4,
   "id": "99a29dd9-a9b5-4e87-896f-dc9b172381d6",
   "metadata": {},
   "outputs": [
    {
     "name": "stderr",
     "output_type": "stream",
     "text": [
      "                                                                                \r"
     ]
    },
    {
     "data": {
      "text/plain": [
       "(22127510, 5)"
      ]
     },
     "execution_count": 4,
     "metadata": {},
     "output_type": "execute_result"
    }
   ],
   "source": [
    "spark_df = spark.read.parquet('/opt/workspace/warc_yearly/script_extraction_out_2024/')\n",
    "df_rows = spark_df.count()\n",
    "df_cols = len(spark_df.columns)\n",
    "(df_rows, df_cols)"
   ]
  },
  {
   "cell_type": "code",
   "execution_count": 5,
   "id": "2c4ce523-aff7-4576-b956-5af3b43a6ad6",
   "metadata": {},
   "outputs": [
    {
     "name": "stdout",
     "output_type": "stream",
     "text": [
      "+--------------+--------------------+--------------------+--------------------+--------------------+\n",
      "|            ip|                host|              server|              emails|    script_src_attrs|\n",
      "+--------------+--------------------+--------------------+--------------------+--------------------+\n",
      "| 38.165.50.153|http://04v.career...|               nginx|mailto:al_andino@...|http://kit.fontaw...|\n",
      "| 159.75.83.151|http://088022.com...|Apache/2.4.39 (Wi...|                    |http://088022.com...|\n",
      "| 38.165.49.137|http://1.vapemanz...|               nginx|                    |http://query.aliy...|\n",
      "|178.254.10.206|http://118527.web...|              Apache|                    |./styles/pronight...|\n",
      "|219.234.30.122|http://1395656471...|           wts/1.7.4|                    |/pc/js/jquery-1.1...|\n",
      "|  173.231.4.85|http://14star.com...|Apache/2.2.31 (Un...|mailto:www14star@...|include/js/common...|\n",
      "| 159.69.237.22|http://15938.home...|               nginx|mailto:emilyy.rod...|//img.homepagemod...|\n",
      "|   220.228.6.4|http://168880.ygf...|Apache/1.3.41 (Un...|                    |                    |\n",
      "|   220.228.6.4|http://176845.ks4...|Apache/1.3.41 (Un...|                    |                    |\n",
      "|  61.66.228.75|http://17744.ges5...|Apache/2.2.3 (Cen...|                    |                    |\n",
      "|  92.53.96.216|http://1c-atyrau....|        nginx/1.26.1|                    |                    |\n",
      "|194.63.239.142|http://1pekesat-e...|               nginx|                    |./assets/javascri...|\n",
      "|62.210.100.115|http://1turfiste....|               nginx|                    |https://www.googl...|\n",
      "|172.67.129.185|http://2012conf.a...|          cloudflare|                    |http://2012conf.a...|\n",
      "|142.132.192.13|http://204019.hom...|               nginx|                    |//img.homepagemod...|\n",
      "|   220.228.6.4|http://2119203.k8...|Apache/1.3.41 (Un...|                    |                    |\n",
      "|   220.228.6.4|http://2126157.rk...|Apache/1.3.41 (Un...|                    |                    |\n",
      "| 35.215.138.51|http://23estudios...|               nginx|                    |https://sb.scorec...|\n",
      "|118.27.125.187|http://23oguramar...|              Apache|                    |\\'http://23oguram...|\n",
      "| 49.212.78.147|http://2ch-rankin...|               nginx|                    |                    |\n",
      "+--------------+--------------------+--------------------+--------------------+--------------------+\n",
      "only showing top 20 rows\n",
      "\n"
     ]
    }
   ],
   "source": [
    "spark_df.show()"
   ]
  },
  {
   "cell_type": "code",
   "execution_count": 15,
   "id": "c5de00f1-869e-46eb-ae5f-e267f840f25a",
   "metadata": {},
   "outputs": [
    {
     "data": {
      "text/plain": [
       "'04v.career-bengoshi.net'"
      ]
     },
     "execution_count": 15,
     "metadata": {},
     "output_type": "execute_result"
    }
   ],
   "source": [
    "sample_host = spark_df.first()['host']\n",
    "urlparse(sample_host).netloc"
   ]
  },
  {
   "cell_type": "code",
   "execution_count": 17,
   "id": "364624df-d5ca-4e70-9682-d9ede3a1cdbc",
   "metadata": {},
   "outputs": [],
   "source": [
    "domain_parser = spark.sparkContext.broadcast(urlparse)\n",
    "\n",
    "@udf(StringType())\n",
    "def get_domain(host_url):\n",
    "    parser = domain_parser.value\n",
    "    parsed_url = parser(host_url)\n",
    "    return parsed_url.netloc"
   ]
  },
  {
   "cell_type": "code",
   "execution_count": 18,
   "id": "5b195c7f-993e-4b0a-81d3-a63590f17d18",
   "metadata": {},
   "outputs": [
    {
     "name": "stdout",
     "output_type": "stream",
     "text": [
      "+--------------+--------------------+--------------------+--------------------+--------------------+--------------------+\n",
      "|            ip|                host|              server|              emails|    script_src_attrs|              domain|\n",
      "+--------------+--------------------+--------------------+--------------------+--------------------+--------------------+\n",
      "| 38.165.50.153|http://04v.career...|               nginx|mailto:al_andino@...|http://kit.fontaw...|04v.career-bengos...|\n",
      "| 159.75.83.151|http://088022.com...|Apache/2.4.39 (Wi...|                    |http://088022.com...|          088022.com|\n",
      "| 38.165.49.137|http://1.vapemanz...|               nginx|                    |http://query.aliy...|    1.vapemanzil.com|\n",
      "|178.254.10.206|http://118527.web...|              Apache|                    |./styles/pronight...|118527.webhosting...|\n",
      "|219.234.30.122|http://1395656471...|           wts/1.7.4|                    |/pc/js/jquery-1.1...|     13956564713.com|\n",
      "|  173.231.4.85|http://14star.com...|Apache/2.2.31 (Un...|mailto:www14star@...|include/js/common...|          14star.com|\n",
      "| 159.69.237.22|http://15938.home...|               nginx|mailto:emilyy.rod...|//img.homepagemod...|15938.homepagemod...|\n",
      "|   220.228.6.4|http://168880.ygf...|Apache/1.3.41 (Un...|                    |                    |    168880.ygf37.com|\n",
      "|   220.228.6.4|http://176845.ks4...|Apache/1.3.41 (Un...|                    |                    |   176845.ks418a.com|\n",
      "|  61.66.228.75|http://17744.ges5...|Apache/2.2.3 (Cen...|                    |                    |    17744.ges533.com|\n",
      "|  92.53.96.216|http://1c-atyrau....|        nginx/1.26.1|                    |                    | 1c-atyrau.dugoba.ru|\n",
      "|194.63.239.142|http://1pekesat-e...|               nginx|                    |./assets/javascri...|1pekesat-exae.mys...|\n",
      "|62.210.100.115|http://1turfiste....|               nginx|                    |https://www.googl...|       1turfiste.com|\n",
      "|172.67.129.185|http://2012conf.a...|          cloudflare|                    |http://2012conf.a...| 2012conf.asc.asn.au|\n",
      "|142.132.192.13|http://204019.hom...|               nginx|                    |//img.homepagemod...|204019.homepagemo...|\n",
      "|   220.228.6.4|http://2119203.k8...|Apache/1.3.41 (Un...|                    |                    |  2119203.k882ee.com|\n",
      "|   220.228.6.4|http://2126157.rk...|Apache/1.3.41 (Un...|                    |                    |   2126157.rkt97.com|\n",
      "| 35.215.138.51|http://23estudios...|               nginx|                    |https://sb.scorec...|      23estudios.org|\n",
      "|118.27.125.187|http://23oguramar...|              Apache|                    |\\'http://23oguram...|23oguramaru.lolip...|\n",
      "| 49.212.78.147|http://2ch-rankin...|               nginx|                    |                    |     2ch-ranking.net|\n",
      "+--------------+--------------------+--------------------+--------------------+--------------------+--------------------+\n",
      "only showing top 20 rows\n",
      "\n"
     ]
    }
   ],
   "source": [
    "spark_df_domains = spark_df.withColumn('domain', get_domain('host'))\n",
    "spark_df_domains.show()"
   ]
  },
  {
   "cell_type": "markdown",
   "id": "720432cb-8d7f-44e3-b7d8-e0a20453bfc2",
   "metadata": {},
   "source": [
    "# tiktoken"
   ]
  },
  {
   "cell_type": "code",
   "execution_count": null,
   "id": "e5ddaff0-b842-4cf2-818c-f62b0c930861",
   "metadata": {},
   "outputs": [],
   "source": [
    "import tiktoken"
   ]
  }
 ],
 "metadata": {
  "kernelspec": {
   "display_name": "Python 3 (ipykernel)",
   "language": "python",
   "name": "python3"
  },
  "language_info": {
   "codemirror_mode": {
    "name": "ipython",
    "version": 3
   },
   "file_extension": ".py",
   "mimetype": "text/x-python",
   "name": "python",
   "nbconvert_exporter": "python",
   "pygments_lexer": "ipython3",
   "version": "3.11.9"
  }
 },
 "nbformat": 4,
 "nbformat_minor": 5
}
