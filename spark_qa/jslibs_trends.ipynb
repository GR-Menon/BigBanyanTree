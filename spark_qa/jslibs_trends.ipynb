{
 "cells": [
  {
   "cell_type": "code",
   "execution_count": 1,
   "id": "a04e209e-0585-4842-8a50-7387767f26fd",
   "metadata": {},
   "outputs": [],
   "source": [
    "from urllib.parse import urlparse\n",
    "\n",
    "from pyspark.sql.functions import pandas_udf, udf, explode, count\n",
    "from pyspark.sql.types import StructField, StructType, StructType, StringType, ArrayType\n",
    "import pandas as pd"
   ]
  },
  {
   "cell_type": "code",
   "execution_count": 2,
   "id": "58b256e5-9e51-4429-a07c-63d689a3eb5b",
   "metadata": {},
   "outputs": [
    {
     "name": "stderr",
     "output_type": "stream",
     "text": [
      "Setting default log level to \"WARN\".\n",
      "To adjust logging level use sc.setLogLevel(newLevel). For SparkR, use setLogLevel(newLevel).\n",
      "24/09/13 17:34:58 WARN NativeCodeLoader: Unable to load native-hadoop library for your platform... using builtin-java classes where applicable\n",
      "24/09/13 17:34:59 WARN Utils: spark.executor.instances less than spark.dynamicAllocation.minExecutors is invalid, ignoring its setting, please update your configs.\n"
     ]
    }
   ],
   "source": [
    "from pyspark.sql import SparkSession\n",
    "\n",
    "spark = SparkSession.builder \\\n",
    "    .appName(\"jslibs-trends\") \\\n",
    "    .master(\"spark://spark-master:7077\") \\\n",
    "    .config(\"spark.eventLog.enabled\", \"true\") \\\n",
    "    .config(\"spark.eventLog.dir\", \"file:///opt/spark/spark-events/\") \\\n",
    "    .config(\"spark.executor.memory\", \"4g\") \\\n",
    "    .config(\"spark.executor.cores\", 1) \\\n",
    "    .config(\"spark.dynamicAllocation.enabled\", \"true\") \\\n",
    "    .config(\"spark.dynamicAllocation.shuffleTracking.enabled\", \"true\") \\\n",
    "    .config(\"spark.dynamicAllocation.initialExecutors\", 2) \\\n",
    "    .config(\"spark.dynamicAllocation.minExecutors\", 2) \\\n",
    "    .config(\"spark.dynamicAllocation.maxExecutors\", 15) \\\n",
    "    .config(\"spark.scheduler.mode\", \"FAIR\") \\\n",
    "    .getOrCreate()"
   ]
  },
  {
   "cell_type": "code",
   "execution_count": 3,
   "id": "8a33b970-9190-411c-994b-cf8b162048c4",
   "metadata": {},
   "outputs": [
    {
     "name": "stderr",
     "output_type": "stream",
     "text": [
      "                                                                                \r"
     ]
    }
   ],
   "source": [
    "df = spark.read.parquet(\"/opt/workspace/warc_yearly/script_extraction_out_2023/\")"
   ]
  },
  {
   "cell_type": "code",
   "execution_count": 4,
   "id": "92810201-b6b4-4f77-97d4-c1d68bc63c68",
   "metadata": {},
   "outputs": [
    {
     "name": "stdout",
     "output_type": "stream",
     "text": [
      "+--------------+--------------------+---------+------+--------------------+\n",
      "|            ip|                host|   server|emails|    script_src_attrs|\n",
      "+--------------+--------------------+---------+------+--------------------+\n",
      "| 168.76.191.88|http://00-am.com/...|    nginx|      |/template/mxone/m...|\n",
      "| 168.76.191.88|http://00-am.com/...|    nginx|      |/template/mxone/m...|\n",
      "|  103.43.188.3|http://0731dj.com...|wts/1.7.0|      |\\'/packs/layui/la...|\n",
      "|  103.43.188.3|http://0731dj.com...|wts/1.7.0|      |                    |\n",
      "|157.112.176.59|http://100-meizan...|    nginx|      |\\'http://100-meiz...|\n",
      "+--------------+--------------------+---------+------+--------------------+\n",
      "only showing top 5 rows\n",
      "\n"
     ]
    }
   ],
   "source": [
    "df.show(n=5)"
   ]
  },
  {
   "cell_type": "code",
   "execution_count": 5,
   "id": "f332fcfb-9ee6-409b-8b14-b3e1094a5d17",
   "metadata": {},
   "outputs": [
    {
     "data": {
      "text/plain": [
       "'00-am.com'"
      ]
     },
     "execution_count": 5,
     "metadata": {},
     "output_type": "execute_result"
    }
   ],
   "source": [
    "urlparse(\"http://00-am.com/index.php/vod/search/actor\").netloc"
   ]
  },
  {
   "cell_type": "code",
   "execution_count": 6,
   "id": "ebca673f-7da6-4987-8a6b-eee6d8974aaf",
   "metadata": {},
   "outputs": [],
   "source": [
    "parser_broadcast = spark.sparkContext.broadcast(urlparse)"
   ]
  },
  {
   "cell_type": "code",
   "execution_count": 95,
   "id": "1fca0c90-0ae7-4aa9-aa82-9849ed7b4baf",
   "metadata": {},
   "outputs": [],
   "source": [
    "@udf(StringType())\n",
    "def extract_domain(host):\n",
    "    parser = parser_broadcast.value\n",
    "    parsed_url = parser(host)\n",
    "    return parsed_url.netloc"
   ]
  },
  {
   "cell_type": "code",
   "execution_count": 96,
   "id": "19694151-161a-435f-984f-6cf7502b9966",
   "metadata": {},
   "outputs": [],
   "source": [
    "domain_df = df.withColumn(\"domain\", extract_domain(\"host\"))"
   ]
  },
  {
   "cell_type": "code",
   "execution_count": 97,
   "id": "bbf9e13e-f2d5-413f-b291-211fd4869c31",
   "metadata": {},
   "outputs": [
    {
     "name": "stderr",
     "output_type": "stream",
     "text": [
      "[Stage 37:==========>    (61 + 15) / 90][Stage 43:>                 (0 + 0) / 1]\r"
     ]
    },
    {
     "name": "stdout",
     "output_type": "stream",
     "text": [
      "+--------------+--------------------+---------+------+--------------------+--------------+\n",
      "|            ip|                host|   server|emails|    script_src_attrs|        domain|\n",
      "+--------------+--------------------+---------+------+--------------------+--------------+\n",
      "| 168.76.191.88|http://00-am.com/...|    nginx|      |/template/mxone/m...|     00-am.com|\n",
      "| 168.76.191.88|http://00-am.com/...|    nginx|      |/template/mxone/m...|     00-am.com|\n",
      "|  103.43.188.3|http://0731dj.com...|wts/1.7.0|      |\\'/packs/layui/la...|    0731dj.com|\n",
      "|  103.43.188.3|http://0731dj.com...|wts/1.7.0|      |                    |    0731dj.com|\n",
      "|157.112.176.59|http://100-meizan...|    nginx|      |\\'http://100-meiz...|100-meizan.com|\n",
      "+--------------+--------------------+---------+------+--------------------+--------------+\n",
      "only showing top 5 rows\n",
      "\n"
     ]
    },
    {
     "name": "stderr",
     "output_type": "stream",
     "text": [
      "                                                                                \r"
     ]
    }
   ],
   "source": [
    "domain_df.show(n=5)"
   ]
  },
  {
   "cell_type": "code",
   "execution_count": 98,
   "id": "33ebb567-5b2f-47d0-b73c-ce8899339dd7",
   "metadata": {},
   "outputs": [
    {
     "name": "stderr",
     "output_type": "stream",
     "text": [
      "[Stage 37:===========================================>           (71 + 15) / 90]\r"
     ]
    }
   ],
   "source": [
    "@udf(ArrayType(StringType()))\n",
    "def attrs_to_libs(src_attrs):\n",
    "    \"\"\"Parse list of src attrs to have JS libs ONLY.\"\"\"\n",
    "    splits = src_attrs.split('|')\n",
    "    for i, s in enumerate(splits):\n",
    "        if s.strip('.') == \"js\":\n",
    "            print(s, file=open(\"/opt/workspace/test.txt\", 'a'))\n",
    "        s = s.split('/')[-1]\n",
    "        if \"js\" not in s:\n",
    "            splits[i] = ''\n",
    "            continue\n",
    "        # handles this case: js.cookie.min.js?ver=2.1.4-wc.9.1.4\n",
    "        s = s.replace(\".min\", '')\n",
    "        s = s.split(\"js\")[-2] + \"js\"\n",
    "        splits[i] = s.strip('.')\n",
    "    return splits"
   ]
  },
  {
   "cell_type": "code",
   "execution_count": 99,
   "id": "890b4e63-d108-4c8f-bb62-06b4c6bb9ec3",
   "metadata": {},
   "outputs": [
    {
     "name": "stderr",
     "output_type": "stream",
     "text": [
      "[Stage 37:============================================>          (73 + 15) / 90]\r"
     ]
    }
   ],
   "source": [
    "domain_df = domain_df.withColumn(\"js_libs\", attrs_to_libs(\"script_src_attrs\"))"
   ]
  },
  {
   "cell_type": "code",
   "execution_count": 100,
   "id": "18e5e18e-0333-4bdd-a8c5-f79f3fdcc15f",
   "metadata": {},
   "outputs": [
    {
     "name": "stderr",
     "output_type": "stream",
     "text": [
      "[Stage 37:============>  (76 + 14) / 90][Stage 44:>                 (0 + 1) / 1]\r"
     ]
    },
    {
     "name": "stdout",
     "output_type": "stream",
     "text": [
      "+-------------------------------------------------------------------------------------------------------------------------------------------------------------------------------------+\n",
      "|js_libs                                                                                                                                                                              |\n",
      "+-------------------------------------------------------------------------------------------------------------------------------------------------------------------------------------+\n",
      "|[jquery.js, jquery.lazyload.js, jquery.autocomplete.js, vue.js, index.js, jquery.cookie.js, home.js, jquery.clipboard.js, layer.js, _push.js, swiper.js, script.js, font.js, mxui.js]|\n",
      "|[jquery.js, jquery.lazyload.js, jquery.autocomplete.js, vue.js, index.js, jquery.cookie.js, home.js, jquery.clipboard.js, layer.js, _push.js, swiper.js, script.js, font.js, mxui.js]|\n",
      "|[layui.js, jquery.js, cscms.js, common.js, buttonlite.js, ]                                                                                                                          |\n",
      "+-------------------------------------------------------------------------------------------------------------------------------------------------------------------------------------+\n",
      "only showing top 3 rows\n",
      "\n"
     ]
    },
    {
     "name": "stderr",
     "output_type": "stream",
     "text": [
      "                                                                                \r"
     ]
    }
   ],
   "source": [
    "domain_df.select(\"js_libs\").show(n=3, truncate=False)"
   ]
  },
  {
   "cell_type": "code",
   "execution_count": 101,
   "id": "cb3f38c1-547c-4d69-a08b-3d945b89bd83",
   "metadata": {
    "scrolled": true
   },
   "outputs": [
    {
     "name": "stdout",
     "output_type": "stream",
     "text": [
      "+--------------+--------------+------------------------+\n",
      "|ip            |domain        |js_libs                 |\n",
      "+--------------+--------------+------------------------+\n",
      "|168.76.191.88 |00-am.com     |jquery.js               |\n",
      "|168.76.191.88 |00-am.com     |jquery.lazyload.js      |\n",
      "|168.76.191.88 |00-am.com     |jquery.autocomplete.js  |\n",
      "|168.76.191.88 |00-am.com     |vue.js                  |\n",
      "|168.76.191.88 |00-am.com     |index.js                |\n",
      "|168.76.191.88 |00-am.com     |jquery.cookie.js        |\n",
      "|168.76.191.88 |00-am.com     |home.js                 |\n",
      "|168.76.191.88 |00-am.com     |jquery.clipboard.js     |\n",
      "|168.76.191.88 |00-am.com     |layer.js                |\n",
      "|168.76.191.88 |00-am.com     |_push.js                |\n",
      "|168.76.191.88 |00-am.com     |swiper.js               |\n",
      "|168.76.191.88 |00-am.com     |script.js               |\n",
      "|168.76.191.88 |00-am.com     |font.js                 |\n",
      "|168.76.191.88 |00-am.com     |mxui.js                 |\n",
      "|168.76.191.88 |00-am.com     |jquery.js               |\n",
      "|168.76.191.88 |00-am.com     |jquery.lazyload.js      |\n",
      "|168.76.191.88 |00-am.com     |jquery.autocomplete.js  |\n",
      "|168.76.191.88 |00-am.com     |vue.js                  |\n",
      "|168.76.191.88 |00-am.com     |index.js                |\n",
      "|168.76.191.88 |00-am.com     |jquery.cookie.js        |\n",
      "|168.76.191.88 |00-am.com     |home.js                 |\n",
      "|168.76.191.88 |00-am.com     |jquery.clipboard.js     |\n",
      "|168.76.191.88 |00-am.com     |layer.js                |\n",
      "|168.76.191.88 |00-am.com     |_push.js                |\n",
      "|168.76.191.88 |00-am.com     |swiper.js               |\n",
      "|168.76.191.88 |00-am.com     |script.js               |\n",
      "|168.76.191.88 |00-am.com     |font.js                 |\n",
      "|168.76.191.88 |00-am.com     |mxui.js                 |\n",
      "|103.43.188.3  |0731dj.com    |layui.js                |\n",
      "|103.43.188.3  |0731dj.com    |jquery.js               |\n",
      "|103.43.188.3  |0731dj.com    |cscms.js                |\n",
      "|103.43.188.3  |0731dj.com    |common.js               |\n",
      "|103.43.188.3  |0731dj.com    |buttonlite.js           |\n",
      "|103.43.188.3  |0731dj.com    |                        |\n",
      "|103.43.188.3  |0731dj.com    |                        |\n",
      "|157.112.176.59|100-meizan.com|leaflet.js              |\n",
      "|157.112.176.59|100-meizan.com|leaflet.markercluster.js|\n",
      "|157.112.176.59|100-meizan.com|leaflet.photo.js        |\n",
      "|157.112.176.59|100-meizan.com|control.fullscreen.js   |\n",
      "|157.112.176.59|100-meizan.com|jquery.js               |\n",
      "+--------------+--------------+------------------------+\n",
      "only showing top 40 rows\n",
      "\n"
     ]
    }
   ],
   "source": [
    "domain_df.select(domain_df.ip, domain_df.domain, explode(domain_df.js_libs).alias(\"js_libs\")).show(n=40, truncate=False)"
   ]
  },
  {
   "cell_type": "code",
   "execution_count": 102,
   "id": "9dc93926-b0cf-43c6-93e7-7ce7987073ca",
   "metadata": {},
   "outputs": [],
   "source": [
    "domain_df = domain_df.select(domain_df.ip, domain_df.server, domain_df.domain, explode(domain_df.js_libs).alias(\"js_libs\"))"
   ]
  },
  {
   "cell_type": "code",
   "execution_count": 103,
   "id": "0904dc57-4d7b-426a-bf29-50dc136aebc1",
   "metadata": {},
   "outputs": [
    {
     "name": "stdout",
     "output_type": "stream",
     "text": [
      "+-------------+------+---------+----------------------+\n",
      "|ip           |server|domain   |js_libs               |\n",
      "+-------------+------+---------+----------------------+\n",
      "|168.76.191.88|nginx |00-am.com|jquery.js             |\n",
      "|168.76.191.88|nginx |00-am.com|jquery.lazyload.js    |\n",
      "|168.76.191.88|nginx |00-am.com|jquery.autocomplete.js|\n",
      "|168.76.191.88|nginx |00-am.com|vue.js                |\n",
      "|168.76.191.88|nginx |00-am.com|index.js              |\n",
      "|168.76.191.88|nginx |00-am.com|jquery.cookie.js      |\n",
      "|168.76.191.88|nginx |00-am.com|home.js               |\n",
      "|168.76.191.88|nginx |00-am.com|jquery.clipboard.js   |\n",
      "|168.76.191.88|nginx |00-am.com|layer.js              |\n",
      "|168.76.191.88|nginx |00-am.com|_push.js              |\n",
      "|168.76.191.88|nginx |00-am.com|swiper.js             |\n",
      "|168.76.191.88|nginx |00-am.com|script.js             |\n",
      "|168.76.191.88|nginx |00-am.com|font.js               |\n",
      "|168.76.191.88|nginx |00-am.com|mxui.js               |\n",
      "|168.76.191.88|nginx |00-am.com|jquery.js             |\n",
      "|168.76.191.88|nginx |00-am.com|jquery.lazyload.js    |\n",
      "|168.76.191.88|nginx |00-am.com|jquery.autocomplete.js|\n",
      "|168.76.191.88|nginx |00-am.com|vue.js                |\n",
      "|168.76.191.88|nginx |00-am.com|index.js              |\n",
      "|168.76.191.88|nginx |00-am.com|jquery.cookie.js      |\n",
      "+-------------+------+---------+----------------------+\n",
      "only showing top 20 rows\n",
      "\n"
     ]
    }
   ],
   "source": [
    "domain_df.show(truncate=False)"
   ]
  },
  {
   "cell_type": "code",
   "execution_count": 104,
   "id": "d367bf03-b26b-4dde-bdf0-73ce2ffee8b8",
   "metadata": {},
   "outputs": [
    {
     "name": "stderr",
     "output_type": "stream",
     "text": [
      "[Stage 51:===============================================>        (16 + 3) / 19]\r"
     ]
    },
    {
     "name": "stdout",
     "output_type": "stream",
     "text": [
      "+----------------------+------------+\n",
      "|js_libs               |domain_count|\n",
      "+----------------------+------------+\n",
      "|jquery.js             |14638661    |\n",
      "|js                    |12451330    |\n",
      "|                      |9224655     |\n",
      "|jquery-migrate.js     |8192661     |\n",
      "|index.js              |6387762     |\n",
      "|adsbygoogle.js        |6018879     |\n",
      "|frontend.js           |3813433     |\n",
      "|bootstrap.js          |3612378     |\n",
      "|core.js               |3325676     |\n",
      "|main.js               |2980166     |\n",
      "|scripts.js            |2916998     |\n",
      "|wp-polyfill.js        |2891261     |\n",
      "|regenerator-runtime.js|2711823     |\n",
      "|comment-reply.js      |2618087     |\n",
      "|api.js                |2592363     |\n",
      "|script.js             |2545032     |\n",
      "|cookie.js             |2345922     |\n",
      "|wp-polyfill-inert.js  |2211479     |\n",
      "|woocommerce.js        |2017454     |\n",
      "|hooks.js              |1906062     |\n",
      "+----------------------+------------+\n",
      "only showing top 20 rows\n",
      "\n"
     ]
    },
    {
     "name": "stderr",
     "output_type": "stream",
     "text": [
      "                                                                                \r"
     ]
    }
   ],
   "source": [
    "domain_df.groupBy(\"js_libs\").agg(count(\"domain\").alias(\"domain_count\")).sort(\"domain_count\", ascending=False).show(truncate=False)"
   ]
  },
  {
   "cell_type": "code",
   "execution_count": 105,
   "id": "7aaa3cb8-7f22-4908-afc8-6d21e09327b2",
   "metadata": {},
   "outputs": [
    {
     "name": "stderr",
     "output_type": "stream",
     "text": [
      "                                                                                \r"
     ]
    },
    {
     "data": {
      "text/plain": [
       "403443304"
      ]
     },
     "execution_count": 105,
     "metadata": {},
     "output_type": "execute_result"
    }
   ],
   "source": [
    "domain_df.count()"
   ]
  },
  {
   "cell_type": "code",
   "execution_count": 107,
   "id": "8372556b-456a-4d6f-a0e3-f71c18d72472",
   "metadata": {},
   "outputs": [],
   "source": [
    "p = 14638661 / 403443304"
   ]
  },
  {
   "cell_type": "code",
   "execution_count": 108,
   "id": "5572ab86-5370-4614-9c74-a74d1bfa8950",
   "metadata": {},
   "outputs": [],
   "source": [
    "n = 403443304"
   ]
  },
  {
   "cell_type": "code",
   "execution_count": 109,
   "id": "305ed306-e990-49ee-96c9-9d32a532b06a",
   "metadata": {},
   "outputs": [],
   "source": [
    "se = (p*(1-p)/n) ** 0.5"
   ]
  },
  {
   "cell_type": "code",
   "execution_count": 110,
   "id": "bc554658-ae40-4b1d-97c7-41a1a71222e4",
   "metadata": {},
   "outputs": [
    {
     "data": {
      "text/plain": [
       "9.30984885552506e-06"
      ]
     },
     "execution_count": 110,
     "metadata": {},
     "output_type": "execute_result"
    }
   ],
   "source": [
    "se"
   ]
  },
  {
   "cell_type": "code",
   "execution_count": 111,
   "id": "e88ef5b1-d013-4c37-8bb4-9205f9c307f4",
   "metadata": {},
   "outputs": [
    {
     "data": {
      "text/plain": [
       "(0.03630255504876776, 0.0362660604412541)"
      ]
     },
     "execution_count": 111,
     "metadata": {},
     "output_type": "execute_result"
    }
   ],
   "source": [
    "ciplus = p + 1.96 * se\n",
    "ciminus = p - 1.96 * se\n",
    "ciplus, ciminus"
   ]
  },
  {
   "cell_type": "code",
   "execution_count": 112,
   "id": "7355f9b6-ec28-4c74-9c72-a51ac402f355",
   "metadata": {},
   "outputs": [
    {
     "data": {
      "text/plain": [
       "0.03628430774501093"
      ]
     },
     "execution_count": 112,
     "metadata": {},
     "output_type": "execute_result"
    }
   ],
   "source": [
    "p"
   ]
  },
  {
   "cell_type": "code",
   "execution_count": 23,
   "id": "934a1fcf-c8fa-4ac9-8d52-eaa5c40ebcb0",
   "metadata": {},
   "outputs": [
    {
     "name": "stderr",
     "output_type": "stream",
     "text": [
      "[Stage 20:>                                                       (0 + 15) / 16]\r"
     ]
    },
    {
     "name": "stdout",
     "output_type": "stream",
     "text": [
      "+------------------------------+------------+\n",
      "|domain                        |domain_count|\n",
      "+------------------------------+------------+\n",
      "|pubmed.ncbi.nlm.nih.gov       |2227        |\n",
      "|www.youtube.com               |1743        |\n",
      "|www.victoriassecret.com       |1495        |\n",
      "|www.everand.com               |1356        |\n",
      "|fantasy.nfl.com               |1166        |\n",
      "|sites.google.com              |998         |\n",
      "|podcasters.spotify.com        |879         |\n",
      "|photos.google.com             |874         |\n",
      "|learn.microsoft.com           |867         |\n",
      "|wappass.baidu.com             |852         |\n",
      "|music.apple.com               |834         |\n",
      "|login.microsoftonline.com     |814         |\n",
      "|validate.perfdrive.com        |779         |\n",
      "|asmedigitalcollection.asme.org|771         |\n",
      "|create.microsoft.com          |761         |\n",
      "|www.shopify.com               |760         |\n",
      "|discord.com                   |741         |\n",
      "|verify.trip.com               |737         |\n",
      "|resources.finalsite.net       |732         |\n",
      "|www.snapchat.com              |730         |\n",
      "+------------------------------+------------+\n",
      "only showing top 20 rows\n",
      "\n"
     ]
    },
    {
     "name": "stderr",
     "output_type": "stream",
     "text": [
      "                                                                                \r"
     ]
    }
   ],
   "source": [
    "domain_df.groupBy(\"domain\").agg(count(\"domain\").alias(\"domain_count\")).sort(\"domain_count\", ascending=False).show()"
   ]
  },
  {
   "cell_type": "markdown",
   "id": "973d852c-255d-4303-9f82-1ab7f6dd268d",
   "metadata": {},
   "source": [
    "some rows have \"js\" in the \"js_libs\" column. see what's that about. "
   ]
  },
  {
   "cell_type": "code",
   "execution_count": 33,
   "id": "9faa66c0-584a-4de3-a96a-d1bbdb294b65",
   "metadata": {},
   "outputs": [
    {
     "ename": "AnalysisException",
     "evalue": "[UNRESOLVED_COLUMN.WITH_SUGGESTION] A column or function parameter with name `js_libs` cannot be resolved. Did you mean one of the following? [`col`, `ip`, `domain`, `server`].;\n'Project ['js_libs]\n+- Project [ip#0, server#2, domain#33, col#298]\n   +- Generate explode(js_libs#67), false, [col#298]\n      +- Project [ip#0, host#1, server#2, emails#3, script_src_attrs#4, domain#33, attrs_to_libs(script_src_attrs#4)#66 AS js_libs#67]\n         +- Project [ip#0, host#1, server#2, emails#3, script_src_attrs#4, extract_domain(host#1)#32 AS domain#33]\n            +- Relation [ip#0,host#1,server#2,emails#3,script_src_attrs#4] parquet\n",
     "output_type": "error",
     "traceback": [
      "\u001b[0;31m---------------------------------------------------------------------------\u001b[0m",
      "\u001b[0;31mAnalysisException\u001b[0m                         Traceback (most recent call last)",
      "Cell \u001b[0;32mIn[33], line 1\u001b[0m\n\u001b[0;32m----> 1\u001b[0m \u001b[43mdomain_df\u001b[49m\u001b[38;5;241;43m.\u001b[39;49m\u001b[43mselect\u001b[49m\u001b[43m(\u001b[49m\u001b[38;5;124;43m\"\u001b[39;49m\u001b[38;5;124;43mjs_libs\u001b[39;49m\u001b[38;5;124;43m\"\u001b[39;49m\u001b[43m)\u001b[49m\u001b[38;5;241m.\u001b[39mwhere(domain_df\u001b[38;5;241m.\u001b[39mdomain \u001b[38;5;241m==\u001b[39m \u001b[38;5;124m\"\u001b[39m\u001b[38;5;124mpubmed.ncbi.nlm.nih.gov\u001b[39m\u001b[38;5;124m\"\u001b[39m)\u001b[38;5;241m.\u001b[39mshow(truncate\u001b[38;5;241m=\u001b[39m\u001b[38;5;28;01mFalse\u001b[39;00m)\n",
      "File \u001b[0;32m/usr/local/lib/python3.11/site-packages/pyspark/sql/dataframe.py:3227\u001b[0m, in \u001b[0;36mDataFrame.select\u001b[0;34m(self, *cols)\u001b[0m\n\u001b[1;32m   3182\u001b[0m \u001b[38;5;28;01mdef\u001b[39;00m \u001b[38;5;21mselect\u001b[39m(\u001b[38;5;28mself\u001b[39m, \u001b[38;5;241m*\u001b[39mcols: \u001b[38;5;124m\"\u001b[39m\u001b[38;5;124mColumnOrName\u001b[39m\u001b[38;5;124m\"\u001b[39m) \u001b[38;5;241m-\u001b[39m\u001b[38;5;241m>\u001b[39m \u001b[38;5;124m\"\u001b[39m\u001b[38;5;124mDataFrame\u001b[39m\u001b[38;5;124m\"\u001b[39m:  \u001b[38;5;66;03m# type: ignore[misc]\u001b[39;00m\n\u001b[1;32m   3183\u001b[0m \u001b[38;5;250m    \u001b[39m\u001b[38;5;124;03m\"\"\"Projects a set of expressions and returns a new :class:`DataFrame`.\u001b[39;00m\n\u001b[1;32m   3184\u001b[0m \n\u001b[1;32m   3185\u001b[0m \u001b[38;5;124;03m    .. versionadded:: 1.3.0\u001b[39;00m\n\u001b[0;32m   (...)\u001b[0m\n\u001b[1;32m   3225\u001b[0m \u001b[38;5;124;03m    +-----+---+\u001b[39;00m\n\u001b[1;32m   3226\u001b[0m \u001b[38;5;124;03m    \"\"\"\u001b[39;00m\n\u001b[0;32m-> 3227\u001b[0m     jdf \u001b[38;5;241m=\u001b[39m \u001b[38;5;28;43mself\u001b[39;49m\u001b[38;5;241;43m.\u001b[39;49m\u001b[43m_jdf\u001b[49m\u001b[38;5;241;43m.\u001b[39;49m\u001b[43mselect\u001b[49m\u001b[43m(\u001b[49m\u001b[38;5;28;43mself\u001b[39;49m\u001b[38;5;241;43m.\u001b[39;49m\u001b[43m_jcols\u001b[49m\u001b[43m(\u001b[49m\u001b[38;5;241;43m*\u001b[39;49m\u001b[43mcols\u001b[49m\u001b[43m)\u001b[49m\u001b[43m)\u001b[49m\n\u001b[1;32m   3228\u001b[0m     \u001b[38;5;28;01mreturn\u001b[39;00m DataFrame(jdf, \u001b[38;5;28mself\u001b[39m\u001b[38;5;241m.\u001b[39msparkSession)\n",
      "File \u001b[0;32m/usr/local/lib/python3.11/site-packages/py4j/java_gateway.py:1322\u001b[0m, in \u001b[0;36mJavaMember.__call__\u001b[0;34m(self, *args)\u001b[0m\n\u001b[1;32m   1316\u001b[0m command \u001b[38;5;241m=\u001b[39m proto\u001b[38;5;241m.\u001b[39mCALL_COMMAND_NAME \u001b[38;5;241m+\u001b[39m\\\n\u001b[1;32m   1317\u001b[0m     \u001b[38;5;28mself\u001b[39m\u001b[38;5;241m.\u001b[39mcommand_header \u001b[38;5;241m+\u001b[39m\\\n\u001b[1;32m   1318\u001b[0m     args_command \u001b[38;5;241m+\u001b[39m\\\n\u001b[1;32m   1319\u001b[0m     proto\u001b[38;5;241m.\u001b[39mEND_COMMAND_PART\n\u001b[1;32m   1321\u001b[0m answer \u001b[38;5;241m=\u001b[39m \u001b[38;5;28mself\u001b[39m\u001b[38;5;241m.\u001b[39mgateway_client\u001b[38;5;241m.\u001b[39msend_command(command)\n\u001b[0;32m-> 1322\u001b[0m return_value \u001b[38;5;241m=\u001b[39m \u001b[43mget_return_value\u001b[49m\u001b[43m(\u001b[49m\n\u001b[1;32m   1323\u001b[0m \u001b[43m    \u001b[49m\u001b[43manswer\u001b[49m\u001b[43m,\u001b[49m\u001b[43m \u001b[49m\u001b[38;5;28;43mself\u001b[39;49m\u001b[38;5;241;43m.\u001b[39;49m\u001b[43mgateway_client\u001b[49m\u001b[43m,\u001b[49m\u001b[43m \u001b[49m\u001b[38;5;28;43mself\u001b[39;49m\u001b[38;5;241;43m.\u001b[39;49m\u001b[43mtarget_id\u001b[49m\u001b[43m,\u001b[49m\u001b[43m \u001b[49m\u001b[38;5;28;43mself\u001b[39;49m\u001b[38;5;241;43m.\u001b[39;49m\u001b[43mname\u001b[49m\u001b[43m)\u001b[49m\n\u001b[1;32m   1325\u001b[0m \u001b[38;5;28;01mfor\u001b[39;00m temp_arg \u001b[38;5;129;01min\u001b[39;00m temp_args:\n\u001b[1;32m   1326\u001b[0m     \u001b[38;5;28;01mif\u001b[39;00m \u001b[38;5;28mhasattr\u001b[39m(temp_arg, \u001b[38;5;124m\"\u001b[39m\u001b[38;5;124m_detach\u001b[39m\u001b[38;5;124m\"\u001b[39m):\n",
      "File \u001b[0;32m/usr/local/lib/python3.11/site-packages/pyspark/errors/exceptions/captured.py:185\u001b[0m, in \u001b[0;36mcapture_sql_exception.<locals>.deco\u001b[0;34m(*a, **kw)\u001b[0m\n\u001b[1;32m    181\u001b[0m converted \u001b[38;5;241m=\u001b[39m convert_exception(e\u001b[38;5;241m.\u001b[39mjava_exception)\n\u001b[1;32m    182\u001b[0m \u001b[38;5;28;01mif\u001b[39;00m \u001b[38;5;129;01mnot\u001b[39;00m \u001b[38;5;28misinstance\u001b[39m(converted, UnknownException):\n\u001b[1;32m    183\u001b[0m     \u001b[38;5;66;03m# Hide where the exception came from that shows a non-Pythonic\u001b[39;00m\n\u001b[1;32m    184\u001b[0m     \u001b[38;5;66;03m# JVM exception message.\u001b[39;00m\n\u001b[0;32m--> 185\u001b[0m     \u001b[38;5;28;01mraise\u001b[39;00m converted \u001b[38;5;28;01mfrom\u001b[39;00m \u001b[38;5;28;01mNone\u001b[39;00m\n\u001b[1;32m    186\u001b[0m \u001b[38;5;28;01melse\u001b[39;00m:\n\u001b[1;32m    187\u001b[0m     \u001b[38;5;28;01mraise\u001b[39;00m\n",
      "\u001b[0;31mAnalysisException\u001b[0m: [UNRESOLVED_COLUMN.WITH_SUGGESTION] A column or function parameter with name `js_libs` cannot be resolved. Did you mean one of the following? [`col`, `ip`, `domain`, `server`].;\n'Project ['js_libs]\n+- Project [ip#0, server#2, domain#33, col#298]\n   +- Generate explode(js_libs#67), false, [col#298]\n      +- Project [ip#0, host#1, server#2, emails#3, script_src_attrs#4, domain#33, attrs_to_libs(script_src_attrs#4)#66 AS js_libs#67]\n         +- Project [ip#0, host#1, server#2, emails#3, script_src_attrs#4, extract_domain(host#1)#32 AS domain#33]\n            +- Relation [ip#0,host#1,server#2,emails#3,script_src_attrs#4] parquet\n"
     ]
    }
   ],
   "source": [
    "domain_df.select(\"js_libs\").where(domain_df.domain == \"pubmed.ncbi.nlm.nih.gov\").show(truncate=False)"
   ]
  },
  {
   "cell_type": "code",
   "execution_count": 28,
   "id": "75a57db4-66ac-4ec1-89d3-90f2225e6955",
   "metadata": {},
   "outputs": [
    {
     "name": "stdout",
     "output_type": "stream",
     "text": [
      "+--------------------+\n",
      "|              domain|\n",
      "+--------------------+\n",
      "|           00-am.com|\n",
      "|           00-am.com|\n",
      "|          0731dj.com|\n",
      "|          0731dj.com|\n",
      "|      100-meizan.com|\n",
      "|       1000znakow.pl|\n",
      "|   11architecture.cn|\n",
      "|         123tivi.com|\n",
      "|           12956.com|\n",
      "|12eme.hautetfort.com|\n",
      "|  1438608.msh755.com|\n",
      "|    180gradonline.de|\n",
      "|183861414.a-mi-go.eu|\n",
      "|       1vip.kirov.ru|\n",
      "|2013.summerofsoni...|\n",
      "|2020conservative.com|\n",
      "|          2020ok.com|\n",
      "|220132290.legenda...|\n",
      "|220132290.legenda...|\n",
      "|     247120.bzjw.com|\n",
      "+--------------------+\n",
      "only showing top 20 rows\n",
      "\n"
     ]
    }
   ],
   "source": [
    "domain_df.select(domain_df.domain).show()"
   ]
  },
  {
   "cell_type": "code",
   "execution_count": 40,
   "id": "ebe68443-2950-498a-98b1-e1177c70a278",
   "metadata": {},
   "outputs": [],
   "source": [
    "s = \"script.js\""
   ]
  },
  {
   "cell_type": "code",
   "execution_count": 41,
   "id": "1c85e3ed-7ca9-4af5-8838-fa85112dba07",
   "metadata": {},
   "outputs": [
    {
     "data": {
      "text/plain": [
       "'script.js'"
      ]
     },
     "execution_count": 41,
     "metadata": {},
     "output_type": "execute_result"
    }
   ],
   "source": [
    "s.replace(\".min\",\"\")"
   ]
  },
  {
   "cell_type": "code",
   "execution_count": 43,
   "id": "4408455f-5c82-4e83-8dcd-a43ab1acee4e",
   "metadata": {},
   "outputs": [
    {
     "data": {
      "text/plain": [
       "'script.'"
      ]
     },
     "execution_count": 43,
     "metadata": {},
     "output_type": "execute_result"
    }
   ],
   "source": [
    "s.split(\"js\")[-2]"
   ]
  },
  {
   "cell_type": "code",
   "execution_count": null,
   "id": "12c79b03-3a78-4da5-a49d-d466b4adbf22",
   "metadata": {},
   "outputs": [],
   "source": []
  },
  {
   "cell_type": "code",
   "execution_count": null,
   "id": "4503597d-7b14-427d-ad56-be8d3c159a98",
   "metadata": {},
   "outputs": [],
   "source": []
  },
  {
   "cell_type": "code",
   "execution_count": null,
   "id": "f6b71023-d470-4df5-bf4d-24bf062aa729",
   "metadata": {},
   "outputs": [],
   "source": []
  },
  {
   "cell_type": "code",
   "execution_count": null,
   "id": "33b830fb-7c94-4db3-bcb0-dffee0532355",
   "metadata": {},
   "outputs": [],
   "source": []
  }
 ],
 "metadata": {
  "kernelspec": {
   "display_name": "Python 3 (ipykernel)",
   "language": "python",
   "name": "python3"
  },
  "language_info": {
   "codemirror_mode": {
    "name": "ipython",
    "version": 3
   },
   "file_extension": ".py",
   "mimetype": "text/x-python",
   "name": "python",
   "nbconvert_exporter": "python",
   "pygments_lexer": "ipython3",
   "version": "3.11.9"
  }
 },
 "nbformat": 4,
 "nbformat_minor": 5
}
