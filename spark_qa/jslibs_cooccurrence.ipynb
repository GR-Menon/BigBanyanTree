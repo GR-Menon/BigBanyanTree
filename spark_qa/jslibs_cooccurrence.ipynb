{
 "cells": [
  {
   "cell_type": "code",
   "execution_count": 1,
   "id": "a04e209e-0585-4842-8a50-7387767f26fd",
   "metadata": {},
   "outputs": [],
   "source": [
    "from urllib.parse import urlparse\n",
    "\n",
    "import pyspark.sql.functions as F\n",
    "from pyspark.sql.types import StructField, StructType, StructType, StringType, ArrayType\n",
    "import pandas as pd"
   ]
  },
  {
   "cell_type": "code",
   "execution_count": 2,
   "id": "58b256e5-9e51-4429-a07c-63d689a3eb5b",
   "metadata": {},
   "outputs": [
    {
     "name": "stderr",
     "output_type": "stream",
     "text": [
      "Setting default log level to \"WARN\".\n",
      "To adjust logging level use sc.setLogLevel(newLevel). For SparkR, use setLogLevel(newLevel).\n",
      "24/09/21 11:10:16 WARN NativeCodeLoader: Unable to load native-hadoop library for your platform... using builtin-java classes where applicable\n",
      "24/09/21 11:10:17 WARN Utils: spark.dynamicAllocation.initialExecutors less than spark.dynamicAllocation.minExecutors is invalid, ignoring its setting, please update your configs.\n",
      "24/09/21 11:10:17 WARN Utils: spark.executor.instances less than spark.dynamicAllocation.minExecutors is invalid, ignoring its setting, please update your configs.\n",
      "----------------------------------------\n",
      "Exception occurred during processing of request from ('127.0.0.1', 52186)\n",
      "Traceback (most recent call last):\n",
      "  File \"/usr/local/lib/python3.11/socketserver.py\", line 317, in _handle_request_noblock\n",
      "    self.process_request(request, client_address)\n",
      "  File \"/usr/local/lib/python3.11/socketserver.py\", line 348, in process_request\n",
      "    self.finish_request(request, client_address)\n",
      "  File \"/usr/local/lib/python3.11/socketserver.py\", line 361, in finish_request\n",
      "    self.RequestHandlerClass(request, client_address, self)\n",
      "  File \"/usr/local/lib/python3.11/socketserver.py\", line 755, in __init__\n",
      "    self.handle()\n",
      "  File \"/usr/local/lib/python3.11/site-packages/pyspark/accumulators.py\", line 295, in handle\n",
      "    poll(accum_updates)\n",
      "  File \"/usr/local/lib/python3.11/site-packages/pyspark/accumulators.py\", line 267, in poll\n",
      "    if self.rfile in r and func():\n",
      "                           ^^^^^^\n",
      "  File \"/usr/local/lib/python3.11/site-packages/pyspark/accumulators.py\", line 271, in accum_updates\n",
      "    num_updates = read_int(self.rfile)\n",
      "                  ^^^^^^^^^^^^^^^^^^^^\n",
      "  File \"/usr/local/lib/python3.11/site-packages/pyspark/serializers.py\", line 596, in read_int\n",
      "    raise EOFError\n",
      "EOFError\n",
      "----------------------------------------\n"
     ]
    }
   ],
   "source": [
    "from pyspark.sql import SparkSession\n",
    "\n",
    "spark = SparkSession.builder \\\n",
    "    .appName(\"co-occurrence\") \\\n",
    "    .master(\"spark://spark-master:7077\") \\\n",
    "    .config(\"spark.eventLog.enabled\", \"true\") \\\n",
    "    .config(\"spark.eventLog.dir\", \"file:///opt/spark/spark-events/\") \\\n",
    "    .config(\"spark.executor.memory\", \"4g\") \\\n",
    "    .config(\"spark.executor.cores\", 1) \\\n",
    "    .config(\"spark.dynamicAllocation.enabled\", \"true\") \\\n",
    "    .config(\"spark.dynamicAllocation.shuffleTracking.enabled\", \"true\") \\\n",
    "    .config(\"spark.dynamicAllocation.initialExecutors\", 0) \\\n",
    "    .config(\"spark.dynamicAllocation.minExecutors\", 1) \\\n",
    "    .config(\"spark.dynamicAllocation.maxExecutors\", 10) \\\n",
    "    .config(\"spark.sql.execution.arrow.pyspark.enabled\", \"true\") \\\n",
    "    .config(\"spark.scheduler.mode\", \"FAIR\") \\\n",
    "    .getOrCreate()"
   ]
  },
  {
   "cell_type": "code",
   "execution_count": 3,
   "id": "8a33b970-9190-411c-994b-cf8b162048c4",
   "metadata": {},
   "outputs": [],
   "source": [
    "df = spark.read.parquet(\"/opt/workspace/warc_yearly/script_extraction_out_2023/\")"
   ]
  },
  {
   "cell_type": "code",
   "execution_count": 4,
   "id": "92810201-b6b4-4f77-97d4-c1d68bc63c68",
   "metadata": {},
   "outputs": [
    {
     "name": "stdout",
     "output_type": "stream",
     "text": [
      "+--------------+--------------------+---------+------+--------------------+\n",
      "|            ip|                host|   server|emails|    script_src_attrs|\n",
      "+--------------+--------------------+---------+------+--------------------+\n",
      "| 168.76.191.88|http://00-am.com/...|    nginx|      |/template/mxone/m...|\n",
      "| 168.76.191.88|http://00-am.com/...|    nginx|      |/template/mxone/m...|\n",
      "|  103.43.188.3|http://0731dj.com...|wts/1.7.0|      |\\'/packs/layui/la...|\n",
      "|  103.43.188.3|http://0731dj.com...|wts/1.7.0|      |                    |\n",
      "|157.112.176.59|http://100-meizan...|    nginx|      |\\'http://100-meiz...|\n",
      "+--------------+--------------------+---------+------+--------------------+\n",
      "only showing top 5 rows\n",
      "\n"
     ]
    }
   ],
   "source": [
    "df.show(n=5)"
   ]
  },
  {
   "cell_type": "code",
   "execution_count": 5,
   "id": "ebca673f-7da6-4987-8a6b-eee6d8974aaf",
   "metadata": {},
   "outputs": [],
   "source": [
    "parser_broadcast = spark.sparkContext.broadcast(urlparse)"
   ]
  },
  {
   "cell_type": "code",
   "execution_count": 6,
   "id": "1fca0c90-0ae7-4aa9-aa82-9849ed7b4baf",
   "metadata": {},
   "outputs": [],
   "source": [
    "@F.udf(StringType())\n",
    "def extract_domain(host):\n",
    "    parser = parser_broadcast.value\n",
    "    parsed_url = parser(host)\n",
    "    return parsed_url.netloc"
   ]
  },
  {
   "cell_type": "code",
   "execution_count": 7,
   "id": "19694151-161a-435f-984f-6cf7502b9966",
   "metadata": {},
   "outputs": [],
   "source": [
    "df = df.withColumn(\"domain\", extract_domain(\"host\"))"
   ]
  },
  {
   "cell_type": "code",
   "execution_count": 8,
   "id": "bbf9e13e-f2d5-413f-b291-211fd4869c31",
   "metadata": {},
   "outputs": [
    {
     "name": "stderr",
     "output_type": "stream",
     "text": [
      "[Stage 2:>                                                          (0 + 1) / 1]\r"
     ]
    },
    {
     "name": "stdout",
     "output_type": "stream",
     "text": [
      "+--------------+--------------------+---------+------+--------------------+--------------+\n",
      "|            ip|                host|   server|emails|    script_src_attrs|        domain|\n",
      "+--------------+--------------------+---------+------+--------------------+--------------+\n",
      "| 168.76.191.88|http://00-am.com/...|    nginx|      |/template/mxone/m...|     00-am.com|\n",
      "| 168.76.191.88|http://00-am.com/...|    nginx|      |/template/mxone/m...|     00-am.com|\n",
      "|  103.43.188.3|http://0731dj.com...|wts/1.7.0|      |\\'/packs/layui/la...|    0731dj.com|\n",
      "|  103.43.188.3|http://0731dj.com...|wts/1.7.0|      |                    |    0731dj.com|\n",
      "|157.112.176.59|http://100-meizan...|    nginx|      |\\'http://100-meiz...|100-meizan.com|\n",
      "+--------------+--------------------+---------+------+--------------------+--------------+\n",
      "only showing top 5 rows\n",
      "\n"
     ]
    },
    {
     "name": "stderr",
     "output_type": "stream",
     "text": [
      "                                                                                \r"
     ]
    }
   ],
   "source": [
    "df.show(n=5)"
   ]
  },
  {
   "cell_type": "markdown",
   "id": "64abce75-0d2b-4930-96ab-a4efafc20073",
   "metadata": {},
   "source": [
    "to remove:\n",
    "- \"js\" not in string\n",
    "- \"js\"\n",
    "- having ','"
   ]
  },
  {
   "cell_type": "code",
   "execution_count": 9,
   "id": "33ebb567-5b2f-47d0-b73c-ce8899339dd7",
   "metadata": {},
   "outputs": [],
   "source": [
    "# @udf(ArrayType(StringType()))\n",
    "# def attrs_to_libs(src_attrs):\n",
    "#     \"\"\"Parse list of src attrs to have JS libs ONLY.\"\"\"\n",
    "#     splits = src_attrs.split('|')\n",
    "#     for i, s in enumerate(splits):\n",
    "#         if s.strip('.') == \"js\":\n",
    "#             print(s, file=open(\"/opt/workspace/test.txt\", 'a'))\n",
    "#         s = s.split('/')[-1]\n",
    "#         if \"js\" not in s:\n",
    "#             splits[i] = ''\n",
    "#             continue\n",
    "#         # handles this case: js.cookie.min.js?ver=2.1.4-wc.9.1.4\n",
    "#         s = s.replace(\".min\", '')\n",
    "#         s = s.split(\"js\")[-2] + \"js\"\n",
    "#         splits[i] = s.strip('.')\n",
    "#     return splits"
   ]
  },
  {
   "cell_type": "code",
   "execution_count": 10,
   "id": "08f6456b-6113-439a-9eae-b5b6087b9a0c",
   "metadata": {},
   "outputs": [
    {
     "data": {
      "text/plain": [
       "'redbag-cdown.js'"
      ]
     },
     "execution_count": 10,
     "metadata": {},
     "output_type": "execute_result"
    }
   ],
   "source": [
    "urlparse(\"https://img1.shanghaixiaochagu.com/assets/js/redbag-cdown.js?zone=asia/hong_kong&1\").path.split('/')[-1]"
   ]
  },
  {
   "cell_type": "code",
   "execution_count": 19,
   "id": "90871e64-d6db-4bbf-81a4-72f036788ee4",
   "metadata": {},
   "outputs": [],
   "source": [
    "@F.udf(ArrayType(StringType()))\n",
    "def attrs_to_libs(src_attrs):\n",
    "    \"\"\"Parse list of src attrs to have JS libs ONLY.\"\"\"\n",
    "    splits = src_attrs.split('|')\n",
    "    parser = parser_broadcast.value\n",
    "    for i, s in enumerate(splits):\n",
    "        try:\n",
    "            s = parser(s).path.split('/')[-1]\n",
    "        except:\n",
    "            # this handles cases like \"https://wpsuspension.hujquery(document).off('click.fb-start', '[data-trigger]');?8600c2288b94838e7ddbb879e6329a62\"\n",
    "            pass\n",
    "        s = s.split(',')[0]\n",
    "        s = s.replace('/', '')\n",
    "        \n",
    "        if not \"js\" in s \\\n",
    "        or s == \"js\":\n",
    "            splits[i] = None\n",
    "            continue\n",
    "\n",
    "        # handles this case: js.cookie.min.js?ver=2.1.4-wc.9.1.4\n",
    "        try:\n",
    "            splits[i] = s.split(\"js\")[-2].strip('.') + \".js\"\n",
    "        except:\n",
    "            pass\n",
    "    return splits"
   ]
  },
  {
   "cell_type": "code",
   "execution_count": 20,
   "id": "890b4e63-d108-4c8f-bb62-06b4c6bb9ec3",
   "metadata": {},
   "outputs": [],
   "source": [
    "domain_lib_df = df.withColumn(\"js_libs\", attrs_to_libs(\"script_src_attrs\"))"
   ]
  },
  {
   "cell_type": "code",
   "execution_count": 21,
   "id": "18e5e18e-0333-4bdd-a8c5-f79f3fdcc15f",
   "metadata": {},
   "outputs": [
    {
     "name": "stdout",
     "output_type": "stream",
     "text": [
      "+--------------------+\n",
      "|             js_libs|\n",
      "+--------------------+\n",
      "|[jquery.js, jquer...|\n",
      "|[jquery.js, jquer...|\n",
      "|[layui.js, jquery...|\n",
      "|              [NULL]|\n",
      "|[leaflet.js, leaf...|\n",
      "+--------------------+\n",
      "only showing top 5 rows\n",
      "\n"
     ]
    }
   ],
   "source": [
    "domain_lib_df.select(\"js_libs\").show(n=5)"
   ]
  },
  {
   "cell_type": "code",
   "execution_count": 22,
   "id": "d25f6f31-afc7-4f54-803f-9c6588a03ec7",
   "metadata": {},
   "outputs": [
    {
     "data": {
      "text/plain": [
       "29843875"
      ]
     },
     "execution_count": 22,
     "metadata": {},
     "output_type": "execute_result"
    }
   ],
   "source": [
    "domain_lib_df.count()"
   ]
  },
  {
   "cell_type": "code",
   "execution_count": 23,
   "id": "ee2cedda-13ab-4cab-8219-5da1d6811f77",
   "metadata": {},
   "outputs": [
    {
     "data": {
      "text/plain": [
       "7460968"
      ]
     },
     "execution_count": 23,
     "metadata": {},
     "output_type": "execute_result"
    }
   ],
   "source": [
    "29843875 // 4"
   ]
  },
  {
   "cell_type": "code",
   "execution_count": 24,
   "id": "74c5c977-7492-4166-aadd-b351a953d8c4",
   "metadata": {},
   "outputs": [],
   "source": [
    "domain_lib_df = domain_lib_df.limit(7460968)"
   ]
  },
  {
   "cell_type": "code",
   "execution_count": 25,
   "id": "9dc93926-b0cf-43c6-93e7-7ce7987073ca",
   "metadata": {},
   "outputs": [],
   "source": [
    "domain_lib_df = domain_lib_df.select(domain_lib_df.domain, F.explode(domain_lib_df.js_libs).alias(\"js_libs\")).dropna()"
   ]
  },
  {
   "cell_type": "code",
   "execution_count": 18,
   "id": "ed93723a-a2d5-4900-bcf5-862da569f517",
   "metadata": {
    "scrolled": true
   },
   "outputs": [
    {
     "name": "stderr",
     "output_type": "stream",
     "text": [
      "[Stage 7:========================================================>(89 + 1) / 90]\r"
     ]
    },
    {
     "name": "stdout",
     "output_type": "stream",
     "text": [
      "+-----------------+----------------------------------+\n",
      "|domain           |js_libs                           |\n",
      "+-----------------+----------------------------------+\n",
      "|ecosupplements.nl|jquery.min.js                     |\n",
      "|ecosupplements.nl|jquery.easy-autocomplete.min.js   |\n",
      "|ecosupplements.nl|husky.js                          |\n",
      "|ecosupplements.nl|jquery.blockui.min.js             |\n",
      "|ecosupplements.nl|add-to-cart.min.js                |\n",
      "|ecosupplements.nl|jquery.flexslider.min.js          |\n",
      "|ecosupplements.nl|photoswipe.min.js                 |\n",
      "|ecosupplements.nl|photoswipe-ui-default.min.js      |\n",
      "|ecosupplements.nl|cookie.min.js                     |\n",
      "|ecosupplements.nl|main-front.js                     |\n",
      "|ecosupplements.nl|wpm-public__premium_only.p1.min.js|\n",
      "|ecosupplements.nl|tokenization-form.min.js          |\n",
      "|ecosupplements.nl|underscore.min.js                 |\n",
      "|ecosupplements.nl|wp-util.min.js                    |\n",
      "|ecosupplements.nl|add-to-cart-variation.min.js      |\n",
      "|ecosupplements.nl|jquery.min.js                     |\n",
      "|ecosupplements.nl|jquery.easy-autocomplete.min.js   |\n",
      "|ecosupplements.nl|husky.js                          |\n",
      "|ecosupplements.nl|jquery.blockui.min.js             |\n",
      "|ecosupplements.nl|add-to-cart.min.js                |\n",
      "+-----------------+----------------------------------+\n",
      "only showing top 20 rows\n",
      "\n"
     ]
    },
    {
     "name": "stderr",
     "output_type": "stream",
     "text": [
      "                                                                                \r"
     ]
    }
   ],
   "source": [
    "domain_lib_df.show(truncate=False)"
   ]
  },
  {
   "cell_type": "code",
   "execution_count": 26,
   "id": "12d2bcd8-b51c-44e1-8240-40821718b012",
   "metadata": {},
   "outputs": [],
   "source": [
    "domain_lib_df = domain_lib_df.dropDuplicates([\"domain\", \"js_libs\"])"
   ]
  },
  {
   "cell_type": "code",
   "execution_count": 27,
   "id": "00d55e37-c534-4866-827c-c6cb48613c78",
   "metadata": {},
   "outputs": [],
   "source": [
    "joined_df = domain_lib_df.alias(\"df1\").join(\n",
    "    domain_lib_df.alias(\"df2\"),\n",
    "    F.col(\"df1.domain\") == F.col(\"df2.domain\"),\n",
    "    \"inner\"\n",
    ").select(\n",
    "    F.col(\"df1.domain\"),\n",
    "    F.col(\"df1.js_libs\").alias(\"js_lib1\"),\n",
    "    F.col(\"df2.js_libs\").alias(\"js_lib2\"),\n",
    ")"
   ]
  },
  {
   "cell_type": "code",
   "execution_count": 28,
   "id": "5e478451-fa7f-4b6a-a291-db8a0980c751",
   "metadata": {},
   "outputs": [],
   "source": [
    "joined_df = joined_df.filter(F.col(\"js_lib1\") != F.col(\"js_lib2\"))"
   ]
  },
  {
   "cell_type": "code",
   "execution_count": 30,
   "id": "7503c9bf-5f64-489a-8c16-4884491474e3",
   "metadata": {},
   "outputs": [],
   "source": [
    "co_occ_df = joined_df.groupBy(\"js_lib1\", \"js_lib2\").agg(F.count_distinct(\"domain\").alias(\"domain_count\"))"
   ]
  },
  {
   "cell_type": "code",
   "execution_count": 18,
   "id": "82d0c5df-cdb1-4a68-a679-55137897ed8b",
   "metadata": {},
   "outputs": [
    {
     "name": "stderr",
     "output_type": "stream",
     "text": [
      "                                                                                \r"
     ]
    }
   ],
   "source": [
    "co_occ_df.sort(\"domain_count\", ascending=False).write.mode(\"overwrite\").parquet(\"jslibs_co_occ_2023\")"
   ]
  },
  {
   "cell_type": "code",
   "execution_count": 19,
   "id": "289cc960-f9fb-4a6e-961c-40087ae9f0bf",
   "metadata": {},
   "outputs": [],
   "source": [
    "temp = spark.read.parquet(\"./jslibs_co_occ_2023/\")"
   ]
  },
  {
   "cell_type": "code",
   "execution_count": 24,
   "id": "beb31fa0-2b84-4b08-bed9-1e68c56f6496",
   "metadata": {},
   "outputs": [
    {
     "name": "stderr",
     "output_type": "stream",
     "text": [
      "[Stage 28:=====================================================>(102 + 1) / 103]\r"
     ]
    },
    {
     "name": "stdout",
     "output_type": "stream",
     "text": [
      "+--------------------------+--------------------------+------------+\n",
      "|js_lib1                   |js_lib2                   |domain_count|\n",
      "+--------------------------+--------------------------+------------+\n",
      "|jquery.min.js             |jquery.min.js             |4005823     |\n",
      "|jquery-migrate.min.js     |jquery-migrate.min.js     |2862142     |\n",
      "|jquery.min.js             |jquery-migrate.min.js     |2604344     |\n",
      "|jquery-migrate.min.js     |jquery.min.js             |2604344     |\n",
      "|index.js                  |index.js                  |1125419     |\n",
      "|wp-polyfill.min.js        |wp-polyfill.min.js        |1035894     |\n",
      "|bootstrap.min.js          |bootstrap.min.js          |994347      |\n",
      "|core.min.js               |core.min.js               |989264      |\n",
      "|comment-reply.min.js      |comment-reply.min.js      |983022      |\n",
      "|wp-polyfill.min.js        |jquery.min.js             |972877      |\n",
      "|jquery.min.js             |wp-polyfill.min.js        |972877      |\n",
      "|index.js                  |jquery.min.js             |971456      |\n",
      "|jquery.min.js             |index.js                  |971456      |\n",
      "|regenerator-runtime.min.js|regenerator-runtime.min.js|964673      |\n",
      "|wp-polyfill.min.js        |regenerator-runtime.min.js|963920      |\n",
      "|regenerator-runtime.min.js|wp-polyfill.min.js        |963920      |\n",
      "|regenerator-runtime.min.js|jquery.min.js             |920177      |\n",
      "|jquery.min.js             |regenerator-runtime.min.js|920177      |\n",
      "|wp-polyfill.min.js        |jquery-migrate.min.js     |883366      |\n",
      "|jquery-migrate.min.js     |wp-polyfill.min.js        |883366      |\n",
      "|index.js                  |jquery-migrate.min.js     |879353      |\n",
      "|jquery-migrate.min.js     |index.js                  |879353      |\n",
      "|core.min.js               |jquery.min.js             |860277      |\n",
      "|jquery.min.js             |core.min.js               |860277      |\n",
      "|jquery-migrate.min.js     |comment-reply.min.js      |856022      |\n",
      "|comment-reply.min.js      |jquery-migrate.min.js     |856022      |\n",
      "|core.min.js               |jquery-migrate.min.js     |850272      |\n",
      "|jquery-migrate.min.js     |core.min.js               |850272      |\n",
      "|jquery-migrate.min.js     |regenerator-runtime.min.js|845095      |\n",
      "|regenerator-runtime.min.js|jquery-migrate.min.js     |845095      |\n",
      "|jquery.min.js             |comment-reply.min.js      |820383      |\n",
      "|comment-reply.min.js      |jquery.min.js             |820383      |\n",
      "|api.js                    |api.js                    |810471      |\n",
      "|wp-polyfill-inert.min.js  |wp-polyfill-inert.min.js  |779942      |\n",
      "|wp-polyfill-inert.min.js  |wp-polyfill.min.js        |779595      |\n",
      "|wp-polyfill.min.js        |wp-polyfill-inert.min.js  |779595      |\n",
      "|regenerator-runtime.min.js|wp-polyfill-inert.min.js  |779489      |\n",
      "|wp-polyfill-inert.min.js  |regenerator-runtime.min.js|779489      |\n",
      "|jquery.min.js             |wp-polyfill-inert.min.js  |748625      |\n",
      "|wp-polyfill-inert.min.js  |jquery.min.js             |748625      |\n",
      "|jquery.js                 |jquery.js                 |730017      |\n",
      "|main.js                   |main.js                   |718962      |\n",
      "|cookie.min.js             |cookie.min.js             |693944      |\n",
      "|jquery-migrate.min.js     |wp-polyfill-inert.min.js  |688939      |\n",
      "|wp-polyfill-inert.min.js  |jquery-migrate.min.js     |688939      |\n",
      "|scripts.js                |scripts.js                |680239      |\n",
      "|hooks.min.js              |hooks.min.js              |666415      |\n",
      "|wp-polyfill.min.js        |hooks.min.js              |662677      |\n",
      "|hooks.min.js              |wp-polyfill.min.js        |662677      |\n",
      "|bootstrap.min.js          |jquery.min.js             |643316      |\n",
      "+--------------------------+--------------------------+------------+\n",
      "only showing top 50 rows\n",
      "\n"
     ]
    },
    {
     "name": "stderr",
     "output_type": "stream",
     "text": [
      "                                                                                \r"
     ]
    }
   ],
   "source": [
    "temp.sort(\"domain_count\", ascending=False).show(n=50, truncate=False)"
   ]
  },
  {
   "cell_type": "code",
   "execution_count": 75,
   "id": "ebe68443-2950-498a-98b1-e1177c70a278",
   "metadata": {},
   "outputs": [],
   "source": [
    "s = \"https://img1.shanghaixiaochagu.com/assets/js/redbag-cdown.js?zone=asia/hong_kong&1\""
   ]
  },
  {
   "cell_type": "code",
   "execution_count": 127,
   "id": "ee72e5fa-e6ff-4b20-bc07-ef81f432f450",
   "metadata": {},
   "outputs": [
    {
     "data": {
      "text/plain": [
       "ParseResult(scheme='', netloc='', path='wp-includes', params='', query='', fragment='')"
      ]
     },
     "execution_count": 127,
     "metadata": {},
     "output_type": "execute_result"
    }
   ],
   "source": [
    "urlparse(\"wp-includes\")"
   ]
  },
  {
   "cell_type": "code",
   "execution_count": 42,
   "id": "4408455f-5c82-4e83-8dcd-a43ab1acee4e",
   "metadata": {},
   "outputs": [
    {
     "data": {
      "text/plain": [
       "'cookie.min.'"
      ]
     },
     "execution_count": 42,
     "metadata": {},
     "output_type": "execute_result"
    }
   ],
   "source": [
    "s.split(\"js\")[-2]"
   ]
  },
  {
   "cell_type": "code",
   "execution_count": 43,
   "id": "12c79b03-3a78-4da5-a49d-d466b4adbf22",
   "metadata": {},
   "outputs": [
    {
     "data": {
      "text/plain": [
       "'cookie.min.js'"
      ]
     },
     "execution_count": 43,
     "metadata": {},
     "output_type": "execute_result"
    }
   ],
   "source": [
    "s.split(\"js\")[-2].strip('.') + \".js\""
   ]
  },
  {
   "cell_type": "code",
   "execution_count": 139,
   "id": "4503597d-7b14-427d-ad56-be8d3c159a98",
   "metadata": {},
   "outputs": [],
   "source": [
    "if \"js\" in \"wp-content\":\n",
    "    print(\"hi\")"
   ]
  },
  {
   "cell_type": "code",
   "execution_count": null,
   "id": "f6b71023-d470-4df5-bf4d-24bf062aa729",
   "metadata": {},
   "outputs": [],
   "source": []
  },
  {
   "cell_type": "code",
   "execution_count": null,
   "id": "33b830fb-7c94-4db3-bcb0-dffee0532355",
   "metadata": {},
   "outputs": [],
   "source": []
  }
 ],
 "metadata": {
  "kernelspec": {
   "display_name": "Python 3 (ipykernel)",
   "language": "python",
   "name": "python3"
  },
  "language_info": {
   "codemirror_mode": {
    "name": "ipython",
    "version": 3
   },
   "file_extension": ".py",
   "mimetype": "text/x-python",
   "name": "python",
   "nbconvert_exporter": "python",
   "pygments_lexer": "ipython3",
   "version": "3.11.9"
  }
 },
 "nbformat": 4,
 "nbformat_minor": 5
}
