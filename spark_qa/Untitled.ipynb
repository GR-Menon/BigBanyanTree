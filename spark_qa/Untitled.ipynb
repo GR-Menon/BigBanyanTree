{
 "cells": [
  {
   "cell_type": "code",
   "execution_count": 19,
   "id": "61c1a97b-2ba6-4e28-87ee-bb3fa9e17ce3",
   "metadata": {},
   "outputs": [],
   "source": [
    "import re\n",
    "from urllib.parse import urlparse"
   ]
  },
  {
   "cell_type": "code",
   "execution_count": 1,
   "id": "ad8bfdd6-d50c-4b05-9d09-6abab0b337cc",
   "metadata": {},
   "outputs": [],
   "source": [
    "t = \"\\'http://armenia.pl/wp-content/plugins/uk-cookie-consent/assets/js/uk-cookie-consent-js.js?ver=2.3.0\\'\""
   ]
  },
  {
   "cell_type": "code",
   "execution_count": 4,
   "id": "3fcbc759-69ae-4d28-8e81-97c766a58d16",
   "metadata": {},
   "outputs": [
    {
     "data": {
      "text/plain": [
       "\"'http://armenia.pl/wp-content/plugins/uk-cookie-consent/assets/js/uk-cookie-consent-js.js\""
      ]
     },
     "execution_count": 4,
     "metadata": {},
     "output_type": "execute_result"
    }
   ],
   "source": [
    "urlparse(t).path"
   ]
  },
  {
   "cell_type": "code",
   "execution_count": 6,
   "id": "e7f09e6b-5491-424c-b398-63eaa9ee7b7e",
   "metadata": {},
   "outputs": [],
   "source": [
    "f = t.strip(\"\\'\")"
   ]
  },
  {
   "cell_type": "code",
   "execution_count": 8,
   "id": "0a9931eb-0b13-455f-a802-fd9b5ac2d979",
   "metadata": {},
   "outputs": [
    {
     "data": {
      "text/plain": [
       "ParseResult(scheme='http', netloc='armenia.pl', path='/wp-content/plugins/uk-cookie-consent/assets/js/uk-cookie-consent-js.js', params='', query='ver=2.3.0', fragment='')"
      ]
     },
     "execution_count": 8,
     "metadata": {},
     "output_type": "execute_result"
    }
   ],
   "source": [
    "urlparse(f)"
   ]
  },
  {
   "cell_type": "code",
   "execution_count": 26,
   "id": "3b479146-2b0e-4127-93c5-d25de6d13446",
   "metadata": {},
   "outputs": [],
   "source": [
    "t = \"js.cookie.min.js\""
   ]
  },
  {
   "cell_type": "code",
   "execution_count": 16,
   "id": "ec4e51a0-9ff4-4b95-81ad-3bb32b5ba9f7",
   "metadata": {},
   "outputs": [
    {
     "data": {
      "text/plain": [
       "'cookie.min.js'"
      ]
     },
     "execution_count": 16,
     "metadata": {},
     "output_type": "execute_result"
    }
   ],
   "source": [
    "t.split(\"js\")[-2].strip('.') + '.js'"
   ]
  },
  {
   "cell_type": "code",
   "execution_count": 17,
   "id": "909dbefd-89c8-4a4c-ac4c-9cb03b800cc5",
   "metadata": {},
   "outputs": [],
   "source": [
    "if t.startswith(\"js.\"):\n",
    "    t.replace(\"js.\", '')"
   ]
  },
  {
   "cell_type": "code",
   "execution_count": 27,
   "id": "b91ac1d2-e20f-493d-87e8-d9214a68129d",
   "metadata": {},
   "outputs": [
    {
     "data": {
      "text/plain": [
       "'cookie.min.js'"
      ]
     },
     "execution_count": 27,
     "metadata": {},
     "output_type": "execute_result"
    }
   ],
   "source": [
    "re.sub(r\"^js\\.\", '', t)"
   ]
  },
  {
   "cell_type": "code",
   "execution_count": 30,
   "id": "f55b2925-a603-4e9b-90fb-0ab6040e6b13",
   "metadata": {},
   "outputs": [],
   "source": [
    "f = \"\\'//ajax.googleapis.com/ajax/libs/jquery/2.2.4/jquery.min.js\\'\""
   ]
  },
  {
   "cell_type": "code",
   "execution_count": 33,
   "id": "4fb9b741-bff0-4c43-9453-5bd7c2f86b01",
   "metadata": {},
   "outputs": [
    {
     "data": {
      "text/plain": [
       "ParseResult(scheme='', netloc='ajax.googleapis.com', path='/ajax/libs/jquery/2.2.4/jquery.min.js', params='', query='', fragment='')"
      ]
     },
     "execution_count": 33,
     "metadata": {},
     "output_type": "execute_result"
    }
   ],
   "source": [
    "urlparse(f.strip(\"\\'\"))"
   ]
  },
  {
   "cell_type": "code",
   "execution_count": null,
   "id": "69f6d314-bc44-40e1-8def-beecc9f45e1b",
   "metadata": {},
   "outputs": [],
   "source": []
  },
  {
   "cell_type": "code",
   "execution_count": null,
   "id": "c590b197-0345-4599-ac41-68cc4dcaf60b",
   "metadata": {},
   "outputs": [],
   "source": []
  },
  {
   "cell_type": "code",
   "execution_count": null,
   "id": "6a61493f-91da-4444-adbc-e68a174f3626",
   "metadata": {},
   "outputs": [],
   "source": []
  }
 ],
 "metadata": {
  "kernelspec": {
   "display_name": "Python 3 (ipykernel)",
   "language": "python",
   "name": "python3"
  },
  "language_info": {
   "codemirror_mode": {
    "name": "ipython",
    "version": 3
   },
   "file_extension": ".py",
   "mimetype": "text/x-python",
   "name": "python",
   "nbconvert_exporter": "python",
   "pygments_lexer": "ipython3",
   "version": "3.11.9"
  }
 },
 "nbformat": 4,
 "nbformat_minor": 5
}
