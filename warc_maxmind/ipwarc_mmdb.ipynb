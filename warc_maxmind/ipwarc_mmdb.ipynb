{
 "cells": [
  {
   "cell_type": "code",
   "execution_count": 1,
   "id": "23bf9406-a2b2-4d69-bb43-008337df01cf",
   "metadata": {},
   "outputs": [
    {
     "name": "stderr",
     "output_type": "stream",
     "text": [
      "Setting default log level to \"WARN\".\n",
      "To adjust logging level use sc.setLogLevel(newLevel). For SparkR, use setLogLevel(newLevel).\n",
      "24/08/23 19:06:05 WARN NativeCodeLoader: Unable to load native-hadoop library for your platform... using builtin-java classes where applicable\n"
     ]
    }
   ],
   "source": [
    "from pyspark.sql import SparkSession\n",
    "spark = SparkSession.builder \\\n",
    "    .appName(\"maxmind-warc\") \\\n",
    "    .master(\"spark://spark-master:7077\") \\\n",
    "    .config(\"spark.executor.memory\", \"1g\") \\\n",
    "    .config(\"spark.executor.cores\", 1) \\\n",
    "    .config(\"spark.dynamicAllocation.enabled\", \"true\") \\\n",
    "    .config(\"spark.dynamicAllocation.shuffleTracking.enabled\", \"true\") \\\n",
    "    .config(\"spark.dynamicAllocation.initialExecutors\", 2) \\\n",
    "    .config(\"spark.dynamicAllocation.minExecutors\", 0) \\\n",
    "    .config(\"spark.dynamicAllocation.maxExecutors\", 10) \\\n",
    "    .getOrCreate()"
   ]
  },
  {
   "cell_type": "code",
   "execution_count": 2,
   "id": "9ae6b038-ec58-4619-b0ac-e35490e87d5f",
   "metadata": {},
   "outputs": [],
   "source": [
    "spark.sparkContext.addPyFile(\"./ip_utils.py\")"
   ]
  },
  {
   "cell_type": "code",
   "execution_count": 3,
   "id": "37e73054-2680-4838-8bee-e5334763dd24",
   "metadata": {},
   "outputs": [],
   "source": [
    "from pathlib import Path\n",
    "from warcio import ArchiveIterator\n",
    "\n",
    "from pyspark.sql import Row\n",
    "from pyspark.sql.functions import udf\n",
    "from pyspark.sql.types import (\n",
    "    StructType,\n",
    "    StructField,\n",
    "    StringType,\n",
    "    IntegerType,\n",
    "    BooleanType,\n",
    "    FloatType\n",
    ")"
   ]
  },
  {
   "cell_type": "code",
   "execution_count": 4,
   "id": "af9a81d5-0484-49f7-a855-c5283506d3b0",
   "metadata": {},
   "outputs": [
    {
     "name": "stdout",
     "output_type": "stream",
     "text": [
      "CC-MAIN-20240724014956-20240724044956-00798.warc     get_files.sh\n",
      "CC-MAIN-20240725114544-20240725144544-00476.warc     warc.paths\n",
      "CC-MAIN-20240725114544-20240725144544-00476_extract\n"
     ]
    }
   ],
   "source": [
    "cc_dir = Path(\"/opt/workspace/datasets/common-crawl/\")\n",
    "!ls $cc_dir"
   ]
  },
  {
   "cell_type": "code",
   "execution_count": 5,
   "id": "ec1915db-c1b1-4e9e-8896-309d22881fd8",
   "metadata": {},
   "outputs": [
    {
     "name": "stdout",
     "output_type": "stream",
     "text": [
      "file 1: /opt/workspace/datasets/common-crawl/CC-MAIN-20240724014956-20240724044956-00798.warc\n",
      "\n",
      "file 2: /opt/workspace/datasets/common-crawl/CC-MAIN-20240725114544-20240725144544-00476.warc\n"
     ]
    }
   ],
   "source": [
    "warc_files = []\n",
    "with open(\"paths.txt\") as f:\n",
    "    for i, line in enumerate(f):\n",
    "        warc_files.append(Path(line.strip()))\n",
    "        print(f\"file {i+1}: {line}\")"
   ]
  },
  {
   "cell_type": "code",
   "execution_count": 6,
   "id": "a5e65368-075c-4e62-89ea-bd74f7c9a14e",
   "metadata": {},
   "outputs": [
    {
     "name": "stdout",
     "output_type": "stream",
     "text": [
      "Record headers: WARC/1.0\n",
      "WARC-Type: response\n",
      "WARC-Date: 2024-07-24T02:50:03Z\n",
      "WARC-Record-ID: <urn:uuid:f1ee65d4-9676-42a8-9e58-4255974742d2>\n",
      "Content-Length: 104808\n",
      "Content-Type: application/http; msgtype=response\n",
      "WARC-Warcinfo-ID: <urn:uuid:e9e442c8-3d43-4395-a202-dd2aa8c91b0a>\n",
      "WARC-Concurrent-To: <urn:uuid:d7712f1c-2f25-4280-9c3c-6a0bb149d67a>\n",
      "WARC-IP-Address: 107.163.232.92\n",
      "WARC-Target-URI: http://0.furkid.net/\n",
      "WARC-Protocol: http/1.1\n",
      "WARC-Payload-Digest: sha1:7TBKRIWHL3ND2HAIEPKDTARXTOYGYESP\n",
      "WARC-Block-Digest: sha1:FWGYYUJS6NSB5DLDH2C4PHJDCWQAESPZ\n",
      "WARC-Identified-Payload-Type: text/html\n",
      "\n",
      "Record headers: WARC/1.0\n",
      "WARC-Type: response\n",
      "WARC-Date: 2024-07-24T02:42:19Z\n",
      "WARC-Record-ID: <urn:uuid:c0beded9-7d7b-4a3d-b4ef-161431f16cf1>\n",
      "Content-Length: 154\n",
      "Content-Type: application/http; msgtype=response\n",
      "WARC-Warcinfo-ID: <urn:uuid:e9e442c8-3d43-4395-a202-dd2aa8c91b0a>\n",
      "WARC-Concurrent-To: <urn:uuid:86f9ed18-d923-4e5f-90a7-af5565d2e7bd>\n",
      "WARC-IP-Address: 192.229.64.48\n",
      "WARC-Target-URI: http://01rt.allstarpestprofessionalstx.com/waibao.html?nid=10&id=102\n",
      "WARC-Protocol: http/1.1\n",
      "WARC-Payload-Digest: sha1:3I42H3S6NNFQ2MSVX7XZKYAYSCX5QBYJ\n",
      "WARC-Block-Digest: sha1:OL2BFMGBCWAJMWOWF7A2K4UI4GH5E2ZF\n",
      "WARC-Identified-Payload-Type: text/html\n",
      "\n"
     ]
    }
   ],
   "source": [
    "max_records = 2\n",
    "input_file = cc_dir/warc_files[0]\n",
    "\n",
    "with open(input_file, 'rb') as file_stream:\n",
    "    record_num = 0\n",
    "    for record in ArchiveIterator(file_stream):\n",
    "        if record.rec_type == \"response\":\n",
    "            record_num += 1\n",
    "            print(f\"Record headers: {record.rec_headers}\")\n",
    "        if record_num == max_records: break"
   ]
  },
  {
   "cell_type": "code",
   "execution_count": 7,
   "id": "9cbd42ca-3517-4af9-b64e-36a0e2e801e8",
   "metadata": {},
   "outputs": [],
   "source": [
    "def process_record(record):\n",
    "    \"\"\"Return tuple containing ip, url if record is of response type\"\"\"\n",
    "    if record.rec_type == \"response\":\n",
    "        ip = record.rec_headers.get_header(\"WARC-IP-Address\", \"-\")\n",
    "        url = record.rec_headers.get_header(\"WARC-Target-URI\", \"-\")\n",
    "        return (ip, url)\n",
    "    return None\n",
    "        \n",
    "def process_warc(filepath):\n",
    "    \"\"\"Read WARC file and yield processed records\"\"\"\n",
    "    with open(filepath, 'rb') as stream:\n",
    "        for record in ArchiveIterator(stream):\n",
    "            result = process_record(record)\n",
    "            if result:\n",
    "                yield result"
   ]
  },
  {
   "cell_type": "code",
   "execution_count": 8,
   "id": "cb24d60a-6c31-4686-9726-565bc07a1aa7",
   "metadata": {},
   "outputs": [],
   "source": [
    "data = []\n",
    "for record in process_warc(warc_files[0]):\n",
    "    res = {\"ip\": record[0], \"hostname\": record[1]}\n",
    "    data.append(res)"
   ]
  },
  {
   "cell_type": "code",
   "execution_count": 9,
   "id": "94e05e20-31c0-4a23-820a-390b36c8a218",
   "metadata": {},
   "outputs": [],
   "source": [
    "warciphost_df = spark.createDataFrame([Row(**d) for d in data])"
   ]
  },
  {
   "cell_type": "code",
   "execution_count": 11,
   "id": "d9804ba6-143b-45b9-a228-d310d1c4e149",
   "metadata": {},
   "outputs": [
    {
     "name": "stderr",
     "output_type": "stream",
     "text": [
      "24/08/23 19:06:25 WARN TaskSetManager: Stage 0 contains a task of very large size (1405 KiB). The maximum recommended task size is 1000 KiB.\n",
      "                                                                                \r"
     ]
    },
    {
     "name": "stdout",
     "output_type": "stream",
     "text": [
      "+---------------+--------------------+\n",
      "|             ip|            hostname|\n",
      "+---------------+--------------------+\n",
      "| 107.163.232.92|http://0.furkid.net/|\n",
      "|  192.229.64.48|http://01rt.allst...|\n",
      "|   195.170.8.34|http://0807.syzef...|\n",
      "| 107.190.226.20|http://0krls.9032...|\n",
      "| 172.67.142.198|http://101webtemp...|\n",
      "|   23.108.56.90|http://123any.com...|\n",
      "| 137.184.244.32|http://137.184.24...|\n",
      "| 172.67.198.153|http://16trader.c...|\n",
      "|  220.228.6.123|http://1700866.mk...|\n",
      "|  220.228.6.241|http://1701057.mw...|\n",
      "|    220.228.6.6|http://1746747.ut...|\n",
      "|   61.66.228.75|http://176592.s34...|\n",
      "|  77.232.40.211|http://2012god.ru...|\n",
      "|   198.2.232.33|http://201314zz.c...|\n",
      "|  220.228.6.119|http://2130148.hk...|\n",
      "| 114.118.10.124|http://21cpm.net/...|\n",
      "|107.163.236.251|http://25.lasaqls...|\n",
      "| 208.109.212.43|http://252churcht...|\n",
      "| 208.109.212.43|http://252churcht...|\n",
      "|107.163.212.188|http://3.lennonau...|\n",
      "+---------------+--------------------+\n",
      "only showing top 20 rows\n",
      "\n"
     ]
    }
   ],
   "source": [
    "warciphost_df.show()"
   ]
  },
  {
   "cell_type": "code",
   "execution_count": 11,
   "id": "709ec654-5aee-4596-9a82-cbfe326f306e",
   "metadata": {},
   "outputs": [],
   "source": [
    "# reader.city(\"27.7.108.104\").traits.is_anonymous_proxy,\\\n",
    "# reader.city(\"27.7.108.104\").traits.is_satellite_provider,\\\n",
    "# reader.city(\"27.7.108.104\").traits.is_hosting_provider,\\\n",
    "# reader.city(\"27.7.108.104\").postal.code,\\\n",
    "# reader.city(\"27.7.108.104\").location.latitude,\\\n",
    "# reader.city(\"27.7.108.104\").location.longitude,\\\n",
    "# reader.city(\"27.7.108.104\").location.accuracy_radius,\\\n",
    "# reader.city(\"27.7.108.104\").traits.is_anycast,\\\n",
    "# reader.city(\"27.7.108.104\").continent.code,\\\n",
    "# reader.city(\"27.7.108.104\").continent.name,\\\n",
    "# reader.city(\"27.7.108.104\").country.iso_code,\\\n",
    "# reader.city(\"27.7.108.104\").country.name,\\\n",
    "# reader.city(\"27.7.108.104\").subdivisions[0].iso_code,\\\n",
    "# reader.city(\"27.7.108.104\").subdivisions[0].name,\\\n",
    "# reader.city(\"27.7.108.104\").city.name,\\\n",
    "# reader.city(\"27.7.108.104\").location.metro_code,\\\n",
    "# reader.city(\"27.7.108.104\").location.time_zone,\\\n",
    "# reader.city(\"27.7.108.104\").represented_country.is_in_european_union"
   ]
  },
  {
   "cell_type": "code",
   "execution_count": 12,
   "id": "2d185775-8e13-488c-8faa-79614e2c28fa",
   "metadata": {},
   "outputs": [],
   "source": [
    "import ip_utils\n",
    "reader_broadcast = spark.sparkContext.broadcast(ip_utils.SerializableReader(\"/opt/workspace/datasets/maxmind/GeoLite2-City_20240820/GeoLite2-City.mmdb\"))"
   ]
  },
  {
   "cell_type": "code",
   "execution_count": 13,
   "id": "0f882b35-80a0-4f07-96df-d50c6ac0b849",
   "metadata": {},
   "outputs": [],
   "source": [
    "ip_info_schema = StructType([\n",
    "    StructField(\"is_anonymous_proxy\", BooleanType(), True),\n",
    "    StructField(\"is_satellite_provider\", BooleanType(), True),\n",
    "    StructField(\"is_hosting_provider\", BooleanType(), True),\n",
    "    StructField(\"postal_code\", StringType(), True),\n",
    "    StructField(\"latitude\", FloatType(), True),\n",
    "    StructField(\"longitude\", FloatType(), True),\n",
    "    StructField(\"accuracy_radius\", IntegerType(), True),\n",
    "    StructField(\"is_anycast\", BooleanType(), True),\n",
    "    StructField(\"continent_code\", StringType(), True),\n",
    "    StructField(\"continent_name\", StringType(), True),\n",
    "    StructField(\"country_iso_code\", StringType(), True),\n",
    "    StructField(\"country_name\", StringType(), True),\n",
    "    StructField(\"subdivision_iso_code\", StringType(), True),\n",
    "    StructField(\"subdivision_name\", StringType(), True),\n",
    "    StructField(\"city_name\", StringType(), True),\n",
    "    StructField(\"metro_code\", IntegerType(), True),\n",
    "    StructField(\"time_zone\", StringType(), True),\n",
    "    StructField(\"is_in_european_union\", BooleanType(), True)\n",
    "])"
   ]
  },
  {
   "cell_type": "code",
   "execution_count": 14,
   "id": "b3a078ea-890d-4547-a425-b7b2d7221332",
   "metadata": {},
   "outputs": [],
   "source": [
    "def get_ip_info(ip):\n",
    "    reader = reader_broadcast.value.get_reader()\n",
    "    response = reader.city(ip)\n",
    "    return (\n",
    "        response.traits.is_anonymous_proxy,\n",
    "        response.traits.is_satellite_provider,\n",
    "        response.traits.is_hosting_provider,\n",
    "        response.postal.code,\n",
    "        response.location.latitude,\n",
    "        response.location.longitude,\n",
    "        response.location.accuracy_radius,\n",
    "        response.traits.is_anycast,\n",
    "        response.continent.code,\n",
    "        response.continent.name,\n",
    "        response.country.iso_code,\n",
    "        response.country.name,\n",
    "        response.subdivisions[0].iso_code if response.subdivisions else None,\n",
    "        response.subdivisions[0].name if response.subdivisions else None,\n",
    "        response.city.name,\n",
    "        response.location.metro_code,\n",
    "        response.location.time_zone,\n",
    "        response.represented_country.is_in_european_union\n",
    "    )\n",
    "\n",
    "get_ip_info_udf = udf(get_ip_info, ip_info_schema)"
   ]
  },
  {
   "cell_type": "code",
   "execution_count": 15,
   "id": "d78baeda-126c-4845-bdb4-f50b0ddf1eb6",
   "metadata": {},
   "outputs": [],
   "source": [
    "result_df = warciphost_df.withColumn(\"ip_info\", get_ip_info_udf(\"ip\"))"
   ]
  },
  {
   "cell_type": "code",
   "execution_count": 16,
   "id": "25f0c798-f6fd-4739-91fd-431aa7bb9fbc",
   "metadata": {},
   "outputs": [
    {
     "name": "stderr",
     "output_type": "stream",
     "text": [
      "24/08/23 19:06:35 WARN TaskSetManager: Stage 1 contains a task of very large size (1405 KiB). The maximum recommended task size is 1000 KiB.\n"
     ]
    },
    {
     "name": "stdout",
     "output_type": "stream",
     "text": [
      "+---------------+--------------------+--------------------+\n",
      "|             ip|            hostname|             ip_info|\n",
      "+---------------+--------------------+--------------------+\n",
      "| 107.163.232.92|http://0.furkid.net/|{false, false, fa...|\n",
      "|  192.229.64.48|http://01rt.allst...|{false, false, fa...|\n",
      "|   195.170.8.34|http://0807.syzef...|{false, false, fa...|\n",
      "| 107.190.226.20|http://0krls.9032...|{false, false, fa...|\n",
      "| 172.67.142.198|http://101webtemp...|{false, false, fa...|\n",
      "|   23.108.56.90|http://123any.com...|{false, false, fa...|\n",
      "| 137.184.244.32|http://137.184.24...|{false, false, fa...|\n",
      "| 172.67.198.153|http://16trader.c...|{false, false, fa...|\n",
      "|  220.228.6.123|http://1700866.mk...|{false, false, fa...|\n",
      "|  220.228.6.241|http://1701057.mw...|{false, false, fa...|\n",
      "|    220.228.6.6|http://1746747.ut...|{false, false, fa...|\n",
      "|   61.66.228.75|http://176592.s34...|{false, false, fa...|\n",
      "|  77.232.40.211|http://2012god.ru...|{false, false, fa...|\n",
      "|   198.2.232.33|http://201314zz.c...|{false, false, fa...|\n",
      "|  220.228.6.119|http://2130148.hk...|{false, false, fa...|\n",
      "| 114.118.10.124|http://21cpm.net/...|{false, false, fa...|\n",
      "|107.163.236.251|http://25.lasaqls...|{false, false, fa...|\n",
      "| 208.109.212.43|http://252churcht...|{false, false, fa...|\n",
      "| 208.109.212.43|http://252churcht...|{false, false, fa...|\n",
      "|107.163.212.188|http://3.lennonau...|{false, false, fa...|\n",
      "+---------------+--------------------+--------------------+\n",
      "only showing top 20 rows\n",
      "\n"
     ]
    }
   ],
   "source": [
    "result_df.show()"
   ]
  },
  {
   "cell_type": "code",
   "execution_count": 17,
   "id": "3e672b6d-2157-42b4-8e8e-fd9590c0e3cd",
   "metadata": {},
   "outputs": [],
   "source": [
    "final_df = result_df.select(\"ip\", \"ip_info.*\")"
   ]
  },
  {
   "cell_type": "code",
   "execution_count": 18,
   "id": "b292fa65-0171-41aa-83f5-91dc67144701",
   "metadata": {},
   "outputs": [
    {
     "name": "stderr",
     "output_type": "stream",
     "text": [
      "24/08/23 19:06:41 WARN TaskSetManager: Stage 2 contains a task of very large size (1405 KiB). The maximum recommended task size is 1000 KiB.\n",
      "24/08/23 19:06:42 WARN TaskSetManager: Lost task 0.0 in stage 2.0 (TID 2) (172.18.0.9 executor 0): org.apache.spark.api.python.PythonException: Traceback (most recent call last):\n",
      "  File \"/tmp/ipykernel_2133/425540900.py\", line 2, in get_ip_info\n",
      "  File \"/opt/spark/python/lib/pyspark.zip/pyspark/broadcast.py\", line 279, in value\n",
      "    self._value = self.load_from_path(self._path)\n",
      "                  ^^^^^^^^^^^^^^^^^^^^^^^^^^^^^^^\n",
      "  File \"/opt/spark/python/lib/pyspark.zip/pyspark/broadcast.py\", line 226, in load_from_path\n",
      "    return self.load(f)\n",
      "           ^^^^^^^^^^^^\n",
      "  File \"/opt/spark/python/lib/pyspark.zip/pyspark/broadcast.py\", line 265, in load\n",
      "    gc.enable()\n",
      "  File \"/opt/spark/work/app-20240823190605-0003/0/ip_utils.py\", line 20, in <module>\n",
      "    parser = argparse.ArgumentParser()\n",
      "             ^^^^^^^^\n",
      "NameError: name 'argparse' is not defined\n",
      "\n",
      "\tat org.apache.spark.api.python.BasePythonRunner$ReaderIterator.handlePythonException(PythonRunner.scala:572)\n",
      "\tat org.apache.spark.sql.execution.python.BasePythonUDFRunner$$anon$1.read(PythonUDFRunner.scala:94)\n",
      "\tat org.apache.spark.sql.execution.python.BasePythonUDFRunner$$anon$1.read(PythonUDFRunner.scala:75)\n",
      "\tat org.apache.spark.api.python.BasePythonRunner$ReaderIterator.hasNext(PythonRunner.scala:525)\n",
      "\tat org.apache.spark.InterruptibleIterator.hasNext(InterruptibleIterator.scala:37)\n",
      "\tat scala.collection.Iterator$$anon$11.hasNext(Iterator.scala:491)\n",
      "\tat scala.collection.Iterator$$anon$10.hasNext(Iterator.scala:460)\n",
      "\tat scala.collection.Iterator$$anon$10.hasNext(Iterator.scala:460)\n",
      "\tat org.apache.spark.sql.catalyst.expressions.GeneratedClass$GeneratedIteratorForCodegenStage2.processNext(Unknown Source)\n",
      "\tat org.apache.spark.sql.execution.BufferedRowIterator.hasNext(BufferedRowIterator.java:43)\n",
      "\tat org.apache.spark.sql.execution.WholeStageCodegenEvaluatorFactory$WholeStageCodegenPartitionEvaluator$$anon$1.hasNext(WholeStageCodegenEvaluatorFactory.scala:43)\n",
      "\tat org.apache.spark.sql.execution.SparkPlan.$anonfun$getByteArrayRdd$1(SparkPlan.scala:388)\n",
      "\tat org.apache.spark.rdd.RDD.$anonfun$mapPartitionsInternal$2(RDD.scala:893)\n",
      "\tat org.apache.spark.rdd.RDD.$anonfun$mapPartitionsInternal$2$adapted(RDD.scala:893)\n",
      "\tat org.apache.spark.rdd.MapPartitionsRDD.compute(MapPartitionsRDD.scala:52)\n",
      "\tat org.apache.spark.rdd.RDD.computeOrReadCheckpoint(RDD.scala:367)\n",
      "\tat org.apache.spark.rdd.RDD.iterator(RDD.scala:331)\n",
      "\tat org.apache.spark.scheduler.ResultTask.runTask(ResultTask.scala:93)\n",
      "\tat org.apache.spark.TaskContext.runTaskWithListeners(TaskContext.scala:166)\n",
      "\tat org.apache.spark.scheduler.Task.run(Task.scala:141)\n",
      "\tat org.apache.spark.executor.Executor$TaskRunner.$anonfun$run$4(Executor.scala:620)\n",
      "\tat org.apache.spark.util.SparkErrorUtils.tryWithSafeFinally(SparkErrorUtils.scala:64)\n",
      "\tat org.apache.spark.util.SparkErrorUtils.tryWithSafeFinally$(SparkErrorUtils.scala:61)\n",
      "\tat org.apache.spark.util.Utils$.tryWithSafeFinally(Utils.scala:94)\n",
      "\tat org.apache.spark.executor.Executor$TaskRunner.run(Executor.scala:623)\n",
      "\tat java.base/java.util.concurrent.ThreadPoolExecutor.runWorker(ThreadPoolExecutor.java:1128)\n",
      "\tat java.base/java.util.concurrent.ThreadPoolExecutor$Worker.run(ThreadPoolExecutor.java:628)\n",
      "\tat java.base/java.lang.Thread.run(Thread.java:829)\n",
      "\n"
     ]
    },
    {
     "name": "stdout",
     "output_type": "stream",
     "text": [
      "+---------------+------------------+---------------------+-------------------+-----------+--------+---------+---------------+----------+--------------+--------------+----------------+-------------+--------------------+----------------+---------------+----------+-------------------+--------------------+\n",
      "|             ip|is_anonymous_proxy|is_satellite_provider|is_hosting_provider|postal_code|latitude|longitude|accuracy_radius|is_anycast|continent_code|continent_name|country_iso_code| country_name|subdivision_iso_code|subdivision_name|      city_name|metro_code|          time_zone|is_in_european_union|\n",
      "+---------------+------------------+---------------------+-------------------+-----------+--------+---------+---------------+----------+--------------+--------------+----------------+-------------+--------------------+----------------+---------------+----------+-------------------+--------------------+\n",
      "| 107.163.232.92|             false|                false|              false|       NULL|  37.751|  -97.822|           1000|     false|            NA| North America|              US|United States|                NULL|            NULL|           NULL|      NULL|    America/Chicago|               false|\n",
      "|  192.229.64.48|             false|                false|              false|      90060| 34.0544|-118.2441|           1000|     false|            NA| North America|              US|United States|                  CA|      California|    Los Angeles|       803|America/Los_Angeles|               false|\n",
      "|   195.170.8.34|             false|                false|              false|       NULL| 38.0459|  23.7968|             20|     false|            EU|        Europe|              GR|       Greece|                   I|          Attica|        Marousi|      NULL|      Europe/Athens|               false|\n",
      "| 107.190.226.20|             false|                false|              false|       NULL|  37.751|  -97.822|           1000|     false|            NA| North America|              US|United States|                NULL|            NULL|           NULL|      NULL|    America/Chicago|               false|\n",
      "| 172.67.142.198|             false|                false|              false|       NULL|    NULL|     NULL|           NULL|     false|          NULL|          NULL|            NULL|         NULL|                NULL|            NULL|           NULL|      NULL|               NULL|               false|\n",
      "|   23.108.56.90|             false|                false|              false|      33197| 25.7689| -80.1946|           1000|     false|            NA| North America|              US|United States|                  FL|         Florida|          Miami|       528|   America/New_York|               false|\n",
      "| 137.184.244.32|             false|                false|              false|      95054| 37.3931| -121.962|             20|     false|            NA| North America|              US|United States|                  CA|      California|    Santa Clara|       807|America/Los_Angeles|               false|\n",
      "| 172.67.198.153|             false|                false|              false|       NULL|    NULL|     NULL|           NULL|     false|          NULL|          NULL|            NULL|         NULL|                NULL|            NULL|           NULL|      NULL|               NULL|               false|\n",
      "|  220.228.6.123|             false|                false|              false|       NULL| 25.0613| 121.5705|            100|     false|            AS|          Asia|              TW|       Taiwan|                 NWT| New Taipei City|        Jinshan|      NULL|        Asia/Taipei|               false|\n",
      "|  220.228.6.241|             false|                false|              false|       NULL| 25.0613| 121.5705|            100|     false|            AS|          Asia|              TW|       Taiwan|                 NWT| New Taipei City|        Jinshan|      NULL|        Asia/Taipei|               false|\n",
      "|    220.228.6.6|             false|                false|              false|       NULL| 25.0613| 121.5705|            100|     false|            AS|          Asia|              TW|       Taiwan|                 NWT| New Taipei City|        Jinshan|      NULL|        Asia/Taipei|               false|\n",
      "|   61.66.228.75|             false|                false|              false|       NULL| 24.9466|  121.586|             10|     false|            AS|          Asia|              TW|       Taiwan|                 NWT| New Taipei City|New Taipei City|      NULL|        Asia/Taipei|               false|\n",
      "|  77.232.40.211|             false|                false|              false|       NULL| 55.7386|  37.6068|           1000|     false|            EU|        Europe|              RU|       Russia|                NULL|            NULL|           NULL|      NULL|      Europe/Moscow|               false|\n",
      "|   198.2.232.33|             false|                false|              false|       NULL|  37.751|  -97.822|           1000|     false|            NA| North America|              US|United States|                NULL|            NULL|           NULL|      NULL|    America/Chicago|               false|\n",
      "|  220.228.6.119|             false|                false|              false|       NULL| 25.0613| 121.5705|            100|     false|            AS|          Asia|              TW|       Taiwan|                 NWT| New Taipei City|        Jinshan|      NULL|        Asia/Taipei|               false|\n",
      "| 114.118.10.124|             false|                false|              false|       NULL| 34.7732|  113.722|           1000|     false|            AS|          Asia|              CN|        China|                NULL|            NULL|           NULL|      NULL|      Asia/Shanghai|               false|\n",
      "|107.163.236.251|             false|                false|              false|       NULL|  37.751|  -97.822|           1000|     false|            NA| North America|              US|United States|                NULL|            NULL|           NULL|      NULL|    America/Chicago|               false|\n",
      "| 208.109.212.43|             false|                false|              false|       NULL|  37.751|  -97.822|           1000|     false|            NA| North America|              US|United States|                NULL|            NULL|           NULL|      NULL|    America/Chicago|               false|\n",
      "| 208.109.212.43|             false|                false|              false|       NULL|  37.751|  -97.822|           1000|     false|            NA| North America|              US|United States|                NULL|            NULL|           NULL|      NULL|    America/Chicago|               false|\n",
      "|107.163.212.188|             false|                false|              false|       NULL|  37.751|  -97.822|           1000|     false|            NA| North America|              US|United States|                NULL|            NULL|           NULL|      NULL|    America/Chicago|               false|\n",
      "+---------------+------------------+---------------------+-------------------+-----------+--------+---------+---------------+----------+--------------+--------------+----------------+-------------+--------------------+----------------+---------------+----------+-------------------+--------------------+\n",
      "only showing top 20 rows\n",
      "\n"
     ]
    },
    {
     "name": "stderr",
     "output_type": "stream",
     "text": [
      "24/08/23 19:07:47 WARN BlockManagerMasterEndpoint: No more replicas available for broadcast_1_python !\n"
     ]
    }
   ],
   "source": [
    "final_df.show()"
   ]
  },
  {
   "cell_type": "code",
   "execution_count": null,
   "id": "4aea8a7e-27c0-4829-b6d1-b48656269c60",
   "metadata": {},
   "outputs": [],
   "source": []
  }
 ],
 "metadata": {
  "kernelspec": {
   "display_name": "Python 3 (ipykernel)",
   "language": "python",
   "name": "python3"
  },
  "language_info": {
   "codemirror_mode": {
    "name": "ipython",
    "version": 3
   },
   "file_extension": ".py",
   "mimetype": "text/x-python",
   "name": "python",
   "nbconvert_exporter": "python",
   "pygments_lexer": "ipython3",
   "version": "3.11.9"
  }
 },
 "nbformat": 4,
 "nbformat_minor": 5
}
