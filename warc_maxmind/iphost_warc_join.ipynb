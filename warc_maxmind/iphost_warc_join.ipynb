{
 "cells": [
  {
   "cell_type": "code",
   "execution_count": 2,
   "id": "643f8112-6020-4b05-a30e-a788dc623f40",
   "metadata": {},
   "outputs": [],
   "source": [
    "from warcio.recordloader import ArcWarcRecord\n",
    "\n",
    "from warcio.archiveiterator import ArchiveIterator\n",
    "import os\n",
    "import gzip\n",
    "import shutil\n",
    "from urllib.parse import urlparse\n",
    "from urllib.request import urlretrieve\n",
    "from pyspark.sql.types import StructType, StructField, StringType"
   ]
  },
  {
   "cell_type": "code",
   "execution_count": 3,
   "id": "93cfe07a-47f2-4347-9851-f6a67e90dd06",
   "metadata": {},
   "outputs": [
    {
     "name": "stderr",
     "output_type": "stream",
     "text": [
      "Setting default log level to \"WARN\".\n",
      "To adjust logging level use sc.setLogLevel(newLevel). For SparkR, use setLogLevel(newLevel).\n",
      "24/08/19 17:23:17 WARN NativeCodeLoader: Unable to load native-hadoop library for your platform... using builtin-java classes where applicable\n"
     ]
    }
   ],
   "source": [
    "from pyspark.sql import SparkSession\n",
    "spark = SparkSession.builder \\\n",
    "    .appName(\"iphost-warc\") \\\n",
    "    .master(\"spark://spark-master:7077\") \\\n",
    "    .config(\"spark.executor.cores\", 1) \\\n",
    "    .config(\"spark.dynamicAllocation.enabled\", \"true\") \\\n",
    "    .config(\"spark.dynamicAllocation.shuffleTracking.enabled\", \"true\") \\\n",
    "    .config(\"spark.dynamicAllocation.initialExecutors\", 3) \\\n",
    "    .config(\"spark.dynamicAllocation.minExecutors\", 0) \\\n",
    "    .config(\"spark.dynamicAllocation.maxExecutors\", 5) \\\n",
    "    .getOrCreate()"
   ]
  },
  {
   "cell_type": "code",
   "execution_count": 4,
   "id": "74fe4cc8-69ed-4cfe-b6fe-4e02a832d650",
   "metadata": {},
   "outputs": [],
   "source": [
    "# Downloads sample warc file and extracts it if not already available\n",
    "\n",
    "warc_url = \"https://data.commoncrawl.org/crawl-data/CC-MAIN-2017-13/segments/1490218186353.38/warc/CC-MAIN-20170322212946-00000-ip-10-233-31-227.ec2.internal.warc.gz\"\n",
    "warcgz_filepath = \"/opt/workspace/datasets/cc-warc/CC-MAIN-20170322212946-00000-ip-10-233-31-227.ec2.internal.warc.gz\"\n",
    "warc_filepath = \".\".join(warcgz_filepath.split(\".\")[:-1])\n",
    "\n",
    "if not os.path.isfile(warc_filepath):\n",
    "    _, _ = urlretrieve(warc_url, warcgz_filepath)\n",
    "    with gzip.open(warcgz_filepath, 'rb') as f_in:\n",
    "        with open(warc_filepath, 'wb') as f_out:\n",
    "            shutil.copyfileobj(f_in, f_out)\n",
    "    os.remove(warcgz_filepath)"
   ]
  },
  {
   "cell_type": "code",
   "execution_count": 5,
   "id": "07fc3636-f47e-4a04-a334-09fa4c962ef4",
   "metadata": {},
   "outputs": [
    {
     "name": "stdout",
     "output_type": "stream",
     "text": [
      "Record types:  {'request', 'warcinfo', 'response', 'metadata'}\n",
      "Content types:  {'application/http; msgtype=request', 'application/warc-fields', 'application/http; msgtype=response'}\n"
     ]
    }
   ],
   "source": [
    "rtypes = set()\n",
    "ctypes = set()\n",
    "with open(warc_filepath, 'rb') as stream:\n",
    "    for i,record in enumerate(ArchiveIterator(stream)):\n",
    "        rtypes.add(record.rec_type)\n",
    "        ctypes.add(record.content_type)\n",
    "\n",
    "print(\"Record types: \", rtypes)\n",
    "print(\"Content types: \", ctypes)"
   ]
  },
  {
   "cell_type": "code",
   "execution_count": 10,
   "id": "9628b5a5-a61f-4e44-aa04-268676ed7652",
   "metadata": {},
   "outputs": [
    {
     "name": "stdout",
     "output_type": "stream",
     "text": [
      "WARC/1.0\n",
      "WARC-Type: response\n",
      "WARC-Date: 2017-03-22T22:16:45Z\n",
      "WARC-Record-ID: <urn:uuid:1eba28d7-5c50-4520-a58b-b18bb9691201>\n",
      "Content-Length: 36415\n",
      "Content-Type: application/http; msgtype=response\n",
      "WARC-Warcinfo-ID: <urn:uuid:c9737a57-b812-4c1c-b82c-66f820799890>\n",
      "WARC-Concurrent-To: <urn:uuid:b0f277a6-5b6a-45dc-a17a-dbf2bd24f959>\n",
      "WARC-IP-Address: 104.244.98.64\n",
      "WARC-Target-URI: http://00ena00.blog.fc2.com/?tag=SL\n",
      "WARC-Payload-Digest: sha1:W2ZCZ4N7UPYD3SIOVWQQVJ7RVIEJNQ6A\n",
      "WARC-Block-Digest: sha1:OCC7ULZJRWXPVVMQNRLNOQ7KY5BH46HQ\n",
      "\n"
     ]
    }
   ],
   "source": [
    "temp_record = None\n",
    "with open(warc_filepath, 'rb') as stream:\n",
    "    for i,record in enumerate(ArchiveIterator(stream)):\n",
    "        if record.rec_type == \"response\":\n",
    "            temp_record = record\n",
    "            print(record.rec_headers)\n",
    "            break"
   ]
  },
  {
   "cell_type": "code",
   "execution_count": 11,
   "id": "0471d86c-9a62-49df-840b-58b2b3de0089",
   "metadata": {},
   "outputs": [
    {
     "name": "stdout",
     "output_type": "stream",
     "text": [
      "104.244.98.64 http://00ena00.blog.fc2.com/?tag=SL\n"
     ]
    }
   ],
   "source": [
    "def get_header(record: ArcWarcRecord, header: str):\n",
    "    \"\"\"Utility function to get header\"\"\"\n",
    "    return record.rec_headers.get_header(header, \"na\")\n",
    "\n",
    "ip = get_header(temp_record, \"WARC-IP-Address\")\n",
    "url = get_header(temp_record, \"WARC-Target-URI\")\n",
    "\n",
    "print(ip, url)"
   ]
  },
  {
   "cell_type": "code",
   "execution_count": 12,
   "id": "ce0a95f1-e599-4cbb-ba72-2184215d0890",
   "metadata": {},
   "outputs": [
    {
     "data": {
      "text/plain": [
       "'00ena00.blog.fc2.com'"
      ]
     },
     "execution_count": 12,
     "metadata": {},
     "output_type": "execute_result"
    }
   ],
   "source": [
    "urlparse(url).hostname"
   ]
  },
  {
   "cell_type": "code",
   "execution_count": 13,
   "id": "a5cea3dc-6f32-4395-9862-bf537a8b64d4",
   "metadata": {},
   "outputs": [],
   "source": [
    "def process_record(record):\n",
    "    \"\"\"Get ip and url headers\"\"\"\n",
    "    ip = get_header(record, \"WARC-IP-Address\")\n",
    "    url = get_header(record, \"WARC-Target-URI\")\n",
    "    return ip, url\n",
    "\n",
    "def process_warc(filepath):\n",
    "    \"\"\"Yield tuple containing ip, url if record is of response type\"\"\"\n",
    "    with open(filepath, 'rb') as stream:\n",
    "        for record in ArchiveIterator(stream):\n",
    "            if record.rec_type == \"response\":\n",
    "                res = process_record(record)\n",
    "                yield res\n",
    "\n",
    "def proc_wrapper(_id, iterator):\n",
    "    \"\"\"Wrapper function for `process_warc` to handle multiple `warc` files\"\"\"\n",
    "    for filepath in iterator:\n",
    "        for res in process_warc(filepath):\n",
    "            yield res"
   ]
  },
  {
   "cell_type": "code",
   "execution_count": 14,
   "id": "2692ba9a-5e23-4fdc-ad28-43acdabf98ac",
   "metadata": {},
   "outputs": [],
   "source": [
    "output_schema = StructType([\n",
    "    StructField(\"ip\", StringType(), True),\n",
    "    StructField(\"host\", StringType(), True)\n",
    "])"
   ]
  },
  {
   "cell_type": "code",
   "execution_count": 15,
   "id": "53334b0a-cf1f-4873-a934-d49b8d3fc3a5",
   "metadata": {},
   "outputs": [],
   "source": [
    "data_files = spark.sparkContext.textFile(\"paths.txt\")\n",
    "output = data_files.mapPartitionsWithIndex(proc_wrapper)"
   ]
  },
  {
   "cell_type": "code",
   "execution_count": 16,
   "id": "28919fdd-92ff-4bee-85da-5b4be44868fc",
   "metadata": {},
   "outputs": [
    {
     "name": "stderr",
     "output_type": "stream",
     "text": [
      "                                                                                \r"
     ]
    },
    {
     "data": {
      "text/plain": [
       "[('107.163.232.92', 'http://0.furkid.net/'),\n",
       " ('192.229.64.48',\n",
       "  'http://01rt.allstarpestprofessionalstx.com/waibao.html?nid=10&id=102'),\n",
       " ('195.170.8.34',\n",
       "  'http://0807.syzefxis.gov.gr/%CF%80%CF%81%CE%BF%CF%83%CE%BA%CE%BB%CE%B7%CF%83%CE%B7-%CF%83%CF%85%CE%B3%CE%BA%CE%BB%CE%B7%CF%83%CE%B7%CF%83-%CE%B4%CE%B7%CE%BC%CE%BF%CF%84%CE%B9%CE%BA%CE%BF%CF%85-%CF%83%CF%85%CE%BC%CE%B2%CE%BF-28/'),\n",
       " ('107.190.226.20', 'http://0krls.9032666.com/appset/detail/96ytw4ScD'),\n",
       " ('172.67.142.198',\n",
       "  'http://101webtemplate.com/entity/rhapsodic722064336.html')]"
      ]
     },
     "execution_count": 16,
     "metadata": {},
     "output_type": "execute_result"
    }
   ],
   "source": [
    "output.collect()[:5]"
   ]
  },
  {
   "cell_type": "code",
   "execution_count": 23,
   "id": "fb0d06a0-6530-4d8d-99fa-69be4c9b4ddc",
   "metadata": {},
   "outputs": [
    {
     "name": "stdout",
     "output_type": "stream",
     "text": [
      "+---------------+----------------------------------------------------------------------------------------------------------------------------+\n",
      "|ip             |host                                                                                                                        |\n",
      "+---------------+----------------------------------------------------------------------------------------------------------------------------+\n",
      "|104.244.98.64  |http://00ena00.blog.fc2.com/?tag=SL                                                                                         |\n",
      "|104.244.98.63  |http://00pon00.blog130.fc2.com/?xml                                                                                         |\n",
      "|104.244.98.65  |http://00pon00.blog130.fc2.com/blog-category-8.html                                                                         |\n",
      "|136.243.111.229|http://03online.com/news/dvizhenie_pod_kozhey/2016-1-3-128710                                                               |\n",
      "|136.243.111.229|http://03online.com/news/nasmork_pri_beremennosti/2015-1-7-55761                                                            |\n",
      "|136.243.111.229|http://03online.com/news/pomogite_pozhaluysta_razobratsya/2016-8-23-192913                                                  |\n",
      "|136.243.111.229|http://03online.com/news/pyu_mnogo_vody_zabolela_pochka/2014-10-9-40428                                                     |\n",
      "|136.243.111.229|http://03online.com/news/zheltaya_kozha_litsa_i_shelusheniya/2014-3-30-17340                                                |\n",
      "|213.155.18.48  |http://08.od.ua/nedvizhimost_arenda_prodazha_oformlenie/agentstvo_nedvizhimosti/tv_dom_televizionnoe_agentstvo_nedvizhimosti|\n",
      "|213.155.18.48  |http://08.od.ua/otdyh_i_razvlecheniya/restoran/dyukovskiy_restoran                                                          |\n",
      "|213.155.18.48  |http://08.od.ua/paolo_conte_paulo_konte_magazin                                                                             |\n",
      "|213.155.18.48  |http://08.od.ua/stanislav_bud/contacts                                                                                      |\n",
      "|104.244.98.62  |http://09pilgrim.blog.fc2.com/img/DSC_0072.jpg/                                                                             |\n",
      "|172.217.7.193  |http://0baby.blogspot.com/2008/11/blog-post_18.html                                                                         |\n",
      "|138.201.16.125 |http://0lik.ru/cliparts/clipartfoto/128020-stock-photo-panoramas-of-european-cities.html                                    |\n",
      "|138.201.16.125 |http://0lik.ru/cliparts/clipartvector/253424-seamless-patterns-in-vector-besshovnye-vektornye-uzory.html                    |\n",
      "|138.201.16.125 |http://0lik.ru/templates/frame-for-photos/182092-ramka-dlya-foto-rozovyj-lotos-i-strekoza.html                              |\n",
      "|138.201.16.125 |http://0lik.ru/templates/othert/241992-3-real-estate-business-card-templates-psd.html                                       |\n",
      "|185.103.37.43  |http://1000seeds.info/wordpress/produkt/vanilla-cannamed-feminisierte-samen/vanilla-cannamed-feminisierte-samen-4/          |\n",
      "|185.99.11.75   |http://1001.ru/articles/post/ai-da-tumin-443                                                                                |\n",
      "+---------------+----------------------------------------------------------------------------------------------------------------------------+\n",
      "only showing top 20 rows\n",
      "\n"
     ]
    }
   ],
   "source": [
    "df = spark.createDataFrame(output, schema=output_schema)\n",
    "df.show(truncate=False)"
   ]
  },
  {
   "cell_type": "code",
   "execution_count": null,
   "id": "8d236a50-30b1-4bab-9c3f-6e9d60d2126c",
   "metadata": {},
   "outputs": [],
   "source": []
  }
 ],
 "metadata": {
  "kernelspec": {
   "display_name": "Python 3 (ipykernel)",
   "language": "python",
   "name": "python3"
  },
  "language_info": {
   "codemirror_mode": {
    "name": "ipython",
    "version": 3
   },
   "file_extension": ".py",
   "mimetype": "text/x-python",
   "name": "python",
   "nbconvert_exporter": "python",
   "pygments_lexer": "ipython3",
   "version": "3.11.9"
  }
 },
 "nbformat": 4,
 "nbformat_minor": 5
}
