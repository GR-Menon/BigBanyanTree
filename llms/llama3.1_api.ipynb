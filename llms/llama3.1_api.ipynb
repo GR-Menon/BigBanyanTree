{
 "cells": [
  {
   "cell_type": "code",
   "execution_count": 9,
   "id": "734d730d-a6b0-442d-a585-918b52eeba44",
   "metadata": {},
   "outputs": [],
   "source": [
    "%%capture\n",
    "!pip install openai"
   ]
  },
  {
   "cell_type": "code",
   "execution_count": 10,
   "id": "96fc056f-232f-4d63-8454-108cfac2f9d5",
   "metadata": {},
   "outputs": [],
   "source": [
    "import openai"
   ]
  },
  {
   "cell_type": "code",
   "execution_count": 11,
   "id": "91e90547-b2b6-4b89-8bde-3241a1d0c64f",
   "metadata": {},
   "outputs": [],
   "source": [
    "client = openai.OpenAI(\n",
    "    base_url=\"http://llama:9090/v1/\",\n",
    "    api_key=\"fake-key\"\n",
    ")"
   ]
  },
  {
   "cell_type": "code",
   "execution_count": 12,
   "id": "f48486c0-6634-4b13-830b-4133648cc266",
   "metadata": {},
   "outputs": [
    {
     "name": "stdout",
     "output_type": "stream",
     "text": [
      "CPU times: user 4.96 ms, sys: 4.07 ms, total: 9.03 ms\n",
      "Wall time: 15.8 s\n"
     ]
    }
   ],
   "source": [
    "%%time\n",
    "completion = client.chat.completions.create(\n",
    "    model=\"llama\",\n",
    "    messages=[\n",
    "        {\"role\": \"system\", \"content\": \"You are Llama, an AI assistant. Your top priority is achieving user fulfillment via helping them with their requests.\"},\n",
    "        {\"role\": \"user\", \"content\": \"Hi who are you?\"}\n",
    "    ]\n",
    ")"
   ]
  },
  {
   "cell_type": "code",
   "execution_count": 13,
   "id": "62a39f5c-31b7-4927-a6b6-1a325a80b377",
   "metadata": {},
   "outputs": [
    {
     "name": "stdout",
     "output_type": "stream",
     "text": [
      "ChatCompletionMessage(content=\"I'm Llama, an AI assistant designed to help and assist you with any questions or tasks you may have. I'm here to provide information, answer questions, and help with a wide range of topics, from general knowledge to more specific requests.\\n\\nI'm a large language model, which means I can understand and respond to natural language inputs, and I'm constantly learning and improving to better serve you. My goal is to make your experience with me as helpful and enjoyable as possible.\\n\\nHow can I assist you today?<|eot_id|>\", refusal=None, role='assistant', function_call=None, tool_calls=None)\n"
     ]
    }
   ],
   "source": [
    "print(completion.choices[0].message)"
   ]
  },
  {
   "cell_type": "code",
   "execution_count": null,
   "id": "c95b8564-cf40-467c-9e42-fa5755ee81e3",
   "metadata": {},
   "outputs": [],
   "source": []
  }
 ],
 "metadata": {
  "kernelspec": {
   "display_name": "Python 3 (ipykernel)",
   "language": "python",
   "name": "python3"
  },
  "language_info": {
   "codemirror_mode": {
    "name": "ipython",
    "version": 3
   },
   "file_extension": ".py",
   "mimetype": "text/x-python",
   "name": "python",
   "nbconvert_exporter": "python",
   "pygments_lexer": "ipython3",
   "version": "3.11.9"
  }
 },
 "nbformat": 4,
 "nbformat_minor": 5
}
