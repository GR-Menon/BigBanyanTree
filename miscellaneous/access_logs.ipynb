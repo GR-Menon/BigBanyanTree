{
 "cells": [
  {
   "cell_type": "code",
   "execution_count": 1,
   "id": "4b50d1fe-db77-4928-94d3-762e8cac2746",
   "metadata": {
    "scrolled": true
   },
   "outputs": [
    {
     "name": "stderr",
     "output_type": "stream",
     "text": [
      "Setting default log level to \"WARN\".\n",
      "To adjust logging level use sc.setLogLevel(newLevel). For SparkR, use setLogLevel(newLevel).\n",
      "24/08/19 16:28:50 WARN NativeCodeLoader: Unable to load native-hadoop library for your platform... using builtin-java classes where applicable\n"
     ]
    }
   ],
   "source": [
    "from pyspark.sql import SparkSession\n",
    "spark = SparkSession.builder \\\n",
    "    .appName(\"access-logs\") \\\n",
    "    .master(\"spark://spark-master:7077\") \\\n",
    "    .config(\"spark.executor.memory\", \"1g\") \\\n",
    "    .config(\"spark.executor.cores\", 1) \\\n",
    "    .config(\"spark.dynamicAllocation.enabled\", \"true\") \\\n",
    "    .config(\"spark.dynamicAllocation.shuffleTracking.enabled\", \"true\") \\\n",
    "    .config(\"spark.dynamicAllocation.initialExecutors\", 2) \\\n",
    "    .config(\"spark.dynamicAllocation.minExecutors\", 0) \\\n",
    "    .config(\"spark.dynamicAllocation.maxExecutors\", 6) \\\n",
    "    .getOrCreate()"
   ]
  },
  {
   "cell_type": "code",
   "execution_count": 2,
   "id": "ab3885cc-4bb3-4497-811e-4d6e3ee952cf",
   "metadata": {},
   "outputs": [],
   "source": [
    "from pyspark.sql.functions import regexp_extract, col, to_timestamp\n",
    "from pyspark.sql.types import LongType, TimestampType\n",
    "\n",
    "import re\n",
    "import os\n",
    "import time\n",
    "from tqdm import tqdm"
   ]
  },
  {
   "cell_type": "code",
   "execution_count": 3,
   "id": "aa2e58e8-6f79-4c4f-b7e8-9d1f03290ee1",
   "metadata": {},
   "outputs": [],
   "source": [
    "log_file_path = \"/opt/workspace/datasets/web-logs/access.log\"\n",
    "\n",
    "combined_regex = r'^(\\S+) \\S+ (\\S+) \\[([^\\]]+)\\] \"([A-Z]+) ([^ \"]+)? HTTP/[0-9.]+\" ([0-9]{3}) ([0-9]+|-) \"([^\"]*)\" \"([^\"]*)'\n",
    "columns = ['client', 'userid', 'datetime', 'method', 'request', 'status', 'size', 'referer', 'user_agent']"
   ]
  },
  {
   "cell_type": "code",
   "execution_count": 4,
   "id": "b29ea4c5-6bae-45b1-a5d7-e56e4ad276a5",
   "metadata": {},
   "outputs": [],
   "source": [
    "web_logs = spark.read.text(log_file_path)"
   ]
  },
  {
   "cell_type": "code",
   "execution_count": 21,
   "id": "6d7925ee-5734-4c51-99db-b988e935db82",
   "metadata": {},
   "outputs": [],
   "source": [
    "web_logs_raw = web_logs.select(\n",
    "    regexp_extract(\"value\", combined_regex, 1).alias(columns[0]),\n",
    "    regexp_extract(\"value\", combined_regex, 2).alias(columns[1]),\n",
    "    regexp_extract(\"value\", combined_regex, 3).alias(columns[2]),\n",
    "    regexp_extract(\"value\", combined_regex, 4).alias(columns[3]),\n",
    "    regexp_extract(\"value\", combined_regex, 5).alias(columns[4]),\n",
    "    regexp_extract(\"value\", combined_regex, 6).alias(columns[5]),\n",
    "    regexp_extract(\"value\", combined_regex, 7).alias(columns[6]),\n",
    "    regexp_extract(\"value\", combined_regex, 8).alias(columns[7]),\n",
    "    regexp_extract(\"value\", combined_regex, 9).alias(columns[8]),\n",
    ")"
   ]
  },
  {
   "cell_type": "code",
   "execution_count": 20,
   "id": "f5f76ae9-43d9-4963-9b6d-b50fdb38c000",
   "metadata": {},
   "outputs": [
    {
     "name": "stdout",
     "output_type": "stream",
     "text": [
      "+-------------+------+--------------------------+------+----------------------------------------------------------------------------------------------------------------------------------------------------------------------+------+-----+-----------------------------------+----------------------------------------------------------------------------------------------------------------------------------------------+\n",
      "|client       |userid|datetime                  |method|request                                                                                                                                                               |status|size |referer                            |user_agent                                                                                                                                    |\n",
      "+-------------+------+--------------------------+------+----------------------------------------------------------------------------------------------------------------------------------------------------------------------+------+-----+-----------------------------------+----------------------------------------------------------------------------------------------------------------------------------------------+\n",
      "|54.36.149.41 |-     |22/Jan/2019:03:56:14 +0330|GET   |/filter/27|13%20%D9%85%DA%AF%D8%A7%D9%BE%DB%8C%DA%A9%D8%B3%D9%84,27|%DA%A9%D9%85%D8%AA%D8%B1%20%D8%A7%D8%B2%205%20%D9%85%DA%AF%D8%A7%D9%BE%DB%8C%DA%A9%D8%B3%D9%84,p53|200   |30577|-                                  |Mozilla/5.0 (compatible; AhrefsBot/6.1; +http://ahrefs.com/robot/)                                                                            |\n",
      "|31.56.96.51  |-     |22/Jan/2019:03:56:16 +0330|GET   |/image/60844/productModel/200x200                                                                                                                                     |200   |5667 |https://www.zanbil.ir/m/filter/b113|Mozilla/5.0 (Linux; Android 6.0; ALE-L21 Build/HuaweiALE-L21) AppleWebKit/537.36 (KHTML, like Gecko) Chrome/66.0.3359.158 Mobile Safari/537.36|\n",
      "|31.56.96.51  |-     |22/Jan/2019:03:56:16 +0330|GET   |/image/61474/productModel/200x200                                                                                                                                     |200   |5379 |https://www.zanbil.ir/m/filter/b113|Mozilla/5.0 (Linux; Android 6.0; ALE-L21 Build/HuaweiALE-L21) AppleWebKit/537.36 (KHTML, like Gecko) Chrome/66.0.3359.158 Mobile Safari/537.36|\n",
      "|40.77.167.129|-     |22/Jan/2019:03:56:17 +0330|GET   |/image/14925/productModel/100x100                                                                                                                                     |200   |1696 |-                                  |Mozilla/5.0 (compatible; bingbot/2.0; +http://www.bing.com/bingbot.htm)                                                                       |\n",
      "|91.99.72.15  |-     |22/Jan/2019:03:56:17 +0330|GET   |/product/31893/62100/%D8%B3%D8%B4%D9%88%D8%A7%D8%B1-%D8%AE%D8%A7%D9%86%DA%AF%DB%8C-%D9%BE%D8%B1%D9%86%D8%B3%D9%84%DB%8C-%D9%85%D8%AF%D9%84-PR257AT                    |200   |41483|-                                  |Mozilla/5.0 (Windows NT 6.2; Win64; x64; rv:16.0)Gecko/16.0 Firefox/16.0                                                                      |\n",
      "+-------------+------+--------------------------+------+----------------------------------------------------------------------------------------------------------------------------------------------------------------------+------+-----+-----------------------------------+----------------------------------------------------------------------------------------------------------------------------------------------+\n",
      "only showing top 5 rows\n",
      "\n"
     ]
    }
   ],
   "source": [
    "web_logs_raw.show(n=5, truncate=False)"
   ]
  },
  {
   "cell_type": "code",
   "execution_count": 7,
   "id": "81e84b81-8e1e-4c12-a342-0829324b8007",
   "metadata": {},
   "outputs": [
    {
     "name": "stderr",
     "output_type": "stream",
     "text": [
      "                                                                                \r"
     ]
    },
    {
     "data": {
      "text/plain": [
       "10365152"
      ]
     },
     "execution_count": 7,
     "metadata": {},
     "output_type": "execute_result"
    }
   ],
   "source": [
    "web_logs_raw.count()"
   ]
  },
  {
   "cell_type": "code",
   "execution_count": 22,
   "id": "28fbb178-eeff-4aa6-b008-153a57ad61ad",
   "metadata": {},
   "outputs": [
    {
     "name": "stderr",
     "output_type": "stream",
     "text": [
      "[Stage 16:=====================================================>  (26 + 1) / 27]\r"
     ]
    },
    {
     "name": "stdout",
     "output_type": "stream",
     "text": [
      "Num empty rows:  287\n"
     ]
    },
    {
     "name": "stderr",
     "output_type": "stream",
     "text": [
      "                                                                                \r"
     ]
    }
   ],
   "source": [
    "condition = col(columns[0]) == ''\n",
    "for column in columns[1:]:\n",
    "    condition &= col(column) == ''\n",
    "    \n",
    "print(\"Num empty rows: \", web_logs_raw.filter(condition).count())\n",
    "\n",
    "web_logs_df =  web_logs_raw.filter(~condition)"
   ]
  },
  {
   "cell_type": "code",
   "execution_count": 8,
   "id": "8b32b038-c903-4064-a4d5-6337ab562b04",
   "metadata": {},
   "outputs": [],
   "source": [
    "condition = col(columns[0]) == ''\n",
    "for column in columns[1:]:\n",
    "    condition &= col(column) == ''"
   ]
  },
  {
   "cell_type": "code",
   "execution_count": 9,
   "id": "d09cc48a-2b21-4890-98e3-2d69d451c492",
   "metadata": {},
   "outputs": [
    {
     "name": "stderr",
     "output_type": "stream",
     "text": [
      "                                                                                \r"
     ]
    },
    {
     "data": {
      "text/plain": [
       "287"
      ]
     },
     "execution_count": 9,
     "metadata": {},
     "output_type": "execute_result"
    }
   ],
   "source": [
    "web_logs_raw.filter(condition).count()"
   ]
  },
  {
   "cell_type": "code",
   "execution_count": 10,
   "id": "d4725b8d-9642-468d-8f5b-ef0afa5950ae",
   "metadata": {},
   "outputs": [],
   "source": [
    "web_logs_df =  web_logs_raw.filter(~condition)"
   ]
  },
  {
   "cell_type": "code",
   "execution_count": 11,
   "id": "fdf6f0f7-de26-4f4c-a027-0cd55ba32ff6",
   "metadata": {},
   "outputs": [
    {
     "name": "stderr",
     "output_type": "stream",
     "text": [
      "                                                                                \r"
     ]
    },
    {
     "data": {
      "text/plain": [
       "10364865"
      ]
     },
     "execution_count": 11,
     "metadata": {},
     "output_type": "execute_result"
    }
   ],
   "source": [
    "web_logs_df.count()"
   ]
  },
  {
   "cell_type": "code",
   "execution_count": 12,
   "id": "6c3d102c-d88d-45a7-95fe-c8d06635241f",
   "metadata": {},
   "outputs": [
    {
     "name": "stdout",
     "output_type": "stream",
     "text": [
      "+--------------------------+\n",
      "|datetime                  |\n",
      "+--------------------------+\n",
      "|22/Jan/2019:03:56:14 +0330|\n",
      "+--------------------------+\n",
      "\n"
     ]
    }
   ],
   "source": [
    "web_logs_df.select(\"datetime\").filter(\"client = '54.36.149.41'\").limit(1).show(truncate=False)"
   ]
  },
  {
   "cell_type": "code",
   "execution_count": 13,
   "id": "17277b91-079e-4e03-a7c4-c7a53a77c606",
   "metadata": {},
   "outputs": [
    {
     "name": "stdout",
     "output_type": "stream",
     "text": [
      "root\n",
      " |-- client: string (nullable = true)\n",
      " |-- userid: string (nullable = true)\n",
      " |-- datetime: string (nullable = true)\n",
      " |-- method: string (nullable = true)\n",
      " |-- request: string (nullable = true)\n",
      " |-- status: string (nullable = true)\n",
      " |-- size: string (nullable = true)\n",
      " |-- referer: string (nullable = true)\n",
      " |-- user_agent: string (nullable = true)\n",
      "\n"
     ]
    }
   ],
   "source": [
    "web_logs_df.printSchema()"
   ]
  },
  {
   "cell_type": "code",
   "execution_count": 14,
   "id": "1a923a4f-886b-47ec-8b4d-36bfaf123142",
   "metadata": {},
   "outputs": [],
   "source": [
    "web_logs_df = web_logs_df.withColumn(\"status\", col(\"status\").cast(LongType())) \\\n",
    "            .withColumn(\"size\", col(\"size\").cast(LongType())) \\\n",
    "            .withColumn(\"datetime\", to_timestamp(col(\"datetime\"), 'dd/MMM/yyyy:HH:mm:ss x'))"
   ]
  },
  {
   "cell_type": "code",
   "execution_count": 15,
   "id": "6123366d-2af6-4f47-a752-4895e762de56",
   "metadata": {},
   "outputs": [
    {
     "name": "stdout",
     "output_type": "stream",
     "text": [
      "root\n",
      " |-- client: string (nullable = true)\n",
      " |-- userid: string (nullable = true)\n",
      " |-- datetime: timestamp (nullable = true)\n",
      " |-- method: string (nullable = true)\n",
      " |-- request: string (nullable = true)\n",
      " |-- status: long (nullable = true)\n",
      " |-- size: long (nullable = true)\n",
      " |-- referer: string (nullable = true)\n",
      " |-- user_agent: string (nullable = true)\n",
      "\n"
     ]
    }
   ],
   "source": [
    "web_logs_df.printSchema()"
   ]
  },
  {
   "cell_type": "code",
   "execution_count": 16,
   "id": "bc6c098a-bea4-4d86-a049-95f310e37f56",
   "metadata": {},
   "outputs": [
    {
     "name": "stdout",
     "output_type": "stream",
     "text": [
      "+-------------+------+-------------------+------+--------------------+------+-----+--------------------+--------------------+\n",
      "|       client|userid|           datetime|method|             request|status| size|             referer|          user_agent|\n",
      "+-------------+------+-------------------+------+--------------------+------+-----+--------------------+--------------------+\n",
      "| 54.36.149.41|     -|2019-01-22 00:26:14|   GET|/filter/27|13%20%...|   200|30577|                   -|Mozilla/5.0 (comp...|\n",
      "|  31.56.96.51|     -|2019-01-22 00:26:16|   GET|/image/60844/prod...|   200| 5667|https://www.zanbi...|Mozilla/5.0 (Linu...|\n",
      "|  31.56.96.51|     -|2019-01-22 00:26:16|   GET|/image/61474/prod...|   200| 5379|https://www.zanbi...|Mozilla/5.0 (Linu...|\n",
      "|40.77.167.129|     -|2019-01-22 00:26:17|   GET|/image/14925/prod...|   200| 1696|                   -|Mozilla/5.0 (comp...|\n",
      "|  91.99.72.15|     -|2019-01-22 00:26:17|   GET|/product/31893/62...|   200|41483|                   -|Mozilla/5.0 (Wind...|\n",
      "|40.77.167.129|     -|2019-01-22 00:26:17|   GET|/image/23488/prod...|   200| 2654|                   -|Mozilla/5.0 (comp...|\n",
      "|40.77.167.129|     -|2019-01-22 00:26:18|   GET|/image/45437/prod...|   200| 3688|                   -|Mozilla/5.0 (comp...|\n",
      "|40.77.167.129|     -|2019-01-22 00:26:18|   GET|/image/576/articl...|   200|14776|                   -|Mozilla/5.0 (comp...|\n",
      "|66.249.66.194|     -|2019-01-22 00:26:18|   GET|/filter/b41,b665,...|   200|34277|                   -|Mozilla/5.0 (comp...|\n",
      "|40.77.167.129|     -|2019-01-22 00:26:18|   GET|/image/57710/prod...|   200| 1695|                   -|Mozilla/5.0 (comp...|\n",
      "|207.46.13.136|     -|2019-01-22 00:26:18|   GET|      /product/10214|   200|39677|                   -|Mozilla/5.0 (comp...|\n",
      "|40.77.167.129|     -|2019-01-22 00:26:19|   GET|/image/578/articl...|   200| 9831|                   -|Mozilla/5.0 (comp...|\n",
      "|178.253.33.51|     -|2019-01-22 00:26:19|   GET|/m/product/32574/...|   200|20406|https://www.zanbi...|Mozilla/5.0 (Linu...|\n",
      "|40.77.167.129|     -|2019-01-22 00:26:19|   GET|/image/6229/produ...|   200| 1796|                   -|Mozilla/5.0 (comp...|\n",
      "|  91.99.72.15|     -|2019-01-22 00:26:19|   GET|/product/10075/13...|   200|41725|                   -|Mozilla/5.0 (X11;...|\n",
      "|40.77.167.129|     -|2019-01-22 00:26:19|   GET|/image/6229/produ...|   200| 2739|                   -|Mozilla/5.0 (comp...|\n",
      "|207.46.13.136|     -|2019-01-22 00:26:19|   GET|      /product/14926|   404|33617|                   -|Mozilla/5.0 (comp...|\n",
      "|40.77.167.129|     -|2019-01-22 00:26:19|   GET|/image/6248/produ...|   200| 2788|                   -|Mozilla/5.0 (comp...|\n",
      "|40.77.167.129|     -|2019-01-22 00:26:20|   GET|/image/64815/prod...|   200| 3481|                   -|Mozilla/5.0 (comp...|\n",
      "|66.249.66.194|     -|2019-01-22 00:26:20|   GET|     /m/filter/b2,p6|   200|19451|                   -|Mozilla/5.0 (Linu...|\n",
      "+-------------+------+-------------------+------+--------------------+------+-----+--------------------+--------------------+\n",
      "only showing top 20 rows\n",
      "\n"
     ]
    }
   ],
   "source": [
    "web_logs_df.show()"
   ]
  },
  {
   "cell_type": "code",
   "execution_count": 17,
   "id": "11b0e82b-831e-401e-82d7-3496b368190a",
   "metadata": {
    "scrolled": true
   },
   "outputs": [
    {
     "name": "stderr",
     "output_type": "stream",
     "text": [
      "[Stage 12:===================================================>    (25 + 2) / 27]\r"
     ]
    },
    {
     "name": "stdout",
     "output_type": "stream",
     "text": [
      "+-------------+------+-------------------+------+--------------------+------+----+--------------------+--------------------+\n",
      "|       client|userid|           datetime|method|             request|status|size|             referer|          user_agent|\n",
      "+-------------+------+-------------------+------+--------------------+------+----+--------------------+--------------------+\n",
      "|192.15.51.231|     -|2019-01-26 16:59:13|   GET|/image/267/produc...|   200|3423|https://www.zanbi...|Mozilla/5.0 (Linu...|\n",
      "+-------------+------+-------------------+------+--------------------+------+----+--------------------+--------------------+\n",
      "only showing top 1 row\n",
      "\n"
     ]
    },
    {
     "name": "stderr",
     "output_type": "stream",
     "text": [
      "                                                                                \r"
     ]
    }
   ],
   "source": [
    "web_logs_df.orderBy(\"datetime\", ascending=False).show(n=1)"
   ]
  },
  {
   "cell_type": "code",
   "execution_count": 18,
   "id": "3c24e924-156f-4cce-8799-c6404070d316",
   "metadata": {},
   "outputs": [
    {
     "name": "stderr",
     "output_type": "stream",
     "text": [
      "[Stage 13:=====================================================>  (26 + 1) / 27]\r"
     ]
    },
    {
     "name": "stdout",
     "output_type": "stream",
     "text": [
      "+------------+------+-------------------+------+--------------------+------+-----+-------+--------------------+\n",
      "|      client|userid|           datetime|method|             request|status| size|referer|          user_agent|\n",
      "+------------+------+-------------------+------+--------------------+------+-----+-------+--------------------+\n",
      "|54.36.149.41|     -|2019-01-22 00:26:14|   GET|/filter/27|13%20%...|   200|30577|      -|Mozilla/5.0 (comp...|\n",
      "+------------+------+-------------------+------+--------------------+------+-----+-------+--------------------+\n",
      "only showing top 1 row\n",
      "\n"
     ]
    },
    {
     "name": "stderr",
     "output_type": "stream",
     "text": [
      "                                                                                \r"
     ]
    }
   ],
   "source": [
    "web_logs_df.orderBy(\"datetime\", ascending=True).show(n=1)"
   ]
  },
  {
   "cell_type": "code",
   "execution_count": null,
   "id": "fbf7fce8-3734-40f3-bf60-6b4ff2bfa43a",
   "metadata": {},
   "outputs": [],
   "source": []
  }
 ],
 "metadata": {
  "kernelspec": {
   "display_name": "Python 3 (ipykernel)",
   "language": "python",
   "name": "python3"
  },
  "language_info": {
   "codemirror_mode": {
    "name": "ipython",
    "version": 3
   },
   "file_extension": ".py",
   "mimetype": "text/x-python",
   "name": "python",
   "nbconvert_exporter": "python",
   "pygments_lexer": "ipython3",
   "version": "3.11.9"
  }
 },
 "nbformat": 4,
 "nbformat_minor": 5
}
