{
 "cells": [
  {
   "cell_type": "code",
   "execution_count": 1,
   "id": "54d6b84d-4511-409b-a44c-48c7ea2e0813",
   "metadata": {},
   "outputs": [
    {
     "name": "stdout",
     "output_type": "stream",
     "text": [
      "/opt/workspace\n"
     ]
    }
   ],
   "source": [
    "!pwd"
   ]
  },
  {
   "cell_type": "code",
   "execution_count": 2,
   "id": "7dd33b4b-1d9a-4fd5-9ac3-02462f5e17cf",
   "metadata": {},
   "outputs": [],
   "source": [
    "!mkdir datasets"
   ]
  },
  {
   "cell_type": "code",
   "execution_count": 9,
   "id": "206d1db8-4289-43de-bc98-f1fb9d4d3a19",
   "metadata": {},
   "outputs": [],
   "source": [
    "import os\n",
    "os.chdir(\"datasets\")"
   ]
  },
  {
   "cell_type": "code",
   "execution_count": 4,
   "id": "61eaeb08-bb88-4d83-8fcf-8c0ae68246c5",
   "metadata": {},
   "outputs": [
    {
     "name": "stdout",
     "output_type": "stream",
     "text": [
      "/opt/workspace/datasets\n"
     ]
    }
   ],
   "source": [
    "!pwd"
   ]
  },
  {
   "cell_type": "markdown",
   "id": "93e5fa37-ee8e-4262-b873-ea0ee54449ac",
   "metadata": {},
   "source": [
    "# Web Access Logs Dataset"
   ]
  },
  {
   "cell_type": "code",
   "execution_count": 5,
   "id": "cf747749-0672-4506-bef2-376d41c770e7",
   "metadata": {},
   "outputs": [],
   "source": [
    "!mkdir web-logs\n",
    "os.chdir(\"web-logs\")"
   ]
  },
  {
   "cell_type": "code",
   "execution_count": 7,
   "id": "6a6e9f35-30fb-41f3-ab5b-232c539ed0e8",
   "metadata": {},
   "outputs": [
    {
     "name": "stdout",
     "output_type": "stream",
     "text": [
      "Dataset URL: https://www.kaggle.com/datasets/eliasdabbas/web-server-access-logs\n",
      "License(s): CC0-1.0\n",
      "Downloading web-server-access-logs.zip to /opt/workspace/datasets/web-logs\n",
      " 99%|███████████████████████████████████████▊| 265M/267M [00:10<00:00, 33.8MB/s]\n",
      "100%|████████████████████████████████████████| 267M/267M [00:10<00:00, 25.8MB/s]\n"
     ]
    }
   ],
   "source": [
    "!kaggle datasets download -d eliasdabbas/web-server-access-logs"
   ]
  },
  {
   "cell_type": "code",
   "execution_count": 8,
   "id": "40ed075c-d5e6-4851-b8a4-209eee25c30a",
   "metadata": {},
   "outputs": [
    {
     "name": "stdout",
     "output_type": "stream",
     "text": [
      "Archive:  web-server-access-logs.zip\n",
      "  inflating: access.log              \n",
      "  inflating: client_hostname.csv     \n"
     ]
    }
   ],
   "source": [
    "!unzip web-server-access-logs.zip\n",
    "!rm web-server-access-logs.zip"
   ]
  },
  {
   "cell_type": "code",
   "execution_count": 10,
   "id": "08becca0-a42f-42d1-9693-a0192689c888",
   "metadata": {},
   "outputs": [],
   "source": [
    "os.chdir(\"/opt/workspace/datasets\")"
   ]
  },
  {
   "cell_type": "markdown",
   "id": "8a500e51-cb12-4cf4-93a3-ac0c8c8bdad5",
   "metadata": {},
   "source": [
    "# Movielens Dataset"
   ]
  },
  {
   "cell_type": "code",
   "execution_count": 12,
   "id": "938e4f0c-547a-4cf9-80cd-1de7a2d22b65",
   "metadata": {},
   "outputs": [],
   "source": [
    "!mkdir movielens\n",
    "os.chdir(\"movielens\")"
   ]
  },
  {
   "cell_type": "code",
   "execution_count": 15,
   "id": "784f288d-66fb-4fc6-a4cc-74f62a4386c1",
   "metadata": {},
   "outputs": [
    {
     "name": "stdout",
     "output_type": "stream",
     "text": [
      "--2024-08-06 13:26:21--  https://files.grouplens.org/datasets/movielens/ml-25m.zip\n",
      "Resolving files.grouplens.org (files.grouplens.org)... 128.101.65.152\n",
      "Connecting to files.grouplens.org (files.grouplens.org)|128.101.65.152|:443... connected.\n",
      "HTTP request sent, awaiting response... 200 OK\n",
      "Length: 261978986 (250M) [application/zip]\n",
      "Saving to: ‘ml-25m.zip’\n",
      "\n",
      "ml-25m.zip          100%[===================>] 249.84M  24.7MB/s    in 12s     \n",
      "\n",
      "2024-08-06 13:26:37 (20.9 MB/s) - ‘ml-25m.zip’ saved [261978986/261978986]\n",
      "\n"
     ]
    }
   ],
   "source": [
    "!wget https://files.grouplens.org/datasets/movielens/ml-25m.zip"
   ]
  },
  {
   "cell_type": "code",
   "execution_count": 16,
   "id": "5ed554ca-210d-4cb6-b57f-3c249491a4eb",
   "metadata": {},
   "outputs": [
    {
     "name": "stdout",
     "output_type": "stream",
     "text": [
      "Archive:  ml-25m.zip\n",
      "   creating: ml-25m/\n",
      "  inflating: ml-25m/tags.csv         \n",
      "  inflating: ml-25m/links.csv        \n",
      "  inflating: ml-25m/README.txt       \n",
      "  inflating: ml-25m/ratings.csv      \n",
      "  inflating: ml-25m/genome-tags.csv  \n",
      "  inflating: ml-25m/genome-scores.csv  \n",
      "  inflating: ml-25m/movies.csv       \n"
     ]
    }
   ],
   "source": [
    "!unzip ml-25m.zip\n",
    "!rm ml-25m.zip"
   ]
  },
  {
   "cell_type": "code",
   "execution_count": 17,
   "id": "036bf019-1931-440d-9dc9-f29aabf2dbad",
   "metadata": {},
   "outputs": [],
   "source": [
    "os.chdir(\"/opt/workspace/datasets\")"
   ]
  },
  {
   "cell_type": "markdown",
   "id": "362dfd03-b1f6-416a-b726-1688306dceba",
   "metadata": {},
   "source": [
    "# arxiv Dataset"
   ]
  },
  {
   "cell_type": "code",
   "execution_count": 18,
   "id": "bbc54298-0104-4cc3-b642-463e033eda79",
   "metadata": {},
   "outputs": [],
   "source": [
    "!mkdir arxiv-dset\n",
    "os.chdir(\"arxiv-dset\")"
   ]
  },
  {
   "cell_type": "code",
   "execution_count": 19,
   "id": "e3e64315-ae03-4683-923e-b07f7fc68b96",
   "metadata": {},
   "outputs": [
    {
     "name": "stdout",
     "output_type": "stream",
     "text": [
      "Dataset URL: https://www.kaggle.com/datasets/Cornell-University/arxiv\n",
      "License(s): CC0-1.0\n",
      "Downloading arxiv.zip to /opt/workspace/datasets/arxiv-dset\n",
      "100%|█████████████████████████████████████▉| 1.31G/1.32G [00:33<00:00, 44.7MB/s]\n",
      "100%|██████████████████████████████████████| 1.32G/1.32G [00:33<00:00, 42.2MB/s]\n"
     ]
    }
   ],
   "source": [
    "!kaggle datasets download -d Cornell-University/arxiv"
   ]
  },
  {
   "cell_type": "code",
   "execution_count": 20,
   "id": "8104f771-e552-467e-9c02-95de3ca0c63b",
   "metadata": {},
   "outputs": [
    {
     "name": "stdout",
     "output_type": "stream",
     "text": [
      "Archive:  arxiv.zip\n",
      "  inflating: arxiv-metadata-oai-snapshot.json  \n"
     ]
    }
   ],
   "source": [
    "!unzip arxiv.zip\n",
    "!rm arxiv.zip"
   ]
  },
  {
   "cell_type": "code",
   "execution_count": 21,
   "id": "436bae35-fccd-415d-85ea-c396bb767114",
   "metadata": {},
   "outputs": [],
   "source": [
    "os.chdir(\"/opt/workspace/datasets\")"
   ]
  },
  {
   "cell_type": "markdown",
   "id": "15ad93b2-48e8-4f40-987b-363eb20ebb4e",
   "metadata": {},
   "source": [
    "# SNAP dataset"
   ]
  },
  {
   "cell_type": "code",
   "execution_count": 22,
   "id": "c44bfa14-5116-4f0f-9493-b09927933f1a",
   "metadata": {},
   "outputs": [],
   "source": [
    "!mkdir snap-nw-dset\n",
    "os.chdir(\"snap-nw-dset\")"
   ]
  },
  {
   "cell_type": "code",
   "execution_count": 23,
   "id": "e626ba24-ffac-43da-8e93-89de6a2bbf0c",
   "metadata": {},
   "outputs": [
    {
     "name": "stdout",
     "output_type": "stream",
     "text": [
      "--2024-08-06 13:39:03--  https://snap.stanford.edu/data/amazon0601.txt.gz\n",
      "Resolving snap.stanford.edu (snap.stanford.edu)... 171.64.75.80\n",
      "Connecting to snap.stanford.edu (snap.stanford.edu)|171.64.75.80|:443... connected.\n",
      "HTTP request sent, awaiting response... 200 OK\n",
      "Length: 11807430 (11M) [application/x-gzip]\n",
      "Saving to: ‘amazon0601.txt.gz’\n",
      "\n",
      "amazon0601.txt.gz   100%[===================>]  11.26M  2.35MB/s    in 8.4s    \n",
      "\n",
      "2024-08-06 13:39:12 (1.34 MB/s) - ‘amazon0601.txt.gz’ saved [11807430/11807430]\n",
      "\n"
     ]
    }
   ],
   "source": [
    "!wget https://snap.stanford.edu/data/amazon0601.txt.gz"
   ]
  },
  {
   "cell_type": "code",
   "execution_count": 24,
   "id": "5fbce1f6-cbea-4ade-b90b-500a3b08736a",
   "metadata": {},
   "outputs": [],
   "source": [
    "!gzip -d amazon0601.txt.gz"
   ]
  },
  {
   "cell_type": "code",
   "execution_count": 25,
   "id": "e6d952b1-fbc7-4eb8-b7c2-ba78e1a4ceb3",
   "metadata": {},
   "outputs": [],
   "source": [
    "os.chdir(\"/opt/workspace/datasets\")"
   ]
  },
  {
   "cell_type": "markdown",
   "id": "04bdf5e1-64c4-4b72-88c8-cbdfa77cfb1c",
   "metadata": {},
   "source": [
    "# Patents View Dataset"
   ]
  },
  {
   "cell_type": "code",
   "execution_count": 27,
   "id": "43de3977-f251-48a9-ad39-557ba1ebd3e7",
   "metadata": {},
   "outputs": [],
   "source": [
    "!mkdir patents-view\n",
    "os.chdir(\"patents-view\")"
   ]
  },
  {
   "cell_type": "code",
   "execution_count": 28,
   "id": "6abdf88b-3e3d-465f-ac30-a523fdeb73ef",
   "metadata": {},
   "outputs": [
    {
     "name": "stdout",
     "output_type": "stream",
     "text": [
      "--2024-08-06 13:41:36--  https://s3.amazonaws.com/data.patentsview.org/download/g_patent.tsv.zip\n",
      "Resolving s3.amazonaws.com (s3.amazonaws.com)... 52.216.136.166, 16.182.71.184, 16.182.36.56, ...\n",
      "Connecting to s3.amazonaws.com (s3.amazonaws.com)|52.216.136.166|:443... connected.\n",
      "HTTP request sent, awaiting response... 200 OK\n",
      "Length: 218796381 (209M) [binary/octet-stream]\n",
      "Saving to: ‘g_patent.tsv.zip’\n",
      "\n",
      "g_patent.tsv.zip    100%[===================>] 208.66M  18.2MB/s    in 11s     \n",
      "\n",
      "2024-08-06 13:41:48 (18.7 MB/s) - ‘g_patent.tsv.zip’ saved [218796381/218796381]\n",
      "\n"
     ]
    }
   ],
   "source": [
    "!wget https://s3.amazonaws.com/data.patentsview.org/download/g_patent.tsv.zip"
   ]
  },
  {
   "cell_type": "code",
   "execution_count": 29,
   "id": "6d06ffd5-99bd-41e8-be68-d7b31985fe0b",
   "metadata": {},
   "outputs": [
    {
     "name": "stdout",
     "output_type": "stream",
     "text": [
      "Archive:  g_patent.tsv.zip\n",
      "  inflating: g_patent.tsv            \n"
     ]
    }
   ],
   "source": [
    "!unzip g_patent.tsv.zip\n",
    "!rm g_patent.tsv.zip"
   ]
  },
  {
   "cell_type": "markdown",
   "id": "6d170e98-44fb-4f4b-b28b-c212c0194e83",
   "metadata": {},
   "source": [
    "# CommonCrawl Dataset"
   ]
  },
  {
   "cell_type": "code",
   "execution_count": 10,
   "id": "88714221-ceb9-4667-9f2c-a418995808ef",
   "metadata": {},
   "outputs": [
    {
     "name": "stdout",
     "output_type": "stream",
     "text": [
      "mkdir: cannot create directory ‘common-crawl’: File exists\n"
     ]
    }
   ],
   "source": [
    "!mkdir common-crawl"
   ]
  },
  {
   "cell_type": "code",
   "execution_count": 11,
   "id": "b3525b38-f9fc-462c-9d9d-25f23dc98bb7",
   "metadata": {},
   "outputs": [
    {
     "ename": "FileNotFoundError",
     "evalue": "[Errno 2] No such file or directory: 'common-crawl'",
     "output_type": "error",
     "traceback": [
      "\u001b[0;31m---------------------------------------------------------------------------\u001b[0m",
      "\u001b[0;31mFileNotFoundError\u001b[0m                         Traceback (most recent call last)",
      "Cell \u001b[0;32mIn[11], line 1\u001b[0m\n\u001b[0;32m----> 1\u001b[0m \u001b[43mos\u001b[49m\u001b[38;5;241;43m.\u001b[39;49m\u001b[43mchdir\u001b[49m\u001b[43m(\u001b[49m\u001b[38;5;124;43m\"\u001b[39;49m\u001b[38;5;124;43mcommon-crawl\u001b[39;49m\u001b[38;5;124;43m\"\u001b[39;49m\u001b[43m)\u001b[49m\n",
      "\u001b[0;31mFileNotFoundError\u001b[0m: [Errno 2] No such file or directory: 'common-crawl'"
     ]
    }
   ],
   "source": [
    "os.chdir(\"common-crawl\")"
   ]
  },
  {
   "cell_type": "code",
   "execution_count": 7,
   "id": "ff42303b-b2f3-4ea5-8629-0482f54ebb1c",
   "metadata": {},
   "outputs": [
    {
     "name": "stdout",
     "output_type": "stream",
     "text": [
      "--2024-08-08 13:40:56--  https://data.commoncrawl.org/crawl-data/CC-MAIN-2024-30/warc.paths.gz\n",
      "Resolving data.commoncrawl.org (data.commoncrawl.org)... 18.172.112.98, 18.172.112.62, 18.172.112.54, ...\n",
      "Connecting to data.commoncrawl.org (data.commoncrawl.org)|18.172.112.98|:443... connected.\n",
      "HTTP request sent, awaiting response... 200 OK\n",
      "Length: 180662 (176K) [binary/octet-stream]\n",
      "Saving to: ‘warc.paths.gz’\n",
      "\n",
      "warc.paths.gz       100%[===================>] 176.43K  --.-KB/s    in 0.01s   \n",
      "\n",
      "2024-08-08 13:40:57 (15.0 MB/s) - ‘warc.paths.gz’ saved [180662/180662]\n",
      "\n"
     ]
    }
   ],
   "source": [
    "!wget https://data.commoncrawl.org/crawl-data/CC-MAIN-2024-30/warc.paths.gz"
   ]
  },
  {
   "cell_type": "code",
   "execution_count": 8,
   "id": "02ce0d28-3737-4578-ab49-f8c4114f7653",
   "metadata": {},
   "outputs": [],
   "source": [
    "!gunzip warc.paths.gz"
   ]
  },
  {
   "cell_type": "code",
   "execution_count": 13,
   "id": "a64611d4-26de-4e7a-a0b7-816231ca5574",
   "metadata": {},
   "outputs": [
    {
     "name": "stdout",
     "output_type": "stream",
     "text": [
      "Sampling 2 files from warc.paths ...\n",
      "--2024-08-08 14:44:42--  https://data.commoncrawl.org/crawl-data/CC-MAIN-2024-30/segments/1720763518154.91/warc/CC-MAIN-20240724014956-20240724044956-00798.warc.gz\n",
      "Resolving data.commoncrawl.org (data.commoncrawl.org)... 18.245.60.120, 18.245.60.112, 18.245.60.40, ...\n",
      "Connecting to data.commoncrawl.org (data.commoncrawl.org)|18.245.60.120|:443... connected.\n",
      "HTTP request sent, awaiting response... 200 OK\n",
      "Length: 923398449 (881M) [application/octet-stream]\n",
      "Saving to: ‘./CC-MAIN-20240724014956-20240724044956-00798.warc.gz’\n",
      "\n",
      "CC-MAIN-20240724014 100%[===================>] 880.62M  33.9MB/s    in 25s     \n",
      "\n",
      "2024-08-08 14:45:08 (34.6 MB/s) - ‘./CC-MAIN-20240724014956-20240724044956-00798.warc.gz’ saved [923398449/923398449]\n",
      "\n",
      "--2024-08-08 14:45:08--  https://data.commoncrawl.org/crawl-data/CC-MAIN-2024-30/segments/1720763858305.84/warc/CC-MAIN-20240725114544-20240725144544-00476.warc.gz\n",
      "Resolving data.commoncrawl.org (data.commoncrawl.org)... 18.245.60.112, 18.245.60.120, 18.245.60.40, ...\n",
      "Connecting to data.commoncrawl.org (data.commoncrawl.org)|18.245.60.112|:443... connected.\n",
      "HTTP request sent, awaiting response... 200 OK\n",
      "Length: 923211210 (880M) [application/octet-stream]\n",
      "Saving to: ‘./CC-MAIN-20240725114544-20240725144544-00476.warc.gz’\n",
      "\n",
      "CC-MAIN-20240725114 100%[===================>] 880.44M  39.8MB/s    in 24s     \n",
      "\n",
      "2024-08-08 14:45:32 (37.3 MB/s) - ‘./CC-MAIN-20240725114544-20240725144544-00476.warc.gz’ saved [923211210/923211210]\n",
      "\n",
      "Processing ./CC-MAIN-20240724014956-20240724044956-00798.warc.gz ...\n",
      "File size before extraction:\n",
      "881M\t./CC-MAIN-20240724014956-20240724044956-00798.warc.gz\n",
      "File size after extraction (for uncompressed file):\n",
      "4.2G\t./CC-MAIN-20240724014956-20240724044956-00798.warc\n",
      "mv: './CC-MAIN-20240724014956-20240724044956-00798.warc' and './CC-MAIN-20240724014956-20240724044956-00798.warc' are the same file\n",
      "Processing ./CC-MAIN-20240725114544-20240725144544-00476.warc.gz ...\n",
      "File size before extraction:\n",
      "881M\t./CC-MAIN-20240725114544-20240725144544-00476.warc.gz\n",
      "File size after extraction (for uncompressed file):\n",
      "4.2G\t./CC-MAIN-20240725114544-20240725144544-00476.warc\n",
      "mv: './CC-MAIN-20240725114544-20240725144544-00476.warc' and './CC-MAIN-20240725114544-20240725144544-00476.warc' are the same file\n"
     ]
    }
   ],
   "source": [
    "!./get_files.sh 2 ."
   ]
  }
 ],
 "metadata": {
  "kernelspec": {
   "display_name": "Python 3 (ipykernel)",
   "language": "python",
   "name": "python3"
  },
  "language_info": {
   "codemirror_mode": {
    "name": "ipython",
    "version": 3
   },
   "file_extension": ".py",
   "mimetype": "text/x-python",
   "name": "python",
   "nbconvert_exporter": "python",
   "pygments_lexer": "ipython3",
   "version": "3.11.9"
  }
 },
 "nbformat": 4,
 "nbformat_minor": 5
}
