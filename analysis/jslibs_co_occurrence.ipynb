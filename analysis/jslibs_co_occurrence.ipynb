{
 "cells": [
  {
   "cell_type": "code",
   "execution_count": 1,
   "id": "a04e209e-0585-4842-8a50-7387767f26fd",
   "metadata": {},
   "outputs": [],
   "source": [
    "import re\n",
    "from urllib.parse import urlparse\n",
    "\n",
    "import pyspark.sql.functions as F\n",
    "from pyspark.sql.types import StringType, ArrayType"
   ]
  },
  {
   "cell_type": "code",
   "execution_count": 2,
   "id": "58b256e5-9e51-4429-a07c-63d689a3eb5b",
   "metadata": {},
   "outputs": [
    {
     "name": "stderr",
     "output_type": "stream",
     "text": [
      "Setting default log level to \"WARN\".\n",
      "To adjust logging level use sc.setLogLevel(newLevel). For SparkR, use setLogLevel(newLevel).\n",
      "24/10/01 14:30:45 WARN NativeCodeLoader: Unable to load native-hadoop library for your platform... using builtin-java classes where applicable\n",
      "24/10/01 14:30:46 WARN Utils: spark.dynamicAllocation.initialExecutors less than spark.dynamicAllocation.minExecutors is invalid, ignoring its setting, please update your configs.\n",
      "24/10/01 14:30:46 WARN Utils: spark.executor.instances less than spark.dynamicAllocation.minExecutors is invalid, ignoring its setting, please update your configs.\n"
     ]
    }
   ],
   "source": [
    "from pyspark.sql import SparkSession\n",
    "\n",
    "spark = SparkSession.builder \\\n",
    "    .appName(\"co-occurrence\") \\\n",
    "    .master(\"spark://spark-master:7077\") \\\n",
    "    .config(\"spark.eventLog.enabled\", \"true\") \\\n",
    "    .config(\"spark.eventLog.dir\", \"file:///opt/spark/spark-events/\") \\\n",
    "    .config(\"spark.executor.memory\", \"4g\") \\\n",
    "    .config(\"spark.executor.cores\", 1) \\\n",
    "    .config(\"spark.dynamicAllocation.enabled\", \"true\") \\\n",
    "    .config(\"spark.dynamicAllocation.shuffleTracking.enabled\", \"true\") \\\n",
    "    .config(\"spark.dynamicAllocation.initialExecutors\", 0) \\\n",
    "    .config(\"spark.dynamicAllocation.minExecutors\", 1) \\\n",
    "    .config(\"spark.dynamicAllocation.maxExecutors\", 10) \\\n",
    "    .config(\"spark.sql.execution.arrow.pyspark.enabled\", \"true\") \\\n",
    "    .config(\"spark.scheduler.mode\", \"FAIR\") \\\n",
    "    .getOrCreate()"
   ]
  },
  {
   "cell_type": "code",
   "execution_count": 3,
   "id": "8a33b970-9190-411c-994b-cf8b162048c4",
   "metadata": {},
   "outputs": [],
   "source": [
    "df = spark.read.parquet(\"script_extraction_out/\")"
   ]
  },
  {
   "cell_type": "code",
   "execution_count": 4,
   "id": "92810201-b6b4-4f77-97d4-c1d68bc63c68",
   "metadata": {},
   "outputs": [
    {
     "name": "stderr",
     "output_type": "stream",
     "text": [
      "                                                                                \r"
     ]
    },
    {
     "name": "stdout",
     "output_type": "stream",
     "text": [
      "+--------------+--------------------+----------+--------------------+--------------------+----+\n",
      "|            ip|                host|    server|              emails|    script_src_attrs|year|\n",
      "+--------------+--------------------+----------+--------------------+--------------------+----+\n",
      "|  217.160.0.83|https://nadinesim...|    Apache|mailto:nadine@nad...|https://nadinesim...|2024|\n",
      "|185.127.236.35|https://azionecat...| Glaucorm3|                    |\\'https://azionec...|2024|\n",
      "|  52.15.227.12|https://secureftp...|      NULL|                    |js/dist/jquery.mi...|2024|\n",
      "|  2.59.135.142|https://www.zeitk...|     nginx|                    |/_assets/a739cde7...|2024|\n",
      "|   104.21.60.7|http://www.250r.r...|cloudflare|                    |http://www.250r.r...|2024|\n",
      "+--------------+--------------------+----------+--------------------+--------------------+----+\n",
      "only showing top 5 rows\n",
      "\n"
     ]
    }
   ],
   "source": [
    "df.show(n=5)"
   ]
  },
  {
   "cell_type": "code",
   "execution_count": 5,
   "id": "ebca673f-7da6-4987-8a6b-eee6d8974aaf",
   "metadata": {},
   "outputs": [],
   "source": [
    "jslib_regex = re.compile(r\"/?(?:js\\.)?([^/?]+\\.js)\")\n",
    "regex_broadcast = spark.sparkContext.broadcast(jslib_regex)"
   ]
  },
  {
   "cell_type": "code",
   "execution_count": 6,
   "id": "1fca0c90-0ae7-4aa9-aa82-9849ed7b4baf",
   "metadata": {},
   "outputs": [],
   "source": [
    "@F.udf(StringType())\n",
    "def extract_domain(host):\n",
    "    parsed_url = urlparse(host)\n",
    "    return parsed_url.netloc"
   ]
  },
  {
   "cell_type": "code",
   "execution_count": 7,
   "id": "19694151-161a-435f-984f-6cf7502b9966",
   "metadata": {},
   "outputs": [],
   "source": [
    "df = df.withColumn(\"domain\", extract_domain(\"host\"))"
   ]
  },
  {
   "cell_type": "markdown",
   "id": "64abce75-0d2b-4930-96ab-a4efafc20073",
   "metadata": {},
   "source": [
    "to remove:\n",
    "- \"js\" not in string\n",
    "- \"js\"\n",
    "- having ','"
   ]
  },
  {
   "cell_type": "code",
   "execution_count": 9,
   "id": "33ebb567-5b2f-47d0-b73c-ce8899339dd7",
   "metadata": {},
   "outputs": [],
   "source": [
    "# @udf(ArrayType(StringType()))\n",
    "# def attrs_to_libs(src_attrs):\n",
    "#     \"\"\"Parse list of src attrs to have JS libs ONLY.\"\"\"\n",
    "#     splits = src_attrs.split('|')\n",
    "#     for i, s in enumerate(splits):\n",
    "#         if s.strip('.') == \"js\":\n",
    "#             print(s, file=open(\"/opt/workspace/test.txt\", 'a'))\n",
    "#         s = s.split('/')[-1]\n",
    "#         if \"js\" not in s:\n",
    "#             splits[i] = ''\n",
    "#             continue\n",
    "#         # handles this case: js.cookie.min.js?ver=2.1.4-wc.9.1.4\n",
    "#         s = s.replace(\".min\", '')\n",
    "#         s = s.split(\"js\")[-2] + \"js\"\n",
    "#         splits[i] = s.strip('.')\n",
    "#     return splits"
   ]
  },
  {
   "cell_type": "code",
   "execution_count": 8,
   "id": "57e6834e-ad09-4d8a-ba17-2d36f215f46c",
   "metadata": {},
   "outputs": [],
   "source": [
    "@F.udf(ArrayType(StringType()))\n",
    "def attrs_to_libs(src_attrs):\n",
    "    \"\"\"Parse list of src attrs to have JS libs ONLY.\"\"\"\n",
    "    splits = src_attrs.split('|')\n",
    "    regex_obj = regex_broadcast.value\n",
    "    for i, s in enumerate(splits):\n",
    "        # m = re.search(r\"/?(?:js\\.)?([^/?]+\\.js)\", s)\n",
    "        m = regex_obj.search(s)\n",
    "        if m:\n",
    "            splits[i] = m.group(1)\n",
    "        else:\n",
    "            splits[i] = None\n",
    "            continue\n",
    "        splits[i] = re.sub(r\"\\.min\\.\", '.', splits[i])\n",
    "\n",
    "    return splits"
   ]
  },
  {
   "cell_type": "code",
   "execution_count": 19,
   "id": "90871e64-d6db-4bbf-81a4-72f036788ee4",
   "metadata": {},
   "outputs": [],
   "source": [
    "# @F.udf(ArrayType(StringType()))\n",
    "# def attrs_to_libs(src_attrs):\n",
    "#     \"\"\"Parse list of src attrs to have JS libs ONLY.\"\"\"\n",
    "#     splits = src_attrs.split('|')\n",
    "#     parser = parser_broadcast.value\n",
    "#     for i, s in enumerate(splits):\n",
    "#         try:\n",
    "#             s = parser(s).path.split('/')[-1]\n",
    "#         except:\n",
    "#             # this handles cases like \"https://wpsuspension.hujquery(document).off('click.fb-start', '[data-trigger]');?8600c2288b94838e7ddbb879e6329a62\"\n",
    "#             pass\n",
    "#         s = s.split(',')[0]\n",
    "#         s = s.replace('/', '')\n",
    "\n",
    "#         if not \"js\" in s \\\n",
    "#         or s == \"js\":\n",
    "#             splits[i] = None\n",
    "#             continue\n",
    "\n",
    "#         # handles this case: js.cookie.min.js?ver=2.1.4-wc.9.1.4\n",
    "#         try:\n",
    "#             splits[i] = s.split(\"js\")[-2].strip('.') + \".js\"\n",
    "#         except:\n",
    "#             pass\n",
    "#     return splits"
   ]
  },
  {
   "cell_type": "code",
   "execution_count": 12,
   "id": "890b4e63-d108-4c8f-bb62-06b4c6bb9ec3",
   "metadata": {},
   "outputs": [],
   "source": [
    "domain_lib_df = df.withColumn(\"js_lib\", attrs_to_libs(\"script_src_attrs\"))"
   ]
  },
  {
   "cell_type": "code",
   "execution_count": 13,
   "id": "18e5e18e-0333-4bdd-a8c5-f79f3fdcc15f",
   "metadata": {},
   "outputs": [
    {
     "name": "stdout",
     "output_type": "stream",
     "text": [
      "+--------------------+\n",
      "|              js_lib|\n",
      "+--------------------+\n",
      "|[timeme.js, burst...|\n",
      "|[jquery.js, boots...|\n",
      "|[jquery.js, jquer...|\n",
      "|[optout.js, NULL,...|\n",
      "|[script.js, theme...|\n",
      "+--------------------+\n",
      "only showing top 5 rows\n",
      "\n"
     ]
    }
   ],
   "source": [
    "domain_lib_df.select(\"js_lib\").show(n=5)"
   ]
  },
  {
   "cell_type": "code",
   "execution_count": 22,
   "id": "d25f6f31-afc7-4f54-803f-9c6588a03ec7",
   "metadata": {},
   "outputs": [
    {
     "data": {
      "text/plain": [
       "29843875"
      ]
     },
     "execution_count": 22,
     "metadata": {},
     "output_type": "execute_result"
    }
   ],
   "source": [
    "domain_lib_df.count()"
   ]
  },
  {
   "cell_type": "code",
   "execution_count": 23,
   "id": "ee2cedda-13ab-4cab-8219-5da1d6811f77",
   "metadata": {},
   "outputs": [
    {
     "data": {
      "text/plain": [
       "7460968"
      ]
     },
     "execution_count": 23,
     "metadata": {},
     "output_type": "execute_result"
    }
   ],
   "source": [
    "29843875 // 4"
   ]
  },
  {
   "cell_type": "code",
   "execution_count": 11,
   "id": "74c5c977-7492-4166-aadd-b351a953d8c4",
   "metadata": {},
   "outputs": [],
   "source": [
    "# domain_lib_df = domain_lib_df.limit(7460968)"
   ]
  },
  {
   "cell_type": "code",
   "execution_count": 14,
   "id": "9dc93926-b0cf-43c6-93e7-7ce7987073ca",
   "metadata": {},
   "outputs": [],
   "source": [
    "domain_lib_df = domain_lib_df.select(domain_lib_df.domain, F.explode(domain_lib_df.js_lib).alias(\"js_lib\")).dropna()"
   ]
  },
  {
   "cell_type": "code",
   "execution_count": 18,
   "id": "ed93723a-a2d5-4900-bcf5-862da569f517",
   "metadata": {
    "scrolled": true
   },
   "outputs": [
    {
     "name": "stderr",
     "output_type": "stream",
     "text": [
      "[Stage 7:========================================================>(89 + 1) / 90]\r"
     ]
    },
    {
     "name": "stdout",
     "output_type": "stream",
     "text": [
      "+-----------------+----------------------------------+\n",
      "|domain           |js_libs                           |\n",
      "+-----------------+----------------------------------+\n",
      "|ecosupplements.nl|jquery.min.js                     |\n",
      "|ecosupplements.nl|jquery.easy-autocomplete.min.js   |\n",
      "|ecosupplements.nl|husky.js                          |\n",
      "|ecosupplements.nl|jquery.blockui.min.js             |\n",
      "|ecosupplements.nl|add-to-cart.min.js                |\n",
      "|ecosupplements.nl|jquery.flexslider.min.js          |\n",
      "|ecosupplements.nl|photoswipe.min.js                 |\n",
      "|ecosupplements.nl|photoswipe-ui-default.min.js      |\n",
      "|ecosupplements.nl|cookie.min.js                     |\n",
      "|ecosupplements.nl|main-front.js                     |\n",
      "|ecosupplements.nl|wpm-public__premium_only.p1.min.js|\n",
      "|ecosupplements.nl|tokenization-form.min.js          |\n",
      "|ecosupplements.nl|underscore.min.js                 |\n",
      "|ecosupplements.nl|wp-util.min.js                    |\n",
      "|ecosupplements.nl|add-to-cart-variation.min.js      |\n",
      "|ecosupplements.nl|jquery.min.js                     |\n",
      "|ecosupplements.nl|jquery.easy-autocomplete.min.js   |\n",
      "|ecosupplements.nl|husky.js                          |\n",
      "|ecosupplements.nl|jquery.blockui.min.js             |\n",
      "|ecosupplements.nl|add-to-cart.min.js                |\n",
      "+-----------------+----------------------------------+\n",
      "only showing top 20 rows\n",
      "\n"
     ]
    },
    {
     "name": "stderr",
     "output_type": "stream",
     "text": [
      "                                                                                \r"
     ]
    }
   ],
   "source": [
    "domain_lib_df.show(truncate=False)"
   ]
  },
  {
   "cell_type": "code",
   "execution_count": 16,
   "id": "12d2bcd8-b51c-44e1-8240-40821718b012",
   "metadata": {},
   "outputs": [],
   "source": [
    "domain_lib_df = domain_lib_df.dropDuplicates([\"domain\", \"js_lib\"])"
   ]
  },
  {
   "cell_type": "code",
   "execution_count": 18,
   "id": "00d55e37-c534-4866-827c-c6cb48613c78",
   "metadata": {},
   "outputs": [],
   "source": [
    "joined_df = domain_lib_df.alias(\"df1\").join(\n",
    "    domain_lib_df.alias(\"df2\"),\n",
    "    F.col(\"df1.domain\") == F.col(\"df2.domain\"),\n",
    "    \"inner\"\n",
    ").select(\n",
    "    F.col(\"df1.domain\"),\n",
    "    F.col(\"df1.js_lib\").alias(\"js_lib1\"),\n",
    "    F.col(\"df2.js_lib\").alias(\"js_lib2\"),\n",
    ")"
   ]
  },
  {
   "cell_type": "code",
   "execution_count": 19,
   "id": "5e478451-fa7f-4b6a-a291-db8a0980c751",
   "metadata": {},
   "outputs": [],
   "source": [
    "joined_df = joined_df.filter(F.col(\"js_lib1\") != F.col(\"js_lib2\"))"
   ]
  },
  {
   "cell_type": "code",
   "execution_count": 20,
   "id": "7503c9bf-5f64-489a-8c16-4884491474e3",
   "metadata": {},
   "outputs": [],
   "source": [
    "co_occ_df = joined_df.groupBy(\"js_lib1\", \"js_lib2\").agg(F.count_distinct(\"domain\").alias(\"domain_count\"))"
   ]
  },
  {
   "cell_type": "code",
   "execution_count": 21,
   "id": "82d0c5df-cdb1-4a68-a679-55137897ed8b",
   "metadata": {},
   "outputs": [
    {
     "name": "stderr",
     "output_type": "stream",
     "text": [
      "                                                                                \r"
     ]
    }
   ],
   "source": [
    "co_occ_df.sort(\"domain_count\", ascending=False).write.mode(\"overwrite\").parquet(\"jslibs_co_occ_2024\")"
   ]
  },
  {
   "cell_type": "code",
   "execution_count": 22,
   "id": "289cc960-f9fb-4a6e-961c-40087ae9f0bf",
   "metadata": {},
   "outputs": [],
   "source": [
    "temp = spark.read.parquet(\"./jslibs_co_occ_2024/\")"
   ]
  },
  {
   "cell_type": "code",
   "execution_count": null,
   "id": "a4c2a0d0-7a03-4f41-b821-c427e49cbea8",
   "metadata": {},
   "outputs": [],
   "source": []
  },
  {
   "cell_type": "code",
   "execution_count": 24,
   "id": "beb31fa0-2b84-4b08-bed9-1e68c56f6496",
   "metadata": {
    "scrolled": true
   },
   "outputs": [
    {
     "name": "stderr",
     "output_type": "stream",
     "text": [
      "[Stage 25:======================================================> (91 + 2) / 93]\r"
     ]
    },
    {
     "name": "stdout",
     "output_type": "stream",
     "text": [
      "+-----------------+-----------------+------------+\n",
      "|js_lib1          |js_lib2          |domain_count|\n",
      "+-----------------+-----------------+------------+\n",
      "|jquery-migrate.js|jquery.js        |2285881     |\n",
      "|jquery.js        |jquery-migrate.js|2285881     |\n",
      "|jquery.js        |core.js          |847560      |\n",
      "|core.js          |jquery.js        |847560      |\n",
      "|index.js         |jquery.js        |806591      |\n",
      "|jquery.js        |index.js         |806591      |\n",
      "|i18n.js          |hooks.js         |765630      |\n",
      "|hooks.js         |i18n.js          |765630      |\n",
      "|jquery.js        |hooks.js         |763411      |\n",
      "|hooks.js         |jquery.js        |763411      |\n",
      "|core.js          |jquery-migrate.js|758554      |\n",
      "|jquery-migrate.js|core.js          |758554      |\n",
      "|i18n.js          |jquery.js        |738677      |\n",
      "|jquery.js        |i18n.js          |738677      |\n",
      "|jquery-migrate.js|index.js         |714294      |\n",
      "|index.js         |jquery-migrate.js|714294      |\n",
      "|comment-reply.js |jquery.js        |699873      |\n",
      "|jquery.js        |comment-reply.js |699873      |\n",
      "|jquery-migrate.js|hooks.js         |696113      |\n",
      "|hooks.js         |jquery-migrate.js|696113      |\n",
      "|jquery-migrate.js|i18n.js          |670804      |\n",
      "|i18n.js          |jquery-migrate.js|670804      |\n",
      "|jquery.js        |bootstrap.js     |654020      |\n",
      "|bootstrap.js     |jquery.js        |654020      |\n",
      "|comment-reply.js |jquery-migrate.js|649289      |\n",
      "|jquery-migrate.js|comment-reply.js |649289      |\n",
      "|frontend.js      |jquery.js        |637415      |\n",
      "|jquery.js        |frontend.js      |637415      |\n",
      "|wp-polyfill.js   |jquery.js        |599197      |\n",
      "|jquery.js        |wp-polyfill.js   |599197      |\n",
      "|frontend.js      |jquery-migrate.js|598700      |\n",
      "|jquery-migrate.js|frontend.js      |598700      |\n",
      "|jquery.js        |cookie.js        |580337      |\n",
      "|cookie.js        |jquery.js        |580337      |\n",
      "|jquery.js        |scripts.js       |576987      |\n",
      "|scripts.js       |jquery.js        |576987      |\n",
      "|jquery.js        |main.js          |541888      |\n",
      "|main.js          |jquery.js        |541888      |\n",
      "|wp-polyfill.js   |jquery-migrate.js|536058      |\n",
      "|jquery-migrate.js|wp-polyfill.js   |536058      |\n",
      "|jquery-migrate.js|cookie.js        |509961      |\n",
      "|cookie.js        |jquery-migrate.js|509961      |\n",
      "|jquery.blockui.js|jquery.js        |503003      |\n",
      "|jquery.js        |jquery.blockui.js|503003      |\n",
      "|jquery.blockui.js|woocommerce.js   |496396      |\n",
      "|woocommerce.js   |jquery.blockui.js|496396      |\n",
      "|cookie.js        |jquery.blockui.js|492172      |\n",
      "|jquery.blockui.js|cookie.js        |492172      |\n",
      "|cookie.js        |woocommerce.js   |490749      |\n",
      "|woocommerce.js   |cookie.js        |490749      |\n",
      "+-----------------+-----------------+------------+\n",
      "only showing top 50 rows\n",
      "\n"
     ]
    },
    {
     "name": "stderr",
     "output_type": "stream",
     "text": [
      "                                                                                \r"
     ]
    }
   ],
   "source": [
    "temp.sort(\"domain_count\", ascending=False).show(n=50, truncate=False)"
   ]
  }
 ],
 "metadata": {
  "kernelspec": {
   "display_name": "Python 3 (ipykernel)",
   "language": "python",
   "name": "python3"
  },
  "language_info": {
   "codemirror_mode": {
    "name": "ipython",
    "version": 3
   },
   "file_extension": ".py",
   "mimetype": "text/x-python",
   "name": "python",
   "nbconvert_exporter": "python",
   "pygments_lexer": "ipython3",
   "version": "3.11.9"
  }
 },
 "nbformat": 4,
 "nbformat_minor": 5
}
