{
 "cells": [
  {
   "cell_type": "code",
   "execution_count": 1,
   "id": "073bd9aa-2f95-4978-b11b-798f8be317fa",
   "metadata": {
    "scrolled": true
   },
   "outputs": [],
   "source": [
    "import re\n",
    "from urllib.parse import urlparse\n",
    "\n",
    "import pyspark.sql.functions as F\n",
    "from pyspark.sql import SparkSession\n",
    "from pyspark.sql.types import StringType, ArrayType"
   ]
  },
  {
   "cell_type": "code",
   "execution_count": 2,
   "id": "cbb512af-3808-40ea-be27-9c0a8a8d4d3d",
   "metadata": {},
   "outputs": [
    {
     "name": "stderr",
     "output_type": "stream",
     "text": [
      "/usr/local/lib/python3.11/site-packages/tqdm/auto.py:21: TqdmWarning: IProgress not found. Please update jupyter and ipywidgets. See https://ipywidgets.readthedocs.io/en/stable/user_install.html\n",
      "  from .autonotebook import tqdm as notebook_tqdm\n"
     ]
    }
   ],
   "source": [
    "from huggingface_hub import snapshot_download"
   ]
  },
  {
   "cell_type": "code",
   "execution_count": 3,
   "id": "0dc6a00b-c83f-45db-8cb6-2eee01678e4e",
   "metadata": {
    "scrolled": true
   },
   "outputs": [
    {
     "name": "stderr",
     "output_type": "stream",
     "text": [
      "Setting default log level to \"WARN\".\n",
      "To adjust logging level use sc.setLogLevel(newLevel). For SparkR, use setLogLevel(newLevel).\n",
      "24/10/01 14:03:40 WARN NativeCodeLoader: Unable to load native-hadoop library for your platform... using builtin-java classes where applicable\n",
      "24/10/01 14:03:41 WARN Utils: spark.dynamicAllocation.initialExecutors less than spark.dynamicAllocation.minExecutors is invalid, ignoring its setting, please update your configs.\n",
      "24/10/01 14:03:41 WARN Utils: spark.executor.instances less than spark.dynamicAllocation.minExecutors is invalid, ignoring its setting, please update your configs.\n"
     ]
    }
   ],
   "source": [
    "spark = SparkSession.builder \\\n",
    "    .appName(\"top-20-jslibs\") \\\n",
    "    .master(\"spark://spark-master:7077\") \\\n",
    "    .config(\"spark.eventLog.enabled\", \"true\") \\\n",
    "    .config(\"spark.eventLog.dir\", \"file:///opt/spark/spark-events/\") \\\n",
    "    .config(\"spark.executor.memory\", \"4g\") \\\n",
    "    .config(\"spark.executor.cores\", 1) \\\n",
    "    .config(\"spark.dynamicAllocation.enabled\", \"true\") \\\n",
    "    .config(\"spark.dynamicAllocation.shuffleTracking.enabled\", \"true\") \\\n",
    "    .config(\"spark.dynamicAllocation.initialExecutors\", 0) \\\n",
    "    .config(\"spark.dynamicAllocation.minExecutors\", 1) \\\n",
    "    .config(\"spark.dynamicAllocation.maxExecutors\", 15) \\\n",
    "    .config(\"spark.sql.execution.arrow.pyspark.enabled\", \"true\") \\\n",
    "    .config(\"spark.scheduler.mode\", \"FAIR\") \\\n",
    "    .getOrCreate()"
   ]
  },
  {
   "cell_type": "code",
   "execution_count": 4,
   "id": "bd710db1-9939-4110-bd1e-394962c28a75",
   "metadata": {},
   "outputs": [
    {
     "name": "stderr",
     "output_type": "stream",
     "text": [
      "Fetching 10 files: 100%|██████████| 10/10 [02:12<00:00, 13.25s/it]\n"
     ]
    },
    {
     "data": {
      "text/plain": [
       "'/opt/workspace/spark_qa'"
      ]
     },
     "execution_count": 4,
     "metadata": {},
     "output_type": "execute_result"
    }
   ],
   "source": [
    "snapshot_download(repo_id=\"big-banyan-tree/BBT_CommonCrawl_2024\", repo_type=\"dataset\",\n",
    "                  allow_patterns=\"script_extraction_out/*.parquet\", local_dir=\".\")"
   ]
  },
  {
   "cell_type": "code",
   "execution_count": 7,
   "id": "13f1e920-0c0b-4cca-aa2a-42c93c831bc2",
   "metadata": {
    "scrolled": true
   },
   "outputs": [],
   "source": [
    "df = spark.read.parquet(\"script_extraction_out/\")"
   ]
  },
  {
   "cell_type": "code",
   "execution_count": 8,
   "id": "450e88df-d26d-4902-aec5-71f439dfe982",
   "metadata": {},
   "outputs": [
    {
     "name": "stdout",
     "output_type": "stream",
     "text": [
      "+---------------+--------------------+------------------+--------------------+--------------------+----+\n",
      "|             ip|                host|            server|              emails|    script_src_attrs|year|\n",
      "+---------------+--------------------+------------------+--------------------+--------------------+----+\n",
      "|   217.160.0.83|https://nadinesim...|            Apache|mailto:nadine@nad...|https://nadinesim...|2024|\n",
      "| 185.127.236.35|https://azionecat...|         Glaucorm3|                    |\\'https://azionec...|2024|\n",
      "|   52.15.227.12|https://secureftp...|              NULL|                    |js/dist/jquery.mi...|2024|\n",
      "|   2.59.135.142|https://www.zeitk...|             nginx|                    |/_assets/a739cde7...|2024|\n",
      "|    104.21.60.7|http://www.250r.r...|        cloudflare|                    |http://www.250r.r...|2024|\n",
      "|  46.183.11.162|https://taliarand...|             nginx|mailto:hello@tali...|https://taliarand...|2024|\n",
      "|    65.60.61.13|https://almost4x4...|            Apache|                    |./assets/javascri...|2024|\n",
      "|185.227.138.230|http://gabrik-hor...|              NULL|                    |http://gabrik-hor...|2024|\n",
      "|   23.227.38.32|https://unifamy.c...|        cloudflare|mailto:contact@un...|//unifamy.com/cdn...|2024|\n",
      "|  104.21.66.126|https://thesmartl...|        cloudflare|                    |https://thesmartl...|2024|\n",
      "| 34.231.153.162|https://www.desig...|      nginx/1.24.0|                    |https://www.googl...|2024|\n",
      "|   23.227.38.65|https://theblingp...|        cloudflare|                    |/checkouts/intern...|2024|\n",
      "|   23.227.38.65|https://maisonm.c...|        cloudflare|                    |/checkouts/intern...|2024|\n",
      "|  54.175.142.52|https://www.iafc....|Microsoft-IIS/10.0|                    |//assets.adobedtm...|2024|\n",
      "| 87.250.250.158|https://t.rasp.ya...|              NULL|                    |/captcha_smart_er...|2024|\n",
      "|    3.124.51.13|https://www.facil...|Microsoft-IIS/10.0|mailto:c.biblioza...|https://www.googl...|2024|\n",
      "| 172.67.214.185|https://chattydro...|        cloudflare|                    |https://chattydro...|2024|\n",
      "| 172.67.151.160|https://greenonio...|        cloudflare|                    |https://greenonio...|2024|\n",
      "|  183.181.83.75|https://omochi.co...|             nginx|                    |\\'https://omochi....|2024|\n",
      "|  46.101.166.59|https://ultimatet...|              NULL|mailto:mcekovic@g...|/webjars/jquery/2...|2024|\n",
      "+---------------+--------------------+------------------+--------------------+--------------------+----+\n",
      "only showing top 20 rows\n",
      "\n"
     ]
    }
   ],
   "source": [
    "df.show()"
   ]
  },
  {
   "cell_type": "code",
   "execution_count": 9,
   "id": "1bb68573-4b5a-4898-8d29-bf5b00cdaeac",
   "metadata": {},
   "outputs": [],
   "source": [
    "# df = spark.read.parquet(\"/opt/workspace/warc_yearly/script_extraction_out_2022/\")"
   ]
  },
  {
   "cell_type": "code",
   "execution_count": 9,
   "id": "2af7166d-9823-4572-a2c2-0bea03e51f8b",
   "metadata": {},
   "outputs": [],
   "source": [
    "jslib_regex = re.compile(r\"/?(?:js\\.)?([^/?]+\\.js)\")\n",
    "regex_broadcast = spark.sparkContext.broadcast(jslib_regex)"
   ]
  },
  {
   "cell_type": "code",
   "execution_count": 10,
   "id": "2b3a7cb6-d4b0-4ed6-9773-f6e3d36ec550",
   "metadata": {},
   "outputs": [],
   "source": [
    "@F.udf(StringType())\n",
    "def extract_domain(host):\n",
    "    parsed_url = urlparse(host)\n",
    "    return parsed_url.netloc"
   ]
  },
  {
   "cell_type": "code",
   "execution_count": 11,
   "id": "475b2640-8deb-49b0-9ed2-e3e1b9b1f43d",
   "metadata": {},
   "outputs": [],
   "source": [
    "df = df.withColumn(\"domain\", extract_domain(\"host\"))"
   ]
  },
  {
   "cell_type": "code",
   "execution_count": 17,
   "id": "72cf12f7-9c1c-46b1-abaa-db9e19c643f5",
   "metadata": {},
   "outputs": [],
   "source": [
    "# @F.udf(ArrayType(StringType()))\n",
    "# def attrs_to_libs(src_attrs):\n",
    "#     \"\"\"Parse list of src attrs to have JS libs ONLY.\"\"\"\n",
    "#     splits = src_attrs.split('|')\n",
    "#     parser = parser_broadcast.value\n",
    "#     for i, s in enumerate(splits):\n",
    "#         # handles cases like: \"\\'http://armenia.pl/wp-content/plugins/uk-cookie-consent/assets/js/uk-cookie-consent-js.js?ver=2.3.0\\'\"\n",
    "#         s = s.strip(\"\\'\")\n",
    "#         s = s.strip(\"\\\\\")\n",
    "\n",
    "#         try:\n",
    "#             s = parser(s).path.split('/')[-1]\n",
    "#         except:\n",
    "#             # handles cases like \"https://wpsuspension.hujquery(document).off('click.fb-start', '[data-trigger]');?8600c2288b94838e7ddbb879e6329a62\"\n",
    "#             continue\n",
    "\n",
    "#         if not \"js\" in s:\n",
    "#             splits[i] = None\n",
    "#             continue\n",
    "\n",
    "#         # jquery.min.js and jquery.js are the same\n",
    "#         s = re.sub(r\"\\.min\\.\", '.', s)\n",
    "\n",
    "#         # handles cases like: js.cookie.min.js?ver=2.1.4-wc.9.1.4\n",
    "#         s = re.sub(r\"^js\\.\", '', s)\n",
    "#         if s == \"js\":\n",
    "#             continue\n",
    "#         splits[i] = s\n",
    "\n",
    "#     return splits"
   ]
  },
  {
   "cell_type": "code",
   "execution_count": 12,
   "id": "af0a689e-240d-4237-89af-87c876fbe462",
   "metadata": {},
   "outputs": [],
   "source": [
    "@F.udf(ArrayType(StringType()))\n",
    "def attrs_to_libs(src_attrs):\n",
    "    \"\"\"Parse list of src attrs to have JS libs ONLY.\"\"\"\n",
    "    splits = src_attrs.split('|')\n",
    "    regex_obj = regex_broadcast.value\n",
    "    for i, s in enumerate(splits):\n",
    "        # m = re.search(r\"/?(?:js\\.)?([^/?]+\\.js)\", s)\n",
    "        m = regex_obj.search(s)\n",
    "        if m:\n",
    "            splits[i] = m.group(1)\n",
    "        else:\n",
    "            splits[i] = None\n",
    "            continue\n",
    "        splits[i] = re.sub(r\"\\.min\\.\", '.', splits[i])\n",
    "\n",
    "    return splits"
   ]
  },
  {
   "cell_type": "code",
   "execution_count": 13,
   "id": "354f6572-a411-456d-bde2-d11acf7b9109",
   "metadata": {},
   "outputs": [],
   "source": [
    "domain_lib_df = df.withColumn(\"js_lib\", attrs_to_libs(\"script_src_attrs\"))"
   ]
  },
  {
   "cell_type": "code",
   "execution_count": 14,
   "id": "e0f1807f-fa69-492c-8237-9d7519db40e4",
   "metadata": {},
   "outputs": [],
   "source": [
    "domain_lib_df = domain_lib_df.select(domain_lib_df.domain, F.explode(domain_lib_df.js_lib).alias(\"js_lib\")).dropna()"
   ]
  },
  {
   "cell_type": "code",
   "execution_count": 15,
   "id": "fdd2b4dd-53fa-4ea0-b87a-c99d53f4a384",
   "metadata": {},
   "outputs": [],
   "source": [
    "domain_lib_df = domain_lib_df.dropDuplicates([\"domain\", \"js_lib\"])"
   ]
  },
  {
   "cell_type": "code",
   "execution_count": 16,
   "id": "74a9a311-94c1-425e-9e1c-1bc107bc68e4",
   "metadata": {},
   "outputs": [],
   "source": [
    "count_df = domain_lib_df.groupby(\"js_lib\").agg(F.count(\"domain\").alias(\"domain_count\"))"
   ]
  },
  {
   "cell_type": "code",
   "execution_count": 17,
   "id": "f4e89b78-2641-421c-8fa5-085ef051c68b",
   "metadata": {},
   "outputs": [],
   "source": [
    "sorted_df = count_df.sort(\"domain_count\", ascending=False)"
   ]
  },
  {
   "cell_type": "code",
   "execution_count": 18,
   "id": "e10f9ec0-0282-4d3b-a97e-84e7913c3adc",
   "metadata": {
    "scrolled": true
   },
   "outputs": [
    {
     "name": "stderr",
     "output_type": "stream",
     "text": [
      "[Stage 7:=====================>                                   (6 + 10) / 16]\r"
     ]
    },
    {
     "name": "stdout",
     "output_type": "stream",
     "text": [
      "+--------------------------------------------------------------------------------+------------+\n",
      "|js_lib                                                                          |domain_count|\n",
      "+--------------------------------------------------------------------------------+------------+\n",
      "|jquery.js                                                                       |3649381     |\n",
      "|jquery-migrate.js                                                               |2291335     |\n",
      "|core.js                                                                         |959250      |\n",
      "|index.js                                                                        |937461      |\n",
      "|bootstrap.js                                                                    |892675      |\n",
      "|hooks.js                                                                        |798132      |\n",
      "|main.js                                                                         |787037      |\n",
      "|i18n.js                                                                         |775130      |\n",
      "|scripts.js                                                                      |764052      |\n",
      "|comment-reply.js                                                                |748273      |\n",
      "|frontend.js                                                                     |681768      |\n",
      "|api.js                                                                          |653214      |\n",
      "|wp-polyfill.js                                                                  |635136      |\n",
      "|cookie.js                                                                       |618353      |\n",
      "|script.js                                                                       |548814      |\n",
      "|jquery.blockui.js                                                               |517469      |\n",
      "|woocommerce.js                                                                  |501323      |\n",
      "|common.js                                                                       |493211      |\n",
      "|waypoints.js                                                                    |492947      |\n",
      "|custom.js                                                                       |459783      |\n",
      "|add-to-cart.js                                                                  |452764      |\n",
      "|imagesloaded.js                                                                 |451984      |\n",
      "|owl.carousel.js                                                                 |451184      |\n",
      "|regenerator-runtime.js                                                          |446713      |\n",
      "|slick.js                                                                        |442980      |\n",
      "|underscore.js                                                                   |440106      |\n",
      "|adsbygoogle.js                                                                  |433745      |\n",
      "|theme.js                                                                        |383817      |\n",
      "|frontend-modules.js                                                             |380701      |\n",
      "|webpack.runtime.js                                                              |372203      |\n",
      "|preloads.js                                                                     |368922      |\n",
      "|load_feature-9f951eb7d8d53973c719de211f807d63af81c644e5b9a6ae72661ac408d472f6.js|367641      |\n",
      "|features-1c0b396bd4d054b94abae1eb6a1bd6ba47beb35525c57a217c77a862ff06d83f.js    |366054      |\n",
      "|wp-polyfill-inert.js                                                            |351462      |\n",
      "|wp-embed.js                                                                     |331821      |\n",
      "|email-decode.js                                                                 |322340      |\n",
      "|sourcebuster.js                                                                 |312386      |\n",
      "|order-attribution.js                                                            |311339      |\n",
      "|jquery-ui.js                                                                    |299792      |\n",
      "|wp-util.js                                                                      |294530      |\n",
      "|cdn.js                                                                          |289011      |\n",
      "|front.js                                                                        |286595      |\n",
      "|cart-fragments.js                                                               |283559      |\n",
      "|polyfill.js                                                                     |283218      |\n",
      "|app.js                                                                          |275751      |\n",
      "|navigation.js                                                                   |269894      |\n",
      "|webpack-pro.runtime.js                                                          |263654      |\n",
      "|swiper.js                                                                       |261707      |\n",
      "|jquery.magnific-popup.js                                                        |258535      |\n",
      "|lazysizes.js                                                                    |257031      |\n",
      "|storefront-80e528be853eac23af2454534897ca9536b1d3d04aa043b042f34879a3c111c8.js  |249795      |\n",
      "|lazyload.js                                                                     |249007      |\n",
      "|single-product.js                                                               |248851      |\n",
      "|jquery.flexslider.js                                                            |246005      |\n",
      "|jquery.fitvids.js                                                               |245742      |\n",
      "|rs6.js                                                                          |241880      |\n",
      "|jquery.fancybox.js                                                              |235799      |\n",
      "|global.js                                                                       |234422      |\n",
      "|minified.js                                                                     |233531      |\n",
      "|focus-within-polyfill.js                                                        |233005      |\n",
      "|hoverintent.js                                                                  |231751      |\n",
      "|rbtools.js                                                                      |227203      |\n",
      "|modernizr.js                                                                    |221136      |\n",
      "|elements-handlers.js                                                            |219206      |\n",
      "|jquery.cookie.js                                                                |218909      |\n",
      "|photoswipe.js                                                                   |214493      |\n",
      "|lodash.js                                                                       |214396      |\n",
      "|jquery.smartmenus.js                                                            |211073      |\n",
      "|skip-link-focus-fix.js                                                          |209363      |\n",
      "|menu.js                                                                         |207599      |\n",
      "|photoswipe-ui-default.js                                                        |207433      |\n",
      "|datepicker.js                                                                   |206250      |\n",
      "|mouse.js                                                                        |206154      |\n",
      "|jquery.sticky.js                                                                |192471      |\n",
      "|popper.js                                                                       |190551      |\n",
      "|dom-ready.js                                                                    |187125      |\n",
      "|jquery.zoom.js                                                                  |179810      |\n",
      "|jquery.easing.js                                                                |172559      |\n",
      "|react.production.js                                                             |170510      |\n",
      "|wow.js                                                                          |170391      |\n",
      "|react-dom.production.js                                                         |170330      |\n",
      "|masonry.js                                                                      |170297      |\n",
      "|main.renderer.1d21f023.bundle.js                                                |166754      |\n",
      "|e-202432.js                                                                     |166559      |\n",
      "|add-to-cart-variation.js                                                        |164997      |\n",
      "|sitetags.bundle.js                                                              |163229      |\n",
      "|wix-perf-measure.umd.js                                                         |163150      |\n",
      "|functions.js                                                                    |162708      |\n",
      "|js_composer_front.js                                                            |157309      |\n",
      "|slider.js                                                                       |156884      |\n",
      "|a11y.js                                                                         |155410      |\n",
      "|jquery.prettyphoto.js                                                           |153867      |\n",
      "|mediaelement-and-player.js                                                      |153492      |\n",
      "|jquery.validate.js                                                              |152906      |\n",
      "|plugins.js                                                                      |150645      |\n",
      "|v4-shims.js                                                                     |148078      |\n",
      "|element.js                                                                      |146175      |\n",
      "|isotope.pkgd.js                                                                 |145782      |\n",
      "|vendor.js                                                                       |141675      |\n",
      "|akismet-frontend.js                                                             |141474      |\n",
      "+--------------------------------------------------------------------------------+------------+\n",
      "only showing top 100 rows\n",
      "\n"
     ]
    },
    {
     "name": "stderr",
     "output_type": "stream",
     "text": [
      "                                                                                \r"
     ]
    }
   ],
   "source": [
    "sorted_df.show(n=100, truncate=False)"
   ]
  }
 ],
 "metadata": {
  "kernelspec": {
   "display_name": "Python 3 (ipykernel)",
   "language": "python",
   "name": "python3"
  },
  "language_info": {
   "codemirror_mode": {
    "name": "ipython",
    "version": 3
   },
   "file_extension": ".py",
   "mimetype": "text/x-python",
   "name": "python",
   "nbconvert_exporter": "python",
   "pygments_lexer": "ipython3",
   "version": "3.11.9"
  }
 },
 "nbformat": 4,
 "nbformat_minor": 5
}
