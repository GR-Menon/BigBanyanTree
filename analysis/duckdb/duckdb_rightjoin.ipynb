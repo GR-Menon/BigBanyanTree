{
 "cells": [
  {
   "cell_type": "code",
   "execution_count": 1,
   "id": "bbc75f39-e072-4a1c-a603-fc8b888751d7",
   "metadata": {},
   "outputs": [],
   "source": [
    "import duckdb"
   ]
  },
  {
   "cell_type": "code",
   "execution_count": 2,
   "id": "2a41a465-b13f-4ebf-8789-d6509de1ad1c",
   "metadata": {},
   "outputs": [],
   "source": [
    "con = duckdb.connect(\"spark24.db\")"
   ]
  },
  {
   "cell_type": "code",
   "execution_count": 3,
   "id": "d22b5d02-f9df-4413-82bb-dc5e2e0e1e59",
   "metadata": {},
   "outputs": [],
   "source": [
    "script_ext_dir = \"/opt/workspace/warc_yearly_pipeline/script_extraction_out/*.parquet\"\n",
    "maxmind_dir = \"/opt/workspace/warc_yearly_pipeline/ipmaxmind_out/*.csv\""
   ]
  },
  {
   "cell_type": "code",
   "execution_count": 4,
   "id": "91182d2c-a7ae-40d5-982a-ba93b613b7eb",
   "metadata": {},
   "outputs": [
    {
     "data": {
      "text/plain": [
       "<duckdb.duckdb.DuckDBPyConnection at 0x7493f022fc70>"
      ]
     },
     "execution_count": 4,
     "metadata": {},
     "output_type": "execute_result"
    }
   ],
   "source": [
    "con.execute(f\"CREATE TABLE IF NOT EXISTS script_extraction AS SELECT * FROM read_parquet('{script_ext_dir}')\")"
   ]
  },
  {
   "cell_type": "code",
   "execution_count": 6,
   "id": "bcee515c-99f5-448f-9585-608376cc5de2",
   "metadata": {},
   "outputs": [
    {
     "name": "stdout",
     "output_type": "stream",
     "text": [
      "   count_star()\n",
      "0      22127510\n"
     ]
    }
   ],
   "source": [
    "script_cnt = con.execute(\"SELECT COUNT(*) FROM script_extraction\").fetchdf()\n",
    "print(script_cnt)"
   ]
  },
  {
   "cell_type": "code",
   "execution_count": 17,
   "id": "a12a5689-f055-44ab-8052-b7a02117ab26",
   "metadata": {},
   "outputs": [
    {
     "data": {
      "text/plain": [
       "<duckdb.duckdb.DuckDBPyConnection at 0x7493f022fc70>"
      ]
     },
     "execution_count": 17,
     "metadata": {},
     "output_type": "execute_result"
    }
   ],
   "source": [
    "con.execute(f\"CREATE TABLE IF NOT EXISTS maxmind AS SELECT * FROM read_csv_auto('{maxmind_dir}', delim='\\t', ignore_errors=true)\")"
   ]
  },
  {
   "cell_type": "code",
   "execution_count": 18,
   "id": "95fe4a4e-dcb8-4bab-a0ce-e0e1ec098971",
   "metadata": {},
   "outputs": [
    {
     "name": "stdout",
     "output_type": "stream",
     "text": [
      "   count_star()\n",
      "0       9816625\n"
     ]
    }
   ],
   "source": [
    "maxmind_cnt = con.execute(\"SELECT COUNT(*) FROM maxmind\").fetchdf()\n",
    "print(maxmind_cnt)"
   ]
  },
  {
   "cell_type": "code",
   "execution_count": 20,
   "id": "09e105e3-d9a6-4811-b566-d7639327a4ed",
   "metadata": {},
   "outputs": [
    {
     "data": {
      "text/plain": [
       "<duckdb.duckdb.DuckDBPyConnection at 0x7493f022fc70>"
      ]
     },
     "execution_count": 20,
     "metadata": {},
     "output_type": "execute_result"
    }
   ],
   "source": [
    "con.execute(f\"\"\"\n",
    "    CREATE TABLE IF NOT EXISTS cc24 AS\n",
    "    SELECT *\n",
    "    FROM script_extraction\n",
    "    LEFT JOIN maxmind\n",
    "    ON script_extraction.ip = maxmind.ip\n",
    "    AND script_extraction.host = maxmind.host\n",
    "    AND script_extraction.server = maxmind.server\n",
    "    LIMIT 100000\n",
    "\"\"\")"
   ]
  },
  {
   "cell_type": "code",
   "execution_count": 22,
   "id": "d21c2977-c5fc-406b-8f0d-04f07a5581fc",
   "metadata": {},
   "outputs": [
    {
     "data": {
      "text/html": [
       "<div>\n",
       "<style scoped>\n",
       "    .dataframe tbody tr th:only-of-type {\n",
       "        vertical-align: middle;\n",
       "    }\n",
       "\n",
       "    .dataframe tbody tr th {\n",
       "        vertical-align: top;\n",
       "    }\n",
       "\n",
       "    .dataframe thead th {\n",
       "        text-align: right;\n",
       "    }\n",
       "</style>\n",
       "<table border=\"1\" class=\"dataframe\">\n",
       "  <thead>\n",
       "    <tr style=\"text-align: right;\">\n",
       "      <th></th>\n",
       "      <th>ip</th>\n",
       "      <th>host</th>\n",
       "      <th>server</th>\n",
       "      <th>emails</th>\n",
       "      <th>script_src_attrs</th>\n",
       "      <th>ip_1</th>\n",
       "      <th>host_1</th>\n",
       "      <th>server_1</th>\n",
       "      <th>postal_code</th>\n",
       "      <th>latitude</th>\n",
       "      <th>...</th>\n",
       "      <th>accuracy_radius</th>\n",
       "      <th>continent_code</th>\n",
       "      <th>continent_name</th>\n",
       "      <th>country_iso_code</th>\n",
       "      <th>country_name</th>\n",
       "      <th>subdivision_iso_code</th>\n",
       "      <th>subdivision_name</th>\n",
       "      <th>city_name</th>\n",
       "      <th>metro_code</th>\n",
       "      <th>time_zone</th>\n",
       "    </tr>\n",
       "  </thead>\n",
       "  <tbody>\n",
       "    <tr>\n",
       "      <th>0</th>\n",
       "      <td>209.159.149.148</td>\n",
       "      <td>https://www.lenouveaureporter.com/etiquette/en...</td>\n",
       "      <td>Apache/2</td>\n",
       "      <td></td>\n",
       "      <td>https://www.lenouveaureporter.com/wp-includes/...</td>\n",
       "      <td>209.159.149.148</td>\n",
       "      <td>https://www.lenouveaureporter.com/etiquette/en...</td>\n",
       "      <td>Apache/2</td>\n",
       "      <td>None</td>\n",
       "      <td>37.7510</td>\n",
       "      <td>...</td>\n",
       "      <td>1000.0</td>\n",
       "      <td>NA</td>\n",
       "      <td>North America</td>\n",
       "      <td>US</td>\n",
       "      <td>United States</td>\n",
       "      <td>None</td>\n",
       "      <td>None</td>\n",
       "      <td>None</td>\n",
       "      <td>NaN</td>\n",
       "      <td>America/Chicago</td>\n",
       "    </tr>\n",
       "    <tr>\n",
       "      <th>1</th>\n",
       "      <td>209.159.153.164</td>\n",
       "      <td>https://refundtalk.com/tag/transcript-processi...</td>\n",
       "      <td>Apache</td>\n",
       "      <td></td>\n",
       "      <td>https://c0.wp.com/c/6.6.1/wp-includes/js/jquer...</td>\n",
       "      <td>209.159.153.164</td>\n",
       "      <td>https://refundtalk.com/tag/transcript-processi...</td>\n",
       "      <td>Apache</td>\n",
       "      <td>None</td>\n",
       "      <td>37.7510</td>\n",
       "      <td>...</td>\n",
       "      <td>1000.0</td>\n",
       "      <td>NA</td>\n",
       "      <td>North America</td>\n",
       "      <td>US</td>\n",
       "      <td>United States</td>\n",
       "      <td>None</td>\n",
       "      <td>None</td>\n",
       "      <td>None</td>\n",
       "      <td>NaN</td>\n",
       "      <td>America/Chicago</td>\n",
       "    </tr>\n",
       "    <tr>\n",
       "      <th>2</th>\n",
       "      <td>209.160.190.242</td>\n",
       "      <td>https://jp.infragistics.com/help/winforms/infr...</td>\n",
       "      <td>nginx/1.18.0</td>\n",
       "      <td></td>\n",
       "      <td>/help/bundles/redirect-rules?v=c3g6-igtos4geyl...</td>\n",
       "      <td>209.160.190.242</td>\n",
       "      <td>https://jp.infragistics.com/help/winforms/infr...</td>\n",
       "      <td>nginx/1.18.0</td>\n",
       "      <td>08648</td>\n",
       "      <td>40.2152</td>\n",
       "      <td>...</td>\n",
       "      <td>100.0</td>\n",
       "      <td>NA</td>\n",
       "      <td>North America</td>\n",
       "      <td>US</td>\n",
       "      <td>United States</td>\n",
       "      <td>NJ</td>\n",
       "      <td>New Jersey</td>\n",
       "      <td>Lawrenceville</td>\n",
       "      <td>504.0</td>\n",
       "      <td>America/New_York</td>\n",
       "    </tr>\n",
       "    <tr>\n",
       "      <th>3</th>\n",
       "      <td>209.160.32.187</td>\n",
       "      <td>https://lemmy.sdf.org/post/9555466</td>\n",
       "      <td>nginx</td>\n",
       "      <td></td>\n",
       "      <td>\\'/static/1787a778/js/client.js\\'</td>\n",
       "      <td>209.160.32.187</td>\n",
       "      <td>https://lemmy.sdf.org/post/9555466</td>\n",
       "      <td>nginx</td>\n",
       "      <td>98160</td>\n",
       "      <td>47.6034</td>\n",
       "      <td>...</td>\n",
       "      <td>20.0</td>\n",
       "      <td>NA</td>\n",
       "      <td>North America</td>\n",
       "      <td>US</td>\n",
       "      <td>United States</td>\n",
       "      <td>WA</td>\n",
       "      <td>Washington</td>\n",
       "      <td>Seattle</td>\n",
       "      <td>819.0</td>\n",
       "      <td>America/Los_Angeles</td>\n",
       "    </tr>\n",
       "    <tr>\n",
       "      <th>4</th>\n",
       "      <td>209.17.116.10</td>\n",
       "      <td>http://loglink.com/search.asp?query=Western+Ca...</td>\n",
       "      <td>Microsoft-IIS/10.0</td>\n",
       "      <td></td>\n",
       "      <td></td>\n",
       "      <td>209.17.116.10</td>\n",
       "      <td>http://loglink.com/search.asp?query=Western+Ca...</td>\n",
       "      <td>Microsoft-IIS/10.0</td>\n",
       "      <td>None</td>\n",
       "      <td>37.7510</td>\n",
       "      <td>...</td>\n",
       "      <td>1000.0</td>\n",
       "      <td>NA</td>\n",
       "      <td>North America</td>\n",
       "      <td>US</td>\n",
       "      <td>United States</td>\n",
       "      <td>None</td>\n",
       "      <td>None</td>\n",
       "      <td>None</td>\n",
       "      <td>NaN</td>\n",
       "      <td>America/Chicago</td>\n",
       "    </tr>\n",
       "  </tbody>\n",
       "</table>\n",
       "<p>5 rows × 21 columns</p>\n",
       "</div>"
      ],
      "text/plain": [
       "                ip                                               host  \\\n",
       "0  209.159.149.148  https://www.lenouveaureporter.com/etiquette/en...   \n",
       "1  209.159.153.164  https://refundtalk.com/tag/transcript-processi...   \n",
       "2  209.160.190.242  https://jp.infragistics.com/help/winforms/infr...   \n",
       "3   209.160.32.187                 https://lemmy.sdf.org/post/9555466   \n",
       "4    209.17.116.10  http://loglink.com/search.asp?query=Western+Ca...   \n",
       "\n",
       "               server emails  \\\n",
       "0            Apache/2          \n",
       "1              Apache          \n",
       "2        nginx/1.18.0          \n",
       "3               nginx          \n",
       "4  Microsoft-IIS/10.0          \n",
       "\n",
       "                                    script_src_attrs             ip_1  \\\n",
       "0  https://www.lenouveaureporter.com/wp-includes/...  209.159.149.148   \n",
       "1  https://c0.wp.com/c/6.6.1/wp-includes/js/jquer...  209.159.153.164   \n",
       "2  /help/bundles/redirect-rules?v=c3g6-igtos4geyl...  209.160.190.242   \n",
       "3                  \\'/static/1787a778/js/client.js\\'   209.160.32.187   \n",
       "4                                                       209.17.116.10   \n",
       "\n",
       "                                              host_1            server_1  \\\n",
       "0  https://www.lenouveaureporter.com/etiquette/en...            Apache/2   \n",
       "1  https://refundtalk.com/tag/transcript-processi...              Apache   \n",
       "2  https://jp.infragistics.com/help/winforms/infr...        nginx/1.18.0   \n",
       "3                 https://lemmy.sdf.org/post/9555466               nginx   \n",
       "4  http://loglink.com/search.asp?query=Western+Ca...  Microsoft-IIS/10.0   \n",
       "\n",
       "  postal_code  latitude  ...  accuracy_radius  continent_code continent_name  \\\n",
       "0        None   37.7510  ...           1000.0              NA  North America   \n",
       "1        None   37.7510  ...           1000.0              NA  North America   \n",
       "2       08648   40.2152  ...            100.0              NA  North America   \n",
       "3       98160   47.6034  ...             20.0              NA  North America   \n",
       "4        None   37.7510  ...           1000.0              NA  North America   \n",
       "\n",
       "  country_iso_code   country_name subdivision_iso_code subdivision_name  \\\n",
       "0               US  United States                 None             None   \n",
       "1               US  United States                 None             None   \n",
       "2               US  United States                   NJ       New Jersey   \n",
       "3               US  United States                   WA       Washington   \n",
       "4               US  United States                 None             None   \n",
       "\n",
       "       city_name metro_code            time_zone  \n",
       "0           None        NaN      America/Chicago  \n",
       "1           None        NaN      America/Chicago  \n",
       "2  Lawrenceville      504.0     America/New_York  \n",
       "3        Seattle      819.0  America/Los_Angeles  \n",
       "4           None        NaN      America/Chicago  \n",
       "\n",
       "[5 rows x 21 columns]"
      ]
     },
     "execution_count": 22,
     "metadata": {},
     "output_type": "execute_result"
    }
   ],
   "source": [
    "sample_join = con.execute(\"SELECT * FROM cc24\").fetchdf()\n",
    "sample_join.head()"
   ]
  }
 ],
 "metadata": {
  "kernelspec": {
   "display_name": "Python 3 (ipykernel)",
   "language": "python",
   "name": "python3"
  },
  "language_info": {
   "codemirror_mode": {
    "name": "ipython",
    "version": 3
   },
   "file_extension": ".py",
   "mimetype": "text/x-python",
   "name": "python",
   "nbconvert_exporter": "python",
   "pygments_lexer": "ipython3",
   "version": "3.11.9"
  }
 },
 "nbformat": 4,
 "nbformat_minor": 5
}
