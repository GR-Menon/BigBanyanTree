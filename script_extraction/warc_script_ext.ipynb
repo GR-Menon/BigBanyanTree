{
 "cells": [
  {
   "metadata": {},
   "cell_type": "code",
   "outputs": [],
   "execution_count": null,
   "source": [
    "import re\n",
    "import time\n",
    "\n",
    "from pyspark.sql.functions import col, sum, when, size, round, concat_ws\n",
    "from pyspark.sql.types import StructField, StructType, StringType, ArrayType\n",
    "from selectolax.parser import HTMLParser\n",
    "from warcio.archiveiterator import ArchiveIterator"
   ],
   "id": "e2fda45cd41642a8"
  },
  {
   "cell_type": "code",
   "execution_count": 16,
   "id": "b6105966-7530-40a9-a8c0-4bb6b9338121",
   "metadata": {},
   "outputs": [],
   "source": [
    "from pyspark.sql import SparkSession\n",
    "\n",
    "spark = SparkSession.builder \\\n",
    "    .appName(\"script-extraction\") \\\n",
    "    .master(\"spark://spark-master:7077\") \\\n",
    "    .config(\"spark.eventLog.enabled\", \"true\") \\\n",
    "    .config(\"spark.eventLog.dir\", \"file:///opt/spark/spark-events/\") \\\n",
    "    .config(\"spark.executor.memory\", \"4g\") \\\n",
    "    .config(\"spark.executor.cores\", 1) \\\n",
    "    .config(\"spark.dynamicAllocation.enabled\", \"true\") \\\n",
    "    .config(\"spark.dynamicAllocation.shuffleTracking.enabled\", \"true\") \\\n",
    "    .config(\"spark.dynamicAllocation.initialExecutors\", 0) \\\n",
    "    .config(\"spark.dynamicAllocation.minExecutors\", 1) \\\n",
    "    .config(\"spark.dynamicAllocation.maxExecutors\", 15) \\\n",
    "    .config(\"spark.sql.execution.arrow.pyspark.enabled\", \"true\") \\\n",
    "    .config(\"spark.scheduler.mode\", \"FAIR\") \\\n",
    "    .getOrCreate()\n",
    "spark.sparkContext.setLogLevel(\"ERROR\")"
   ]
  },
  {
   "cell_type": "code",
   "execution_count": 20,
   "id": "1d50735b-d833-4f09-abe5-a6052c33729a",
   "metadata": {},
   "outputs": [
    {
     "name": "stdout",
     "output_type": "stream",
     "text": [
      "Parsing .warc file CC-MAIN-20221126080725-20221126110725-00000.warc\n",
      "Record Headers: WARC/1.0\n",
      "WARC-Type: warcinfo\n",
      "WARC-Date: 2022-11-26T08:07:25Z\n",
      "WARC-Record-ID: <urn:uuid:a6bb155b-41c1-4e16-988c-5a3efb66dc53>\n",
      "Content-Length: 500\n",
      "Content-Type: application/warc-fields\n",
      "WARC-Filename: CC-MAIN-20221126080725-20221126110725-00000.warc.gz\n",
      "\n",
      "Record Headers: WARC/1.0\n",
      "WARC-Type: request\n",
      "WARC-Date: 2022-11-26T09:33:48Z\n",
      "WARC-Record-ID: <urn:uuid:db75ce35-e5d7-4386-b7cd-13b12ca838a4>\n",
      "Content-Length: 321\n",
      "Content-Type: application/http; msgtype=request\n",
      "WARC-Warcinfo-ID: <urn:uuid:a6bb155b-41c1-4e16-988c-5a3efb66dc53>\n",
      "WARC-IP-Address: 47.252.36.221\n",
      "WARC-Target-URI: http://0130.com.cn/news/shownews.php?id=188\n",
      "\n",
      "Record Headers: WARC/1.0\n",
      "WARC-Type: response\n",
      "WARC-Date: 2022-11-26T09:33:48Z\n",
      "WARC-Record-ID: <urn:uuid:230340ee-4f5c-4c5a-b1d6-d98a986f47d9>\n",
      "Content-Length: 37265\n",
      "Content-Type: application/http; msgtype=response\n",
      "WARC-Warcinfo-ID: <urn:uuid:a6bb155b-41c1-4e16-988c-5a3efb66dc53>\n",
      "WARC-Concurrent-To: <urn:uuid:db75ce35-e5d7-4386-b7cd-13b12ca838a4>\n",
      "WARC-IP-Address: 47.252.36.221\n",
      "WARC-Target-URI: http://0130.com.cn/news/shownews.php?id=188\n",
      "WARC-Payload-Digest: sha1:F5QLHNJEUNMCXDFTHISUMFUV4X2Z7OOG\n",
      "WARC-Block-Digest: sha1:LUVYO7O57C3VTG25QQCASEGMET3GSGO6\n",
      "WARC-Identified-Payload-Type: text/html\n",
      "\n",
      "Record Headers: WARC/1.0\n",
      "WARC-Type: metadata\n",
      "WARC-Date: 2022-11-26T09:33:48Z\n",
      "WARC-Record-ID: <urn:uuid:e0b62dca-9595-4d4f-a8c3-fc1c381228f6>\n",
      "Content-Length: 201\n",
      "Content-Type: application/warc-fields\n",
      "WARC-Warcinfo-ID: <urn:uuid:a6bb155b-41c1-4e16-988c-5a3efb66dc53>\n",
      "WARC-Concurrent-To: <urn:uuid:230340ee-4f5c-4c5a-b1d6-d98a986f47d9>\n",
      "WARC-Target-URI: http://0130.com.cn/news/shownews.php?id=188\n",
      "\n",
      "Record Headers: WARC/1.0\n",
      "WARC-Type: request\n",
      "WARC-Date: 2022-11-26T08:32:45Z\n",
      "WARC-Record-ID: <urn:uuid:81141e2f-456e-4a62-89b3-9d1d494da3b2>\n",
      "Content-Length: 320\n",
      "Content-Type: application/http; msgtype=request\n",
      "WARC-Warcinfo-ID: <urn:uuid:a6bb155b-41c1-4e16-988c-5a3efb66dc53>\n",
      "WARC-IP-Address: 47.252.36.221\n",
      "WARC-Target-URI: http://0130.com.cn/news/shownews.php?id=43\n",
      "\n",
      "\n",
      "Distinct record types found:\n",
      "response\n",
      "metadata\n",
      "request\n",
      "warcinfo\n"
     ]
    }
   ],
   "source": [
    "max_records = 5\n",
    "input_file = \"CC-MAIN-20221126080725-20221126110725-00000.warc\"\n",
    "\n",
    "distinct_record_types = set()\n",
    "\n",
    "with open(input_file, 'rb') as stream:\n",
    "    print(f\"Parsing .warc file {input_file}\")\n",
    "    record_idx = 0\n",
    "    for record in ArchiveIterator(stream):\n",
    "        record_idx += 1\n",
    "        record_type = record.rec_type\n",
    "        distinct_record_types.add(record_type)\n",
    "        \n",
    "        # print(f\"Record Type: {record_type}\")\n",
    "        print(f\"Record Headers: {record.rec_headers}\")\n",
    "        # print(f\"HTTP Headers: {record.http_headers}\")\n",
    "        \n",
    "        # if \"WARC-Target-URI\" in record.rec_headers:\n",
    "        #     print(f\"Target URI: {record.rec_headers.get_header('WARC-Target-URI')}\")\n",
    "        \n",
    "        if record_idx == max_records: \n",
    "            break\n",
    "\n",
    "print(\"\\nDistinct record types found:\")\n",
    "for rec_type in distinct_record_types:\n",
    "    print(rec_type)"
   ]
  },
  {
   "cell_type": "code",
   "execution_count": 11,
   "id": "bd8e0b20-b9c2-4b73-a0e1-81479ae4db06",
   "metadata": {},
   "outputs": [
    {
     "name": "stdout",
     "output_type": "stream",
     "text": [
      "Parsing .warc file: /opt/workspace/datasets/common-crawl/CC-MAIN-20240725114544-20240725144544-00476.warc \n",
      "\n",
      "Total time: 44.5791s\n"
     ]
    },
    {
     "name": "stderr",
     "output_type": "stream",
     "text": [
      "                                                                                \r"
     ]
    },
    {
     "name": "stdout",
     "output_type": "stream",
     "text": [
      "+--------------------+---------------+--------------------+--------------+--------------------+---------------------------------+---------------------------------+--------------------+---------------------------------+--------------------+--------------------+\n",
      "|     warc_target_uri|warc_ip_address|        content_type|content_length|              server|                       page_title|                 page_description|              emails|                         keywords|    script_src_attrs|   script_type_attrs|\n",
      "+--------------------+---------------+--------------------+--------------+--------------------+---------------------------------+---------------------------------+--------------------+---------------------------------+--------------------+--------------------+\n",
      "|http://0081.b-ch....|   52.68.28.174|application/http;...|         13739|Apache/2.2.34 (Am...|             playstation(r)3�ֵ...|                             NULL|                  []|                             NULL|                  []|                  []|\n",
      "|http://03cn.theca...|  38.165.51.151|application/http;...|        967850|               nginx|素食主义者 & 伦理美容产品|态度...|           发现 our vegan, ewg...|                  []|                             NULL|[http://code.jque...|[text/javascript,...|\n",
      "|http://0401live.p...|  220.228.6.121|application/http;...|         82610|Apache/1.3.41 (Un...|                  �������t��ѫǭ���|                    �������t��ѫ� |                  []|                    �������t��ѫ� |                  []|[\\'text/javascrip...|\n",
      "|http://0401yes.co...|   220.228.6.52|application/http;...|         24464|Apache/1.3.41 (Un...|               ���⼤�� - sogou�׾�|            ���⼤�� - sogou�׾¬...|                  []|                             NULL| [/swf/swfobject.js]|[text/javascript,...|\n",
      "|http://042l.g34me...|   38.28.236.56|application/http;...|         80157|               nginx| 天天看片高清影视在线观看  - v...|        天天看片高清影视在线观看 |                  []|       heyzo-0176,天天看片高清...|[/v11av/js/t.v11a...|[text/javascript,...|\n",
      "|http://0759job.co...| 103.45.249.246|application/http;...|         18561|   Microsoft-IIS/7.5|             տ���ر�Ͷ�����޹�˾ -...|             տ���˲������ķ���տ�...|                  []|             տ���˲���,տ����Ƹ��...|[../../js/v2/jque...|[text/javascript,...|\n",
      "|http://0xbetbot.c...|  178.23.190.42|application/http;...|         49500|           LiteSpeed|             a tribute for our...|                             NULL|[mailto:info@0xbe...|                             NULL|[http://0xbetbot....|[text/javascript,...|\n",
      "|http://1080coachi...|  31.217.196.11|application/http;...|         20463|           LiteSpeed|                    1080 coaching|                             NULL|                  []|                             NULL|[https://www.goog...|                  []|\n",
      "|http://10e15.com....|   191.6.208.11|application/http;...|         25629|              Apache|             decoração com flo...|                             NULL|                  []|                             NULL|[https://ajax.goo...|[\\'text/javascrip...|\n",
      "|http://10e15.com....|   191.6.208.11|application/http;...|         23323|              Apache|             arquivos dia das ...|                             NULL|                  []|                             NULL|[https://ajax.goo...|[\\'text/javascrip...|\n",
      "|http://11ap.top/h...| 103.116.244.60|application/http;...|         22329|               nginx|2024年黑龙江高考本科招生院校及...|2024年全国高考已圆满落幕，此次...|                  []|2024年黑龙江高考本科招生院校及...|[http://11ap.top/...|[text/javascript,...|\n",
      "|http://1333.bg/pe...| 87.118.140.104|application/http;...|         10713|Apache/2.4.25 (De...|                                �|                             NULL|                  []|                             NULL|[http://1333.bg/p...|[text/javascript,...|\n",
      "|http://164.215.10...| 164.215.103.84|application/http;...|        159569|               nginx|             nonton serial pla...|             pusatfilm21 nonto...|                  []|                             NULL|[https://cdn.pusa...|[application/ld+j...|\n",
      "|http://1771922.sh...|    220.228.6.4|application/http;...|         48518|Apache/1.3.41 (Un...|                   �{�������u�h�q|             �i��ȩ]��Ͳ�ѫ�,���h...|                  []|             �i��ȩ]��Ͳ�ѫ�,���h...|                  []|   [text/javascript]|\n",
      "|http://1808363.tk...|    220.228.6.6|application/http;...|         52069|Apache/1.3.41 (Un...|               live 173�v��live�q|                             NULL|                  []|                             NULL|                  []|   [text/javascript]|\n",
      "|http://1808363.tk...|    220.228.6.6|application/http;...|         42617|Apache/1.3.41 (Un...|               live 173�v��live�q|                             NULL|                  []|                             NULL|                  []|   [text/javascript]|\n",
      "|http://19454.xiao...|  122.114.53.33|application/http;...|         15042|   Microsoft-IIS/7.5|             \\r\\n\\t���ھ�Ӣ��ױ -...|             ���������ױѧУ|����...|                  []|             ���������ױѧУ|����...|[ http://s5.cnzz....|[text/javascript,...|\n",
      "|http://198.96.92....|   198.96.92.93|application/http;...|         20389|              Apache|             bandarjudiqq - da...|              bandarjudiqq ada...|                  []|             bandarjudiqq, log...|[https://cdn.ampp...|  [application/json]|\n",
      "|http://1dim-korin...| 194.63.238.140|application/http;...|         40936|              Apache|             1ο ΔΗΜΟΤΙΚΟ ΣΧΟΛΕ...|                             NULL|                  []|                             NULL|[/media/system/js...|[text/javascript,...|\n",
      "|http://1yuva.com/...|    78.31.67.89|application/http;...|         22854|               nginx|             galerİ | mersin d...|             bir yuva; mersin ...|                  []|             mimar,mersin mima...|[//ajax.googleapi...|[text/javascript,...|\n",
      "+--------------------+---------------+--------------------+--------------+--------------------+---------------------------------+---------------------------------+--------------------+---------------------------------+--------------------+--------------------+\n",
      "only showing top 20 rows\n",
      "\n"
     ]
    }
   ],
   "source": [
    "def encode_byte_stream(input_stream):\n",
    "    return input_stream.encode('utf-8').decode(\"unicode_escape\").encode(\"latin-1\").decode(\"utf-8\", errors=\"replace\")\n",
    "\n",
    "def warc_script_extraction(input_file):\n",
    "    data = []\n",
    "    email_regex = re.compile(r\"(mailto:)?([a-zA-Z0-9_.+-]+@[a-zA-Z0-9-]+\\.[a-zA-Z0-9-.]+$)\", re.IGNORECASE)\n",
    "\n",
    "    schema = StructType([\n",
    "        StructField(\"warc_target_uri\", StringType(), True),\n",
    "        StructField(\"warc_ip_address\", StringType(), True),\n",
    "        StructField(\"content_type\", StringType(), True),\n",
    "        StructField(\"content_length\", StringType(), True),\n",
    "        StructField(\"server\", StringType(), True),\n",
    "        StructField(\"page_title\", StringType(), True),\n",
    "        StructField(\"page_description\", StringType(), True),\n",
    "        StructField(\"emails\", ArrayType(StringType()), True),\n",
    "        StructField(\"keywords\", StringType(), True),\n",
    "        StructField(\"script_src_attrs\", ArrayType(StringType()), True),\n",
    "        StructField(\"script_type_attrs\", ArrayType(StringType()), True)\n",
    "    ])\n",
    "\n",
    "    with open(input_file, 'rb') as stream:\n",
    "        print(f\"Parsing .warc file: {input_file} \\n\")\n",
    "        start_time = time.perf_counter()\n",
    "        for record in ArchiveIterator(stream):\n",
    "            if record.rec_type == \"response\":\n",
    "                \n",
    "                raw_text = record.raw_stream.read()\n",
    "                str_text = str(raw_text).strip().lower().replace('\\t', \" \").replace('\\n', \"\")\n",
    "                slax_txt = HTMLParser(str_text)\n",
    "\n",
    "                target_uri = record.rec_headers.get_header('WARC-Target-URI')\n",
    "                ip_address = record.rec_headers.get_header(\"WARC-IP-Address\")\n",
    "                content_type = record.rec_headers.get_header(\"Content-Type\")\n",
    "                content_length = record.rec_headers.get_header(\"Content-Length\")\n",
    "                server = record.http_headers.get_header(\"Server\")\n",
    "                \n",
    "                title = slax_txt.tags('title')[0].text().strip() if slax_txt.tags('title') else \"\\uFFFD\"\n",
    "                title = encode_byte_stream(title)\n",
    "\n",
    "                # Extract emails from anchor tags\n",
    "                emails = [\n",
    "                    encode_byte_stream(atag.attributes.get(\"href\"))\n",
    "                    for atag in slax_txt.tags(\"a\")\n",
    "                    if atag.attributes.get(\"href\") and email_regex.match(atag.attributes.get(\"href\"))\n",
    "                ]\n",
    "\n",
    "                # Extract meta tag descriptions and keywords\n",
    "                desc, keywords = None, None\n",
    "                meta_tags = slax_txt.tags('meta')\n",
    "                for m_idx, mtag in enumerate(meta_tags):\n",
    "                    desc_tag = mtag.css_first('meta[name=\"description\"]')\n",
    "                    key_tag = mtag.css_first('meta[name=\"keywords\"]')\n",
    "                    if desc_tag:\n",
    "                        desc = desc_tag.attributes.get(\"content\")\n",
    "                        if desc:\n",
    "                            desc = encode_byte_stream(desc)\n",
    "                    if key_tag:\n",
    "                        keywords = key_tag.attributes.get(\"content\")\n",
    "                        if keywords:\n",
    "                            keywords = encode_byte_stream(keywords)\n",
    "                \n",
    "\n",
    "                # Extract script src and type attributes\n",
    "                src_attrs = [\n",
    "                    script.attributes.get('src')\n",
    "                    for script in slax_txt.tags('script')\n",
    "                    if script.attributes.get('src')\n",
    "                ]\n",
    "\n",
    "                type_attrs = [\n",
    "                    script.attributes.get('type')\n",
    "                    for script in slax_txt.tags('script')\n",
    "                    if script.attributes.get('type')\n",
    "                ]\n",
    "\n",
    "                record_data = {\n",
    "                    \"warc_target_uri\": target_uri,\n",
    "                    \"warc_ip_address\": ip_address,\n",
    "                    \"content_type\": content_type,\n",
    "                    \"content_length\": content_length,\n",
    "                    \"server\": server,\n",
    "                    \"page_title\": title,\n",
    "                    \"page_description\": desc,\n",
    "                    \"emails\": emails,\n",
    "                    \"keywords\": keywords,\n",
    "                    \"script_src_attrs\": src_attrs,\n",
    "                    \"script_type_attrs\": type_attrs\n",
    "                }\n",
    "                data.append(record_data)\n",
    "                \n",
    "    df = spark.createDataFrame(data, schema)\n",
    "    end_time = time.perf_counter()\n",
    "    print(f\"Total time: {(end_time - start_time):.4f}s\")\n",
    "    return df\n",
    "    \n",
    "df = warc_script_extraction(input_file).coalesce(1)\n",
    "df.show()"
   ]
  },
  {
   "cell_type": "code",
   "execution_count": 12,
   "id": "4116bf61-7f8b-4ed1-84b2-60f473d5b6fa",
   "metadata": {},
   "outputs": [
    {
     "data": {
      "text/plain": [
       "pyspark.sql.dataframe.DataFrame"
      ]
     },
     "execution_count": 12,
     "metadata": {},
     "output_type": "execute_result"
    }
   ],
   "source": [
    "type(df)"
   ]
  },
  {
   "cell_type": "code",
   "execution_count": 73,
   "id": "9268892a-e68b-4a70-ba98-8d059949d74d",
   "metadata": {
    "scrolled": true
   },
   "outputs": [
    {
     "name": "stderr",
     "output_type": "stream",
     "text": [
      "[Stage 36:>                                                         (0 + 1) / 1]\r"
     ]
    },
    {
     "name": "stdout",
     "output_type": "stream",
     "text": [
      "+-------------------------+--------------------+\n",
      "|         page_description|              emails|\n",
      "+-------------------------+--------------------+\n",
      "|                     NULL|                  []|\n",
      "|   发现 our vegan, ewg...|                  []|\n",
      "|            �������t��ѫ� |                  []|\n",
      "|    ���⼤�� - sogou�׾¬...|                  []|\n",
      "|天天看片高清影视在线观看 |                  []|\n",
      "|     տ���˲������ķ���տ�...|                  []|\n",
      "|                     NULL|[mailto:info@0xbe...|\n",
      "|                     NULL|                  []|\n",
      "|                     NULL|                  []|\n",
      "|                     NULL|                  []|\n",
      "+-------------------------+--------------------+\n",
      "only showing top 10 rows\n",
      "\n"
     ]
    },
    {
     "name": "stderr",
     "output_type": "stream",
     "text": [
      "                                                                                \r"
     ]
    }
   ],
   "source": [
    "df.select('page_description', 'emails').show(n=10, truncate=True)"
   ]
  },
  {
   "cell_type": "code",
   "execution_count": 74,
   "id": "51d17914-3fd0-4e19-a0d8-52c50a107c19",
   "metadata": {},
   "outputs": [
    {
     "data": {
      "text/plain": [
       "28178"
      ]
     },
     "execution_count": 74,
     "metadata": {},
     "output_type": "execute_result"
    }
   ],
   "source": [
    "total_rows = df.count()\n",
    "total_rows"
   ]
  },
  {
   "cell_type": "code",
   "execution_count": 75,
   "id": "e26a3644-726a-412a-a200-dc47dc4bb71b",
   "metadata": {},
   "outputs": [
    {
     "name": "stdout",
     "output_type": "stream",
     "text": [
      "root\n",
      " |-- warc_target_uri: string (nullable = true)\n",
      " |-- warc_ip_address: string (nullable = true)\n",
      " |-- content_type: string (nullable = true)\n",
      " |-- content_length: string (nullable = true)\n",
      " |-- server: string (nullable = true)\n",
      " |-- page_title: string (nullable = true)\n",
      " |-- page_description: string (nullable = true)\n",
      " |-- emails: array (nullable = true)\n",
      " |    |-- element: string (containsNull = true)\n",
      " |-- keywords: string (nullable = true)\n",
      " |-- script_src_attrs: array (nullable = true)\n",
      " |    |-- element: string (containsNull = true)\n",
      " |-- script_type_attrs: array (nullable = true)\n",
      " |    |-- element: string (containsNull = true)\n",
      "\n"
     ]
    }
   ],
   "source": [
    "df.printSchema()"
   ]
  },
  {
   "cell_type": "code",
   "execution_count": 80,
   "id": "d14700ea-decd-482c-9342-6f8b2bfc55e2",
   "metadata": {},
   "outputs": [
    {
     "name": "stdout",
     "output_type": "stream",
     "text": [
      "+---------------+---------------+------------+--------------+------+----------+----------------+------+--------+----------------+-----------------+\n",
      "|warc_target_uri|warc_ip_address|content_type|content_length|server|page_title|page_description|emails|keywords|script_src_attrs|script_type_attrs|\n",
      "+---------------+---------------+------------+--------------+------+----------+----------------+------+--------+----------------+-----------------+\n",
      "|              0|              0|           0|             0|  1989|         0|           13390| 22995|   22025|            2565|             4215|\n",
      "+---------------+---------------+------------+--------------+------+----------+----------------+------+--------+----------------+-----------------+\n",
      "\n"
     ]
    }
   ],
   "source": [
    "array_columns = ['emails', 'script_src_attrs', 'script_type_attrs']\n",
    "null_counts = df.select(\n",
    "    [\n",
    "        sum(\n",
    "            when(\n",
    "                col(c).isNull() | (size(col(c)) == 0), 1\n",
    "            ).otherwise(0)\n",
    "        ).alias(c)\n",
    "        if c in array_columns else\n",
    "        sum(col(c).isNull().cast(\"int\")).alias(c)\n",
    "        for c in df.columns\n",
    "    ]\n",
    ")\n",
    "null_counts.show()"
   ]
  },
  {
   "cell_type": "code",
   "execution_count": 81,
   "id": "afa16baa-ea47-4b29-b36e-b533fce09798",
   "metadata": {},
   "outputs": [
    {
     "name": "stdout",
     "output_type": "stream",
     "text": [
      "+---------------+---------------+------------+--------------+------+----------+----------------+------+--------+----------------+-----------------+\n",
      "|warc_target_uri|warc_ip_address|content_type|content_length|server|page_title|page_description|emails|keywords|script_src_attrs|script_type_attrs|\n",
      "+---------------+---------------+------------+--------------+------+----------+----------------+------+--------+----------------+-----------------+\n",
      "|            0.0|            0.0|         0.0|           0.0| 7.059|       0.0|          47.519|81.606|  78.164|           9.103|           14.958|\n",
      "+---------------+---------------+------------+--------------+------+----------+----------------+------+--------+----------------+-----------------+\n",
      "\n"
     ]
    }
   ],
   "source": [
    "null_frac = null_counts.select(\n",
    "    [\n",
    "        round((col(c) / total_rows) * 100, 3).alias(c)\n",
    "        for c in null_counts.columns\n",
    "    ]\n",
    ")\n",
    "null_frac.show()"
   ]
  },
  {
   "cell_type": "code",
   "execution_count": 82,
   "id": "71a5cebf-b0e3-4af8-9037-f5c4f89b485c",
   "metadata": {},
   "outputs": [
    {
     "name": "stdout",
     "output_type": "stream",
     "text": [
      "root\n",
      " |-- warc_target_uri: string (nullable = true)\n",
      " |-- warc_ip_address: string (nullable = true)\n",
      " |-- content_type: string (nullable = true)\n",
      " |-- content_length: string (nullable = true)\n",
      " |-- server: string (nullable = true)\n",
      " |-- page_title: string (nullable = true)\n",
      " |-- page_description: string (nullable = true)\n",
      " |-- emails: array (nullable = true)\n",
      " |    |-- element: string (containsNull = true)\n",
      " |-- keywords: string (nullable = true)\n",
      " |-- script_src_attrs: array (nullable = true)\n",
      " |    |-- element: string (containsNull = true)\n",
      " |-- script_type_attrs: array (nullable = true)\n",
      " |    |-- element: string (containsNull = true)\n",
      "\n"
     ]
    }
   ],
   "source": [
    "df.printSchema()"
   ]
  },
  {
   "cell_type": "code",
   "execution_count": 83,
   "id": "7e314fc0-eb01-452c-876e-c5b6c28492eb",
   "metadata": {},
   "outputs": [
    {
     "name": "stderr",
     "output_type": "stream",
     "text": [
      "[Stage 42:>                                                         (0 + 1) / 1]\r"
     ]
    },
    {
     "name": "stdout",
     "output_type": "stream",
     "text": [
      "+--------------------+---------------+--------------------+--------------+--------------------+---------------------------------+---------------------------------+--------------------+---------------------------------+--------------------+--------------------+\n",
      "|     warc_target_uri|warc_ip_address|        content_type|content_length|              server|                       page_title|                 page_description|              emails|                         keywords|    script_src_attrs|   script_type_attrs|\n",
      "+--------------------+---------------+--------------------+--------------+--------------------+---------------------------------+---------------------------------+--------------------+---------------------------------+--------------------+--------------------+\n",
      "|http://0081.b-ch....|   52.68.28.174|application/http;...|         13739|Apache/2.2.34 (Am...|             playstation(r)3�ֵ...|                             NULL|                    |                             NULL|                    |                    |\n",
      "|http://03cn.theca...|  38.165.51.151|application/http;...|        967850|               nginx|素食主义者 & 伦理美容产品|态度...|           发现 our vegan, ewg...|                    |                             NULL|http://code.jquer...|text/javascript|m...|\n",
      "|http://0401live.p...|  220.228.6.121|application/http;...|         82610|Apache/1.3.41 (Un...|                  �������t��ѫǭ���|                    �������t��ѫ� |                    |                    �������t��ѫ� |                    | \\'text/javascript\\'|\n",
      "|http://0401yes.co...|   220.228.6.52|application/http;...|         24464|Apache/1.3.41 (Un...|               ���⼤�� - sogou�׾�|            ���⼤�� - sogou�׾¬...|                    |                             NULL|   /swf/swfobject.js|text/javascript|t...|\n",
      "|http://042l.g34me...|   38.28.236.56|application/http;...|         80157|               nginx| 天天看片高清影视在线观看  - v...|        天天看片高清影视在线观看 |                    |       heyzo-0176,天天看片高清...|/v11av/js/t.v11av...|text/javascript|t...|\n",
      "|http://0759job.co...| 103.45.249.246|application/http;...|         18561|   Microsoft-IIS/7.5|             տ���ر�Ͷ�����޹�˾ -...|             տ���˲������ķ���տ�...|                    |             տ���˲���,տ����Ƹ��...|../../js/v2/jquer...|text/javascript|t...|\n",
      "|http://0xbetbot.c...|  178.23.190.42|application/http;...|         49500|           LiteSpeed|             a tribute for our...|                             NULL|mailto:info@0xbet...|                             NULL|http://0xbetbot.c...|text/javascript|t...|\n",
      "|http://1080coachi...|  31.217.196.11|application/http;...|         20463|           LiteSpeed|                    1080 coaching|                             NULL|                    |                             NULL|https://www.googl...|                    |\n",
      "|http://10e15.com....|   191.6.208.11|application/http;...|         25629|              Apache|             decoração com flo...|                             NULL|                    |                             NULL|https://ajax.goog...|\\'text/javascript...|\n",
      "|http://10e15.com....|   191.6.208.11|application/http;...|         23323|              Apache|             arquivos dia das ...|                             NULL|                    |                             NULL|https://ajax.goog...|\\'text/javascript...|\n",
      "|http://11ap.top/h...| 103.116.244.60|application/http;...|         22329|               nginx|2024年黑龙江高考本科招生院校及...|2024年全国高考已圆满落幕，此次...|                    |2024年黑龙江高考本科招生院校及...|http://11ap.top/t...|text/javascript|t...|\n",
      "|http://1333.bg/pe...| 87.118.140.104|application/http;...|         10713|Apache/2.4.25 (De...|                                �|                             NULL|                    |                             NULL|http://1333.bg/pe...|text/javascript|t...|\n",
      "|http://164.215.10...| 164.215.103.84|application/http;...|        159569|               nginx|             nonton serial pla...|             pusatfilm21 nonto...|                    |                             NULL|https://cdn.pusat...|application/ld+js...|\n",
      "|http://1771922.sh...|    220.228.6.4|application/http;...|         48518|Apache/1.3.41 (Un...|                   �{�������u�h�q|             �i��ȩ]��Ͳ�ѫ�,���h...|                    |             �i��ȩ]��Ͳ�ѫ�,���h...|                    |     text/javascript|\n",
      "|http://1808363.tk...|    220.228.6.6|application/http;...|         52069|Apache/1.3.41 (Un...|               live 173�v��live�q|                             NULL|                    |                             NULL|                    |     text/javascript|\n",
      "|http://1808363.tk...|    220.228.6.6|application/http;...|         42617|Apache/1.3.41 (Un...|               live 173�v��live�q|                             NULL|                    |                             NULL|                    |     text/javascript|\n",
      "|http://19454.xiao...|  122.114.53.33|application/http;...|         15042|   Microsoft-IIS/7.5|             \\r\\n\\t���ھ�Ӣ��ױ -...|             ���������ױѧУ|����...|                    |             ���������ױѧУ|����...| http://s5.cnzz.c...|text/javascript|t...|\n",
      "|http://198.96.92....|   198.96.92.93|application/http;...|         20389|              Apache|             bandarjudiqq - da...|              bandarjudiqq ada...|                    |             bandarjudiqq, log...|https://cdn.amppr...|    application/json|\n",
      "|http://1dim-korin...| 194.63.238.140|application/http;...|         40936|              Apache|             1ο ΔΗΜΟΤΙΚΟ ΣΧΟΛΕ...|                             NULL|                    |                             NULL|/media/system/js/...|text/javascript|t...|\n",
      "|http://1yuva.com/...|    78.31.67.89|application/http;...|         22854|               nginx|             galerİ | mersin d...|             bir yuva; mersin ...|                    |             mimar,mersin mima...|//ajax.googleapis...|text/javascript|t...|\n",
      "+--------------------+---------------+--------------------+--------------+--------------------+---------------------------------+---------------------------------+--------------------+---------------------------------+--------------------+--------------------+\n",
      "only showing top 20 rows\n",
      "\n"
     ]
    },
    {
     "name": "stderr",
     "output_type": "stream",
     "text": [
      "                                                                                \r"
     ]
    }
   ],
   "source": [
    "array_columns = ['emails', 'script_src_attrs', 'script_type_attrs']\n",
    "for col_name in array_columns:\n",
    "    df = df.withColumn(col_name, concat_ws(\"|\", col(col_name)))\n",
    "df.show()"
   ]
  },
  {
   "cell_type": "code",
   "execution_count": 60,
   "id": "715ecc01-e31c-4010-85e8-b1e174cfc88c",
   "metadata": {},
   "outputs": [
    {
     "name": "stdout",
     "output_type": "stream",
     "text": [
      "root\n",
      " |-- warc_target_uri: string (nullable = true)\n",
      " |-- warc_ip_address: string (nullable = true)\n",
      " |-- content_type: string (nullable = true)\n",
      " |-- content_length: string (nullable = true)\n",
      " |-- server: string (nullable = true)\n",
      " |-- page_title: string (nullable = true)\n",
      " |-- page_description: string (nullable = true)\n",
      " |-- emails: string (nullable = false)\n",
      " |-- keywords: string (nullable = true)\n",
      " |-- script_src_attrs: string (nullable = false)\n",
      " |-- script_type_attrs: string (nullable = false)\n",
      "\n"
     ]
    }
   ],
   "source": [
    "df.printSchema()"
   ]
  },
  {
   "cell_type": "code",
   "execution_count": 86,
   "id": "4867effe-16d1-494d-ad40-93c75ce3a8a2",
   "metadata": {},
   "outputs": [
    {
     "data": {
      "text/plain": [
       "'/opt/workspace/datasets/common-crawl/CC-MAIN-20240725114544-20240725144544-00476_extract'"
      ]
     },
     "execution_count": 86,
     "metadata": {},
     "output_type": "execute_result"
    }
   ],
   "source": [
    "input_file.replace(\".warc\", \"_extract\")"
   ]
  },
  {
   "cell_type": "code",
   "execution_count": 87,
   "id": "7b03b7fa-86a9-4805-82a5-00d59f2a732a",
   "metadata": {},
   "outputs": [
    {
     "name": "stderr",
     "output_type": "stream",
     "text": [
      "                                                                                \r"
     ]
    }
   ],
   "source": [
    "output_file = input_file.replace(\".warc\", \"_extract\")\n",
    "df.write.option(\"delimiter\", \"\\t\").mode(\"overwrite\").csv(output_file, header=True)"
   ]
  },
  {
   "cell_type": "code",
   "execution_count": 64,
   "id": "85c29dde-1f3e-4aa2-a5da-96fd3edc1a25",
   "metadata": {},
   "outputs": [
    {
     "name": "stdout",
     "output_type": "stream",
     "text": [
      "103M\tdatasets/common-crawl/CC-MAIN-20240725114544-20240725144544-00476.warc_extract.tsv\n"
     ]
    }
   ],
   "source": [
    "!du -hs datasets/common-crawl/CC-MAIN-20240725114544-20240725144544-00476.warc_extract.tsv"
   ]
  }
 ],
 "metadata": {
  "kernelspec": {
   "display_name": "Python 3 (ipykernel)",
   "language": "python",
   "name": "python3"
  },
  "language_info": {
   "codemirror_mode": {
    "name": "ipython",
    "version": 3
   },
   "file_extension": ".py",
   "mimetype": "text/x-python",
   "name": "python",
   "nbconvert_exporter": "python",
   "pygments_lexer": "ipython3",
   "version": "3.11.9"
  }
 },
 "nbformat": 4,
 "nbformat_minor": 5
}
