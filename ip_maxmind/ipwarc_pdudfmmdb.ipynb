{
 "cells": [
  {
   "cell_type": "code",
   "execution_count": 1,
   "id": "fa3f9fa8-884d-4faa-8415-537a38c2b127",
   "metadata": {},
   "outputs": [
    {
     "name": "stderr",
     "output_type": "stream",
     "text": [
      "Setting default log level to \"WARN\".\n",
      "To adjust logging level use sc.setLogLevel(newLevel). For SparkR, use setLogLevel(newLevel).\n",
      "24/08/24 14:34:47 WARN NativeCodeLoader: Unable to load native-hadoop library for your platform... using builtin-java classes where applicable\n"
     ]
    }
   ],
   "source": [
    "from pyspark.sql import SparkSession\n",
    "spark = SparkSession.builder \\\n",
    "    .appName(\"maxmind-warc\") \\\n",
    "    .master(\"spark://spark-master:7077\") \\\n",
    "    .config(\"spark.executor.memory\", \"1g\") \\\n",
    "    .config(\"spark.executor.cores\", 1) \\\n",
    "    .config(\"spark.dynamicAllocation.enabled\", \"true\") \\\n",
    "    .config(\"spark.dynamicAllocation.shuffleTracking.enabled\", \"true\") \\\n",
    "    .config(\"spark.dynamicAllocation.initialExecutors\", 2) \\\n",
    "    .config(\"spark.dynamicAllocation.minExecutors\", 0) \\\n",
    "    .config(\"spark.dynamicAllocation.maxExecutors\", 10) \\\n",
    "    .getOrCreate()"
   ]
  },
  {
   "cell_type": "code",
   "execution_count": 2,
   "id": "2ed3c42e-b379-46c0-a8b2-839048df2c05",
   "metadata": {},
   "outputs": [],
   "source": [
    "spark.sparkContext.addPyFile(\"./warc_jobs/ip_utils.py\")"
   ]
  },
  {
   "cell_type": "code",
   "execution_count": 19,
   "id": "cf0ee38d-3971-49ea-a4fb-5925de747c57",
   "metadata": {},
   "outputs": [],
   "source": [
    "from pathlib import Path\n",
    "from warcio import ArchiveIterator\n",
    "\n",
    "import pandas as pd\n",
    "from pyspark.sql import Row\n",
    "from pyspark.sql.functions import pandas_udf\n",
    "from pyspark.sql.types import (\n",
    "    StructType,\n",
    "    StructField,\n",
    "    StringType,\n",
    "    IntegerType,\n",
    "    BooleanType,\n",
    "    FloatType\n",
    ")"
   ]
  },
  {
   "cell_type": "code",
   "execution_count": 4,
   "id": "5e44c630-aaf1-4cfb-9445-2a2b9e5af0ea",
   "metadata": {},
   "outputs": [
    {
     "name": "stdout",
     "output_type": "stream",
     "text": [
      "CC-MAIN-20240724014956-20240724044956-00798.warc     get_files.sh\n",
      "CC-MAIN-20240725114544-20240725144544-00476.warc     warc.paths\n",
      "CC-MAIN-20240725114544-20240725144544-00476_extract\n"
     ]
    }
   ],
   "source": [
    "cc_dir = Path(\"/opt/workspace/datasets/common-crawl/\")\n",
    "!ls $cc_dir"
   ]
  },
  {
   "cell_type": "code",
   "execution_count": 5,
   "id": "1df1f6f6-277b-4b61-9889-01c3bd176056",
   "metadata": {},
   "outputs": [
    {
     "name": "stdout",
     "output_type": "stream",
     "text": [
      "file 1: /opt/workspace/datasets/common-crawl/CC-MAIN-20240724014956-20240724044956-00798.warc\n",
      "\n",
      "file 2: /opt/workspace/datasets/common-crawl/CC-MAIN-20240725114544-20240725144544-00476.warc\n"
     ]
    }
   ],
   "source": [
    "warc_files = []\n",
    "with open(\"paths.txt\") as f:\n",
    "    for i, line in enumerate(f):\n",
    "        warc_files.append(Path(line.strip()))\n",
    "        print(f\"file {i+1}: {line}\")"
   ]
  },
  {
   "cell_type": "code",
   "execution_count": 6,
   "id": "ebb69b64-5628-4063-b729-f9e7dc066665",
   "metadata": {},
   "outputs": [],
   "source": [
    "def process_record(record):\n",
    "    \"\"\"Return tuple containing ip, url if record is of response type\"\"\"\n",
    "    if record.rec_type == \"response\":\n",
    "        ip = record.rec_headers.get_header(\"WARC-IP-Address\", \"-\")\n",
    "        url = record.rec_headers.get_header(\"WARC-Target-URI\", \"-\")\n",
    "        return (ip, url)\n",
    "    return None\n",
    "        \n",
    "def process_warc(filepath):\n",
    "    \"\"\"Read WARC file and yield processed records\"\"\"\n",
    "    with open(filepath, 'rb') as stream:\n",
    "        for record in ArchiveIterator(stream):\n",
    "            result = process_record(record)\n",
    "            if result:\n",
    "                yield result"
   ]
  },
  {
   "cell_type": "code",
   "execution_count": 7,
   "id": "4e41dea7-3090-40fe-9e7d-1be734fe1d98",
   "metadata": {},
   "outputs": [],
   "source": [
    "data = []\n",
    "for record in process_warc(warc_files[0]):\n",
    "    res = {\"ip\": record[0], \"hostname\": record[1]}\n",
    "    data.append(res)"
   ]
  },
  {
   "cell_type": "code",
   "execution_count": 8,
   "id": "31a0cf94-f53d-4a9e-b3cc-9857cfab83f4",
   "metadata": {},
   "outputs": [],
   "source": [
    "warciphost_df = spark.createDataFrame([Row(**d) for d in data])"
   ]
  },
  {
   "cell_type": "code",
   "execution_count": 9,
   "id": "3ba3a0c1-bb4a-4ca7-a945-54adf3783bed",
   "metadata": {},
   "outputs": [
    {
     "name": "stderr",
     "output_type": "stream",
     "text": [
      "24/08/24 14:35:10 WARN TaskSetManager: Stage 0 contains a task of very large size (1405 KiB). The maximum recommended task size is 1000 KiB.\n",
      "                                                                                \r"
     ]
    },
    {
     "name": "stdout",
     "output_type": "stream",
     "text": [
      "+---------------+--------------------+\n",
      "|             ip|            hostname|\n",
      "+---------------+--------------------+\n",
      "| 107.163.232.92|http://0.furkid.net/|\n",
      "|  192.229.64.48|http://01rt.allst...|\n",
      "|   195.170.8.34|http://0807.syzef...|\n",
      "| 107.190.226.20|http://0krls.9032...|\n",
      "| 172.67.142.198|http://101webtemp...|\n",
      "|   23.108.56.90|http://123any.com...|\n",
      "| 137.184.244.32|http://137.184.24...|\n",
      "| 172.67.198.153|http://16trader.c...|\n",
      "|  220.228.6.123|http://1700866.mk...|\n",
      "|  220.228.6.241|http://1701057.mw...|\n",
      "|    220.228.6.6|http://1746747.ut...|\n",
      "|   61.66.228.75|http://176592.s34...|\n",
      "|  77.232.40.211|http://2012god.ru...|\n",
      "|   198.2.232.33|http://201314zz.c...|\n",
      "|  220.228.6.119|http://2130148.hk...|\n",
      "| 114.118.10.124|http://21cpm.net/...|\n",
      "|107.163.236.251|http://25.lasaqls...|\n",
      "| 208.109.212.43|http://252churcht...|\n",
      "| 208.109.212.43|http://252churcht...|\n",
      "|107.163.212.188|http://3.lennonau...|\n",
      "+---------------+--------------------+\n",
      "only showing top 20 rows\n",
      "\n"
     ]
    }
   ],
   "source": [
    "warciphost_df.show()"
   ]
  },
  {
   "cell_type": "code",
   "execution_count": 10,
   "id": "a2cfb3fe-4c31-4976-9718-7d082783a99f",
   "metadata": {},
   "outputs": [],
   "source": [
    "# reader.city(\"27.7.108.104\").traits.is_anonymous_proxy,\\\n",
    "# reader.city(\"27.7.108.104\").traits.is_satellite_provider,\\\n",
    "# reader.city(\"27.7.108.104\").traits.is_hosting_provider,\\\n",
    "# reader.city(\"27.7.108.104\").postal.code,\\\n",
    "# reader.city(\"27.7.108.104\").location.latitude,\\\n",
    "# reader.city(\"27.7.108.104\").location.longitude,\\\n",
    "# reader.city(\"27.7.108.104\").location.accuracy_radius,\\\n",
    "# reader.city(\"27.7.108.104\").traits.is_anycast,\\\n",
    "# reader.city(\"27.7.108.104\").continent.code,\\\n",
    "# reader.city(\"27.7.108.104\").continent.name,\\\n",
    "# reader.city(\"27.7.108.104\").country.iso_code,\\\n",
    "# reader.city(\"27.7.108.104\").country.name,\\\n",
    "# reader.city(\"27.7.108.104\").subdivisions[0].iso_code,\\\n",
    "# reader.city(\"27.7.108.104\").subdivisions[0].name,\\\n",
    "# reader.city(\"27.7.108.104\").city.name,\\\n",
    "# reader.city(\"27.7.108.104\").location.metro_code,\\\n",
    "# reader.city(\"27.7.108.104\").location.time_zone,\\\n",
    "# reader.city(\"27.7.108.104\").represented_country.is_in_european_union"
   ]
  },
  {
   "cell_type": "code",
   "execution_count": 11,
   "id": "d189c559-f61d-4e6b-aa65-db52cd9daf17",
   "metadata": {},
   "outputs": [],
   "source": [
    "import ip_utils\n",
    "reader_broadcast = spark.sparkContext.broadcast(ip_utils.SerializableReader(\"/opt/workspace/datasets/maxmind/GeoLite2-City_20240820/GeoLite2-City.mmdb\"))"
   ]
  },
  {
   "cell_type": "code",
   "execution_count": 23,
   "id": "d2d7c2fd-2d86-40b7-9d41-8904dc9f9f7b",
   "metadata": {},
   "outputs": [],
   "source": [
    "tr = reader_broadcast.value.get_reader()"
   ]
  },
  {
   "cell_type": "code",
   "execution_count": 35,
   "id": "d572d2d9-5e36-4bac-a8f5-8b84cbf86b7d",
   "metadata": {},
   "outputs": [],
   "source": [
    "ip_info_schema = StructType([\n",
    "    StructField(\"is_anonymous_proxy\", BooleanType(), True),\n",
    "    StructField(\"is_satellite_provider\", BooleanType(), True),\n",
    "    StructField(\"is_hosting_provider\", BooleanType(), True),\n",
    "    StructField(\"postal_code\", StringType(), True),\n",
    "    StructField(\"latitude\", FloatType(), True),\n",
    "    StructField(\"longitude\", FloatType(), True),\n",
    "    StructField(\"accuracy_radius\", IntegerType(), True),\n",
    "    StructField(\"is_anycast\", BooleanType(), True),\n",
    "    StructField(\"continent_code\", StringType(), True),\n",
    "    StructField(\"continent_name\", StringType(), True),\n",
    "    StructField(\"country_iso_code\", StringType(), True),\n",
    "    StructField(\"country_name\", StringType(), True),\n",
    "    StructField(\"subdivision_iso_code\", StringType(), True),\n",
    "    StructField(\"subdivision_name\", StringType(), True),\n",
    "    StructField(\"city_name\", StringType(), True),\n",
    "    StructField(\"metro_code\", IntegerType(), True),\n",
    "    StructField(\"time_zone\", StringType(), True),\n",
    "    StructField(\"is_in_european_union\", BooleanType(), True)\n",
    "])"
   ]
  },
  {
   "cell_type": "code",
   "execution_count": 36,
   "id": "cee9a86c-6a43-4742-975c-7c0f8030b52a",
   "metadata": {},
   "outputs": [],
   "source": [
    "@pandas_udf(ip_info_schema)\n",
    "def get_ip_info(ips: pd.Series) -> pd.DataFrame:\n",
    "    result = []\n",
    "    reader = reader_broadcast.value.get_reader()\n",
    "    for ip in ips:\n",
    "        response = reader.city(ip)\n",
    "        result.append({\n",
    "            \"is_anonymous_proxy\": response.traits.is_anonymous_proxy,\n",
    "            \"is_satellite_provider\": response.traits.is_satellite_provider,\n",
    "            \"is_hosting_provider\": response.traits.is_hosting_provider,\n",
    "            \"postal_code\": response.postal.code,\n",
    "            \"latitude\": response.location.latitude,\n",
    "            \"longitude\": response.location.longitude,\n",
    "            \"accuracy_radius\": response.location.accuracy_radius,\n",
    "            \"is_anycast\": response.traits.is_anycast,\n",
    "            \"continent_code\": response.continent.code,\n",
    "            \"continent_name\": response.continent.name,\n",
    "            \"country_iso_code\": response.country.iso_code,\n",
    "            \"country_name\": response.country.name,\n",
    "            \"subdivision_iso_code\": response.subdivisions[0].iso_code if response.subdivisions else None,\n",
    "            \"subdivision_name\": response.subdivisions[0].name if response.subdivisions else None,\n",
    "            \"city_name\": response.city.name,\n",
    "            \"metro_code\": response.location.metro_code,\n",
    "            \"time_zone\": response.location.time_zone,\n",
    "            \"is_in_european_union\": response.represented_country.is_in_european_union\n",
    "        })\n",
    "    return pd.DataFrame(result)        \n"
   ]
  },
  {
   "cell_type": "code",
   "execution_count": 37,
   "id": "90555685-e3d6-45fe-ba50-133bc283d0ca",
   "metadata": {},
   "outputs": [],
   "source": [
    "result_df = warciphost_df.withColumn(\"ip_info\", get_ip_info(\"ip\"))"
   ]
  },
  {
   "cell_type": "code",
   "execution_count": 38,
   "id": "049c2a18-d0f8-4ba1-928c-524b3a3b9000",
   "metadata": {
    "scrolled": true
   },
   "outputs": [
    {
     "name": "stderr",
     "output_type": "stream",
     "text": [
      "24/08/24 14:51:35 WARN TaskSetManager: Stage 6 contains a task of very large size (1405 KiB). The maximum recommended task size is 1000 KiB.\n"
     ]
    },
    {
     "name": "stdout",
     "output_type": "stream",
     "text": [
      "+---------------+--------------------+--------------------+\n",
      "|             ip|            hostname|             ip_info|\n",
      "+---------------+--------------------+--------------------+\n",
      "| 107.163.232.92|http://0.furkid.net/|{false, false, fa...|\n",
      "|  192.229.64.48|http://01rt.allst...|{false, false, fa...|\n",
      "|   195.170.8.34|http://0807.syzef...|{false, false, fa...|\n",
      "| 107.190.226.20|http://0krls.9032...|{false, false, fa...|\n",
      "| 172.67.142.198|http://101webtemp...|{false, false, fa...|\n",
      "|   23.108.56.90|http://123any.com...|{false, false, fa...|\n",
      "| 137.184.244.32|http://137.184.24...|{false, false, fa...|\n",
      "| 172.67.198.153|http://16trader.c...|{false, false, fa...|\n",
      "|  220.228.6.123|http://1700866.mk...|{false, false, fa...|\n",
      "|  220.228.6.241|http://1701057.mw...|{false, false, fa...|\n",
      "|    220.228.6.6|http://1746747.ut...|{false, false, fa...|\n",
      "|   61.66.228.75|http://176592.s34...|{false, false, fa...|\n",
      "|  77.232.40.211|http://2012god.ru...|{false, false, fa...|\n",
      "|   198.2.232.33|http://201314zz.c...|{false, false, fa...|\n",
      "|  220.228.6.119|http://2130148.hk...|{false, false, fa...|\n",
      "| 114.118.10.124|http://21cpm.net/...|{false, false, fa...|\n",
      "|107.163.236.251|http://25.lasaqls...|{false, false, fa...|\n",
      "| 208.109.212.43|http://252churcht...|{false, false, fa...|\n",
      "| 208.109.212.43|http://252churcht...|{false, false, fa...|\n",
      "|107.163.212.188|http://3.lennonau...|{false, false, fa...|\n",
      "+---------------+--------------------+--------------------+\n",
      "only showing top 20 rows\n",
      "\n"
     ]
    }
   ],
   "source": [
    "result_df.show()"
   ]
  },
  {
   "cell_type": "code",
   "execution_count": 39,
   "id": "8485a15d-3098-4ad2-ac24-116c21373f59",
   "metadata": {},
   "outputs": [],
   "source": [
    "final_df = result_df.select(\"ip\", \"ip_info.*\")"
   ]
  },
  {
   "cell_type": "code",
   "execution_count": 40,
   "id": "3576874d-85b8-46c2-84a9-7c03ef6bdaee",
   "metadata": {},
   "outputs": [
    {
     "name": "stderr",
     "output_type": "stream",
     "text": [
      "24/08/24 14:51:38 WARN TaskSetManager: Stage 7 contains a task of very large size (1405 KiB). The maximum recommended task size is 1000 KiB.\n"
     ]
    },
    {
     "name": "stdout",
     "output_type": "stream",
     "text": [
      "+---------------+------------------+---------------------+-------------------+-----------+--------+---------+---------------+----------+--------------+--------------+----------------+-------------+--------------------+----------------+---------------+----------+-------------------+--------------------+\n",
      "|             ip|is_anonymous_proxy|is_satellite_provider|is_hosting_provider|postal_code|latitude|longitude|accuracy_radius|is_anycast|continent_code|continent_name|country_iso_code| country_name|subdivision_iso_code|subdivision_name|      city_name|metro_code|          time_zone|is_in_european_union|\n",
      "+---------------+------------------+---------------------+-------------------+-----------+--------+---------+---------------+----------+--------------+--------------+----------------+-------------+--------------------+----------------+---------------+----------+-------------------+--------------------+\n",
      "| 107.163.232.92|             false|                false|              false|       NULL|  37.751|  -97.822|           1000|     false|            NA| North America|              US|United States|                NULL|            NULL|           NULL|      NULL|    America/Chicago|               false|\n",
      "|  192.229.64.48|             false|                false|              false|      90060| 34.0544|-118.2441|           1000|     false|            NA| North America|              US|United States|                  CA|      California|    Los Angeles|       803|America/Los_Angeles|               false|\n",
      "|   195.170.8.34|             false|                false|              false|       NULL| 38.0459|  23.7968|             20|     false|            EU|        Europe|              GR|       Greece|                   I|          Attica|        Marousi|      NULL|      Europe/Athens|               false|\n",
      "| 107.190.226.20|             false|                false|              false|       NULL|  37.751|  -97.822|           1000|     false|            NA| North America|              US|United States|                NULL|            NULL|           NULL|      NULL|    America/Chicago|               false|\n",
      "| 172.67.142.198|             false|                false|              false|       NULL|    NULL|     NULL|           NULL|     false|          NULL|          NULL|            NULL|         NULL|                NULL|            NULL|           NULL|      NULL|               NULL|               false|\n",
      "|   23.108.56.90|             false|                false|              false|      33197| 25.7689| -80.1946|           1000|     false|            NA| North America|              US|United States|                  FL|         Florida|          Miami|       528|   America/New_York|               false|\n",
      "| 137.184.244.32|             false|                false|              false|      95054| 37.3931| -121.962|             20|     false|            NA| North America|              US|United States|                  CA|      California|    Santa Clara|       807|America/Los_Angeles|               false|\n",
      "| 172.67.198.153|             false|                false|              false|       NULL|    NULL|     NULL|           NULL|     false|          NULL|          NULL|            NULL|         NULL|                NULL|            NULL|           NULL|      NULL|               NULL|               false|\n",
      "|  220.228.6.123|             false|                false|              false|       NULL| 25.0613| 121.5705|            100|     false|            AS|          Asia|              TW|       Taiwan|                 NWT| New Taipei City|        Jinshan|      NULL|        Asia/Taipei|               false|\n",
      "|  220.228.6.241|             false|                false|              false|       NULL| 25.0613| 121.5705|            100|     false|            AS|          Asia|              TW|       Taiwan|                 NWT| New Taipei City|        Jinshan|      NULL|        Asia/Taipei|               false|\n",
      "|    220.228.6.6|             false|                false|              false|       NULL| 25.0613| 121.5705|            100|     false|            AS|          Asia|              TW|       Taiwan|                 NWT| New Taipei City|        Jinshan|      NULL|        Asia/Taipei|               false|\n",
      "|   61.66.228.75|             false|                false|              false|       NULL| 24.9466|  121.586|             10|     false|            AS|          Asia|              TW|       Taiwan|                 NWT| New Taipei City|New Taipei City|      NULL|        Asia/Taipei|               false|\n",
      "|  77.232.40.211|             false|                false|              false|       NULL| 55.7386|  37.6068|           1000|     false|            EU|        Europe|              RU|       Russia|                NULL|            NULL|           NULL|      NULL|      Europe/Moscow|               false|\n",
      "|   198.2.232.33|             false|                false|              false|       NULL|  37.751|  -97.822|           1000|     false|            NA| North America|              US|United States|                NULL|            NULL|           NULL|      NULL|    America/Chicago|               false|\n",
      "|  220.228.6.119|             false|                false|              false|       NULL| 25.0613| 121.5705|            100|     false|            AS|          Asia|              TW|       Taiwan|                 NWT| New Taipei City|        Jinshan|      NULL|        Asia/Taipei|               false|\n",
      "| 114.118.10.124|             false|                false|              false|       NULL| 34.7732|  113.722|           1000|     false|            AS|          Asia|              CN|        China|                NULL|            NULL|           NULL|      NULL|      Asia/Shanghai|               false|\n",
      "|107.163.236.251|             false|                false|              false|       NULL|  37.751|  -97.822|           1000|     false|            NA| North America|              US|United States|                NULL|            NULL|           NULL|      NULL|    America/Chicago|               false|\n",
      "| 208.109.212.43|             false|                false|              false|       NULL|  37.751|  -97.822|           1000|     false|            NA| North America|              US|United States|                NULL|            NULL|           NULL|      NULL|    America/Chicago|               false|\n",
      "| 208.109.212.43|             false|                false|              false|       NULL|  37.751|  -97.822|           1000|     false|            NA| North America|              US|United States|                NULL|            NULL|           NULL|      NULL|    America/Chicago|               false|\n",
      "|107.163.212.188|             false|                false|              false|       NULL|  37.751|  -97.822|           1000|     false|            NA| North America|              US|United States|                NULL|            NULL|           NULL|      NULL|    America/Chicago|               false|\n",
      "+---------------+------------------+---------------------+-------------------+-----------+--------+---------+---------------+----------+--------------+--------------+----------------+-------------+--------------------+----------------+---------------+----------+-------------------+--------------------+\n",
      "only showing top 20 rows\n",
      "\n"
     ]
    },
    {
     "name": "stderr",
     "output_type": "stream",
     "text": [
      "24/08/24 14:52:44 WARN BlockManagerMasterEndpoint: No more replicas available for broadcast_1_python !\n"
     ]
    }
   ],
   "source": [
    "final_df.show()"
   ]
  },
  {
   "cell_type": "code",
   "execution_count": null,
   "id": "274c0313-6a7e-4924-9e45-65334c5391ac",
   "metadata": {},
   "outputs": [],
   "source": []
  }
 ],
 "metadata": {
  "kernelspec": {
   "display_name": "Python 3 (ipykernel)",
   "language": "python",
   "name": "python3"
  },
  "language_info": {
   "codemirror_mode": {
    "name": "ipython",
    "version": 3
   },
   "file_extension": ".py",
   "mimetype": "text/x-python",
   "name": "python",
   "nbconvert_exporter": "python",
   "pygments_lexer": "ipython3",
   "version": "3.11.9"
  }
 },
 "nbformat": 4,
 "nbformat_minor": 5
}
