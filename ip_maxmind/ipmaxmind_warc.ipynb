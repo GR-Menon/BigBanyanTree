{
 "cells": [
  {
   "cell_type": "code",
   "execution_count": 1,
   "id": "cedabf14-a1de-45fc-8c91-2bb147ed2543",
   "metadata": {
    "scrolled": true
   },
   "outputs": [
    {
     "name": "stderr",
     "output_type": "stream",
     "text": [
      "Setting default log level to \"WARN\".\n",
      "To adjust logging level use sc.setLogLevel(newLevel). For SparkR, use setLogLevel(newLevel).\n",
      "24/08/20 14:13:58 WARN NativeCodeLoader: Unable to load native-hadoop library for your platform... using builtin-java classes where applicable\n"
     ]
    }
   ],
   "source": [
    "from pyspark.sql import SparkSession\n",
    "spark = SparkSession.builder \\\n",
    "    .appName(\"maxmind-warc\") \\\n",
    "    .master(\"spark://spark-master:7077\") \\\n",
    "    .config(\"spark.executor.memory\", \"1g\") \\\n",
    "    .config(\"spark.executor.cores\", 1) \\\n",
    "    .config(\"spark.dynamicAllocation.enabled\", \"true\") \\\n",
    "    .config(\"spark.dynamicAllocation.shuffleTracking.enabled\", \"true\") \\\n",
    "    .config(\"spark.dynamicAllocation.initialExecutors\", 2) \\\n",
    "    .config(\"spark.dynamicAllocation.minExecutors\", 0) \\\n",
    "    .config(\"spark.dynamicAllocation.maxExecutors\", 10) \\\n",
    "    .getOrCreate()"
   ]
  },
  {
   "cell_type": "code",
   "execution_count": 2,
   "id": "8f593af3-b3b9-44ad-95ab-1f2fcad1c6ff",
   "metadata": {},
   "outputs": [],
   "source": [
    "from pathlib import Path\n",
    "\n",
    "from warcio import ArchiveIterator\n",
    "from pyspark.sql.types import StructType, StructField, StringType, LongType\n",
    "from pyspark.sql.functions import udf, col"
   ]
  },
  {
   "cell_type": "code",
   "execution_count": 3,
   "id": "470012ab-4b9b-45bd-9f0c-cd255e210019",
   "metadata": {},
   "outputs": [
    {
     "name": "stdout",
     "output_type": "stream",
     "text": [
      "CC-MAIN-20240724014956-20240724044956-00798.warc     get_files.sh\n",
      "CC-MAIN-20240725114544-20240725144544-00476.warc     warc.paths\n",
      "CC-MAIN-20240725114544-20240725144544-00476_extract\n"
     ]
    }
   ],
   "source": [
    "cc_dir = Path(\"/opt/workspace/datasets/common-crawl/\")\n",
    "!ls $cc_dir"
   ]
  },
  {
   "cell_type": "code",
   "execution_count": 4,
   "id": "38853c48-26bd-4c2d-bad5-fd7a4ae3ad32",
   "metadata": {},
   "outputs": [
    {
     "name": "stdout",
     "output_type": "stream",
     "text": [
      "file 1: /opt/workspace/datasets/common-crawl/CC-MAIN-20240724014956-20240724044956-00798.warc\n",
      "\n",
      "file 2: /opt/workspace/datasets/common-crawl/CC-MAIN-20240725114544-20240725144544-00476.warc\n"
     ]
    }
   ],
   "source": [
    "warc_files = []\n",
    "with open(\"paths.txt\") as f:\n",
    "    for i, line in enumerate(f):\n",
    "        warc_files.append(Path(line.strip()))\n",
    "        print(f\"file {i+1}: {line}\")"
   ]
  },
  {
   "cell_type": "code",
   "execution_count": 5,
   "id": "fe2b7069-9895-4095-a672-a609333533f5",
   "metadata": {},
   "outputs": [
    {
     "data": {
      "text/plain": [
       "[PosixPath('/opt/workspace/datasets/common-crawl/CC-MAIN-20240724014956-20240724044956-00798.warc'),\n",
       " PosixPath('/opt/workspace/datasets/common-crawl/CC-MAIN-20240725114544-20240725144544-00476.warc')]"
      ]
     },
     "execution_count": 5,
     "metadata": {},
     "output_type": "execute_result"
    }
   ],
   "source": [
    "warc_files"
   ]
  },
  {
   "cell_type": "code",
   "execution_count": 6,
   "id": "cb5c68d0-2114-4d97-86bc-e18405344f6c",
   "metadata": {
    "scrolled": true
   },
   "outputs": [
    {
     "name": "stdout",
     "output_type": "stream",
     "text": [
      "Record headers: WARC/1.0\n",
      "WARC-Type: response\n",
      "WARC-Date: 2024-07-24T02:50:03Z\n",
      "WARC-Record-ID: <urn:uuid:f1ee65d4-9676-42a8-9e58-4255974742d2>\n",
      "Content-Length: 104808\n",
      "Content-Type: application/http; msgtype=response\n",
      "WARC-Warcinfo-ID: <urn:uuid:e9e442c8-3d43-4395-a202-dd2aa8c91b0a>\n",
      "WARC-Concurrent-To: <urn:uuid:d7712f1c-2f25-4280-9c3c-6a0bb149d67a>\n",
      "WARC-IP-Address: 107.163.232.92\n",
      "WARC-Target-URI: http://0.furkid.net/\n",
      "WARC-Protocol: http/1.1\n",
      "WARC-Payload-Digest: sha1:7TBKRIWHL3ND2HAIEPKDTARXTOYGYESP\n",
      "WARC-Block-Digest: sha1:FWGYYUJS6NSB5DLDH2C4PHJDCWQAESPZ\n",
      "WARC-Identified-Payload-Type: text/html\n",
      "\n",
      "Record headers: WARC/1.0\n",
      "WARC-Type: response\n",
      "WARC-Date: 2024-07-24T02:42:19Z\n",
      "WARC-Record-ID: <urn:uuid:c0beded9-7d7b-4a3d-b4ef-161431f16cf1>\n",
      "Content-Length: 154\n",
      "Content-Type: application/http; msgtype=response\n",
      "WARC-Warcinfo-ID: <urn:uuid:e9e442c8-3d43-4395-a202-dd2aa8c91b0a>\n",
      "WARC-Concurrent-To: <urn:uuid:86f9ed18-d923-4e5f-90a7-af5565d2e7bd>\n",
      "WARC-IP-Address: 192.229.64.48\n",
      "WARC-Target-URI: http://01rt.allstarpestprofessionalstx.com/waibao.html?nid=10&id=102\n",
      "WARC-Protocol: http/1.1\n",
      "WARC-Payload-Digest: sha1:3I42H3S6NNFQ2MSVX7XZKYAYSCX5QBYJ\n",
      "WARC-Block-Digest: sha1:OL2BFMGBCWAJMWOWF7A2K4UI4GH5E2ZF\n",
      "WARC-Identified-Payload-Type: text/html\n",
      "\n"
     ]
    }
   ],
   "source": [
    "max_records = 2\n",
    "input_file = cc_dir/warc_files[0]\n",
    "\n",
    "with open(input_file, 'rb') as file_stream:\n",
    "    record_num = 0\n",
    "    for record in ArchiveIterator(file_stream):\n",
    "        if record.rec_type == \"response\":\n",
    "            record_num += 1\n",
    "            print(f\"Record headers: {record.rec_headers}\")\n",
    "        if record_num == max_records: break"
   ]
  },
  {
   "cell_type": "code",
   "execution_count": 7,
   "id": "31390ac4-c518-4c86-a582-6182979af79e",
   "metadata": {},
   "outputs": [],
   "source": [
    "schema = StructType([\n",
    "    StructField(\"ip\", StringType(), True),\n",
    "])"
   ]
  },
  {
   "cell_type": "code",
   "execution_count": 8,
   "id": "4f657743-c624-44b3-a93e-3f6086513113",
   "metadata": {},
   "outputs": [],
   "source": [
    "def process_warc(filepath):\n",
    "    \"\"\"Yield tuple containing ip, url if record is of response type\"\"\"\n",
    "    with open(filepath, 'rb') as stream:\n",
    "        for record in ArchiveIterator(stream):\n",
    "            if record.rec_type == \"response\":\n",
    "                yield record.rec_headers.get_header(\"WARC-IP-Address\", \"-\")\n",
    "\n",
    "def proc_wrapper(_id, iterator):\n",
    "    \"\"\"Wrapper function for `process_warc` to handle multiple `warc` files\"\"\"\n",
    "    for filepath in iterator:\n",
    "        for res in process_warc(filepath):\n",
    "            yield res"
   ]
  },
  {
   "cell_type": "markdown",
   "id": "e48307c3-2cbc-441d-81b1-64e51c0cad3a",
   "metadata": {},
   "source": [
    "Collection of shape `n, 1` is expected and not `1, n`. Hence the mapping on `output` below."
   ]
  },
  {
   "cell_type": "code",
   "execution_count": 9,
   "id": "a30ef8c5-23ec-4046-bf01-6344cd1e49b4",
   "metadata": {},
   "outputs": [],
   "source": [
    "data_files = spark.sparkContext.textFile(\"/opt/workspace/paths.txt\")\n",
    "output = data_files.mapPartitionsWithIndex(proc_wrapper)\n",
    "output = output.map(lambda x: [x])"
   ]
  },
  {
   "cell_type": "code",
   "execution_count": 10,
   "id": "197899be-9175-4f78-bad7-7ed4f447915b",
   "metadata": {},
   "outputs": [
    {
     "name": "stderr",
     "output_type": "stream",
     "text": [
      "                                                                                \r"
     ]
    },
    {
     "data": {
      "text/plain": [
       "[['107.163.232.92'],\n",
       " ['192.229.64.48'],\n",
       " ['195.170.8.34'],\n",
       " ['107.190.226.20'],\n",
       " ['172.67.142.198']]"
      ]
     },
     "execution_count": 10,
     "metadata": {},
     "output_type": "execute_result"
    }
   ],
   "source": [
    "output.collect()[:5]"
   ]
  },
  {
   "cell_type": "code",
   "execution_count": 11,
   "id": "2749aaae-7ad0-438a-83ac-b4eb9734c84c",
   "metadata": {},
   "outputs": [
    {
     "name": "stdout",
     "output_type": "stream",
     "text": [
      "+---------------+\n",
      "|             ip|\n",
      "+---------------+\n",
      "| 107.163.232.92|\n",
      "|  192.229.64.48|\n",
      "|   195.170.8.34|\n",
      "| 107.190.226.20|\n",
      "| 172.67.142.198|\n",
      "|   23.108.56.90|\n",
      "| 137.184.244.32|\n",
      "| 172.67.198.153|\n",
      "|  220.228.6.123|\n",
      "|  220.228.6.241|\n",
      "|    220.228.6.6|\n",
      "|   61.66.228.75|\n",
      "|  77.232.40.211|\n",
      "|   198.2.232.33|\n",
      "|  220.228.6.119|\n",
      "| 114.118.10.124|\n",
      "|107.163.236.251|\n",
      "| 208.109.212.43|\n",
      "| 208.109.212.43|\n",
      "|107.163.212.188|\n",
      "+---------------+\n",
      "only showing top 20 rows\n",
      "\n"
     ]
    }
   ],
   "source": [
    "warcip_df = spark.createDataFrame(output, schema=schema); warcip_df.show()"
   ]
  },
  {
   "cell_type": "code",
   "execution_count": 12,
   "id": "4782ddd6-66d2-4e73-9ed8-f117d5d42bef",
   "metadata": {},
   "outputs": [
    {
     "name": "stderr",
     "output_type": "stream",
     "text": [
      "                                                                                \r"
     ]
    },
    {
     "data": {
      "text/plain": [
       "56366"
      ]
     },
     "execution_count": 12,
     "metadata": {},
     "output_type": "execute_result"
    }
   ],
   "source": [
    "warcip_df.count()"
   ]
  },
  {
   "cell_type": "code",
   "execution_count": 13,
   "id": "671cb673-d53e-4d89-a1c1-8ba1a041c69a",
   "metadata": {},
   "outputs": [],
   "source": [
    "maxmind_blocks_csv = \"/opt/workspace/datasets/maxmind/GeoLite2-City-CSV_20240809/GeoLite2-City-Blocks-IPv4.csv\"\n",
    "maxmind_city_csv = \"/opt/workspace/datasets/maxmind/GeoLite2-City-CSV_20240809/GeoLite2-City-Locations-en.csv\""
   ]
  },
  {
   "cell_type": "code",
   "execution_count": 14,
   "id": "a4847417-3eec-43c6-8601-370920bef8ea",
   "metadata": {},
   "outputs": [
    {
     "name": "stderr",
     "output_type": "stream",
     "text": [
      "                                                                                \r"
     ]
    }
   ],
   "source": [
    "maxmind_blocks_df = spark.read\\\n",
    "        .format(\"csv\")\\\n",
    "        .option(\"header\", \"true\")\\\n",
    "        .option(\"inferSchema\", \"true\")\\\n",
    "        .load(maxmind_blocks_csv)"
   ]
  },
  {
   "cell_type": "code",
   "execution_count": 15,
   "id": "e20a03aa-166f-40eb-96a3-485c7b848fc2",
   "metadata": {},
   "outputs": [
    {
     "name": "stdout",
     "output_type": "stream",
     "text": [
      "+-------------+----------+-----------------------------+------------------------------+------------------+---------------------+-----------+--------+---------+---------------+----------+\n",
      "|      network|geoname_id|registered_country_geoname_id|represented_country_geoname_id|is_anonymous_proxy|is_satellite_provider|postal_code|latitude|longitude|accuracy_radius|is_anycast|\n",
      "+-------------+----------+-----------------------------+------------------------------+------------------+---------------------+-----------+--------+---------+---------------+----------+\n",
      "|   1.0.0.0/24|      NULL|                      2077456|                          NULL|                 0|                    0|       NULL|    NULL|     NULL|           NULL|      NULL|\n",
      "|   1.0.1.0/24|   1814991|                      1814991|                          NULL|                 0|                    0|       NULL| 34.7732|  113.722|           1000|      NULL|\n",
      "|   1.0.2.0/23|   1814991|                      1814991|                          NULL|                 0|                    0|       NULL| 34.7732|  113.722|           1000|      NULL|\n",
      "|   1.0.4.0/22|   2077456|                      2077456|                          NULL|                 0|                    0|       NULL| -33.494| 143.2104|           1000|      NULL|\n",
      "|   1.0.8.0/21|   1814991|                      1814991|                          NULL|                 0|                    0|       NULL| 34.7732|  113.722|           1000|      NULL|\n",
      "|  1.0.16.0/20|   1861060|                      1861060|                          NULL|                 0|                    0|       NULL| 35.6897| 139.6895|            500|      NULL|\n",
      "|  1.0.32.0/19|   1814991|                      1814991|                          NULL|                 0|                    0|       NULL| 34.7732|  113.722|           1000|      NULL|\n",
      "|  1.0.64.0/20|   1862415|                      1861060|                          NULL|                 0|                    0|   730-0851| 34.3927| 132.4501|             10|      NULL|\n",
      "|  1.0.80.0/20|   1857550|                      1861060|                          NULL|                 0|                    0|   690-0871| 35.4785| 133.0489|            100|      NULL|\n",
      "|  1.0.96.0/20|   1848277|                      1861060|                          NULL|                 0|                    0|   683-0841| 35.4482| 133.3075|            100|      NULL|\n",
      "| 1.0.112.0/20|   1861084|                      1861060|                          NULL|                 0|                    0|   693-0001| 35.3596| 132.7525|            100|      NULL|\n",
      "| 1.0.128.0/20|   1609350|                      1605651|                          NULL|                 0|                    0|      10200| 13.7512| 100.5172|             20|      NULL|\n",
      "| 1.0.144.0/20|   1152633|                      1605651|                          NULL|                 0|                    0|      81000|  8.1206|  99.0209|            200|      NULL|\n",
      "| 1.0.160.0/22|   1151254|                      1605651|                          NULL|                 0|                    0|      83110|  7.9833|  98.3662|            500|      NULL|\n",
      "| 1.0.164.0/28|   1151254|                      1605651|                          NULL|                 0|                    0|      83110|  7.9833|  98.3662|            500|      NULL|\n",
      "|1.0.164.16/30|   1151254|                      1605651|                          NULL|                 0|                    0|      83110|  7.9833|  98.3662|            500|      NULL|\n",
      "|1.0.164.20/31|   1151254|                      1605651|                          NULL|                 0|                    0|      83110|  7.9833|  98.3662|            500|      NULL|\n",
      "|1.0.164.23/32|   1151254|                      1605651|                          NULL|                 0|                    0|      83110|  7.9833|  98.3662|            500|      NULL|\n",
      "|1.0.164.24/29|   1151254|                      1605651|                          NULL|                 0|                    0|      83110|  7.9833|  98.3662|            500|      NULL|\n",
      "|1.0.164.32/27|   1151254|                      1605651|                          NULL|                 0|                    0|      83110|  7.9833|  98.3662|            500|      NULL|\n",
      "+-------------+----------+-----------------------------+------------------------------+------------------+---------------------+-----------+--------+---------+---------------+----------+\n",
      "only showing top 20 rows\n",
      "\n"
     ]
    }
   ],
   "source": [
    "maxmind_blocks_df.show()"
   ]
  },
  {
   "cell_type": "code",
   "execution_count": 16,
   "id": "a4f9e571-f364-435c-9b93-6f4019810bab",
   "metadata": {},
   "outputs": [
    {
     "data": {
      "text/plain": [
       "2419710"
      ]
     },
     "execution_count": 16,
     "metadata": {},
     "output_type": "execute_result"
    }
   ],
   "source": [
    "maxmind_blocks_df.count()"
   ]
  },
  {
   "cell_type": "code",
   "execution_count": 17,
   "id": "d3e8b6c0-5be6-4fd0-98f9-110b80817ce1",
   "metadata": {},
   "outputs": [
    {
     "name": "stdout",
     "output_type": "stream",
     "text": [
      "root\n",
      " |-- network: string (nullable = true)\n",
      " |-- geoname_id: integer (nullable = true)\n",
      " |-- registered_country_geoname_id: integer (nullable = true)\n",
      " |-- represented_country_geoname_id: integer (nullable = true)\n",
      " |-- is_anonymous_proxy: integer (nullable = true)\n",
      " |-- is_satellite_provider: integer (nullable = true)\n",
      " |-- postal_code: string (nullable = true)\n",
      " |-- latitude: double (nullable = true)\n",
      " |-- longitude: double (nullable = true)\n",
      " |-- accuracy_radius: integer (nullable = true)\n",
      " |-- is_anycast: string (nullable = true)\n",
      "\n"
     ]
    }
   ],
   "source": [
    "maxmind_blocks_df.printSchema()"
   ]
  },
  {
   "cell_type": "code",
   "execution_count": 18,
   "id": "b256bb7b-8474-406e-8f96-099c72072aac",
   "metadata": {},
   "outputs": [],
   "source": [
    "\n",
    "import ipaddress"
   ]
  },
  {
   "cell_type": "code",
   "execution_count": 19,
   "id": "c8dcb984-c9fb-4aa5-9f3a-26227044d261",
   "metadata": {},
   "outputs": [
    {
     "data": {
      "text/plain": [
       "IPv4Address('1.0.164.19')"
      ]
     },
     "execution_count": 19,
     "metadata": {},
     "output_type": "execute_result"
    }
   ],
   "source": [
    "ipaddress.IPv4Network(\"1.0.164.16/30\").broadcast_address"
   ]
  },
  {
   "cell_type": "code",
   "execution_count": 20,
   "id": "049142a9-a45f-4b28-92c8-b1f93c02a2c8",
   "metadata": {},
   "outputs": [],
   "source": [
    "@udf(returnType=LongType())\n",
    "def ip_to_int(ip):\n",
    "    \"\"\"Converts IPV4 to int representation.\"\"\"\n",
    "    return int(ipaddress.IPv4Address(ip))\n",
    "\n",
    "@udf(returnType=StructType([\n",
    "    StructField(\"start_ip\", LongType(), False),\n",
    "    StructField(\"end_ip\", LongType(), False)\n",
    "]))\n",
    "def cidr_to_range(cidr):\n",
    "    \"\"\"Converts IPV4 network (CIDR blocks) to starting and ending range int representations of IPV4.\"\"\"\n",
    "    cidr = ipaddress.IPv4Network(cidr)\n",
    "    return int(cidr.network_address), int(cidr.broadcast_address)"
   ]
  },
  {
   "cell_type": "code",
   "execution_count": 21,
   "id": "dd6db167-cda6-4c55-aa0d-9890d6800e42",
   "metadata": {},
   "outputs": [],
   "source": [
    "warcip_df = warcip_df.withColumn(\"ip_int\", ip_to_int(col(\"ip\")))"
   ]
  },
  {
   "cell_type": "code",
   "execution_count": 22,
   "id": "622331f1-f117-4e9e-b534-56ec979a7f3e",
   "metadata": {},
   "outputs": [],
   "source": [
    "maxmind_blocks_df = maxmind_blocks_df.withColumn(\"cidr_range\", cidr_to_range(col(\"network\")))\\\n",
    "             .withColumn(\"cidr_start\", col(\"cidr_range.start_ip\"))\\\n",
    "             .withColumn(\"cidr_end\", col(\"cidr_range.end_ip\"))\\\n",
    "             .drop(\"cidr_range\")"
   ]
  },
  {
   "cell_type": "code",
   "execution_count": 23,
   "id": "e881e0ed-9a52-42ea-ad29-bea7c3b841b3",
   "metadata": {},
   "outputs": [
    {
     "name": "stdout",
     "output_type": "stream",
     "text": [
      "+-------------+----------+-----------------------------+------------------------------+------------------+---------------------+-----------+--------+---------+---------------+----------+----------+--------+\n",
      "|      network|geoname_id|registered_country_geoname_id|represented_country_geoname_id|is_anonymous_proxy|is_satellite_provider|postal_code|latitude|longitude|accuracy_radius|is_anycast|cidr_start|cidr_end|\n",
      "+-------------+----------+-----------------------------+------------------------------+------------------+---------------------+-----------+--------+---------+---------------+----------+----------+--------+\n",
      "|   1.0.0.0/24|      NULL|                      2077456|                          NULL|                 0|                    0|       NULL|    NULL|     NULL|           NULL|      NULL|  16777216|16777471|\n",
      "|   1.0.1.0/24|   1814991|                      1814991|                          NULL|                 0|                    0|       NULL| 34.7732|  113.722|           1000|      NULL|  16777472|16777727|\n",
      "|   1.0.2.0/23|   1814991|                      1814991|                          NULL|                 0|                    0|       NULL| 34.7732|  113.722|           1000|      NULL|  16777728|16778239|\n",
      "|   1.0.4.0/22|   2077456|                      2077456|                          NULL|                 0|                    0|       NULL| -33.494| 143.2104|           1000|      NULL|  16778240|16779263|\n",
      "|   1.0.8.0/21|   1814991|                      1814991|                          NULL|                 0|                    0|       NULL| 34.7732|  113.722|           1000|      NULL|  16779264|16781311|\n",
      "|  1.0.16.0/20|   1861060|                      1861060|                          NULL|                 0|                    0|       NULL| 35.6897| 139.6895|            500|      NULL|  16781312|16785407|\n",
      "|  1.0.32.0/19|   1814991|                      1814991|                          NULL|                 0|                    0|       NULL| 34.7732|  113.722|           1000|      NULL|  16785408|16793599|\n",
      "|  1.0.64.0/20|   1862415|                      1861060|                          NULL|                 0|                    0|   730-0851| 34.3927| 132.4501|             10|      NULL|  16793600|16797695|\n",
      "|  1.0.80.0/20|   1857550|                      1861060|                          NULL|                 0|                    0|   690-0871| 35.4785| 133.0489|            100|      NULL|  16797696|16801791|\n",
      "|  1.0.96.0/20|   1848277|                      1861060|                          NULL|                 0|                    0|   683-0841| 35.4482| 133.3075|            100|      NULL|  16801792|16805887|\n",
      "| 1.0.112.0/20|   1861084|                      1861060|                          NULL|                 0|                    0|   693-0001| 35.3596| 132.7525|            100|      NULL|  16805888|16809983|\n",
      "| 1.0.128.0/20|   1609350|                      1605651|                          NULL|                 0|                    0|      10200| 13.7512| 100.5172|             20|      NULL|  16809984|16814079|\n",
      "| 1.0.144.0/20|   1152633|                      1605651|                          NULL|                 0|                    0|      81000|  8.1206|  99.0209|            200|      NULL|  16814080|16818175|\n",
      "| 1.0.160.0/22|   1151254|                      1605651|                          NULL|                 0|                    0|      83110|  7.9833|  98.3662|            500|      NULL|  16818176|16819199|\n",
      "| 1.0.164.0/28|   1151254|                      1605651|                          NULL|                 0|                    0|      83110|  7.9833|  98.3662|            500|      NULL|  16819200|16819215|\n",
      "|1.0.164.16/30|   1151254|                      1605651|                          NULL|                 0|                    0|      83110|  7.9833|  98.3662|            500|      NULL|  16819216|16819219|\n",
      "|1.0.164.20/31|   1151254|                      1605651|                          NULL|                 0|                    0|      83110|  7.9833|  98.3662|            500|      NULL|  16819220|16819221|\n",
      "|1.0.164.23/32|   1151254|                      1605651|                          NULL|                 0|                    0|      83110|  7.9833|  98.3662|            500|      NULL|  16819223|16819223|\n",
      "|1.0.164.24/29|   1151254|                      1605651|                          NULL|                 0|                    0|      83110|  7.9833|  98.3662|            500|      NULL|  16819224|16819231|\n",
      "|1.0.164.32/27|   1151254|                      1605651|                          NULL|                 0|                    0|      83110|  7.9833|  98.3662|            500|      NULL|  16819232|16819263|\n",
      "+-------------+----------+-----------------------------+------------------------------+------------------+---------------------+-----------+--------+---------+---------------+----------+----------+--------+\n",
      "only showing top 20 rows\n",
      "\n"
     ]
    }
   ],
   "source": [
    "maxmind_blocks_df.show()"
   ]
  },
  {
   "cell_type": "code",
   "execution_count": 24,
   "id": "31d227bf-0a76-4034-91f1-1130bd6e5c12",
   "metadata": {},
   "outputs": [],
   "source": [
    "# left joins `warcip_df` and `maxmind_blocks_df` retaining everything\n",
    "# from the 1st table and \"attaching\" available values from the 2nd table\n",
    "maxmind_joined_df = warcip_df.join(maxmind_blocks_df, \n",
    "        (warcip_df.ip_int >= maxmind_blocks_df.cidr_start) &\n",
    "        (warcip_df.ip_int <= maxmind_blocks_df.cidr_end),\n",
    "        \"left_outer\")\\\n",
    "  .drop(\"ip_int\", \"cidr_start\", \"cidr_end\")"
   ]
  },
  {
   "cell_type": "code",
   "execution_count": 25,
   "id": "154835c4-e85b-4f2f-a7bf-c20e302423b6",
   "metadata": {},
   "outputs": [
    {
     "name": "stderr",
     "output_type": "stream",
     "text": [
      "[Stage 13:>                                                         (0 + 1) / 1]\r"
     ]
    },
    {
     "name": "stdout",
     "output_type": "stream",
     "text": [
      "+---------------+----------------+----------+-----------------------------+------------------------------+------------------+---------------------+-----------+--------+---------+---------------+----------+\n",
      "|             ip|         network|geoname_id|registered_country_geoname_id|represented_country_geoname_id|is_anonymous_proxy|is_satellite_provider|postal_code|latitude|longitude|accuracy_radius|is_anycast|\n",
      "+---------------+----------------+----------+-----------------------------+------------------------------+------------------+---------------------+-----------+--------+---------+---------------+----------+\n",
      "| 107.163.232.92|  107.163.0.0/16|   6252001|                      6252001|                          NULL|                 0|                    0|       NULL|  37.751|  -97.822|           1000|      NULL|\n",
      "|  192.229.64.48| 192.229.64.0/18|   5368361|                      6252001|                          NULL|                 0|                    0|      90060| 34.0544|-118.2441|           1000|      NULL|\n",
      "|   195.170.8.34|  195.170.0.0/20|    264371|                       390903|                          NULL|                 0|                    0|       NULL| 37.9842|  23.7353|             10|      NULL|\n",
      "| 107.190.226.20|107.190.224.0/20|   6252001|                      6252001|                          NULL|                 0|                    0|       NULL|  37.751|  -97.822|           1000|      NULL|\n",
      "| 172.67.142.198|   172.67.0.0/16|      NULL|                      6252001|                          NULL|                 0|                    0|       NULL|    NULL|     NULL|           NULL|      NULL|\n",
      "|   23.108.56.90|  23.108.56.0/21|   4164138|                      6252001|                          NULL|                 0|                    0|      33197| 25.7689| -80.1946|           1000|      NULL|\n",
      "| 137.184.244.32|137.184.244.0/22|   5393015|                      6252001|                          NULL|                 0|                    0|      95054| 37.3931| -121.962|             20|      NULL|\n",
      "| 172.67.198.153|   172.67.0.0/16|      NULL|                      6252001|                          NULL|                 0|                    0|       NULL|    NULL|     NULL|           NULL|      NULL|\n",
      "|  220.228.6.123|  220.228.0.0/17|   1668284|                      1668284|                          NULL|                 0|                    0|       NULL|    24.0|    121.0|            200|      NULL|\n",
      "|  220.228.6.241|  220.228.0.0/17|   1668284|                      1668284|                          NULL|                 0|                    0|       NULL|    24.0|    121.0|            200|      NULL|\n",
      "|    220.228.6.6|  220.228.0.0/17|   1668284|                      1668284|                          NULL|                 0|                    0|       NULL|    24.0|    121.0|            200|      NULL|\n",
      "|   61.66.228.75|  61.66.192.0/18|   1665148|                      1668284|                          NULL|                 0|                    0|       NULL| 24.9466|  121.586|             10|      NULL|\n",
      "|  77.232.40.211|   77.232.0.0/18|   2017370|                      2017370|                          NULL|                 0|                    0|       NULL| 55.7386|  37.6068|           1000|      NULL|\n",
      "|   198.2.232.33|  198.2.224.0/19|   6252001|                      6252001|                          NULL|                 0|                    0|       NULL|  37.751|  -97.822|           1000|      NULL|\n",
      "|  220.228.6.119|  220.228.0.0/17|   1668284|                      1668284|                          NULL|                 0|                    0|       NULL|    24.0|    121.0|            200|      NULL|\n",
      "| 114.118.10.124|  114.118.0.0/16|   1814991|                      1814991|                          NULL|                 0|                    0|       NULL| 34.7732|  113.722|           1000|      NULL|\n",
      "|107.163.236.251|  107.163.0.0/16|   6252001|                      6252001|                          NULL|                 0|                    0|       NULL|  37.751|  -97.822|           1000|      NULL|\n",
      "| 208.109.212.43|208.109.212.0/23|   6252001|                      6252001|                          NULL|                 0|                    0|       NULL|  37.751|  -97.822|           1000|      NULL|\n",
      "| 208.109.212.43|208.109.212.0/23|   6252001|                      6252001|                          NULL|                 0|                    0|       NULL|  37.751|  -97.822|           1000|      NULL|\n",
      "|107.163.212.188|  107.163.0.0/16|   6252001|                      6252001|                          NULL|                 0|                    0|       NULL|  37.751|  -97.822|           1000|      NULL|\n",
      "+---------------+----------------+----------+-----------------------------+------------------------------+------------------+---------------------+-----------+--------+---------+---------------+----------+\n",
      "only showing top 20 rows\n",
      "\n"
     ]
    },
    {
     "name": "stderr",
     "output_type": "stream",
     "text": [
      "                                                                                \r"
     ]
    }
   ],
   "source": [
    "maxmind_joined_df.show()"
   ]
  },
  {
   "cell_type": "code",
   "execution_count": null,
   "id": "2781e536-ac6a-4730-ad84-bb3ce5e87f85",
   "metadata": {
    "scrolled": true
   },
   "outputs": [],
   "source": [
    "# this takes forever to execute\n",
    "maxmind_joined_df.count()"
   ]
  },
  {
   "cell_type": "code",
   "execution_count": 24,
   "id": "5ff52a07-3b51-4869-bc60-12861e2ef73b",
   "metadata": {},
   "outputs": [],
   "source": [
    "maxmind_city_df = spark.read\\\n",
    "          .format('csv')\\\n",
    "          .option(\"header\", \"true\")\\\n",
    "          .option(\"inferSchema\", \"true\")\\\n",
    "          .load(maxmind_city_csv)"
   ]
  },
  {
   "cell_type": "code",
   "execution_count": 25,
   "id": "2c8c10ac-b402-4da1-8810-92834a31d3b5",
   "metadata": {},
   "outputs": [
    {
     "data": {
      "text/plain": [
       "['geoname_id',\n",
       " 'locale_code',\n",
       " 'continent_code',\n",
       " 'continent_name',\n",
       " 'country_iso_code',\n",
       " 'country_name',\n",
       " 'subdivision_1_iso_code',\n",
       " 'subdivision_1_name',\n",
       " 'subdivision_2_iso_code',\n",
       " 'subdivision_2_name',\n",
       " 'city_name',\n",
       " 'metro_code',\n",
       " 'time_zone',\n",
       " 'is_in_european_union']"
      ]
     },
     "execution_count": 25,
     "metadata": {},
     "output_type": "execute_result"
    }
   ],
   "source": [
    "maxmind_city_df.columns"
   ]
  },
  {
   "cell_type": "code",
   "execution_count": 27,
   "id": "d8bc5847-df5d-49fd-8af8-68477d4e1af4",
   "metadata": {},
   "outputs": [
    {
     "name": "stdout",
     "output_type": "stream",
     "text": [
      "+----------+-----------+--------------+--------------+----------------+------------+----------------------+------------------+----------------------+------------------+------------+----------+----------------+--------------------+\n",
      "|geoname_id|locale_code|continent_code|continent_name|country_iso_code|country_name|subdivision_1_iso_code|subdivision_1_name|subdivision_2_iso_code|subdivision_2_name|   city_name|metro_code|       time_zone|is_in_european_union|\n",
      "+----------+-----------+--------------+--------------+----------------+------------+----------------------+------------------+----------------------+------------------+------------+----------+----------------+--------------------+\n",
      "|      5819|         en|            EU|        Europe|              CY|      Cyprus|                    02| Limassol District|                  NULL|              NULL|       Soúni|      NULL|    Asia/Nicosia|                   1|\n",
      "|     18918|         en|            EU|        Europe|              CY|      Cyprus|                    04|       Ammochostos|                  NULL|              NULL|    Protaras|      NULL|  Asia/Famagusta|                   1|\n",
      "|     49518|         en|            AF|        Africa|              RW|      Rwanda|                  NULL|              NULL|                  NULL|              NULL|        NULL|      NULL|   Africa/Kigali|                   0|\n",
      "|     49747|         en|            AF|        Africa|              SO|     Somalia|                    BK|            Bakool|                  NULL|              NULL|       Oddur|      NULL|Africa/Mogadishu|                   0|\n",
      "|     51537|         en|            AF|        Africa|              SO|     Somalia|                  NULL|              NULL|                  NULL|              NULL|        NULL|      NULL|Africa/Mogadishu|                   0|\n",
      "|     53654|         en|            AF|        Africa|              SO|     Somalia|                    BN|          Banaadir|                  NULL|              NULL|   Mogadishu|      NULL|Africa/Mogadishu|                   0|\n",
      "|     54225|         en|            AF|        Africa|              SO|     Somalia|                    SH|   Lower Shabeelle|                  NULL|              NULL|       Merca|      NULL|Africa/Mogadishu|                   0|\n",
      "|     57289|         en|            AF|        Africa|              SO|     Somalia|                    WO|   Woqooyi Galbeed|                  NULL|              NULL|    Hargeisa|      NULL|Africa/Mogadishu|                   0|\n",
      "|     57723|         en|            AF|        Africa|              SO|     Somalia|                    JD|       Middle Juba|                  NULL|              NULL|    Gurmeyso|      NULL|Africa/Mogadishu|                   0|\n",
      "|     58994|         en|            AF|        Africa|              SO|     Somalia|                    GE|              Gedo|                  NULL|              NULL|Garbahaarrey|      NULL|Africa/Mogadishu|                   0|\n",
      "|     59611|         en|            AF|        Africa|              SO|     Somalia|                    MU|             Mudug|                  NULL|              NULL|   Gaalkacyo|      NULL|Africa/Mogadishu|                   0|\n",
      "|     63795|         en|            AF|        Africa|              SO|     Somalia|                    TO|          Togdheer|                  NULL|              NULL|       Burao|      NULL|Africa/Mogadishu|                   0|\n",
      "|     63949|         en|            AF|        Africa|              SO|     Somalia|                    JD|       Middle Juba|                  NULL|              NULL|     Bu'aale|      NULL|Africa/Mogadishu|                   0|\n",
      "|     64013|         en|            AF|        Africa|              SO|     Somalia|                    BR|              Bari|                  NULL|              NULL|      Bosaso|      NULL|Africa/Mogadishu|                   0|\n",
      "|     64460|         en|            AF|        Africa|              SO|     Somalia|                    HI|           Hiiraan|                  NULL|              NULL|  Beledweyne|      NULL|Africa/Mogadishu|                   0|\n",
      "|     64536|         en|            AF|        Africa|              SO|     Somalia|                    BY|               Bay|                  NULL|              NULL|      Baidoa|      NULL|Africa/Mogadishu|                   0|\n",
      "|     65785|         en|            AF|        Africa|              SO|     Somalia|                    SH|   Lower Shabeelle|                  NULL|              NULL|     Afgooye|      NULL|Africa/Mogadishu|                   0|\n",
      "|     69426|         en|            AS|          Asia|              YE|       Yemen|                    AB| Abyan Governorate|                  NULL|              NULL|    Zinjibār|      NULL|       Asia/Aden|                   0|\n",
      "|     69543|         en|            AS|          Asia|              YE|       Yemen|                  NULL|              NULL|                  NULL|              NULL|        NULL|      NULL|       Asia/Aden|                   0|\n",
      "|     69559|         en|            AS|          Asia|              YE|       Yemen|                    IB|   Ibb Governorate|                  NULL|              NULL|       Yarīm|      NULL|       Asia/Aden|                   0|\n",
      "+----------+-----------+--------------+--------------+----------------+------------+----------------------+------------------+----------------------+------------------+------------+----------+----------------+--------------------+\n",
      "only showing top 20 rows\n",
      "\n"
     ]
    }
   ],
   "source": [
    "maxmind_city_df.show()"
   ]
  },
  {
   "cell_type": "code",
   "execution_count": 28,
   "id": "6fadaa78-f04b-4c3a-890b-fa9f5002ad54",
   "metadata": {},
   "outputs": [],
   "source": [
    "# left joins `maxmind_joined_df` and `maxmind_city_df` retaining everything\n",
    "# from the 1st table and \"attaching\" available values from the 2nd table\n",
    "maxmind_joined_df = maxmind_joined_df.join(maxmind_city_df,\n",
    "                                           maxmind_joined_df.geoname_id == maxmind_city_df.geoname_id,\n",
    "                                           \"left_outer\").drop(maxmind_city_df.geoname_id)"
   ]
  },
  {
   "cell_type": "code",
   "execution_count": 29,
   "id": "ecdcc06f-8089-44fb-a924-cfa826962fa2",
   "metadata": {},
   "outputs": [
    {
     "name": "stderr",
     "output_type": "stream",
     "text": [
      "[Stage 19:>                                                         (0 + 1) / 1]\r"
     ]
    },
    {
     "name": "stdout",
     "output_type": "stream",
     "text": [
      "+---------------+----------------+----------+-----------------------------+------------------------------+------------------+---------------------+-----------+--------+---------+---------------+----------+-----------+--------------+--------------+----------------+-------------+----------------------+------------------+----------------------+------------------+---------------+----------+-------------------+--------------------+\n",
      "|             ip|         network|geoname_id|registered_country_geoname_id|represented_country_geoname_id|is_anonymous_proxy|is_satellite_provider|postal_code|latitude|longitude|accuracy_radius|is_anycast|locale_code|continent_code|continent_name|country_iso_code| country_name|subdivision_1_iso_code|subdivision_1_name|subdivision_2_iso_code|subdivision_2_name|      city_name|metro_code|          time_zone|is_in_european_union|\n",
      "+---------------+----------------+----------+-----------------------------+------------------------------+------------------+---------------------+-----------+--------+---------+---------------+----------+-----------+--------------+--------------+----------------+-------------+----------------------+------------------+----------------------+------------------+---------------+----------+-------------------+--------------------+\n",
      "| 107.163.232.92|  107.163.0.0/16|   6252001|                      6252001|                          NULL|                 0|                    0|       NULL|  37.751|  -97.822|           1000|      NULL|         en|            NA| North America|              US|United States|                  NULL|              NULL|                  NULL|              NULL|           NULL|      NULL|    America/Chicago|                   0|\n",
      "|  192.229.64.48| 192.229.64.0/18|   5368361|                      6252001|                          NULL|                 0|                    0|      90060| 34.0544|-118.2441|           1000|      NULL|         en|            NA| North America|              US|United States|                    CA|        California|                  NULL|              NULL|    Los Angeles|       803|America/Los_Angeles|                   0|\n",
      "|   195.170.8.34|  195.170.0.0/20|    264371|                       390903|                          NULL|                 0|                    0|       NULL| 37.9842|  23.7353|             10|      NULL|         en|            EU|        Europe|              GR|       Greece|                     I|            Attica|                  NULL|              NULL|         Athens|      NULL|      Europe/Athens|                   1|\n",
      "| 107.190.226.20|107.190.224.0/20|   6252001|                      6252001|                          NULL|                 0|                    0|       NULL|  37.751|  -97.822|           1000|      NULL|         en|            NA| North America|              US|United States|                  NULL|              NULL|                  NULL|              NULL|           NULL|      NULL|    America/Chicago|                   0|\n",
      "| 172.67.142.198|   172.67.0.0/16|      NULL|                      6252001|                          NULL|                 0|                    0|       NULL|    NULL|     NULL|           NULL|      NULL|       NULL|          NULL|          NULL|            NULL|         NULL|                  NULL|              NULL|                  NULL|              NULL|           NULL|      NULL|               NULL|                NULL|\n",
      "|   23.108.56.90|  23.108.56.0/21|   4164138|                      6252001|                          NULL|                 0|                    0|      33197| 25.7689| -80.1946|           1000|      NULL|         en|            NA| North America|              US|United States|                    FL|           Florida|                  NULL|              NULL|          Miami|       528|   America/New_York|                   0|\n",
      "| 137.184.244.32|137.184.244.0/22|   5393015|                      6252001|                          NULL|                 0|                    0|      95054| 37.3931| -121.962|             20|      NULL|         en|            NA| North America|              US|United States|                    CA|        California|                  NULL|              NULL|    Santa Clara|       807|America/Los_Angeles|                   0|\n",
      "| 172.67.198.153|   172.67.0.0/16|      NULL|                      6252001|                          NULL|                 0|                    0|       NULL|    NULL|     NULL|           NULL|      NULL|       NULL|          NULL|          NULL|            NULL|         NULL|                  NULL|              NULL|                  NULL|              NULL|           NULL|      NULL|               NULL|                NULL|\n",
      "|  220.228.6.123|  220.228.0.0/17|   1668284|                      1668284|                          NULL|                 0|                    0|       NULL|    24.0|    121.0|            200|      NULL|         en|            AS|          Asia|              TW|       Taiwan|                  NULL|              NULL|                  NULL|              NULL|           NULL|      NULL|        Asia/Taipei|                   0|\n",
      "|  220.228.6.241|  220.228.0.0/17|   1668284|                      1668284|                          NULL|                 0|                    0|       NULL|    24.0|    121.0|            200|      NULL|         en|            AS|          Asia|              TW|       Taiwan|                  NULL|              NULL|                  NULL|              NULL|           NULL|      NULL|        Asia/Taipei|                   0|\n",
      "|    220.228.6.6|  220.228.0.0/17|   1668284|                      1668284|                          NULL|                 0|                    0|       NULL|    24.0|    121.0|            200|      NULL|         en|            AS|          Asia|              TW|       Taiwan|                  NULL|              NULL|                  NULL|              NULL|           NULL|      NULL|        Asia/Taipei|                   0|\n",
      "|   61.66.228.75|  61.66.192.0/18|   1665148|                      1668284|                          NULL|                 0|                    0|       NULL| 24.9466|  121.586|             10|      NULL|         en|            AS|          Asia|              TW|       Taiwan|                   NWT|   New Taipei City|                  NULL|              NULL|New Taipei City|      NULL|        Asia/Taipei|                   0|\n",
      "|  77.232.40.211|   77.232.0.0/18|   2017370|                      2017370|                          NULL|                 0|                    0|       NULL| 55.7386|  37.6068|           1000|      NULL|         en|            EU|        Europe|              RU|       Russia|                  NULL|              NULL|                  NULL|              NULL|           NULL|      NULL|      Europe/Moscow|                   0|\n",
      "|   198.2.232.33|  198.2.224.0/19|   6252001|                      6252001|                          NULL|                 0|                    0|       NULL|  37.751|  -97.822|           1000|      NULL|         en|            NA| North America|              US|United States|                  NULL|              NULL|                  NULL|              NULL|           NULL|      NULL|    America/Chicago|                   0|\n",
      "|  220.228.6.119|  220.228.0.0/17|   1668284|                      1668284|                          NULL|                 0|                    0|       NULL|    24.0|    121.0|            200|      NULL|         en|            AS|          Asia|              TW|       Taiwan|                  NULL|              NULL|                  NULL|              NULL|           NULL|      NULL|        Asia/Taipei|                   0|\n",
      "| 114.118.10.124|  114.118.0.0/16|   1814991|                      1814991|                          NULL|                 0|                    0|       NULL| 34.7732|  113.722|           1000|      NULL|         en|            AS|          Asia|              CN|        China|                  NULL|              NULL|                  NULL|              NULL|           NULL|      NULL|      Asia/Shanghai|                   0|\n",
      "|107.163.236.251|  107.163.0.0/16|   6252001|                      6252001|                          NULL|                 0|                    0|       NULL|  37.751|  -97.822|           1000|      NULL|         en|            NA| North America|              US|United States|                  NULL|              NULL|                  NULL|              NULL|           NULL|      NULL|    America/Chicago|                   0|\n",
      "| 208.109.212.43|208.109.212.0/23|   6252001|                      6252001|                          NULL|                 0|                    0|       NULL|  37.751|  -97.822|           1000|      NULL|         en|            NA| North America|              US|United States|                  NULL|              NULL|                  NULL|              NULL|           NULL|      NULL|    America/Chicago|                   0|\n",
      "| 208.109.212.43|208.109.212.0/23|   6252001|                      6252001|                          NULL|                 0|                    0|       NULL|  37.751|  -97.822|           1000|      NULL|         en|            NA| North America|              US|United States|                  NULL|              NULL|                  NULL|              NULL|           NULL|      NULL|    America/Chicago|                   0|\n",
      "|107.163.212.188|  107.163.0.0/16|   6252001|                      6252001|                          NULL|                 0|                    0|       NULL|  37.751|  -97.822|           1000|      NULL|         en|            NA| North America|              US|United States|                  NULL|              NULL|                  NULL|              NULL|           NULL|      NULL|    America/Chicago|                   0|\n",
      "+---------------+----------------+----------+-----------------------------+------------------------------+------------------+---------------------+-----------+--------+---------+---------------+----------+-----------+--------------+--------------+----------------+-------------+----------------------+------------------+----------------------+------------------+---------------+----------+-------------------+--------------------+\n",
      "only showing top 20 rows\n",
      "\n"
     ]
    },
    {
     "name": "stderr",
     "output_type": "stream",
     "text": [
      "                                                                                \r"
     ]
    }
   ],
   "source": [
    "maxmind_joined_df.show()"
   ]
  },
  {
   "cell_type": "code",
   "execution_count": 30,
   "id": "e8a0ca7e-8aab-46bd-ae31-d754fd951bfe",
   "metadata": {},
   "outputs": [
    {
     "data": {
      "text/plain": [
       "['ip',\n",
       " 'network',\n",
       " 'geoname_id',\n",
       " 'registered_country_geoname_id',\n",
       " 'represented_country_geoname_id',\n",
       " 'is_anonymous_proxy',\n",
       " 'is_satellite_provider',\n",
       " 'postal_code',\n",
       " 'latitude',\n",
       " 'longitude',\n",
       " 'accuracy_radius',\n",
       " 'is_anycast',\n",
       " 'locale_code',\n",
       " 'continent_code',\n",
       " 'continent_name',\n",
       " 'country_iso_code',\n",
       " 'country_name',\n",
       " 'subdivision_1_iso_code',\n",
       " 'subdivision_1_name',\n",
       " 'subdivision_2_iso_code',\n",
       " 'subdivision_2_name',\n",
       " 'city_name',\n",
       " 'metro_code',\n",
       " 'time_zone',\n",
       " 'is_in_european_union']"
      ]
     },
     "execution_count": 30,
     "metadata": {},
     "output_type": "execute_result"
    }
   ],
   "source": [
    "maxmind_joined_df.columns"
   ]
  },
  {
   "cell_type": "code",
   "execution_count": 32,
   "id": "e8bf39cb-8d6f-4f3d-9301-8043239cd6a1",
   "metadata": {},
   "outputs": [
    {
     "name": "stderr",
     "output_type": "stream",
     "text": [
      "                                                                                \r"
     ]
    }
   ],
   "source": [
    "maxmind_joined_df.write.csv(\"./processed_artifacts/maxmind_warc/\", header=True)"
   ]
  }
 ],
 "metadata": {
  "kernelspec": {
   "display_name": "Python 3 (ipykernel)",
   "language": "python",
   "name": "python3"
  },
  "language_info": {
   "codemirror_mode": {
    "name": "ipython",
    "version": 3
   },
   "file_extension": ".py",
   "mimetype": "text/x-python",
   "name": "python",
   "nbconvert_exporter": "python",
   "pygments_lexer": "ipython3",
   "version": "3.11.9"
  }
 },
 "nbformat": 4,
 "nbformat_minor": 5
}
