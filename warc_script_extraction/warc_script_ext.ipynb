{
 "cells": [
  {
   "cell_type": "code",
   "execution_count": 1,
   "id": "17a95339-c936-4f86-ac76-beff2fcc1e3f",
   "metadata": {},
   "outputs": [
    {
     "name": "stdout",
     "output_type": "stream",
     "text": [
      "/opt/workspace\n"
     ]
    }
   ],
   "source": [
    "!pwd"
   ]
  },
  {
   "cell_type": "code",
   "execution_count": 2,
   "id": "0b5fc87a-e5dd-4b42-9159-1277bc19fcbb",
   "metadata": {},
   "outputs": [
    {
     "name": "stdout",
     "output_type": "stream",
     "text": [
      "CC-MAIN-20240724014956-20240724044956-00798.warc     get_files.sh\n",
      "CC-MAIN-20240725114544-20240725144544-00476.warc     warc.paths\n",
      "CC-MAIN-20240725114544-20240725144544-00476_extract\n"
     ]
    }
   ],
   "source": [
    "cc_dir = \"/opt/workspace/datasets/common-crawl/\"\n",
    "!ls $cc_dir"
   ]
  },
  {
   "cell_type": "code",
   "execution_count": 3,
   "id": "ba571cd8-5683-482f-94c4-24dabff869bc",
   "metadata": {},
   "outputs": [
    {
     "name": "stdout",
     "output_type": "stream",
     "text": [
      "Collecting selectolax\n",
      "  Downloading selectolax-0.3.21-cp311-cp311-manylinux_2_17_x86_64.manylinux2014_x86_64.whl.metadata (5.6 kB)\n",
      "Downloading selectolax-0.3.21-cp311-cp311-manylinux_2_17_x86_64.manylinux2014_x86_64.whl (6.7 MB)\n",
      "\u001b[2K   \u001b[90m━━━━━━━━━━━━━━━━━━━━━━━━━━━━━━━━━━━━━━━━\u001b[0m \u001b[32m6.7/6.7 MB\u001b[0m \u001b[31m58.9 MB/s\u001b[0m eta \u001b[36m0:00:00\u001b[0m00:01\u001b[0m00:01\u001b[0m\n",
      "\u001b[?25hInstalling collected packages: selectolax\n",
      "Successfully installed selectolax-0.3.21\n",
      "\u001b[33mWARNING: Running pip as the 'root' user can result in broken permissions and conflicting behaviour with the system package manager. It is recommended to use a virtual environment instead: https://pip.pypa.io/warnings/venv\u001b[0m\u001b[33m\n",
      "\u001b[0m\n",
      "\u001b[1m[\u001b[0m\u001b[34;49mnotice\u001b[0m\u001b[1;39;49m]\u001b[0m\u001b[39;49m A new release of pip is available: \u001b[0m\u001b[31;49m24.0\u001b[0m\u001b[39;49m -> \u001b[0m\u001b[32;49m24.2\u001b[0m\n",
      "\u001b[1m[\u001b[0m\u001b[34;49mnotice\u001b[0m\u001b[1;39;49m]\u001b[0m\u001b[39;49m To update, run: \u001b[0m\u001b[32;49mpip install --upgrade pip\u001b[0m\n"
     ]
    }
   ],
   "source": [
    "!pip install selectolax"
   ]
  },
  {
   "cell_type": "code",
   "execution_count": 4,
   "id": "adf9b942-98e1-4ad7-a309-4364bc6fbfea",
   "metadata": {},
   "outputs": [],
   "source": [
    "import os\n",
    "import re\n",
    "import time\n",
    "\n",
    "from warcio.archiveiterator import ArchiveIterator\n",
    "from warcio.recordloader import ArcWarcRecord\n",
    "\n",
    "from selectolax.parser import HTMLParser\n",
    "\n",
    "from pyspark.sql.types import StructField, StructType, StringType, ArrayType\n",
    "from pyspark.sql.functions import col, sum, when, size, round, concat_ws"
   ]
  },
  {
   "cell_type": "code",
   "execution_count": 5,
   "id": "b6105966-7530-40a9-a8c0-4bb6b9338121",
   "metadata": {},
   "outputs": [
    {
     "name": "stderr",
     "output_type": "stream",
     "text": [
      "Setting default log level to \"WARN\".\n",
      "To adjust logging level use sc.setLogLevel(newLevel). For SparkR, use setLogLevel(newLevel).\n",
      "24/08/24 14:42:28 WARN NativeCodeLoader: Unable to load native-hadoop library for your platform... using builtin-java classes where applicable\n",
      "24/08/24 14:42:28 WARN Utils: Service 'SparkUI' could not bind on port 4040. Attempting port 4041.\n"
     ]
    }
   ],
   "source": [
    "from pyspark.sql import SparkSession, Row\n",
    "spark = SparkSession.builder \\\n",
    "    .appName(\"script_extraction\") \\\n",
    "    .master(\"spark://spark-master:7077\") \\\n",
    "    .config(\"spark.executor.memory\", \"1g\") \\\n",
    "    .config(\"spark.executor.cores\", 1) \\\n",
    "    .config(\"spark.dynamicAllocation.enabled\", \"true\") \\\n",
    "    .config(\"spark.dynamicAllocation.shuffleTracking.enabled\", \"true\") \\\n",
    "    .config(\"spark.dynamicAllocation.initialExecutors\", 2) \\\n",
    "    .config(\"spark.dynamicAllocation.minExecutors\", 0) \\\n",
    "    .config(\"spark.dynamicAllocation.maxExecutors\", 10) \\\n",
    "    .getOrCreate()\n",
    "spark.sparkContext.setLogLevel(\"ERROR\")"
   ]
  },
  {
   "cell_type": "code",
   "execution_count": 6,
   "id": "906a0070-c6bb-444b-b0f1-18bdb586c756",
   "metadata": {},
   "outputs": [
    {
     "data": {
      "text/plain": [
       "['CC-MAIN-20240724014956-20240724044956-00798.warc',\n",
       " 'CC-MAIN-20240725114544-20240725144544-00476.warc']"
      ]
     },
     "execution_count": 6,
     "metadata": {},
     "output_type": "execute_result"
    }
   ],
   "source": [
    "warc_files = [file for file in os.listdir(cc_dir) if file.endswith(\".warc\")]\n",
    "warc_files"
   ]
  },
  {
   "cell_type": "code",
   "execution_count": 10,
   "id": "99b4b0d5-79a7-49f8-b1aa-19193d6646bb",
   "metadata": {},
   "outputs": [
    {
     "name": "stdout",
     "output_type": "stream",
     "text": [
      "Parsing .warc file /opt/workspace/datasets/common-crawl/CC-MAIN-20240725114544-20240725144544-00476.warc\n",
      "<class 'warcio.recordloader.ArcWarcRecord'>\n",
      "Record Type: warcinfo\n",
      "Record Headers: WARC/1.0\n",
      "WARC-Type: warcinfo\n",
      "WARC-Date: 2024-07-25T11:45:44Z\n",
      "WARC-Record-ID: <urn:uuid:4310b454-baf3-414f-99af-d0049e37d45d>\n",
      "Content-Length: 487\n",
      "Content-Type: application/warc-fields\n",
      "WARC-Filename: CC-MAIN-20240725114544-20240725144544-00476.warc.gz\n",
      "\n",
      "<class 'warcio.recordloader.ArcWarcRecord'>\n",
      "Record Type: request\n",
      "Record Headers: WARC/1.0\n",
      "WARC-Type: request\n",
      "WARC-Date: 2024-07-25T13:48:10Z\n",
      "WARC-Record-ID: <urn:uuid:8370f230-97b9-4070-8639-b66757902bdb>\n",
      "Content-Length: 272\n",
      "Content-Type: application/http; msgtype=request\n",
      "WARC-Warcinfo-ID: <urn:uuid:4310b454-baf3-414f-99af-d0049e37d45d>\n",
      "WARC-IP-Address: 52.68.28.174\n",
      "WARC-Target-URI: http://0081.b-ch.com/blog/0081/archives/2111\n",
      "WARC-Protocol: http/1.1\n",
      "\n",
      "Target URI: http://0081.b-ch.com/blog/0081/archives/2111\n",
      "<class 'warcio.recordloader.ArcWarcRecord'>\n",
      "Record Type: response\n",
      "Record Headers: WARC/1.0\n",
      "WARC-Type: response\n",
      "WARC-Date: 2024-07-25T13:48:10Z\n",
      "WARC-Record-ID: <urn:uuid:bbe49616-1067-4b37-b519-155471da90bd>\n",
      "Content-Length: 13739\n",
      "Content-Type: application/http; msgtype=response\n",
      "WARC-Warcinfo-ID: <urn:uuid:4310b454-baf3-414f-99af-d0049e37d45d>\n",
      "WARC-Concurrent-To: <urn:uuid:8370f230-97b9-4070-8639-b66757902bdb>\n",
      "WARC-IP-Address: 52.68.28.174\n",
      "WARC-Target-URI: http://0081.b-ch.com/blog/0081/archives/2111\n",
      "WARC-Protocol: http/1.1\n",
      "WARC-Payload-Digest: sha1:MU75EIRB5T77Q3YS72HG3GNPPAI2N3E3\n",
      "WARC-Block-Digest: sha1:NVRIFEHQMHR5JRN3YB2WSFFKS7N336IO\n",
      "WARC-Identified-Payload-Type: text/html\n",
      "\n",
      "Target URI: http://0081.b-ch.com/blog/0081/archives/2111\n",
      "<class 'warcio.recordloader.ArcWarcRecord'>\n",
      "Record Type: metadata\n",
      "Record Headers: WARC/1.0\n",
      "WARC-Type: metadata\n",
      "WARC-Date: 2024-07-25T13:48:10Z\n",
      "WARC-Record-ID: <urn:uuid:30c93c80-3949-4ae9-b88d-5961473ee128>\n",
      "Content-Length: 203\n",
      "Content-Type: application/warc-fields\n",
      "WARC-Warcinfo-ID: <urn:uuid:4310b454-baf3-414f-99af-d0049e37d45d>\n",
      "WARC-Concurrent-To: <urn:uuid:bbe49616-1067-4b37-b519-155471da90bd>\n",
      "WARC-Target-URI: http://0081.b-ch.com/blog/0081/archives/2111\n",
      "\n",
      "Target URI: http://0081.b-ch.com/blog/0081/archives/2111\n"
     ]
    }
   ],
   "source": [
    "max_records = 4\n",
    "input_file = cc_dir + warc_files[1]\n",
    "\n",
    "with open(input_file, 'rb') as stream:\n",
    "    print(f\"Parsing .warc file {input_file}\")\n",
    "    record_idx = 0\n",
    "    for record in ArchiveIterator(stream):\n",
    "        print(type(record))\n",
    "        record_idx += 1\n",
    "        print(f\"Record Type: {record.rec_type}\")\n",
    "        print(f\"Record Headers: {record.rec_headers}\")\n",
    "        if \"WARC-Target-URI\" in record.rec_headers:\n",
    "            print(f\"Target URI: {record.rec_headers.get_header('WARC-Target-URI')}\")\n",
    "        if record_idx == max_records: break"
   ]
  },
  {
   "cell_type": "code",
   "execution_count": 11,
   "id": "bd8e0b20-b9c2-4b73-a0e1-81479ae4db06",
   "metadata": {},
   "outputs": [
    {
     "name": "stdout",
     "output_type": "stream",
     "text": [
      "Parsing .warc file: /opt/workspace/datasets/common-crawl/CC-MAIN-20240725114544-20240725144544-00476.warc \n",
      "\n",
      "Total time: 44.5791s\n"
     ]
    },
    {
     "name": "stderr",
     "output_type": "stream",
     "text": [
      "                                                                                \r"
     ]
    },
    {
     "name": "stdout",
     "output_type": "stream",
     "text": [
      "+--------------------+---------------+--------------------+--------------+--------------------+---------------------------------+---------------------------------+--------------------+---------------------------------+--------------------+--------------------+\n",
      "|     warc_target_uri|warc_ip_address|        content_type|content_length|              server|                       page_title|                 page_description|              emails|                         keywords|    script_src_attrs|   script_type_attrs|\n",
      "+--------------------+---------------+--------------------+--------------+--------------------+---------------------------------+---------------------------------+--------------------+---------------------------------+--------------------+--------------------+\n",
      "|http://0081.b-ch....|   52.68.28.174|application/http;...|         13739|Apache/2.2.34 (Am...|             playstation(r)3�ֵ...|                             NULL|                  []|                             NULL|                  []|                  []|\n",
      "|http://03cn.theca...|  38.165.51.151|application/http;...|        967850|               nginx|素食主义者 & 伦理美容产品|态度...|           发现 our vegan, ewg...|                  []|                             NULL|[http://code.jque...|[text/javascript,...|\n",
      "|http://0401live.p...|  220.228.6.121|application/http;...|         82610|Apache/1.3.41 (Un...|                  �������t��ѫǭ���|                    �������t��ѫ� |                  []|                    �������t��ѫ� |                  []|[\\'text/javascrip...|\n",
      "|http://0401yes.co...|   220.228.6.52|application/http;...|         24464|Apache/1.3.41 (Un...|               ���⼤�� - sogou�׾�|            ���⼤�� - sogou�׾¬...|                  []|                             NULL| [/swf/swfobject.js]|[text/javascript,...|\n",
      "|http://042l.g34me...|   38.28.236.56|application/http;...|         80157|               nginx| 天天看片高清影视在线观看  - v...|        天天看片高清影视在线观看 |                  []|       heyzo-0176,天天看片高清...|[/v11av/js/t.v11a...|[text/javascript,...|\n",
      "|http://0759job.co...| 103.45.249.246|application/http;...|         18561|   Microsoft-IIS/7.5|             տ���ر�Ͷ�����޹�˾ -...|             տ���˲������ķ���տ�...|                  []|             տ���˲���,տ����Ƹ��...|[../../js/v2/jque...|[text/javascript,...|\n",
      "|http://0xbetbot.c...|  178.23.190.42|application/http;...|         49500|           LiteSpeed|             a tribute for our...|                             NULL|[mailto:info@0xbe...|                             NULL|[http://0xbetbot....|[text/javascript,...|\n",
      "|http://1080coachi...|  31.217.196.11|application/http;...|         20463|           LiteSpeed|                    1080 coaching|                             NULL|                  []|                             NULL|[https://www.goog...|                  []|\n",
      "|http://10e15.com....|   191.6.208.11|application/http;...|         25629|              Apache|             decoração com flo...|                             NULL|                  []|                             NULL|[https://ajax.goo...|[\\'text/javascrip...|\n",
      "|http://10e15.com....|   191.6.208.11|application/http;...|         23323|              Apache|             arquivos dia das ...|                             NULL|                  []|                             NULL|[https://ajax.goo...|[\\'text/javascrip...|\n",
      "|http://11ap.top/h...| 103.116.244.60|application/http;...|         22329|               nginx|2024年黑龙江高考本科招生院校及...|2024年全国高考已圆满落幕，此次...|                  []|2024年黑龙江高考本科招生院校及...|[http://11ap.top/...|[text/javascript,...|\n",
      "|http://1333.bg/pe...| 87.118.140.104|application/http;...|         10713|Apache/2.4.25 (De...|                                �|                             NULL|                  []|                             NULL|[http://1333.bg/p...|[text/javascript,...|\n",
      "|http://164.215.10...| 164.215.103.84|application/http;...|        159569|               nginx|             nonton serial pla...|             pusatfilm21 nonto...|                  []|                             NULL|[https://cdn.pusa...|[application/ld+j...|\n",
      "|http://1771922.sh...|    220.228.6.4|application/http;...|         48518|Apache/1.3.41 (Un...|                   �{�������u�h�q|             �i��ȩ]��Ͳ�ѫ�,���h...|                  []|             �i��ȩ]��Ͳ�ѫ�,���h...|                  []|   [text/javascript]|\n",
      "|http://1808363.tk...|    220.228.6.6|application/http;...|         52069|Apache/1.3.41 (Un...|               live 173�v��live�q|                             NULL|                  []|                             NULL|                  []|   [text/javascript]|\n",
      "|http://1808363.tk...|    220.228.6.6|application/http;...|         42617|Apache/1.3.41 (Un...|               live 173�v��live�q|                             NULL|                  []|                             NULL|                  []|   [text/javascript]|\n",
      "|http://19454.xiao...|  122.114.53.33|application/http;...|         15042|   Microsoft-IIS/7.5|             \\r\\n\\t���ھ�Ӣ��ױ -...|             ���������ױѧУ|����...|                  []|             ���������ױѧУ|����...|[ http://s5.cnzz....|[text/javascript,...|\n",
      "|http://198.96.92....|   198.96.92.93|application/http;...|         20389|              Apache|             bandarjudiqq - da...|              bandarjudiqq ada...|                  []|             bandarjudiqq, log...|[https://cdn.ampp...|  [application/json]|\n",
      "|http://1dim-korin...| 194.63.238.140|application/http;...|         40936|              Apache|             1ο ΔΗΜΟΤΙΚΟ ΣΧΟΛΕ...|                             NULL|                  []|                             NULL|[/media/system/js...|[text/javascript,...|\n",
      "|http://1yuva.com/...|    78.31.67.89|application/http;...|         22854|               nginx|             galerİ | mersin d...|             bir yuva; mersin ...|                  []|             mimar,mersin mima...|[//ajax.googleapi...|[text/javascript,...|\n",
      "+--------------------+---------------+--------------------+--------------+--------------------+---------------------------------+---------------------------------+--------------------+---------------------------------+--------------------+--------------------+\n",
      "only showing top 20 rows\n",
      "\n"
     ]
    }
   ],
   "source": [
    "def encode_byte_stream(input_stream):\n",
    "    return input_stream.encode('utf-8').decode(\"unicode_escape\").encode(\"latin-1\").decode(\"utf-8\", errors=\"replace\")\n",
    "\n",
    "def warc_script_extraction(input_file):\n",
    "    data = []\n",
    "    email_regex = re.compile(r\"(mailto:)?([a-zA-Z0-9_.+-]+@[a-zA-Z0-9-]+\\.[a-zA-Z0-9-.]+$)\", re.IGNORECASE)\n",
    "\n",
    "    schema = StructType([\n",
    "        StructField(\"warc_target_uri\", StringType(), True),\n",
    "        StructField(\"warc_ip_address\", StringType(), True),\n",
    "        StructField(\"content_type\", StringType(), True),\n",
    "        StructField(\"content_length\", StringType(), True),\n",
    "        StructField(\"server\", StringType(), True),\n",
    "        StructField(\"page_title\", StringType(), True),\n",
    "        StructField(\"page_description\", StringType(), True),\n",
    "        StructField(\"emails\", ArrayType(StringType()), True),\n",
    "        StructField(\"keywords\", StringType(), True),\n",
    "        StructField(\"script_src_attrs\", ArrayType(StringType()), True),\n",
    "        StructField(\"script_type_attrs\", ArrayType(StringType()), True)\n",
    "    ])\n",
    "\n",
    "    with open(input_file, 'rb') as stream:\n",
    "        print(f\"Parsing .warc file: {input_file} \\n\")\n",
    "        start_time = time.perf_counter()\n",
    "        for record in ArchiveIterator(stream):\n",
    "            if record.rec_type == \"response\":\n",
    "                \n",
    "                raw_text = record.raw_stream.read()\n",
    "                str_text = str(raw_text).strip().lower().replace('\\t', \" \").replace('\\n', \"\")\n",
    "                slax_txt = HTMLParser(str_text)\n",
    "\n",
    "                target_uri = record.rec_headers.get_header('WARC-Target-URI')\n",
    "                ip_address = record.rec_headers.get_header(\"WARC-IP-Address\")\n",
    "                content_type = record.rec_headers.get_header(\"Content-Type\")\n",
    "                content_length = record.rec_headers.get_header(\"Content-Length\")\n",
    "                server = record.http_headers.get_header(\"Server\")\n",
    "                \n",
    "                title = slax_txt.tags('title')[0].text().strip() if slax_txt.tags('title') else \"\\uFFFD\"\n",
    "                title = encode_byte_stream(title)\n",
    "\n",
    "                # Extract emails from anchor tags\n",
    "                emails = [\n",
    "                    encode_byte_stream(atag.attributes.get(\"href\"))\n",
    "                    for atag in slax_txt.tags(\"a\")\n",
    "                    if atag.attributes.get(\"href\") and email_regex.match(atag.attributes.get(\"href\"))\n",
    "                ]\n",
    "\n",
    "                # Extract meta tag descriptions and keywords\n",
    "                desc, keywords = None, None\n",
    "                meta_tags = slax_txt.tags('meta')\n",
    "                for m_idx, mtag in enumerate(meta_tags):\n",
    "                    desc_tag = mtag.css_first('meta[name=\"description\"]')\n",
    "                    key_tag = mtag.css_first('meta[name=\"keywords\"]')\n",
    "                    if desc_tag:\n",
    "                        desc = desc_tag.attributes.get(\"content\")\n",
    "                        if desc:\n",
    "                            desc = encode_byte_stream(desc)\n",
    "                    if key_tag:\n",
    "                        keywords = key_tag.attributes.get(\"content\")\n",
    "                        if keywords:\n",
    "                            keywords = encode_byte_stream(keywords)\n",
    "                \n",
    "\n",
    "                # Extract script src and type attributes\n",
    "                src_attrs = [\n",
    "                    script.attributes.get('src')\n",
    "                    for script in slax_txt.tags('script')\n",
    "                    if script.attributes.get('src')\n",
    "                ]\n",
    "\n",
    "                type_attrs = [\n",
    "                    script.attributes.get('type')\n",
    "                    for script in slax_txt.tags('script')\n",
    "                    if script.attributes.get('type')\n",
    "                ]\n",
    "\n",
    "                record_data = {\n",
    "                    \"warc_target_uri\": target_uri,\n",
    "                    \"warc_ip_address\": ip_address,\n",
    "                    \"content_type\": content_type,\n",
    "                    \"content_length\": content_length,\n",
    "                    \"server\": server,\n",
    "                    \"page_title\": title,\n",
    "                    \"page_description\": desc,\n",
    "                    \"emails\": emails,\n",
    "                    \"keywords\": keywords,\n",
    "                    \"script_src_attrs\": src_attrs,\n",
    "                    \"script_type_attrs\": type_attrs\n",
    "                }\n",
    "                data.append(record_data)\n",
    "                \n",
    "    df = spark.createDataFrame(data, schema)\n",
    "    end_time = time.perf_counter()\n",
    "    print(f\"Total time: {(end_time - start_time):.4f}s\")\n",
    "    return df\n",
    "    \n",
    "df = warc_script_extraction(input_file).coalesce(1)\n",
    "df.show()"
   ]
  },
  {
   "cell_type": "code",
   "execution_count": 12,
   "id": "4116bf61-7f8b-4ed1-84b2-60f473d5b6fa",
   "metadata": {},
   "outputs": [
    {
     "data": {
      "text/plain": [
       "pyspark.sql.dataframe.DataFrame"
      ]
     },
     "execution_count": 12,
     "metadata": {},
     "output_type": "execute_result"
    }
   ],
   "source": [
    "type(df)"
   ]
  },
  {
   "cell_type": "code",
   "execution_count": 73,
   "id": "9268892a-e68b-4a70-ba98-8d059949d74d",
   "metadata": {
    "scrolled": true
   },
   "outputs": [
    {
     "name": "stderr",
     "output_type": "stream",
     "text": [
      "[Stage 36:>                                                         (0 + 1) / 1]\r"
     ]
    },
    {
     "name": "stdout",
     "output_type": "stream",
     "text": [
      "+-------------------------+--------------------+\n",
      "|         page_description|              emails|\n",
      "+-------------------------+--------------------+\n",
      "|                     NULL|                  []|\n",
      "|   发现 our vegan, ewg...|                  []|\n",
      "|            �������t��ѫ� |                  []|\n",
      "|    ���⼤�� - sogou�׾¬...|                  []|\n",
      "|天天看片高清影视在线观看 |                  []|\n",
      "|     տ���˲������ķ���տ�...|                  []|\n",
      "|                     NULL|[mailto:info@0xbe...|\n",
      "|                     NULL|                  []|\n",
      "|                     NULL|                  []|\n",
      "|                     NULL|                  []|\n",
      "+-------------------------+--------------------+\n",
      "only showing top 10 rows\n",
      "\n"
     ]
    },
    {
     "name": "stderr",
     "output_type": "stream",
     "text": [
      "                                                                                \r"
     ]
    }
   ],
   "source": [
    "df.select('page_description', 'emails').show(n=10, truncate=True)"
   ]
  },
  {
   "cell_type": "code",
   "execution_count": 74,
   "id": "51d17914-3fd0-4e19-a0d8-52c50a107c19",
   "metadata": {},
   "outputs": [
    {
     "data": {
      "text/plain": [
       "28178"
      ]
     },
     "execution_count": 74,
     "metadata": {},
     "output_type": "execute_result"
    }
   ],
   "source": [
    "total_rows = df.count()\n",
    "total_rows"
   ]
  },
  {
   "cell_type": "code",
   "execution_count": 75,
   "id": "e26a3644-726a-412a-a200-dc47dc4bb71b",
   "metadata": {},
   "outputs": [
    {
     "name": "stdout",
     "output_type": "stream",
     "text": [
      "root\n",
      " |-- warc_target_uri: string (nullable = true)\n",
      " |-- warc_ip_address: string (nullable = true)\n",
      " |-- content_type: string (nullable = true)\n",
      " |-- content_length: string (nullable = true)\n",
      " |-- server: string (nullable = true)\n",
      " |-- page_title: string (nullable = true)\n",
      " |-- page_description: string (nullable = true)\n",
      " |-- emails: array (nullable = true)\n",
      " |    |-- element: string (containsNull = true)\n",
      " |-- keywords: string (nullable = true)\n",
      " |-- script_src_attrs: array (nullable = true)\n",
      " |    |-- element: string (containsNull = true)\n",
      " |-- script_type_attrs: array (nullable = true)\n",
      " |    |-- element: string (containsNull = true)\n",
      "\n"
     ]
    }
   ],
   "source": [
    "df.printSchema()"
   ]
  },
  {
   "cell_type": "code",
   "execution_count": 80,
   "id": "d14700ea-decd-482c-9342-6f8b2bfc55e2",
   "metadata": {},
   "outputs": [
    {
     "name": "stdout",
     "output_type": "stream",
     "text": [
      "+---------------+---------------+------------+--------------+------+----------+----------------+------+--------+----------------+-----------------+\n",
      "|warc_target_uri|warc_ip_address|content_type|content_length|server|page_title|page_description|emails|keywords|script_src_attrs|script_type_attrs|\n",
      "+---------------+---------------+------------+--------------+------+----------+----------------+------+--------+----------------+-----------------+\n",
      "|              0|              0|           0|             0|  1989|         0|           13390| 22995|   22025|            2565|             4215|\n",
      "+---------------+---------------+------------+--------------+------+----------+----------------+------+--------+----------------+-----------------+\n",
      "\n"
     ]
    }
   ],
   "source": [
    "array_columns = ['emails', 'script_src_attrs', 'script_type_attrs']\n",
    "null_counts = df.select(\n",
    "    [\n",
    "        sum(\n",
    "            when(\n",
    "                col(c).isNull() | (size(col(c)) == 0), 1\n",
    "            ).otherwise(0)\n",
    "        ).alias(c)\n",
    "        if c in array_columns else\n",
    "        sum(col(c).isNull().cast(\"int\")).alias(c)\n",
    "        for c in df.columns\n",
    "    ]\n",
    ")\n",
    "null_counts.show()"
   ]
  },
  {
   "cell_type": "code",
   "execution_count": 81,
   "id": "afa16baa-ea47-4b29-b36e-b533fce09798",
   "metadata": {},
   "outputs": [
    {
     "name": "stdout",
     "output_type": "stream",
     "text": [
      "+---------------+---------------+------------+--------------+------+----------+----------------+------+--------+----------------+-----------------+\n",
      "|warc_target_uri|warc_ip_address|content_type|content_length|server|page_title|page_description|emails|keywords|script_src_attrs|script_type_attrs|\n",
      "+---------------+---------------+------------+--------------+------+----------+----------------+------+--------+----------------+-----------------+\n",
      "|            0.0|            0.0|         0.0|           0.0| 7.059|       0.0|          47.519|81.606|  78.164|           9.103|           14.958|\n",
      "+---------------+---------------+------------+--------------+------+----------+----------------+------+--------+----------------+-----------------+\n",
      "\n"
     ]
    }
   ],
   "source": [
    "null_frac = null_counts.select(\n",
    "    [\n",
    "        round((col(c) / total_rows) * 100, 3).alias(c)\n",
    "        for c in null_counts.columns\n",
    "    ]\n",
    ")\n",
    "null_frac.show()"
   ]
  },
  {
   "cell_type": "code",
   "execution_count": 82,
   "id": "71a5cebf-b0e3-4af8-9037-f5c4f89b485c",
   "metadata": {},
   "outputs": [
    {
     "name": "stdout",
     "output_type": "stream",
     "text": [
      "root\n",
      " |-- warc_target_uri: string (nullable = true)\n",
      " |-- warc_ip_address: string (nullable = true)\n",
      " |-- content_type: string (nullable = true)\n",
      " |-- content_length: string (nullable = true)\n",
      " |-- server: string (nullable = true)\n",
      " |-- page_title: string (nullable = true)\n",
      " |-- page_description: string (nullable = true)\n",
      " |-- emails: array (nullable = true)\n",
      " |    |-- element: string (containsNull = true)\n",
      " |-- keywords: string (nullable = true)\n",
      " |-- script_src_attrs: array (nullable = true)\n",
      " |    |-- element: string (containsNull = true)\n",
      " |-- script_type_attrs: array (nullable = true)\n",
      " |    |-- element: string (containsNull = true)\n",
      "\n"
     ]
    }
   ],
   "source": [
    "df.printSchema()"
   ]
  },
  {
   "cell_type": "code",
   "execution_count": 83,
   "id": "7e314fc0-eb01-452c-876e-c5b6c28492eb",
   "metadata": {},
   "outputs": [
    {
     "name": "stderr",
     "output_type": "stream",
     "text": [
      "[Stage 42:>                                                         (0 + 1) / 1]\r"
     ]
    },
    {
     "name": "stdout",
     "output_type": "stream",
     "text": [
      "+--------------------+---------------+--------------------+--------------+--------------------+---------------------------------+---------------------------------+--------------------+---------------------------------+--------------------+--------------------+\n",
      "|     warc_target_uri|warc_ip_address|        content_type|content_length|              server|                       page_title|                 page_description|              emails|                         keywords|    script_src_attrs|   script_type_attrs|\n",
      "+--------------------+---------------+--------------------+--------------+--------------------+---------------------------------+---------------------------------+--------------------+---------------------------------+--------------------+--------------------+\n",
      "|http://0081.b-ch....|   52.68.28.174|application/http;...|         13739|Apache/2.2.34 (Am...|             playstation(r)3�ֵ...|                             NULL|                    |                             NULL|                    |                    |\n",
      "|http://03cn.theca...|  38.165.51.151|application/http;...|        967850|               nginx|素食主义者 & 伦理美容产品|态度...|           发现 our vegan, ewg...|                    |                             NULL|http://code.jquer...|text/javascript|m...|\n",
      "|http://0401live.p...|  220.228.6.121|application/http;...|         82610|Apache/1.3.41 (Un...|                  �������t��ѫǭ���|                    �������t��ѫ� |                    |                    �������t��ѫ� |                    | \\'text/javascript\\'|\n",
      "|http://0401yes.co...|   220.228.6.52|application/http;...|         24464|Apache/1.3.41 (Un...|               ���⼤�� - sogou�׾�|            ���⼤�� - sogou�׾¬...|                    |                             NULL|   /swf/swfobject.js|text/javascript|t...|\n",
      "|http://042l.g34me...|   38.28.236.56|application/http;...|         80157|               nginx| 天天看片高清影视在线观看  - v...|        天天看片高清影视在线观看 |                    |       heyzo-0176,天天看片高清...|/v11av/js/t.v11av...|text/javascript|t...|\n",
      "|http://0759job.co...| 103.45.249.246|application/http;...|         18561|   Microsoft-IIS/7.5|             տ���ر�Ͷ�����޹�˾ -...|             տ���˲������ķ���տ�...|                    |             տ���˲���,տ����Ƹ��...|../../js/v2/jquer...|text/javascript|t...|\n",
      "|http://0xbetbot.c...|  178.23.190.42|application/http;...|         49500|           LiteSpeed|             a tribute for our...|                             NULL|mailto:info@0xbet...|                             NULL|http://0xbetbot.c...|text/javascript|t...|\n",
      "|http://1080coachi...|  31.217.196.11|application/http;...|         20463|           LiteSpeed|                    1080 coaching|                             NULL|                    |                             NULL|https://www.googl...|                    |\n",
      "|http://10e15.com....|   191.6.208.11|application/http;...|         25629|              Apache|             decoração com flo...|                             NULL|                    |                             NULL|https://ajax.goog...|\\'text/javascript...|\n",
      "|http://10e15.com....|   191.6.208.11|application/http;...|         23323|              Apache|             arquivos dia das ...|                             NULL|                    |                             NULL|https://ajax.goog...|\\'text/javascript...|\n",
      "|http://11ap.top/h...| 103.116.244.60|application/http;...|         22329|               nginx|2024年黑龙江高考本科招生院校及...|2024年全国高考已圆满落幕，此次...|                    |2024年黑龙江高考本科招生院校及...|http://11ap.top/t...|text/javascript|t...|\n",
      "|http://1333.bg/pe...| 87.118.140.104|application/http;...|         10713|Apache/2.4.25 (De...|                                �|                             NULL|                    |                             NULL|http://1333.bg/pe...|text/javascript|t...|\n",
      "|http://164.215.10...| 164.215.103.84|application/http;...|        159569|               nginx|             nonton serial pla...|             pusatfilm21 nonto...|                    |                             NULL|https://cdn.pusat...|application/ld+js...|\n",
      "|http://1771922.sh...|    220.228.6.4|application/http;...|         48518|Apache/1.3.41 (Un...|                   �{�������u�h�q|             �i��ȩ]��Ͳ�ѫ�,���h...|                    |             �i��ȩ]��Ͳ�ѫ�,���h...|                    |     text/javascript|\n",
      "|http://1808363.tk...|    220.228.6.6|application/http;...|         52069|Apache/1.3.41 (Un...|               live 173�v��live�q|                             NULL|                    |                             NULL|                    |     text/javascript|\n",
      "|http://1808363.tk...|    220.228.6.6|application/http;...|         42617|Apache/1.3.41 (Un...|               live 173�v��live�q|                             NULL|                    |                             NULL|                    |     text/javascript|\n",
      "|http://19454.xiao...|  122.114.53.33|application/http;...|         15042|   Microsoft-IIS/7.5|             \\r\\n\\t���ھ�Ӣ��ױ -...|             ���������ױѧУ|����...|                    |             ���������ױѧУ|����...| http://s5.cnzz.c...|text/javascript|t...|\n",
      "|http://198.96.92....|   198.96.92.93|application/http;...|         20389|              Apache|             bandarjudiqq - da...|              bandarjudiqq ada...|                    |             bandarjudiqq, log...|https://cdn.amppr...|    application/json|\n",
      "|http://1dim-korin...| 194.63.238.140|application/http;...|         40936|              Apache|             1ο ΔΗΜΟΤΙΚΟ ΣΧΟΛΕ...|                             NULL|                    |                             NULL|/media/system/js/...|text/javascript|t...|\n",
      "|http://1yuva.com/...|    78.31.67.89|application/http;...|         22854|               nginx|             galerİ | mersin d...|             bir yuva; mersin ...|                    |             mimar,mersin mima...|//ajax.googleapis...|text/javascript|t...|\n",
      "+--------------------+---------------+--------------------+--------------+--------------------+---------------------------------+---------------------------------+--------------------+---------------------------------+--------------------+--------------------+\n",
      "only showing top 20 rows\n",
      "\n"
     ]
    },
    {
     "name": "stderr",
     "output_type": "stream",
     "text": [
      "                                                                                \r"
     ]
    }
   ],
   "source": [
    "array_columns = ['emails', 'script_src_attrs', 'script_type_attrs']\n",
    "for col_name in array_columns:\n",
    "    df = df.withColumn(col_name, concat_ws(\"|\", col(col_name)))\n",
    "df.show()"
   ]
  },
  {
   "cell_type": "code",
   "execution_count": 60,
   "id": "715ecc01-e31c-4010-85e8-b1e174cfc88c",
   "metadata": {},
   "outputs": [
    {
     "name": "stdout",
     "output_type": "stream",
     "text": [
      "root\n",
      " |-- warc_target_uri: string (nullable = true)\n",
      " |-- warc_ip_address: string (nullable = true)\n",
      " |-- content_type: string (nullable = true)\n",
      " |-- content_length: string (nullable = true)\n",
      " |-- server: string (nullable = true)\n",
      " |-- page_title: string (nullable = true)\n",
      " |-- page_description: string (nullable = true)\n",
      " |-- emails: string (nullable = false)\n",
      " |-- keywords: string (nullable = true)\n",
      " |-- script_src_attrs: string (nullable = false)\n",
      " |-- script_type_attrs: string (nullable = false)\n",
      "\n"
     ]
    }
   ],
   "source": [
    "df.printSchema()"
   ]
  },
  {
   "cell_type": "code",
   "execution_count": 86,
   "id": "4867effe-16d1-494d-ad40-93c75ce3a8a2",
   "metadata": {},
   "outputs": [
    {
     "data": {
      "text/plain": [
       "'/opt/workspace/datasets/common-crawl/CC-MAIN-20240725114544-20240725144544-00476_extract'"
      ]
     },
     "execution_count": 86,
     "metadata": {},
     "output_type": "execute_result"
    }
   ],
   "source": [
    "input_file.replace(\".warc\", \"_extract\")"
   ]
  },
  {
   "cell_type": "code",
   "execution_count": 87,
   "id": "7b03b7fa-86a9-4805-82a5-00d59f2a732a",
   "metadata": {},
   "outputs": [
    {
     "name": "stderr",
     "output_type": "stream",
     "text": [
      "                                                                                \r"
     ]
    }
   ],
   "source": [
    "output_file = input_file.replace(\".warc\", \"_extract\")\n",
    "df.write.option(\"delimiter\", \"\\t\").mode(\"overwrite\").csv(output_file, header=True)"
   ]
  },
  {
   "cell_type": "code",
   "execution_count": 64,
   "id": "85c29dde-1f3e-4aa2-a5da-96fd3edc1a25",
   "metadata": {},
   "outputs": [
    {
     "name": "stdout",
     "output_type": "stream",
     "text": [
      "103M\tdatasets/common-crawl/CC-MAIN-20240725114544-20240725144544-00476.warc_extract.tsv\n"
     ]
    }
   ],
   "source": [
    "!du -hs datasets/common-crawl/CC-MAIN-20240725114544-20240725144544-00476.warc_extract.tsv"
   ]
  },
  {
   "cell_type": "code",
   "execution_count": null,
   "id": "c174258b-68b0-4e3b-867f-f89057e44dc0",
   "metadata": {},
   "outputs": [],
   "source": []
  }
 ],
 "metadata": {
  "kernelspec": {
   "display_name": "Python 3 (ipykernel)",
   "language": "python",
   "name": "python3"
  },
  "language_info": {
   "codemirror_mode": {
    "name": "ipython",
    "version": 3
   },
   "file_extension": ".py",
   "mimetype": "text/x-python",
   "name": "python",
   "nbconvert_exporter": "python",
   "pygments_lexer": "ipython3",
   "version": "3.11.9"
  }
 },
 "nbformat": 4,
 "nbformat_minor": 5
}
