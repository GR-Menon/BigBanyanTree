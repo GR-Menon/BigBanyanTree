{
 "cells": [
  {
   "cell_type": "code",
   "execution_count": 1,
   "id": "7f795cfd-7957-4e4a-b5aa-50ce8e8546d2",
   "metadata": {},
   "outputs": [
    {
     "name": "stderr",
     "output_type": "stream",
     "text": [
      "Setting default log level to \"WARN\".\n",
      "To adjust logging level use sc.setLogLevel(newLevel). For SparkR, use setLogLevel(newLevel).\n",
      "24/09/28 17:58:11 WARN NativeCodeLoader: Unable to load native-hadoop library for your platform... using builtin-java classes where applicable\n",
      "24/09/28 17:58:11 WARN Utils: Service 'SparkUI' could not bind on port 4040. Attempting port 4041.\n",
      "24/09/28 17:58:12 WARN Utils: spark.dynamicAllocation.initialExecutors less than spark.dynamicAllocation.minExecutors is invalid, ignoring its setting, please update your configs.\n",
      "24/09/28 17:58:12 WARN Utils: spark.executor.instances less than spark.dynamicAllocation.minExecutors is invalid, ignoring its setting, please update your configs.\n"
     ]
    }
   ],
   "source": [
    "from pyspark.sql import SparkSession\n",
    "\n",
    "spark = SparkSession.builder \\\n",
    "    .appName(\"hf-data\") \\\n",
    "    .master(\"spark://spark-master:7077\") \\\n",
    "    .config(\"spark.eventLog.enabled\", \"true\") \\\n",
    "    .config(\"spark.eventLog.dir\", \"file:///opt/spark/spark-events/\") \\\n",
    "    .config(\"spark.executor.memory\", \"4g\") \\\n",
    "    .config(\"spark.executor.cores\", 1) \\\n",
    "    .config(\"spark.dynamicAllocation.enabled\", \"true\") \\\n",
    "    .config(\"spark.dynamicAllocation.shuffleTracking.enabled\", \"true\") \\\n",
    "    .config(\"spark.dynamicAllocation.initialExecutors\", 0) \\\n",
    "    .config(\"spark.dynamicAllocation.minExecutors\", 1) \\\n",
    "    .config(\"spark.dynamicAllocation.maxExecutors\", 15) \\\n",
    "    .config(\"spark.sql.execution.arrow.pyspark.enabled\", \"true\") \\\n",
    "    .config(\"spark.scheduler.mode\", \"FAIR\") \\\n",
    "    .getOrCreate()"
   ]
  },
  {
   "cell_type": "code",
   "execution_count": 2,
   "id": "c0c21272-b985-44f1-8f9a-44cdf6a05ef1",
   "metadata": {
    "scrolled": true
   },
   "outputs": [],
   "source": [
    "df = spark.read.csv(\"hfdata/ipmaxmind_out_2023_old/\", sep='\\t', header=True)"
   ]
  },
  {
   "cell_type": "code",
   "execution_count": 3,
   "id": "7b8be72f-05d0-4aea-b23b-c95fa93adcda",
   "metadata": {
    "scrolled": true
   },
   "outputs": [
    {
     "name": "stdout",
     "output_type": "stream",
     "text": [
      "+---------------+--------------------+--------------------+-----------+--------+---------+---------------+--------------+--------------+----------------+---------------+--------------------+----------------+----------------+----------+----------------+----+\n",
      "|             ip|                host|              server|postal_code|latitude|longitude|accuracy_radius|continent_code|continent_name|country_iso_code|   country_name|subdivision_iso_code|subdivision_name|       city_name|metro_code|       time_zone|year|\n",
      "+---------------+--------------------+--------------------+-----------+--------+---------+---------------+--------------+--------------+----------------+---------------+--------------------+----------------+----------------+----------+----------------+----+\n",
      "| 43.198.191.223|https://www.zysj....|               nginx|       NULL| 22.2842| 114.1759|            100|            AS|          Asia|              HK|      Hong Kong|                NULL|            NULL|       Hong Kong|      NULL|  Asia/Hong_Kong|2023|\n",
      "|  172.66.40.204|https://www.green...|          cloudflare|       NULL|    NULL|     NULL|           NULL|          NULL|          NULL|            NULL|           NULL|                NULL|            NULL|            NULL|      NULL|            NULL|2023|\n",
      "|   72.249.48.86|https://drewbrown...|imunify360-webshi...|      75247| 32.8137| -96.8704|             20|            NA| North America|              US|  United States|                  TX|           Texas|          Dallas|       623| America/Chicago|2023|\n",
      "|   45.13.133.60|https://moblis.id...|           LiteSpeed|         17|  1.2868| 103.8503|             20|            AS|          Asia|              SG|      Singapore|                NULL|            NULL|       Singapore|      NULL|  Asia/Singapore|2023|\n",
      "|  183.90.238.41|http://kaiyaku110...|               nginx|       NULL| 35.6897| 139.6895|            500|            AS|          Asia|              JP|          Japan|                NULL|            NULL|            NULL|      NULL|      Asia/Tokyo|2023|\n",
      "|   188.40.73.26|http://sevenangel...|               nginx|      08223| 50.4777|  12.3649|             20|            EU|        Europe|              DE|        Germany|                  SN|          Saxony|     Falkenstein|      NULL|   Europe/Berlin|2023|\n",
      "|104.196.188.176|https://howardpar...|               nginx|      29415| 32.8608| -79.9746|             20|            NA| North America|              US|  United States|                  SC|  South Carolina|North Charleston|       519|America/New_York|2023|\n",
      "|   45.94.157.60|https://solard.ce...|           LiteSpeed|      79007|  49.839|  24.0191|             20|            EU|        Europe|              UA|        Ukraine|                  46|            Lviv|            Lviv|      NULL|     Europe/Kyiv|2023|\n",
      "| 103.141.96.140|https://sahowajim...|               nginx|       NULL| 35.6897| 139.6895|            500|            AS|          Asia|              JP|          Japan|                NULL|            NULL|            NULL|      NULL|      Asia/Tokyo|2023|\n",
      "|   172.67.75.38|https://anthembra...|          cloudflare|       NULL|    NULL|     NULL|           NULL|          NULL|          NULL|            NULL|           NULL|                NULL|            NULL|            NULL|      NULL|            NULL|2023|\n",
      "| 35.213.183.217|https://jacksport...|               nginx|         17|  1.2868| 103.8503|             20|            AS|          Asia|              SG|      Singapore|                NULL|            NULL|       Singapore|      NULL|  Asia/Singapore|2023|\n",
      "|  172.67.197.41|https://www.teren...|          cloudflare|       NULL|    NULL|     NULL|           NULL|          NULL|          NULL|            NULL|           NULL|                NULL|            NULL|            NULL|      NULL|            NULL|2023|\n",
      "| 139.180.143.78|https://www.jualm...|           LiteSpeed|         62|  1.3078| 103.6818|             20|            AS|          Asia|              SG|      Singapore|                NULL|            NULL|       Singapore|      NULL|  Asia/Singapore|2023|\n",
      "|  207.192.71.45|http://www.imood....|              Apache|      07927| 40.8229| -74.4592|             20|            NA| North America|              US|  United States|                  NJ|      New Jersey|    Cedar Knolls|       501|America/New_York|2023|\n",
      "|  172.67.173.33|https://www.booka...|          cloudflare|       NULL|    NULL|     NULL|           NULL|          NULL|          NULL|            NULL|           NULL|                NULL|            NULL|            NULL|      NULL|            NULL|2023|\n",
      "| 198.20.117.228|https://radio.olo...|           LiteSpeed|       1119| 52.2832|   4.7521|             20|            EU|        Europe|              NL|The Netherlands|                  NH|   North Holland|       Amsterdam|      NULL|Europe/Amsterdam|2023|\n",
      "|   84.206.27.85|http://kot.emmi.g...|GlassFish Server ...|       1116| 47.5636|  19.0947|            200|            EU|        Europe|              HU|        Hungary|                  BU|        Budapest|        Budapest|      NULL| Europe/Budapest|2023|\n",
      "| 172.67.141.203|https://news.poll...|          cloudflare|       NULL|    NULL|     NULL|           NULL|          NULL|          NULL|            NULL|           NULL|                NULL|            NULL|            NULL|      NULL|            NULL|2023|\n",
      "|   35.214.54.37|https://www.oraet...|               nginx|       EC4R| 51.5088|   -0.093|             20|            EU|        Europe|              GB| United Kingdom|                 ENG|         England|          London|      NULL|   Europe/London|2023|\n",
      "| 31.170.236.164|https://president...|               nginx|       NULL| 40.3771|  49.8875|             10|            AS|          Asia|              AZ|     Azerbaijan|                  BA|       Baku City|            Baku|      NULL|       Asia/Baku|2023|\n",
      "+---------------+--------------------+--------------------+-----------+--------+---------+---------------+--------------+--------------+----------------+---------------+--------------------+----------------+----------------+----------+----------------+----+\n",
      "only showing top 20 rows\n",
      "\n"
     ]
    }
   ],
   "source": [
    "df.show()"
   ]
  },
  {
   "cell_type": "code",
   "execution_count": 5,
   "id": "a02cca4c-0bf9-42a7-b3e9-a9991c5a8c39",
   "metadata": {
    "scrolled": true
   },
   "outputs": [
    {
     "name": "stderr",
     "output_type": "stream",
     "text": [
      "                                                                                \r"
     ]
    }
   ],
   "source": [
    "df.repartition(10).write.mode(\"append\").parquet(\"hfdata/ipmaxmind_out_2023\")"
   ]
  },
  {
   "cell_type": "code",
   "execution_count": 6,
   "id": "495361b7-efe0-41d9-a84e-9de0be94da5d",
   "metadata": {},
   "outputs": [
    {
     "name": "stderr",
     "output_type": "stream",
     "text": [
      "/usr/local/lib/python3.11/site-packages/tqdm/auto.py:21: TqdmWarning: IProgress not found. Please update jupyter and ipywidgets. See https://ipywidgets.readthedocs.io/en/stable/user_install.html\n",
      "  from .autonotebook import tqdm as notebook_tqdm\n"
     ]
    }
   ],
   "source": [
    "import os\n",
    "from huggingface_hub import HfApi\n",
    "from dotenv import load_dotenv"
   ]
  },
  {
   "cell_type": "code",
   "execution_count": 7,
   "id": "2cc6e8a4-4368-4afd-84ff-79afbac911a7",
   "metadata": {},
   "outputs": [],
   "source": [
    "load_dotenv()\n",
    "\n",
    "api = HfApi(token=os.environ['HF_API_TOKEN'])"
   ]
  },
  {
   "cell_type": "code",
   "execution_count": 8,
   "id": "6e3d66df-3e1e-4efe-a72a-0a99540173f3",
   "metadata": {
    "scrolled": true
   },
   "outputs": [
    {
     "name": "stderr",
     "output_type": "stream",
     "text": [
      "\n"
     ]
    }
   ],
   "source": [
    "api.upload_folder(\n",
    "    folder_path=\"./hfdata/ipmaxmind_out_2023/\",\n",
    "    repo_id=\"big-banyan-tree/BBT_CommonCrawl_2023\",\n",
    "    repo_type=\"dataset\",\n",
    "    path_in_repo=\"ipmaxmind_out\",\n",
    "    ignore_patterns=\".*\",\n",
    ");"
   ]
  }
 ],
 "metadata": {
  "kernelspec": {
   "display_name": "Python 3 (ipykernel)",
   "language": "python",
   "name": "python3"
  },
  "language_info": {
   "codemirror_mode": {
    "name": "ipython",
    "version": 3
   },
   "file_extension": ".py",
   "mimetype": "text/x-python",
   "name": "python",
   "nbconvert_exporter": "python",
   "pygments_lexer": "ipython3",
   "version": "3.11.9"
  }
 },
 "nbformat": 4,
 "nbformat_minor": 5
}
